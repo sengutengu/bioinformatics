{
 "cells": [
  {
   "cell_type": "markdown",
   "id": "3232abc8-16d9-4c4b-8841-b44fd26b1d80",
   "metadata": {},
   "source": [
    "# Bioinformatics Algorithms, Week 3\n",
    "\n",
    "This week, we are switching gears from looking for the *DnaA* boxes in bacterial genomes, to looking for **regulatory motifs** responsible for maintaining circadian rhythms. Regulatory motifs are short nucleotide sequences, typically upstream of genes, which are bound by transcription factors that may activate or repress transcription. \n",
    "\n",
    "(A promoter a kind of a regulatory motif in DNA; activators and repressors are proteins. A *DnaA* box is not a promoter, but it is a regulatory motif found near the promoter. DNA polymerase is not an activator). \n",
    "\n",
    "### Identifying the evening element\n",
    "In [Harmer et al. (2000)](https://doi.org/10.1126/science.290.5499.2110), Steve Kay's team used a DNA microarray to identify genes expressed at different times of the day (transcriptomes). They then extracted the upstream regions (L = 1000 bps) of 500 genes that exhibited circadian behavior, and looked for Frequent Words. They found the sequence AAAATATCT 46 times. The expected number of occurrences of a 9-mer in 500 random DNA strings, each of length 1000 bps is 1.892, since:\n",
    "\n",
    "- The probability of randomly generating any 9-mer is $0.25^9$.\n",
    "- In a 1000 bp sequence, the 9-mer can occupy $992$ (i.e. $1000-9+1$) positions.\n",
    "- There are $500$ such sequences.\n",
    "- Therefore, $0.25^9 \\times 992 \\times 500 = 1.89208984375$ is the expected number.\n",
    "\n",
    "So it turns out that the sequence AAAATATCT was **about 24 times more frequent** than expected. Harmer et al. (2000) named this promoter sequence the **evening element** and verified that it does, indeed, govern circadian behavior. The idea is that a single activator, or a set of activators that recognize the same promoter AAAATATCT, will activate the transcription of all 500 genes associated with circadian behavior at the same time in a plant, so that all necessary proteins are available for the plant to express circadian behavior.  \n",
    "\n",
    "Perhaps because maintaining a correct circadian rhythm is a matter of life or death for plants, the evening element is remarkably well-conserved in plants. However, regulatory motifs in other genes and organisms may not be so conserved. Fruit fly **immunity genes** have very similar, but not identical, 12-mer promoters, where a transcription factor called **NF-kB** binds and activates transcription. \n",
    "\n",
    "```\n",
    "1   T C G G G G g T T T t t\n",
    "2   c C G G t G A c T T a C\n",
    "3   a C G G G G A T T T t C\n",
    "4   T t G G G G A c T T t t\n",
    "5   a a G G G G A c T T C C\n",
    "6   T t G G G G A c T T C C\n",
    "7   T C G G G G A T T c a t\n",
    "8   T C G G G G A T T c C t\n",
    "9   T a G G G G A a c T a C\n",
    "10  T C G G G t A T a a C C\n",
    "```\n",
    "\n",
    "The uppercase letters indicate the most common nucleotide in each column.\n",
    "\n",
    "When we have a case like this, where there are numerous (>2) differences between strings and our *k*-mers get quite long, the **Frequent Words** solution that we spent the last two weeks developing will no longer help us because it will be too slow. Moreover, unlike *DnaA* boxes, which occur in clumps near the *ori*, regulatory motifs tend to be scattered throughout the genome, which means we might be dealing with windows that are tens or hundreds of thousands of base pairs wide. We need another approach."
   ]
  },
  {
   "cell_type": "markdown",
   "id": "8172c0a0-51b7-4400-b9d1-721cdf2a7cf6",
   "metadata": {},
   "source": [
    "### 1. Motif Enumeration (Implanted Motif Problem)\n",
    "We can first try a brute-force, **exhaustive search** which considers every possible candidate and checks whether each candidate solves the problem. While such a search is guaranteed to return a correct solution, its time complexity makes it an NP problem, and it is not guaranteed to return an answer in a reasonable amount of time. The function below does not entirely follow the pseudocode given in the course, because I could not make sense of the pseudocode.\n",
    "\n",
    "**Implanted Motif Problem**: *Find all (k, d)-motifs in a collection of strings.*\n",
    "- **Input**: A collection of strings *Dna*, and integers *k* and *d*.\n",
    "- **Output**: All (*k*, *d*)-motifs, which are *k*-mers appearing in every string in *Dna* with at most *d* mismatches.\n"
   ]
  },
  {
   "cell_type": "code",
   "execution_count": 1,
   "id": "4bc8ecb9-418c-4659-b7d2-650a9e9bf716",
   "metadata": {},
   "outputs": [],
   "source": [
    "def hamming_distance(s1, s2):\n",
    "    diff = [i for i in range(len(s1)) if s1[i] != s2[i]]\n",
    "    return len(diff)\n",
    "\n",
    "def neighbors(pattern, d):\n",
    "    if d == 0:\n",
    "        return {pattern}\n",
    "    if len(pattern) == 1:\n",
    "        return {\"A\", \"C\", \"G\", \"T\"}\n",
    "    neighborhood = set()\n",
    "    suffix_neighbors = neighbors(pattern[1:], d)\n",
    "    for text in suffix_neighbors:\n",
    "        if hamming_distance(pattern[1:], text) < d:\n",
    "            nts = [\"A\", \"C\", \"G\", \"T\"]\n",
    "            for nt in nts:\n",
    "                neighborhood.add(nt+text)\n",
    "        else:\n",
    "            neighborhood.add(pattern[0]+text)\n",
    "    return neighborhood\n",
    "    \n",
    "def kmer_in_all_dna(kmer, kmers_dict):\n",
    "    for array in kmers_dict.values():\n",
    "        if kmer not in array:\n",
    "            return False\n",
    "    return True\n",
    "    \n",
    "def motif_enumeration(dna, k, d):\n",
    "    patterns = set()\n",
    "    kmers_dict = {}\n",
    "    all_kmers = set()\n",
    "\n",
    "    for pattern in dna:\n",
    "        kmers = {pattern[i:i+k] for i in range(len(pattern)-k+1)}\n",
    "        kmers_dict[pattern] = set()\n",
    "        for kmer in kmers:\n",
    "            kmer_neighbors = neighbors(kmer, d)\n",
    "            for i in kmer_neighbors:\n",
    "                kmers_dict[pattern].add(i) # d-neighbors of the k-mer\n",
    "                all_kmers.add(i)\n",
    "            kmers_dict[pattern].add(kmer) # the k-mer itself\n",
    "            all_kmers.add(kmer)\n",
    "                        \n",
    "    for kmer in all_kmers:\n",
    "        if kmer_in_all_dna(kmer, kmers_dict):\n",
    "            patterns.add(kmer)\n",
    "    \n",
    "    return patterns"
   ]
  },
  {
   "cell_type": "code",
   "execution_count": 2,
   "id": "7ce1edd5-737d-48f5-a37f-3ef970174232",
   "metadata": {},
   "outputs": [
    {
     "data": {
      "text/plain": [
       "{'ATA', 'ATT', 'GTT', 'TTT'}"
      ]
     },
     "execution_count": 2,
     "metadata": {},
     "output_type": "execute_result"
    }
   ],
   "source": [
    "dna = [\"ATTTGGC\", \"TGCCTTA\", \"CGGTATC\", \"GAAAATT\"]\n",
    "k = 3 \n",
    "d = 1\n",
    "motif_enumeration(dna, k, d)"
   ]
  },
  {
   "cell_type": "markdown",
   "id": "6c88c12c-89af-4157-898a-226eddf73349",
   "metadata": {},
   "source": [
    "### 2a. Motif Scoring\n",
    "The **Implanted Motif** problem has some limitations. If even a single string in *Dna* does not contain the regulatory motif, a (*k*, *d*)-motif does not exist at all. \n",
    "\n",
    "A different way to think about the problem might be to score individual instances of the motif depending on how similar they are to an \"ideal\" motif. But since the ideal motif is unknown, we select a *k*-mer from each string, and score these *k*-mers based on how similar they are to **each other**.\n",
    "\n",
    "Given a list of *t* strings *Dna*, where each string has a length *n*, and we want to score *k*-mers. We will be dealing with a $t \\times k$ matrix *Motifs*.\n",
    "\n",
    "```\n",
    "               k\n",
    "\n",
    "   [[T C G G G G g T T T t t]\n",
    "    [c C G G t G A c T T a C]\n",
    "    [a C G G G G A T T T t C]\n",
    "    [T t G G G G A c T T t t]\n",
    "t   [a a G G G G A c T T C C]\n",
    "    [T t G G G G A c T T C C]\n",
    "    [T C G G G G A T T c a t]\n",
    "    [T C G G G G A T T c C t]\n",
    "    [T a G G G G A a c T a C]\n",
    "    [T C G G G t A T a a C C]]\n",
    "```\n",
    "\n",
    "By varying the choice of *k*-mers from each string in *Dna*, we can construct a large number of different *Motif* matrices. Our goal is to obtain the most \"conserved\" matrix, with the least amount of differences across the *k*-mers in the matrix. To quantify the similarity of the *k*-mers, we can simply count the number of nucleotides at each position in *k* that are not in the plurality. "
   ]
  },
  {
   "cell_type": "code",
   "execution_count": 3,
   "id": "8b656fdd-0950-497a-a079-39ca343d7cbf",
   "metadata": {},
   "outputs": [],
   "source": [
    "def score(motifs):\n",
    "    k = len(motifs[0])\n",
    "    \n",
    "    score_dicts = []\n",
    "    for i in range(k):\n",
    "        nt_counts = {\"A\":0, \"T\":0, \"G\":0, \"C\":0}\n",
    "        for motif in motifs:\n",
    "            nt_counts[motif[i]] += 1\n",
    "        score_dicts.append(nt_counts)\n",
    "\n",
    "    scores = []\n",
    "    for d in score_dicts:\n",
    "        dict_score = 0\n",
    "        for key, value in d.items():\n",
    "            if key != max(d, key=d.get):\n",
    "                dict_score += value\n",
    "        scores.append(dict_score)\n",
    "    return sum(scores)"
   ]
  },
  {
   "cell_type": "code",
   "execution_count": 4,
   "id": "26f5d3ad-00ba-424b-b92e-adf07d8cb424",
   "metadata": {},
   "outputs": [
    {
     "data": {
      "text/plain": [
       "30"
      ]
     },
     "execution_count": 4,
     "metadata": {},
     "output_type": "execute_result"
    }
   ],
   "source": [
    "dna = [\"TCGGGGGTTTTT\",\n",
    "    \"CCGGTGACTTAC\",\n",
    "    \"ACGGGGATTTTC\",\n",
    "    \"TTGGGGACTTTT\",\n",
    "    \"AAGGGGACTTCC\",\n",
    "    \"TTGGGGACTTCC\",\n",
    "    \"TCGGGGATTCAT\",\n",
    "    \"TCGGGGATTCCT\",\n",
    "    \"TAGGGGAACTAC\",\n",
    "    \"TCGGGTATAACC\"]\n",
    "\n",
    "score(dna)"
   ]
  },
  {
   "cell_type": "markdown",
   "id": "b284d2e5-e061-4a4f-a4fb-5b1f2e604407",
   "metadata": {},
   "source": [
    "But, currently, we ignore the difference between a column having 6C, 2A, and 2T versus a column having 6C and 4T. Both end up with the score of 6, yet the latter is actually more conserved than the former! This is important because many regulatory motifs have a few \"strongly conserved\" positions and many \"weakly conserved\" positions that allow one of several nucleotides with no clear preference for one over the other. \n",
    "\n",
    "To account for the degree to which having the \"right\" nucleotide matters, we turn to **entropy**. It is a measure of uncertainty for probability distributions, and is defined as: \n",
    "\n",
    "$$ H(p_1, \\dots, p_N) = -\\Sigma^N_{i=1} (p_i\\times\\log_2{p_i})$$"
   ]
  },
  {
   "cell_type": "code",
   "execution_count": 5,
   "id": "9a537db1-5f99-4dd1-9900-abd0ca440c9a",
   "metadata": {},
   "outputs": [],
   "source": [
    "import math\n",
    "import numpy as np\n",
    "\n",
    "def count(motifs):\n",
    "    k = len(motifs[0])\n",
    "    counts = [[0]*k for i in range(4)] # empty matrix to fill\n",
    "    nt_index_map = {\"A\": 0, \"C\": 1, \"G\": 2, \"T\": 3}\n",
    "    for motif in motifs:\n",
    "        for i in range(k):\n",
    "            nt = motif[i]\n",
    "            counts[nt_index_map[nt]][i] += 1\n",
    "    return counts\n",
    "\n",
    "def profile(motifs):\n",
    "    counts = np.array(count(motifs))\n",
    "    return counts/len(motifs)\n",
    "\n",
    "def safe_log2(value):\n",
    "    try:\n",
    "        return math.log2(value)\n",
    "    except: \n",
    "        return 0 # log(0) is undefined but we need to return 0\n",
    "        \n",
    "def entropy(row):\n",
    "    plogp = [value*safe_log2(value) for value in row]\n",
    "    ent = -1*sum(plogp)\n",
    "    return ent\n",
    "\n",
    "def total_entropy(matrix):\n",
    "    pf = profile(matrix)\n",
    "    entropies = [ entropy(row) for row in pf.T ]\n",
    "    return sum(entropies)"
   ]
  },
  {
   "cell_type": "code",
   "execution_count": 6,
   "id": "ce5620d2-e0b8-46dc-907e-41ca1c3838a0",
   "metadata": {},
   "outputs": [
    {
     "data": {
      "text/plain": [
       "9.916290005356972"
      ]
     },
     "execution_count": 6,
     "metadata": {},
     "output_type": "execute_result"
    }
   ],
   "source": [
    "total_entropy(dna)"
   ]
  },
  {
   "cell_type": "markdown",
   "id": "0180fbf7-ee45-4ab2-ab3e-0e6d326ae259",
   "metadata": {},
   "source": [
    "Entropy offers an improved method of scoring motif matrices than just counting the non-plurality nucleotides, and in practice entropy is used more often, but for simplicity's sake, we'll use the **score** function instead.\n",
    "\n",
    "We can also obtain a **count** matrix, and if we divide all elements in **count** by *t*, the number of strings in *Dna*, we obtain the **profile** matrix."
   ]
  },
  {
   "cell_type": "code",
   "execution_count": 7,
   "id": "b2253259-ef02-4b9b-92da-ffcaf48299ec",
   "metadata": {},
   "outputs": [],
   "source": [
    "import numpy as np\n",
    "\n",
    "def count(motifs):\n",
    "    k = len(motifs[0])\n",
    "    counts = [[0]*k for i in range(4)] # empty matrix to fill\n",
    "    nt_index_map = {\"A\": 0, \"C\": 1, \"G\": 2, \"T\": 3}\n",
    "    for motif in motifs:\n",
    "        for i in range(k):\n",
    "            nt = motif[i]\n",
    "            counts[nt_index_map[nt]][i] += 1\n",
    "    return counts\n",
    "\n",
    "def profile(motifs):\n",
    "    counts = np.array(count(motifs))\n",
    "    return counts/len(motifs)"
   ]
  },
  {
   "cell_type": "code",
   "execution_count": 8,
   "id": "13b5218b-85cd-4d62-94ab-e501c9d9fac3",
   "metadata": {},
   "outputs": [
    {
     "data": {
      "text/plain": [
       "array([[0.2, 0.2, 0. , 0. , 0. , 0. , 0.9, 0.1, 0.1, 0.1, 0.3, 0. ],\n",
       "       [0.1, 0.6, 0. , 0. , 0. , 0. , 0. , 0.4, 0.1, 0.2, 0.4, 0.6],\n",
       "       [0. , 0. , 1. , 1. , 0.9, 0.9, 0.1, 0. , 0. , 0. , 0. , 0. ],\n",
       "       [0.7, 0.2, 0. , 0. , 0.1, 0.1, 0. , 0.5, 0.8, 0.7, 0.3, 0.4]])"
      ]
     },
     "execution_count": 8,
     "metadata": {},
     "output_type": "execute_result"
    }
   ],
   "source": [
    "profile(dna)"
   ]
  },
  {
   "cell_type": "markdown",
   "id": "51e0dd81-4428-477d-9732-20e05a3e7fc5",
   "metadata": {},
   "source": [
    "Finally, using the **profile** matrix, we can find out what the **consensus string** is. "
   ]
  },
  {
   "cell_type": "code",
   "execution_count": 9,
   "id": "92c44fe8-5d45-46be-bb3f-cecb6f4c9036",
   "metadata": {},
   "outputs": [],
   "source": [
    "def consensus(motifs):\n",
    "    pf = profile(motifs)\n",
    "    index_nt_map = {0: \"A\", 1: \"C\", 2: \"G\", 3: \"T\"}\n",
    "    max_values = np.argmax(pf, axis=0)\n",
    "    \n",
    "    return \"\".join([index_nt_map[i] for i in max_values])"
   ]
  },
  {
   "cell_type": "code",
   "execution_count": 10,
   "id": "cedd58bd-3f0d-4df6-a18f-ddc952188190",
   "metadata": {},
   "outputs": [
    {
     "data": {
      "text/plain": [
       "'TCGGGGATTTCC'"
      ]
     },
     "execution_count": 10,
     "metadata": {},
     "output_type": "execute_result"
    }
   ],
   "source": [
    "consensus(dna)"
   ]
  },
  {
   "cell_type": "markdown",
   "id": "a63ad146-0108-46e8-88f0-806ba8569f36",
   "metadata": {},
   "source": [
    "Super cool! The consensus string is not actually found in any of the 10 strings in *Dna*, but it still counts. "
   ]
  },
  {
   "cell_type": "markdown",
   "id": "173cc578-b93d-4a91-a29e-159f697f9bdf",
   "metadata": {},
   "source": [
    "### 2b. The Motif Finding Problem\n",
    "\n",
    "Now that we've learned how to evaluate a collection of *k*-mers, we can formulate the **Motif Finding** problem.\n",
    "\n",
    "**Motif Finding Problem**: *Given a collection of strings, find a set of k-mers, one from each string, that minimizes the score of the resulting motif.*\n",
    "- **Input**: A collection of strings *Dna* and an integer *k*.\n",
    "- **Output**: A collection **Motifs** of *k*-mers, one from each string in *Dna*, minimizing *Score*(*Motifs*) among all possible choices of *k*-mers.\n",
    "\n",
    "So, this is an optimization problem. A brute force algorithm would be way too slow (O(n<sup>k</sup>)), so we have to figure out a faster algorithm. Given the same matrix as before:\n",
    "\n",
    "```\n",
    "               k\n",
    "\n",
    "   [[T C G G G G g T T T t t]\n",
    "    [c C G G t G A c T T a C]\n",
    "    [a C G G G G A T T T t C]\n",
    "    [T t G G G G A c T T t t]\n",
    "t   [a a G G G G A c T T C C]\n",
    "    [T t G G G G A c T T C C]\n",
    "    [T C G G G G A T T c a t]\n",
    "    [T C G G G G A T T c C t]\n",
    "    [T a G G G G A a c T a C]\n",
    "    [T C G G G t A T a a C C]]\n",
    "```\n",
    "\n",
    "We can actually calculate score by tallying up the column-consensus nucleotide per row (in this matrix, it would be the capitalized letters). It also happens that the score per row is just the Hamming distance between the row and the consensus string for this matrix, and so the overall *Score*(*Motifs*) equals the sum of Hamming distances.\n",
    "\n",
    "<img src=\"http://bioinformaticsalgorithms.com/images/Motifs/motifs_score_consensus.png\" width=700px />\n",
    "\n",
    "Alright. The instructors define a **function *d*(*Pattern*, *Motifs*) as the sum of Hamming distances between *Pattern* and *Motif*** in *Dna*. And because *Score*(*Motifs*) = *d*(*Pattern*, *Motifs*), rather than looking for a set *Motifs* that minimizes *Score*, we can look for a string *Pattern* that minimizes *d* given all possible sets *Motifs* in *Dna*.\n",
    "\n",
    "**Equivalent Motif Finding Problem**: *Given a collection of strings, find a collection of k-mers (one from each string) that minimizes the distance between all possible patterns and all possible collections of k-mers.*\n",
    "- **Input**: A collection of strings *Dna* and an integer *k*.\n",
    "- **Output**: A *k*-mer *Pattern* and a collection of *k*-mers, one from each string in *Dna*, minimizing *d*(*Pattern*, *Motifs*) among all possible choices of *Pattern* and *Motifs*."
   ]
  },
  {
   "cell_type": "markdown",
   "id": "e3ec938d",
   "metadata": {},
   "source": [
    "### 3. The Median String Problem: A reformulation of the Motif Finding Problem\n",
    "\n",
    "Well, before, we had to look for a set *Motifs*, but now, we have to look for a string *Pattern* in addition to a set *Motifs*. Haven't we made our job more difficult? The insight that makes the **Equivalent Motif Finding** approach better is that, given *Pattern*, we don't have to explore all possible sets *Motifs*.\n",
    "\n",
    "We define a new set *Motifs*(*Pattern*, *Dna*) as one set among all possible sets of *Motifs* in *Dna* that minimizes *d*(*Pattern*, *Motifs*) for a given *Pattern*. For example, given *Pattern*=AAA, and a collection of strings *Dna* below, the set *Motifs*(*Pattern*, *Dna*) with the lowest sum of Hamming distances from AAA is {AAC, ATA, ACG, AAA, AGA}.\n",
    "\n",
    "```\n",
    "       [[ttaccttAAC],\n",
    "        [gATAtctgtc],\n",
    "Dna =   [ACGgcgttcg],\n",
    "        [ccctAAAgag],\n",
    "        [cgtcAGAggt]]\n",
    "```\n",
    "\n",
    "And we don't have to consider every possible set of *Motifs* in *Dna* because we can simply consider each string in *Dna* and find the *k*-mer that returns the minimum distance in *Hamming*(*Pattern*, *k*-mer). So rather than generating all possible sets *Motifs* given *Dna*, which would be monstrously many given anything but a toy problem, we just consider each string in *Dna* and get the distance-minimizing *k*-mer. For example, we'd run: *Motif*(GATTCTCA, GCAAAGACGCTGACCAA) = GACGCTGA.\n",
    "\n",
    "To be clear, the advantage of the **Median String** formulation over **Motif Finding** is that, rather than iterating through every possible set of *Motifs*, we just iterate through every possible *k*-mer *Pattern'*. The **Motif Finding** solution ends up with a runtime of O(n<sup>t</sup>) where t = number of strings in *Dna*, and **Median String** ends up with a runtime of O(4<sup>k</sup>) where k = the length of the *k*-mer sought. Both are polynomial time, but the number of strings in *Dna* number in the thousands in practice while *k* does not typically exceed 20 bps. So solving the **Median String** problem improves runtime significantly!\n",
    "\n",
    "If we define the minimum possible distance between *Pattern* and a string in *Dna* as:\n",
    "\n",
    "$$d(Pattern, Text) = \\text{min}_\\text{all kmers Pattern' in Text} HammingDistance(Pattern, Pattern') $$\n",
    "\n",
    "Then we can define the minimum distance between *Pattern* and a set of strings *Dna* as:\n",
    "\n",
    "$$d(Pattern, Dna) = \\Sigma_{i=1}^{t} d(Pattern, Dna_i) $$"
   ]
  },
  {
   "cell_type": "code",
   "execution_count": 11,
   "id": "e2af2565",
   "metadata": {},
   "outputs": [],
   "source": [
    "def hamming_distance(s1, s2):\n",
    "    diff = [i for i in range(len(s1)) if s1[i] != s2[i]]\n",
    "    return len(diff)\n",
    "\n",
    "\n",
    "def distance_between_pattern_and_strings(pattern, dna):\n",
    "    k = len(pattern)\n",
    "    distance = 0\n",
    "    for text in dna:\n",
    "        hamming_dist = float('inf')\n",
    "        \n",
    "        # This block finds the minimum d(pattern, text)\n",
    "        for i in range(len(text)-k+1):\n",
    "            pattern_prime = text[i:i+k]\n",
    "            if hamming_dist > hamming_distance(pattern, pattern_prime):\n",
    "                hamming_dist = hamming_distance(pattern, pattern_prime)\n",
    "        distance += hamming_dist\n",
    "    return distance"
   ]
  },
  {
   "cell_type": "code",
   "execution_count": 12,
   "id": "94669005",
   "metadata": {},
   "outputs": [
    {
     "data": {
      "text/plain": [
       "0"
      ]
     },
     "execution_count": 12,
     "metadata": {},
     "output_type": "execute_result"
    }
   ],
   "source": [
    "distance_between_pattern_and_strings(\"GA\", [\"GATT\", \"CGAT\", \"TTGA\"])"
   ]
  },
  {
   "cell_type": "markdown",
   "id": "4a7c9ae1",
   "metadata": {},
   "source": [
    "And the string that minimizes *d*(*Pattern*, *Dna*) is the **median string**.\n",
    "\n",
    "**Median String Problem**: *Find a median string.*\n",
    "- **Input**: A collection of strings *Dna* and an integer *k*.\n",
    "- **Output**: A *k*-mer *Pattern* that minimizes *d*(*Pattern*, *Dna*) among all possible choices of *k*-mers."
   ]
  },
  {
   "cell_type": "code",
   "execution_count": 13,
   "id": "8afc84d0",
   "metadata": {},
   "outputs": [],
   "source": [
    "def neighbors(pattern, d):\n",
    "    if d == 0:\n",
    "        return {pattern}\n",
    "    if len(pattern) == 1:\n",
    "        return {\"A\", \"C\", \"G\", \"T\"}\n",
    "    neighborhood = set()\n",
    "    suffix_neighbors = neighbors(pattern[1:], d)\n",
    "    for text in suffix_neighbors:\n",
    "        if hamming_distance(pattern[1:], text) < d:\n",
    "            nts = [\"A\", \"C\", \"G\", \"T\"]\n",
    "            for nt in nts:\n",
    "                neighborhood.add(nt+text)\n",
    "        else:\n",
    "            neighborhood.add(pattern[0]+text)\n",
    "    return neighborhood\n",
    "\n",
    "def median_string(dna, k):\n",
    "    distance = float('inf')\n",
    "    all_kmers = neighbors(\"\".join([\"A\" for i in range(k)]), k)\n",
    "    for pattern in all_kmers:\n",
    "        if distance > distance_between_pattern_and_strings(pattern, dna):\n",
    "            distance = distance_between_pattern_and_strings(pattern, dna)\n",
    "            median = pattern\n",
    "    return median"
   ]
  },
  {
   "cell_type": "code",
   "execution_count": 14,
   "id": "eb27f14b",
   "metadata": {},
   "outputs": [
    {
     "data": {
      "text/plain": [
       "'GAC'"
      ]
     },
     "execution_count": 14,
     "metadata": {},
     "output_type": "execute_result"
    }
   ],
   "source": [
    "dna = [\"AAATTGACGCAT\", \"GACGACCACGTT\", \"CGTCAGCGCCTG\", \"GCTGAGCACCGG\", \"AGTTCGGGACAG\"]\n",
    "median_string(dna, 3)"
   ]
  },
  {
   "cell_type": "markdown",
   "id": "09e25b6b",
   "metadata": {},
   "source": [
    "The **Median String** problem is actually not exactly equivalent to the **Motif Finding** problem, because the former returns a single median string while the latter returns a set of motifs. I don't know why the authors don't address this point. \n",
    "\n",
    "In any case, even though solving the **Median String** is much faster than solving the **Motif Finding** problem, the former is still not practical in real-world applications because as *k* increases, it becomes much too slow. The authors say that solving for a *k*=13 median string took half a day. We will be searching for a 20 bp regulatory motif, and using our **Median String** will not be feasible. So, we'll have to modify our approach once again."
   ]
  },
  {
   "cell_type": "markdown",
   "id": "45b3f6c9",
   "metadata": {},
   "source": [
    "### 4. Greedy Motif Search\n",
    "\n",
    "**Greedy algorithms** are a class of algorithms that choose the most attractive (i.e. probabilistically most likely) options at each iteration. While fast, greedy algorithms tend to return only approximate solutions. In essence, we trade accuracy for speed.\n",
    "\n",
    "Earlier, we learned how to create a matrix of probabilities or a **profile** of a set *Motifs*. Using the profile, we can find the most likely *k*-mer in any given string of nucleotides. This will be handy in implementing a greedy solution to the **Motif Finding** problem.\n",
    "\n",
    "**Profile-most Probable *k*-mer Problem**: Find a *Profile*-most probable *k*-mer in a string.\n",
    "\n",
    "- **Input**: A string *Text*, an integer *k*, and a 4 × *k* matrix *Profile*.\n",
    "- **Output**: A *Profile*-most probable *k*-mer in *Text*."
   ]
  },
  {
   "cell_type": "code",
   "execution_count": 15,
   "id": "28d760b8-d8a8-4906-a89c-3fb5365fc145",
   "metadata": {},
   "outputs": [],
   "source": [
    "def profile_most_probable_kmer(text, k, profile):\n",
    "    char_index_dict = {\"A\": 0, \"C\": 1, \"G\": 2, \"T\": 3}\n",
    "    \n",
    "    most_probable_kmer = \"\"\n",
    "    max_probability = float('-inf')\n",
    "    for i in range(len(text)-k+1):\n",
    "        kmer = text[i:i+k]\n",
    "        current_prob = 1\n",
    "        for j in range(k):\n",
    "            nt = char_index_dict[kmer[j]]\n",
    "            current_prob *= profile[nt][j]\n",
    "        if current_prob > max_probability:\n",
    "            max_probability = current_prob\n",
    "            most_probable_kmer = kmer\n",
    "    return most_probable_kmer"
   ]
  },
  {
   "cell_type": "code",
   "execution_count": 16,
   "id": "92d61e68",
   "metadata": {},
   "outputs": [
    {
     "data": {
      "text/plain": [
       "'CCGAG'"
      ]
     },
     "execution_count": 16,
     "metadata": {},
     "output_type": "execute_result"
    }
   ],
   "source": [
    "t = \"ACCTGTTTATTGCCTAAGTTCCGAACAAACCCAATATAGCCCGAGGGCCT\"\n",
    "k = 5\n",
    "p = [[0.2, 0.2, 0.3, 0.2, 0.3],\n",
    "    [0.4, 0.3, 0.1, 0.5, 0.1],\n",
    "    [0.3, 0.3, 0.5, 0.2, 0.4],\n",
    "    [0.1, 0.2, 0.1, 0.1, 0.2]]\n",
    "profile_most_probable_kmer(t, k, p)"
   ]
  },
  {
   "cell_type": "markdown",
   "id": "85d82e2c-225f-4725-beeb-2798459d5e9f",
   "metadata": {},
   "source": [
    "The **Greedy Motif Search** pseudocode given in the course is barely comprehensible. I explain it as follows:\n",
    "\n",
    "1. We create an initial *BestMotifs* matrix by arbitrarily choosing the first *k*-mer in each string in *Dna*.\n",
    "2. We compare len(dna)-k+1 sets of *Motifs* as follows, iterating with counter *i*:\n",
    "\n",
    "    2.1. Initialize the set *Motifs* with just a motif at position *i* from the first string in *Dna*.\n",
    "    \n",
    "    2.2. Calculate the *Profile*.\n",
    "    \n",
    "    2.3. Based on the *Profile*, find the best motif in the next string in *Dna*. Add the motif to *Motifs*.\n",
    "    \n",
    "    2.4. Repeat until a motif has been found in all strings in *Dna*. \n",
    "    \n",
    "    2.5. Calculate the score of the resulting *Motifs*. If the score of *Motifs* is better than the arbitrarily created *BestMotifs*, then make the new set *Motifs* into *BestMotifs*.\n",
    "    \n",
    "    2.6. Repeat until all len(dna)-k+1 sets of *Motifs* have been compared.\n",
    "    \n",
    "3. Return *BestMotifs*.\n",
    "    \n",
    "\n",
    "**GreedyMotifSearch**.\n",
    "- **Input**: Integers *k* and *t*, followed by a space-separated collection of strings *Dna*.\n",
    "- **Output**: A collection of strings *BestMotifs* resulting from applying *GreedyMotifSearch*(*Dna*, *k*, *t*). If at any step you find more than one *Profile*-most probable *k*-mer in a given string, use the one occurring first.\n"
   ]
  },
  {
   "cell_type": "code",
   "execution_count": 17,
   "id": "151f9dd1",
   "metadata": {},
   "outputs": [],
   "source": [
    "def greedy_motif_search(k, t, dna):\n",
    "    \n",
    "    # artitrarily choose first k chars from each dna string to create an initial Motifs matrix.\n",
    "    best_motifs = [text[:k] for text in dna] \n",
    "    \n",
    "    for i in range(len(dna[0])-k+1):\n",
    "        \n",
    "        motif_1 = dna[0][i:i+k]\n",
    "        \n",
    "        motifs = [motif_1] # initialize a Motifs list for each motif.\n",
    "        \n",
    "        for j in range(1, t): # for all strings in Dna excluding the first,\n",
    "            \n",
    "            # get the probability profile given Motifs\n",
    "            # profile is updated over for loop iterations\n",
    "            # based on dna[1] to dna[t]\n",
    "            prof = profile(motifs) \n",
    "            \n",
    "            # and find the most probable k-mer in the dna string given profile\n",
    "            motif_i = profile_most_probable_kmer(dna[j], k, prof) \n",
    "            \n",
    "            # and update Motifs\n",
    "            # in the i+1 loop, information from motif_i will be used\n",
    "            # to generate a better profile\n",
    "            motifs.append(motif_i) \n",
    "            \n",
    "        # if Motifs has better score\n",
    "        if score(motifs) < score(best_motifs): \n",
    "            best_motifs = motifs\n",
    "            \n",
    "    return best_motifs"
   ]
  },
  {
   "cell_type": "code",
   "execution_count": 18,
   "id": "9e4a3232",
   "metadata": {},
   "outputs": [
    {
     "name": "stdout",
     "output_type": "stream",
     "text": [
      "CAG CAG CAA CAA CAA\n"
     ]
    }
   ],
   "source": [
    "k = 3\n",
    "t = 5\n",
    "dnas = [\"GGCGTTCAGGCA\", \"AAGAATCAGTCA\", \"CAAGGAGTTCGC\", \"CACGTCAATCAC\", \"CAATAATATTCG\"]\n",
    "\n",
    "print(\" \".join(greedy_motif_search(k, t, dnas)))"
   ]
  },
  {
   "cell_type": "markdown",
   "id": "195e459c",
   "metadata": {},
   "source": [
    "### Greedy Motif Search with Pseudocounts\n",
    "\n",
    "Compared to **Median String**, **Greedy Motif Search** is quite fast, even at k = 15, and returns an answer. However, it trades speed for accuracy and performs, actually, quite poorly. This is because the initial matrix *Profile* contains many zeros, and because multiplying anything with zero yields a zero, this represents a serious problem. For instance, even though the string TCG**T**GATTTCC is only one nucleotide off from the consensus string TCG**G**GATTTCC at the fourth position, the probability of TCG**T**GATTTCC given the *Profile* constructed using our usual method equals 0. \n",
    "\n",
    "<img src='http://bioinformaticsalgorithms.com/images/Motifs/greedy_profile_1.png' width=700px />\n",
    "\n",
    "\n",
    "\n",
    "Oliver Cromwell, in attempting to persuade the Church of Scotland to reconsider proclaiming Charles II as king, wrote:\n",
    "\n",
    "> I beseech you, in the bowels of Christ, think it possible that you may be mistaken.\n",
    "\n",
    "**Cromwell’s rule** states that we should not use probabilities of 0 or 1 unless we are talking about logical statements that can only be true or false. \n",
    "\n",
    "Following this dictum, bioinformaticians replace zeroes with **pseudocounts** to avoid unfair scores. The simplest is **Laplace's Rule of Succession**, which, in our application, adds one to each element, and to calculate *Profile*, divides each element by *t*+4 rather than simply *t* (+4 comes from there being four kinds of nucleotides). "
   ]
  },
  {
   "cell_type": "code",
   "execution_count": 23,
   "id": "93709877-0e2f-4389-9467-3b927bdbd309",
   "metadata": {},
   "outputs": [],
   "source": [
    "def laplace_profile(motifs):\n",
    "    counts = np.array(count(motifs))\n",
    "    return (counts+1)/(len(motifs)+4)\n",
    "\n",
    "\n",
    "def greedy_motif_search_with_pseudocounts(k, t, dna):\n",
    "    \n",
    "    best_motifs = [text[:k] for text in dna] \n",
    "    \n",
    "    for i in range(len(dna[0])-k+1):\n",
    "        motif_1 = dna[0][i:i+k]\n",
    "        motifs = [motif_1] \n",
    "        \n",
    "        for j in range(1, t): \n",
    "            prof = laplace_profile(motifs) \n",
    "            motif_i = profile_most_probable_kmer(dna[j], k, prof) \n",
    "            motifs.append(motif_i) \n",
    "    \n",
    "        if score(motifs) < score(best_motifs): \n",
    "            best_motifs = motifs\n",
    "            \n",
    "    return best_motifs"
   ]
  },
  {
   "cell_type": "code",
   "execution_count": 25,
   "id": "310887a9",
   "metadata": {},
   "outputs": [
    {
     "data": {
      "text/plain": [
       "['TTC', 'ATC', 'TTC', 'ATC', 'TTC']"
      ]
     },
     "execution_count": 25,
     "metadata": {},
     "output_type": "execute_result"
    }
   ],
   "source": [
    "k = 3 \n",
    "t = 5\n",
    "dna = [\"GGCGTTCAGGCA\", \"AAGAATCAGTCA\", \"CAAGGAGTTCGC\", \"CACGTCAATCAC\", \"CAATAATATTCG\"]\n",
    "greedy_motif_search_with_pseudocounts(k, t, dna)"
   ]
  },
  {
   "cell_type": "markdown",
   "id": "17567861",
   "metadata": {},
   "source": [
    "Quite different results given the same input. Using pseudocounts gives us a much better result, but it is possible to design an even better algorithm. We'll tackle that in Week 4. "
   ]
  }
 ],
 "metadata": {
  "kernelspec": {
   "display_name": "Python 3 (ipykernel)",
   "language": "python",
   "name": "python3"
  },
  "language_info": {
   "codemirror_mode": {
    "name": "ipython",
    "version": 3
   },
   "file_extension": ".py",
   "mimetype": "text/x-python",
   "name": "python",
   "nbconvert_exporter": "python",
   "pygments_lexer": "ipython3",
   "version": "3.8.5"
  }
 },
 "nbformat": 4,
 "nbformat_minor": 5
}
