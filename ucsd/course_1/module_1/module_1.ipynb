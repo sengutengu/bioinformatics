{
 "cells": [
  {
   "cell_type": "markdown",
   "id": "65b53e0c-4cd3-42d3-a6d8-be3c85d6835f",
   "metadata": {},
   "source": [
    "# Bioinformatic Algorithms, Week 1\n",
    "\n",
    "This course is pretty tough. This Jupyter notebook is part of me organizing my work thus far so I can tackle the Week 4 content. "
   ]
  },
  {
   "cell_type": "markdown",
   "id": "dd642592-ad0e-41fc-99b9-2d0c3a37442a",
   "metadata": {},
   "source": [
    "**Genome replication**: Before a cell can divide, it must replicate its genome so that each of the two daughters inherits its own copy. \n",
    "\n",
    "- 1953: **Watson & Crick**'s DNA double helix paper: *\"It has not escaped our notice that the specific pairings we have postulated immediately suggests a possible copying mechanism for the genetic material\".*\n",
    "- Replication begins at the region of the genome called the replication origin (*ori*) and is carried out by **DNA polymerases**.\n",
    "\n",
    "How do we find the *ori*, given a genome?\n",
    "\n",
    "Computational methods are now the only realistic way to answer many questions in modern biology. \n",
    "1. They are much faster than experimental methods. Experimental methods to finding *ori* are time-consuming and have been successful in only a handful of species.\n",
    "2. Results of many experiments cannot be interpreted without computational analyses.\n",
    "\n",
    "In this chapter, we focus on the relatively easy case of finding *ori* in bacterial genomes, most of which consist of a single circular chromosome. \n",
    "- The region of the bacterial genome encoding *ori* is typically a few hundred nucleotides long.\n",
    "- Begin with a bacterium in which *ori* is known, then determine what makes this genomic region special, to design a computational approach for finding *ori* in other bacteria.\n",
    "- We use the genome of *Vibrio cholerae* as our \"known\". The *ori* of *V. cholerae* is as follows:\n",
    "\n",
    "> atcaatgatcaacgtaagcttctaagcatgatcaaggtgctcacacagtttatccacaac\n",
    "ctgagtggatgacatcaagataggtcgttgtatctccttcctctcgtactctcatgacca\n",
    "cggaaagatgatcaagagaggatgatttcttggccatatcgcaatgaatacttgtgactt\n",
    "gtgcttccaattgacatcttcagcgccatattgcgctggccaaggtgacggagcgggatt\n",
    "acgaaagcatgatcatggctgttgttctgtttatcttgttttgactgagacttgttagga\n",
    "tagacggtttttcatcactgactagccaaagccttactctgcctgacatcgaccgtaaat\n",
    "tgataatgaatttacatgcttccgcgacgatttacctcttgatcatcgatccgattgaag\n",
    "atcttcaattgttaattctcttgcctcgactcatagccatgatgagctcttgatcatgtt\n",
    "tccttaaccctctattttttacggaagaatgatcaagctgctgctcttgatcatcgtttc"
   ]
  },
  {
   "cell_type": "code",
   "execution_count": 1,
   "id": "a864ddc2-58b7-4bfe-86a9-94172574fb3b",
   "metadata": {},
   "outputs": [
    {
     "name": "stdout",
     "output_type": "stream",
     "text": [
      "The Vibrio cholerae genome is 1108250 nucleotides long.\n",
      "The first 100 nucleotides are: ACAATGAGGTCACTATGTTCGAGCTCTTCAAACCGGCTGCGCATACGCAGCGGCTGCCATCCGATAAGGTGGACAGCGTCTATTCACGCCTTCGTTGGCA\n"
     ]
    }
   ],
   "source": [
    "f = open(\"Vibrio_cholerae.txt\", \"r\")\n",
    "v_cholerae_genome = f.read()\n",
    "f.close()\n",
    "print(f'The Vibrio cholerae genome is {len(v_cholerae_genome)} nucleotides long.')\n",
    "print(f'The first 100 nucleotides are: {v_cholerae_genome[:100]}')"
   ]
  },
  {
   "cell_type": "markdown",
   "id": "be3485c7-3d80-4ecb-9017-5167ce1c5ccd",
   "metadata": {},
   "source": [
    "How does the bacterial cell know to begin replication in the *ori* region of *V. cholerae*? \n",
    "- The initiation of replication is mediated by ***DnaA***, a protein that binds to a short segment within the ori known as a ***DnaA box***.\n",
    "- That is, a sequence in the *ori* genomic region called a *DnaA box* tells a protein called *DnaA* to \"bind here!\".\n",
    "- *DnaA*, in turn, recruits other proteins to initiate the separation of the DNA strands at the origin.\n",
    "\n",
    "<img src=\"https://upload.wikimedia.org/wikipedia/commons/3/3c/PDB_1j1v_EBI.jpg\" width=\"200\" height=\"200\" style=\"margin:auto\"/>\n",
    "\n",
    "The **Hidden Message Problem** is a first attempt at formalizing our task at hand, in an intuitive way. But it is not a clearly-stated, meaningful computational problem. \n",
    "\n",
    "> **Hidden Message Problem**: *Find a \"hidden message\" in the replication origin.*\n",
    ">    - **Input**: A string *Text* (representing the replication origin of a genome)\n",
    ">    - **Output**: A hidden message in *Text* (representing the *DnaA box*)."
   ]
  },
  {
   "cell_type": "markdown",
   "id": "f0b948bc-378a-4d47-bb5e-eebca0f38b27",
   "metadata": {},
   "source": [
    "### The Frequent Words Problem\n",
    "For various biological processes, certain nucleotide strings will appear surprisingly often in small regions of the genome because certain proteins can only bind to DNA if a specific string of nucleotides is present. This is the same with the *DnaA* protein, and the *DnaA box* sequences. A better approach would be to find \"words\" that are surprisingly frequent (i.e. above chance) in the Text. \n",
    "- For example, in the Text \"ACA**ACTAT**GCAT**ACTAT**CGGGA**ACTAT**CCT\", the word **ACTAT** is a surprisingly frequent (n=3).\n",
    "- We formalize this observation as follows:\n",
    "\n",
    "> *Count*(ACA**ACTAT**GCAT**ACTAT**CGGGA**ACTAT**CCT, ACTAT) = 3.\n",
    "\n",
    "To compute *Count*(*Text*, *Pattern*), our plan is to slide a moving window down *Text*, checking whether each substring of *Text* that has the length of *Pattern*—we call it a *k*-mer, where *k*=length of *Pattern*—matches *Pattern* itself. "
   ]
  },
  {
   "cell_type": "code",
   "execution_count": 2,
   "id": "cc5228cc-db14-4993-b322-7cfb60cd73c3",
   "metadata": {},
   "outputs": [],
   "source": [
    "def pattern_count(text, pattern):\n",
    "    count = 0\n",
    "    # range() is upper-bound exclusive\n",
    "    for i in range(len(text)-len(pattern)+1): \n",
    "        if text[i:i+len(pattern)] == pattern:\n",
    "            count += 1\n",
    "    return count"
   ]
  },
  {
   "cell_type": "code",
   "execution_count": 3,
   "id": "0b87f7d3-5e51-42a6-9ff5-e8cc2249c470",
   "metadata": {},
   "outputs": [
    {
     "name": "stdout",
     "output_type": "stream",
     "text": [
      "22\n"
     ]
    }
   ],
   "source": [
    "f = open(\"patternCount.txt\", \"r\")\n",
    "pc_input = f.read().split(\"\\n\")\n",
    "f.close()\n",
    "\n",
    "t = pc_input[0]\n",
    "p = pc_input[1]\n",
    "print(pattern_count(t, p))"
   ]
  },
  {
   "cell_type": "markdown",
   "id": "60c6b628-88df-4c4b-a291-f87cd18bd720",
   "metadata": {},
   "source": [
    "Now, we can say that *Pattern* is a **most-frequent *k*-mer** in *Text* if it maximizes *Count*(*Text*, *Pattern*) among all *k*-mers. For example, **ACTAT** is the most-frequent *k*-mer in ACA**ACTAT**GCAT**ACTAT**CGGGA**ACTAT**CCT. This gives us a rigorously defined computational problem.\n",
    "\n",
    "**Frequent Words Problem**: *Find the most frequent k-mers in a string*.\n",
    "- **Input**: A string *Text* and an integer *k*.\n",
    "- **Output**: All most frequent *k*-mers in *Text*.\n",
    "\n",
    "There is a naive way and a fast way to do this. The **naive way** would be the following:"
   ]
  },
  {
   "cell_type": "code",
   "execution_count": 4,
   "id": "24ed78d9-4016-4ffa-baf0-f710ba45cb35",
   "metadata": {},
   "outputs": [],
   "source": [
    "def frequent_words_naive(text, k):\n",
    "    frequent_patterns = set()\n",
    "    counts = []\n",
    "    for i in range(len(text)-k):\n",
    "        pattern = text[i:i+k]\n",
    "        counts.append(pattern_count(text, pattern))\n",
    "    max_count = max(counts)\n",
    "    for i in range(len(text)-k):\n",
    "        if counts[i] == max_count:\n",
    "            frequent_patterns.add(text[i:i+k])\n",
    "    return frequent_patterns"
   ]
  },
  {
   "cell_type": "code",
   "execution_count": 5,
   "id": "ebc6d4e3-5ebc-400e-8a9a-27c0196b6b3e",
   "metadata": {},
   "outputs": [
    {
     "name": "stdout",
     "output_type": "stream",
     "text": [
      "GTACCAGGCGCA TACCAGGCGCAG GGTACCAGGCGC GTAGGTACCAGG AGGTACCAGGCG TAGGTACCAGGC\n"
     ]
    }
   ],
   "source": [
    "f = open(\"frequentWords.txt\", \"r\")\n",
    "pc_input = f.read().split(\"\\n\")\n",
    "f.close()\n",
    "\n",
    "t = pc_input[0]\n",
    "k = int(pc_input[1])\n",
    "print(\" \".join(frequent_words_naive(t, k)))"
   ]
  },
  {
   "cell_type": "markdown",
   "id": "1914a5ea-6b97-4033-9f68-0ef13dd57659",
   "metadata": {},
   "source": [
    "This approach loops through *Text*, at each iteration:\n",
    "1. Grabbing a *k*-mer substring in *Text*,\n",
    "2. Calculating how many times a *k*-mer appears in *Text* (looping through *Text* again), and\n",
    "3. Adding the count to a list `counts`.\n",
    "\n",
    "It then finds the maximum count in `counts`, and collects all *k*-mers that have the maximum count, before returning it.\n",
    "\n",
    "**This is a slow algorithm**, with a runtime of O(n<sup>2</sup>), because we have to call *Count*(*Text*, *Pattern*) for every *Pattern* in *Text*. \n",
    "\n",
    "The **fast way** to implement the **Frequent Words Problem** uses a hash table. Rather than iterate through *Text* within another iteration through *Text*, which results in the O(n<sup>2</sup>) runtime, we can:\n",
    "1) Iterate through *Text* once to obtain a hash table, like the **frequency table** below,\n",
    "2) Then return the hashes that are associated with the greatest value. \n",
    "\n",
    "<img src=\"https://miro.medium.com/max/2129/1*Mr6KrtsUqhQ732SwYIljfg.jpeg\" width=400px style=\"margin:auto\"/>\n",
    "\n",
    "\n",
    "To return the hashes that are associated with the greatest value, we need a function **MaxMap**, defined inside `better_frequent_words()`."
   ]
  },
  {
   "cell_type": "code",
   "execution_count": 6,
   "id": "f6f318e9-1c2b-44c3-9a58-b568405e9ced",
   "metadata": {},
   "outputs": [],
   "source": [
    "def frequency_table(text, k):\n",
    "    freq_map = {}\n",
    "    for i in range(len(text)-k+1):\n",
    "        pattern = text[i:i+k]\n",
    "\n",
    "        if pattern not in freq_map:\n",
    "            freq_map[pattern] = 1\n",
    "        else:\n",
    "            freq_map[pattern] += 1\n",
    "    return freq_map"
   ]
  },
  {
   "cell_type": "code",
   "execution_count": 7,
   "id": "2e81112a-f8a6-4fb9-951c-2c4f06f8b70c",
   "metadata": {},
   "outputs": [],
   "source": [
    "def better_frequent_words(text, k):\n",
    "    \n",
    "    def max_map(table): # Return the maximum value in a dictionary\n",
    "        return max(table.values())\n",
    "    \n",
    "    frequent_patterns = []\n",
    "    freq_map = frequency_table(text, k)\n",
    "    max_val = max_map(freq_map)\n",
    "    for pattern in freq_map.keys():\n",
    "        if freq_map[pattern] == max_val:\n",
    "            frequent_patterns.append(pattern)\n",
    "    return frequent_patterns"
   ]
  },
  {
   "cell_type": "code",
   "execution_count": 8,
   "id": "f3f6b82b-c947-4426-9d49-5fea543f250b",
   "metadata": {},
   "outputs": [
    {
     "data": {
      "text/plain": [
       "'GTAGGTACCAGG TAGGTACCAGGC AGGTACCAGGCG GGTACCAGGCGC GTACCAGGCGCA TACCAGGCGCAG'"
      ]
     },
     "execution_count": 8,
     "metadata": {},
     "output_type": "execute_result"
    }
   ],
   "source": [
    "f = open(\"frequentWords.txt\", \"r\")\n",
    "pc_input = f.read().split(\"\\n\")\n",
    "f.close()\n",
    "\n",
    "t = pc_input[0]\n",
    "k = int(pc_input[1])\n",
    "\" \".join(better_frequent_words(t, k))"
   ]
  },
  {
   "cell_type": "markdown",
   "id": "89db13ba-0b78-459a-aee0-8302c842fd71",
   "metadata": {},
   "source": [
    "Pretty neat! Now, trying the **Frequent Words Problem** on the *ori* region of *V. cholerae* for different *k*-values gives us the following:"
   ]
  },
  {
   "cell_type": "code",
   "execution_count": 9,
   "id": "fb9604df-0a32-44c5-ac62-531a16904f0f",
   "metadata": {},
   "outputs": [
    {
     "name": "stdout",
     "output_type": "stream",
     "text": [
      "3-mer: found 1, tga\n",
      "4-mer: found 1, atga\n",
      "5-mer: found 2, tgatc gatca\n",
      "6-mer: found 1, tgatca\n",
      "7-mer: found 1, atgatca\n",
      "8-mer: found 1, atgatcaa\n",
      "9-mer: found 4, atgatcaag ctcttgatc tcttgatca cttgatcat\n"
     ]
    }
   ],
   "source": [
    "cholerae_ori = \"atcaatgatcaacgtaagcttctaagcatgatcaaggtgctcacacagtttatccacaacctgagtggatgacatcaagataggtcgttgtatctccttcctctcgtactctcatgaccacggaaagatgatcaagagaggatgatttcttggccatatcgcaatgaatacttgtgacttgtgcttccaattgacatcttcagcgccatattgcgctggccaaggtgacggagcgggattacgaaagcatgatcatggctgttgttctgtttatcttgttttgactgagacttgttaggatagacggtttttcatcactgactagccaaagccttactctgcctgacatcgaccgtaaattgataatgaatttacatgcttccgcgacgatttacctcttgatcatcgatccgattgaagatcttcaattgttaattctcttgcctcgactcatagccatgatgagctcttgatcatgtttccttaaccctctattttttacggaagaatgatcaagctgctgctcttgatcatcgtttc\"\n",
    "\n",
    "cholerae_dict = {}\n",
    "for i in range(3, 10):\n",
    "    cholerae_dict[i] = better_frequent_words(cholerae_ori, i)\n",
    "    \n",
    "for key, value in cholerae_dict.items():\n",
    "    print(f'{key}-mer: found {len(cholerae_dict[key])}, {\" \".join(cholerae_dict[key])}')"
   ]
  },
  {
   "cell_type": "markdown",
   "id": "a607710b-04c5-40bd-bd50-7d63e917a49a",
   "metadata": {},
   "source": [
    "There are an awful lot of 9-mers! And each appears three times in the *ori* region:"
   ]
  },
  {
   "cell_type": "code",
   "execution_count": 10,
   "id": "fb6a32fc-e98a-4a81-af30-4edf964a117c",
   "metadata": {},
   "outputs": [
    {
     "name": "stdout",
     "output_type": "stream",
     "text": [
      "atgatcaag appears 3 times\n",
      "ctcttgatc appears 3 times\n",
      "tcttgatca appears 3 times\n",
      "cttgatcat appears 3 times\n"
     ]
    }
   ],
   "source": [
    "for p in cholerae_dict[9]:\n",
    "    print(f'{p} appears {pattern_count(cholerae_ori, p)} times')"
   ]
  },
  {
   "cell_type": "markdown",
   "id": "ecb005be-aea2-4b0a-b993-c7e807f44d94",
   "metadata": {},
   "source": [
    "Experiments reveal that bacterial *DnaA* boxes are usually 9 nucleotides long. The probability that there exists a 9-mer appearing 3 or more times in a string of length 500 is approximately 1/1300. So this is quite unusual! "
   ]
  },
  {
   "cell_type": "markdown",
   "id": "5944f581-da67-4bfd-86fb-452a7cb98e38",
   "metadata": {},
   "source": [
    "### Reverse Complements and Pattern Matching"
   ]
  },
  {
   "cell_type": "markdown",
   "id": "cfa4c1d2-9715-49af-b2d3-723235dad3e8",
   "metadata": {},
   "source": [
    "DNA replication is **semiconservative**: a double-strand unfurls into two **template strands**, and onto each template strand, the **complementary strand** is assembled out of free-floating nucleotides, as confirmed by [Meselson and Stahl's 1958 experiment](https://en.wikipedia.org/wiki/Meselson%E2%80%93Stahl_experiment). \n",
    "\n",
    "<img src=\"https://bioinformaticsalgorithms.com/images/Replication/reverse_complement.png\" width=400px style=\"margin:auto\" />\n",
    "\n",
    "DNA strands are read 5' to 3', and each strand is read in the reverse direction as its complement. Since A pairs with T and G pairs with C, it is a straightforward task to determine the reverse complement of a string of nucleotides."
   ]
  },
  {
   "cell_type": "code",
   "execution_count": 11,
   "id": "fccd8ec9-b90a-4f73-a43a-469ec9a05a65",
   "metadata": {},
   "outputs": [],
   "source": [
    "def reverse_complement(pattern):\n",
    "    return pattern[::-1].translate(str.maketrans('ACGT', 'TGCA'))"
   ]
  },
  {
   "cell_type": "code",
   "execution_count": 12,
   "id": "66d03993-93cb-4aa7-bda8-61be975e9fb5",
   "metadata": {},
   "outputs": [
    {
     "name": "stdout",
     "output_type": "stream",
     "text": [
      "TGATAAGGCATGCCGCTCCGCCCCGACTATGGTCTTGCGGTGGTAGGTTTTAAGCCCACATTCACTGGAAAGTCAGACGCTAGGAACTTGAGCAGGCAGT\n"
     ]
    }
   ],
   "source": [
    "f = open(\"reverseComplement.txt\", \"r\")\n",
    "rc_input = f.read()\n",
    "f.close()\n",
    "print(reverse_complement(rc_input)[:100]) # truncated output for readability"
   ]
  },
  {
   "cell_type": "markdown",
   "id": "b9fc1597-861a-44c5-a2cc-452a5c0215ca",
   "metadata": {},
   "source": [
    "Of the four 9-mers that occur suspiciously frequently in the *ori* of *V. cholerae*, ATGATCAAG and CTTGATCAT are the reverse complements of each other. **So it seems quite likely, now, that ATGATCAAG and CTTGATCAT are *DnaA* boxes in *V. cholerae*!** We just have to check whether this sequence occurs just as frequently in the rest of the genome. \n",
    "\n",
    "**Pattern Matching Problem**: *Find all occurrences of a pattern in a string.*\n",
    "- **Input**: Strings *Pattern* and *Genome*.\n",
    "- **Output**: All starting positions in Genome where Pattern appears as a substring."
   ]
  },
  {
   "cell_type": "code",
   "execution_count": 13,
   "id": "fc77484f-3ba2-4217-81e2-2ab0d58774cb",
   "metadata": {},
   "outputs": [],
   "source": [
    "def pattern_match(pattern, genome):\n",
    "    k = len(pattern)\n",
    "    positions = []\n",
    "    for i in range(len(genome)-k+1):\n",
    "        if genome[i:i+k] == pattern:\n",
    "            positions.append(i)\n",
    "    return positions"
   ]
  },
  {
   "cell_type": "code",
   "execution_count": 14,
   "id": "bc6ae2bf-5e77-4442-b59c-5e29f3a221b7",
   "metadata": {},
   "outputs": [
    {
     "name": "stdout",
     "output_type": "stream",
     "text": [
      "116556 149355 151913 152013 152394 186189 194276 200076 224527 307692 479770 610980 653338 679985 768828 878903 985368\n"
     ]
    }
   ],
   "source": [
    "print(\" \".join([str(i) for i in pattern_match(\"ATGATCAAG\", v_cholerae_genome)]))"
   ]
  },
  {
   "cell_type": "code",
   "execution_count": 15,
   "id": "69ba4d82-35cc-4599-82ba-7fe34c508c9d",
   "metadata": {},
   "outputs": [
    {
     "name": "stdout",
     "output_type": "stream",
     "text": [
      "60039 98409 129189 152283 152354 152411 163207 197028 200160 357976 376771 392723 532935 600085 622755 1065555\n"
     ]
    }
   ],
   "source": [
    "print(\" \".join([str(i) for i in pattern_match(\"CTTGATCAT\", v_cholerae_genome)]))"
   ]
  },
  {
   "cell_type": "markdown",
   "id": "375ddb5b-b4df-4808-b2e9-34058e8822d7",
   "metadata": {},
   "source": [
    "It looks like ATGATCAAG/CTTGATCAT form a single clump around 152000 bps, and all other occurrences are pretty spread out. This is promising."
   ]
  },
  {
   "cell_type": "markdown",
   "id": "60e2bdb0-8aa4-4013-9b46-8be111bb9674",
   "metadata": {},
   "source": [
    "### Clump Finding: Finding the *ori* region"
   ]
  },
  {
   "cell_type": "markdown",
   "id": "b13e7ed7-723c-4536-9aaa-635c44ec3932",
   "metadata": {},
   "source": [
    "Though ATGATCAAG/CTTGATCAT appears to be the *DnaA* box for *V. cholerae*, it is possible that the ATGATCAAG/CTTGATCAT clump in *V. cholerae* is a statistical fluke. We should not even assume that all bacteria share the same *DnaA* box. Let's search for the same patterns in the *ori* of *Thermotoga petrophilia*:"
   ]
  },
  {
   "cell_type": "code",
   "execution_count": 16,
   "id": "fb071c9e-71de-452b-85b9-ccae52134c1c",
   "metadata": {},
   "outputs": [
    {
     "name": "stdout",
     "output_type": "stream",
     "text": [
      "0\n",
      "0\n"
     ]
    }
   ],
   "source": [
    "T_petrophilia_ori = \"aactctatacctcctttttgtcgaatttgtgtgatttatagagaaaatcttattaactgaaactaaaatggtaggtttggtggtaggttttgtgtacattttgtagtatctgatttttaattacataccgtatattgtattaaattgacgaacaattgcatggaattgaatatatgcaaaacaaacctaccaccaaactctgtattgaccattttaggacaacttcagggtggtaggtttctgaagctctcatcaatagactattttagtctttacaaacaatattaccgttcagattcaagattctacaacgctgttttaatgggcgttgcagaaaacttaccacctaaaatccagtatccaagccgatttcagagaaacctaccacttacctaccacttacctaccacccgggtggtaagttgcagacattattaaaaacctcatcagaagcttgttcaaaaatttcaatactcgaaacctaccacctgcgtcccctattatttactactactaataatagcagtataattgatctga\"\n",
    "\n",
    "print(pattern_count(T_petrophilia_ori, \"ATGATCAAG\"))\n",
    "print(pattern_count(T_petrophilia_ori, \"CTTGATCAT\"))"
   ]
  },
  {
   "cell_type": "markdown",
   "id": "fbf43f50-7aeb-4a2c-9c9d-55d506659a96",
   "metadata": {},
   "source": [
    "So *T. petrophilia* doesn't have the same sequences after all. If we look for some common 9-mers the *ori* of *T. petrophilia*, we obtain some other promising sequences instead. "
   ]
  },
  {
   "cell_type": "code",
   "execution_count": 17,
   "id": "47f3f13b-a840-4fbe-9691-76b09139f8d6",
   "metadata": {},
   "outputs": [
    {
     "name": "stdout",
     "output_type": "stream",
     "text": [
      "TGGTAGGTT\n",
      "GGTAGGTTT\n",
      "AAACCTACC\n",
      "AACCTACCA\n",
      "ACCTACCAC\n",
      "CCTACCACC\n"
     ]
    }
   ],
   "source": [
    "for key, value in frequency_table(T_petrophilia_ori, 9).items():\n",
    "    if value >= 3:\n",
    "        print(key.upper())"
   ]
  },
  {
   "cell_type": "markdown",
   "id": "72d52158-bb28-41be-85c0-7ee25642473a",
   "metadata": {},
   "source": [
    "The instructors cheat by using pre-made software called Ori-Finder, and find that CCTACCACC and reverse complement GGTGGTAGG are the most likely *DnaA* boxes. Together, they appear 5 times in the *ori*.\n",
    "\n",
    "In any case, the fact that a *DnaA* box sequence and its reverse complement appears so frequently in the *ori* means that, **if we find a region of 9-mer clumps, it is a good candidate for an *ori* region**. This problem can be formalized as follows:\n",
    "\n",
    "**Clump Finding Problem**: *Find patterns forming clumps in a string.*\n",
    "- **Input**: A string *Genome*, and integers *k* (*k*-mer length), *L* (window **l**ength for clump search), and *t* (count **t**hreshold for clumphood).\n",
    "- **Output**: All distinct *k*-mers forming (L, t)-clumps in *Genome*.\n",
    "\n",
    "The strategy here is to iterate through the *Genome* once with a moving window of length *L*:\n",
    "- In each window, we create a map of the *k*-mers within the window.\n",
    "- Then, we search for only the *k*-mers that occur at least as frequently as the threshold count within the window.\n",
    "- We finally return the qualifying *k*-mers.\n",
    "\n",
    "This algorithm has a time complexity of O(n*L), since for every window in *Genome*, `frequency_table()` iterates through that window."
   ]
  },
  {
   "cell_type": "code",
   "execution_count": 18,
   "id": "4fdc50fb-5228-4c8e-b9b4-b92be977914c",
   "metadata": {},
   "outputs": [],
   "source": [
    "def find_clump(genome, k, length, threshold):\n",
    "    patterns = set()\n",
    "    for i in range(len(genome)-length+1):\n",
    "        window = genome[i:i+length]\n",
    "        freq_map = frequency_table(window, k)\n",
    "        for key in freq_map.keys():\n",
    "            if freq_map[key] >= threshold:\n",
    "                patterns.add(key)\n",
    "    return patterns"
   ]
  },
  {
   "cell_type": "code",
   "execution_count": 19,
   "id": "b1c1451b-8ee1-452e-94fd-87bf3e93223d",
   "metadata": {},
   "outputs": [
    {
     "data": {
      "text/plain": [
       "'CCACCGTTGT TCCGGCCGAC AGAAGATAAA ACAAGGATGT TATATTATTA TATTGCGTGA ATCCAAATTA AGGCCTTCGC TAGGGTAATG'"
      ]
     },
     "execution_count": 19,
     "metadata": {},
     "output_type": "execute_result"
    }
   ],
   "source": [
    "f = open(\"findClump.txt\", \"r\")\n",
    "fc_input = f.read().split(\"\\n\")\n",
    "f.close()\n",
    "genome = fc_input[0]\n",
    "k = int(fc_input[1].split(\" \")[0])\n",
    "L = int(fc_input[1].split(\" \")[1])\n",
    "t = int(fc_input[1].split(\" \")[2])\n",
    "\" \".join(find_clump(genome, k, L, t))"
   ]
  },
  {
   "cell_type": "markdown",
   "id": "61f5056f-3196-4657-a658-10a29f87b94b",
   "metadata": {},
   "source": [
    "Very cool. But this thing won't work on the actual genome of *E. coli* with a runtime of O(n*L). It's much too slow! Let's re-write this function so that it has a more reasonable runtime. The key insight is that, when we shift a window by 1, we don't have to re-check the whole window. Rather than calling frequency_table again and again, we call it exactly once in the beginning. "
   ]
  },
  {
   "cell_type": "code",
   "execution_count": 20,
   "id": "3e8fa360-206b-4b8c-89e7-f2f8a7414be1",
   "metadata": {},
   "outputs": [],
   "source": [
    "def find_clump_faster(genome, k, L, t):\n",
    "    patterns = set()\n",
    "\n",
    "    # Loop 0\n",
    "    window = genome[0:L]\n",
    "    freq_map = frequency_table(window, k)\n",
    "    for pattern, freq in freq_map.items():\n",
    "        if freq >= t:\n",
    "            patterns.add(pattern)\n",
    "\n",
    "    # Loop 1 and on\n",
    "    for i in range(1, len(genome)-L+1):\n",
    "        previous_first_k_mer = genome[i-1:i+k-1]\n",
    "        window = genome[i:i+L]\n",
    "        current_last_k_mer = window[-k:]\n",
    "\n",
    "        freq_map[previous_first_k_mer] -= 1\n",
    "\n",
    "        if current_last_k_mer not in freq_map:\n",
    "            freq_map[current_last_k_mer] = 1\n",
    "        else:\n",
    "            freq_map[current_last_k_mer] += 1\n",
    "\n",
    "        if freq_map[current_last_k_mer] >= t:\n",
    "            patterns.add(current_last_k_mer)\n",
    "            \n",
    "    return patterns"
   ]
  },
  {
   "cell_type": "markdown",
   "id": "cf203931-058d-4255-893d-377bd4136001",
   "metadata": {},
   "source": [
    "How many (500, 3)-clump forming 9-mer sequences are there in the *E. coli* genome?"
   ]
  },
  {
   "cell_type": "code",
   "execution_count": 21,
   "id": "df819090-2f32-4010-ae65-5e935590f1e9",
   "metadata": {},
   "outputs": [],
   "source": [
    "f = open(\"E_coli.txt\", \"r\")\n",
    "e_coli_genome = f.read()\n",
    "f.close()"
   ]
  },
  {
   "cell_type": "code",
   "execution_count": 22,
   "id": "4cbe6744-c7a1-4597-8aff-a0dacf6f87a6",
   "metadata": {},
   "outputs": [
    {
     "name": "stdout",
     "output_type": "stream",
     "text": [
      "There are 1904 9-mers that form clumps\n"
     ]
    }
   ],
   "source": [
    "print(f\"There are {len(find_clump_faster(e_coli_genome, 9, 500, 3))} 9-mers that form clumps\")"
   ]
  },
  {
   "cell_type": "markdown",
   "id": "f0ad8c5a-fc3e-48a5-a49d-b360d98540a3",
   "metadata": {},
   "source": [
    "1904 is a lot of 9-mers, and it's unclear which of these might represent *DnaA* boxes in the *ori* region in the genome of *E. coli*. We'll have to keep looking harder..! "
   ]
  }
 ],
 "metadata": {
  "kernelspec": {
   "display_name": "Python 3 (ipykernel)",
   "language": "python",
   "name": "python3"
  },
  "language_info": {
   "codemirror_mode": {
    "name": "ipython",
    "version": 3
   },
   "file_extension": ".py",
   "mimetype": "text/x-python",
   "name": "python",
   "nbconvert_exporter": "python",
   "pygments_lexer": "ipython3",
   "version": "3.10.5"
  }
 },
 "nbformat": 4,
 "nbformat_minor": 5
}
