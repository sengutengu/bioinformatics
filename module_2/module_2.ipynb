{
 "cells": [
  {
   "cell_type": "markdown",
   "id": "7a87698f-6309-455b-aecb-cd81f54304b3",
   "metadata": {},
   "source": [
    "# Module 2 Quiz"
   ]
  },
  {
   "cell_type": "code",
   "execution_count": 1,
   "id": "e6d94221-53a2-4563-9252-90a035ba0a44",
   "metadata": {},
   "outputs": [],
   "source": [
    "def hamming(s1, s2):\n",
    "    \"\"\"\n",
    "    Find Hamming distance between two strings\n",
    "    \"\"\"\n",
    "    dist = 0\n",
    "    for i in range(len(s1)):\n",
    "        if s1[i] != s2[i]:\n",
    "            dist += 1\n",
    "    return dist"
   ]
  },
  {
   "cell_type": "code",
   "execution_count": 2,
   "id": "684d86ef-9cc2-4d71-87c1-37a2e8c6c8e7",
   "metadata": {},
   "outputs": [
    {
     "data": {
      "text/plain": [
       "43"
      ]
     },
     "execution_count": 2,
     "metadata": {},
     "output_type": "execute_result"
    }
   ],
   "source": [
    "s1 = \"CTTGAAGTGGACCTCTAGTTCCTCTACAAAGAACAGGTTGACCTGTCGCGAAG\"\n",
    "s2 = \"ATGCCTTACCTAGATGCAATGACGGACGTATTCCTTTTGCCTCAACGGCTCCT\"\n",
    "\n",
    "hamming(s1, s2)"
   ]
  },
  {
   "cell_type": "code",
   "execution_count": 4,
   "id": "9c7afb00-b461-40be-ac49-fadaed1cb68d",
   "metadata": {},
   "outputs": [],
   "source": [
    "def find_maximum_skew(string):\n",
    "    index = 0\n",
    "    skew = 0\n",
    "    maximum = 0\n",
    "    max_indices = []\n",
    "    for i in string:\n",
    "        if i == \"G\":\n",
    "            skew += 1\n",
    "        elif i == \"C\":\n",
    "            skew -= 1\n",
    "        index += 1\n",
    "        \n",
    "        if skew > maximum:\n",
    "            max_indices = []\n",
    "            max_indices.append(index)\n",
    "            maximum = skew\n",
    "        elif skew == maximum:\n",
    "            max_indices.append(index)\n",
    "    return max_indices "
   ]
  },
  {
   "cell_type": "code",
   "execution_count": 5,
   "id": "272f6cd3-1781-4dba-9f31-b69db918bacc",
   "metadata": {},
   "outputs": [
    {
     "data": {
      "text/plain": [
       "[28, 29]"
      ]
     },
     "execution_count": 5,
     "metadata": {},
     "output_type": "execute_result"
    }
   ],
   "source": [
    "string = \"CATTCCAGTACTTCATGATGGCGTGAAGA\"\n",
    "find_maximum_skew(string)"
   ]
  },
  {
   "cell_type": "code",
   "execution_count": 16,
   "id": "8c162c02-aed4-4c09-a183-b6f8ddf64514",
   "metadata": {},
   "outputs": [],
   "source": [
    "def maxmap(input_map):\n",
    "    \"\"\"\n",
    "    Returns the maximum value (not key) in a map.\n",
    "\n",
    "    Args:\n",
    "        input_map (dict): the map (type(value) == int)\n",
    "\n",
    "    Returns:\n",
    "        max_value (int): the maximum value.\n",
    "    \"\"\"\n",
    "    max_value = max(input_map.values())\n",
    "    return max_value\n",
    "\n",
    "def frequent_words_with_mismatches(text, k, d):\n",
    "    \"\"\"\n",
    "    text == text\n",
    "    k == length of k-mer\n",
    "    d == allowed number of mismatches\n",
    "    *** most frequent word does not have to be in the text itself\n",
    "    \"\"\"\n",
    "\n",
    "    patterns = []\n",
    "    freq_map = {}\n",
    "\n",
    "    n = len(text)\n",
    "\n",
    "    for i in range(n-k+1):\n",
    "        pattern = text[i:i+k]\n",
    "        neighborhood = neighbors(pattern, d)\n",
    "        for j in range(len(neighborhood)):\n",
    "            neighbor = neighborhood[j]\n",
    "            if neighbor not in freq_map.keys():\n",
    "                freq_map[neighbor] = 1\n",
    "            else:\n",
    "                freq_map[neighbor] += 1\n",
    "    m = maxmap(freq_map)\n",
    "    print(freq_map[\"AA\"])\n",
    "\n",
    "    for pattern, value in freq_map.items():\n",
    "        if value == m:\n",
    "            patterns.append(pattern)\n",
    "\n",
    "    return patterns"
   ]
  },
  {
   "cell_type": "code",
   "execution_count": 17,
   "id": "73b24bbb-1459-4d84-9c76-6c825ee39087",
   "metadata": {},
   "outputs": [
    {
     "name": "stdout",
     "output_type": "stream",
     "text": [
      "13\n"
     ]
    },
    {
     "data": {
      "text/plain": [
       "['AA']"
      ]
     },
     "execution_count": 17,
     "metadata": {},
     "output_type": "execute_result"
    }
   ],
   "source": [
    "frequent_words_with_mismatches(\"TACGCATTACAAAGCACA\", 2, 1)"
   ]
  },
  {
   "cell_type": "code",
   "execution_count": 7,
   "id": "e598b492-35f7-4ec0-a0b2-2787b1c3fa3d",
   "metadata": {},
   "outputs": [],
   "source": [
    "def neighbors(pattern, d):\n",
    "    # handle edge cases first\n",
    "    if d == 0:\n",
    "        return [pattern] # absolutely necessary to return list\n",
    "    if len(pattern) == 1:\n",
    "        return [\"A\", \"T\", \"G\", \"C\"]\n",
    "    neighborhood = []\n",
    "    suffix_neighbors = neighbors(pattern[1:], d)\n",
    "    for text in suffix_neighbors:\n",
    "        if hamming(pattern[1:], text) < d:\n",
    "            for nt in [\"A\", \"T\", \"G\", \"C\"]:\n",
    "                neighborhood.append(nt+text)\n",
    "        else:\n",
    "            neighborhood.append(pattern[0]+text)\n",
    "    return neighborhood"
   ]
  },
  {
   "cell_type": "code",
   "execution_count": 9,
   "id": "2dbbefa8-958c-40f8-88c4-84040a18db38",
   "metadata": {},
   "outputs": [
    {
     "data": {
      "text/plain": [
       "31"
      ]
     },
     "execution_count": 9,
     "metadata": {},
     "output_type": "execute_result"
    }
   ],
   "source": [
    "len(neighbors(\"CCAGTCAATG\", 1))"
   ]
  }
 ],
 "metadata": {
  "kernelspec": {
   "display_name": "Python 3 (ipykernel)",
   "language": "python",
   "name": "python3"
  },
  "language_info": {
   "codemirror_mode": {
    "name": "ipython",
    "version": 3
   },
   "file_extension": ".py",
   "mimetype": "text/x-python",
   "name": "python",
   "nbconvert_exporter": "python",
   "pygments_lexer": "ipython3",
   "version": "3.12.5"
  }
 },
 "nbformat": 4,
 "nbformat_minor": 5
}
