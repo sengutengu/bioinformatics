{
 "cells": [
  {
   "cell_type": "code",
   "execution_count": 1,
   "id": "40604fca-cb98-466d-a1e2-6f5208bd0bea",
   "metadata": {},
   "outputs": [],
   "source": [
    "def swap1(x,y) :\n",
    "    x=y\n",
    "    y=x\n",
    "    return(x,y)\n",
    "\n",
    "def swap2(x,y) :\n",
    "    return(y,x)\n",
    "\n",
    "def swap3(x,y) :\n",
    "    z=x\n",
    "    x=y\n",
    "    y=z\n",
    "    return(x,y)\n",
    "\n",
    "def swap4(x,y) :\n",
    "    x,y=y,x\n",
    "    return(x,y)"
   ]
  },
  {
   "cell_type": "code",
   "execution_count": 2,
   "id": "86b18bdc-2e53-451c-9ebf-2575562d0dff",
   "metadata": {},
   "outputs": [
    {
     "data": {
      "text/plain": [
       "(2, 1)"
      ]
     },
     "execution_count": 2,
     "metadata": {},
     "output_type": "execute_result"
    }
   ],
   "source": [
    "x = 1\n",
    "y = 2\n",
    "swap4(x, y)"
   ]
  },
  {
   "cell_type": "code",
   "execution_count": 3,
   "id": "b981021b-8fae-4e12-b3f6-1b01b158ea47",
   "metadata": {},
   "outputs": [],
   "source": [
    "def f1(x):\n",
    "    if (x > 0):\n",
    "        x = 3*x \n",
    "        x = x / 2\n",
    "    return x\n",
    "\n",
    "def f2(x):\n",
    "    if (x > 0):\n",
    "        x = 3*x\n",
    "    x = x / 2\n",
    "    return x"
   ]
  },
  {
   "cell_type": "code",
   "execution_count": 4,
   "id": "53fe8adf-867e-40e4-94bc-f08eb2c3f4d3",
   "metadata": {},
   "outputs": [
    {
     "data": {
      "text/plain": [
       "4.5"
      ]
     },
     "execution_count": 4,
     "metadata": {},
     "output_type": "execute_result"
    }
   ],
   "source": [
    "f1(3)"
   ]
  },
  {
   "cell_type": "code",
   "execution_count": 5,
   "id": "ee734196-193b-41e7-9fe9-7518239a1715",
   "metadata": {},
   "outputs": [
    {
     "data": {
      "text/plain": [
       "4.5"
      ]
     },
     "execution_count": 5,
     "metadata": {},
     "output_type": "execute_result"
    }
   ],
   "source": [
    "f2(3)"
   ]
  },
  {
   "cell_type": "code",
   "execution_count": 6,
   "id": "9a688c2f-6e48-457d-bb5c-870a4d3ed16e",
   "metadata": {},
   "outputs": [],
   "source": [
    "def function1(length):\n",
    "    if length > 0:\n",
    "        print(length)\n",
    "        function1(length - 1)\n",
    "def function2(length):\n",
    "    while length > 0:\n",
    "        print(length)\n",
    "        function2(length - 1)"
   ]
  },
  {
   "cell_type": "code",
   "execution_count": 7,
   "id": "211219dd-94a5-4553-b05c-28faa8d4956b",
   "metadata": {},
   "outputs": [],
   "source": [
    "def compute(n,x,y) :\n",
    "    if n==0 : return x\n",
    "    return compute(n-1,x+y,y)"
   ]
  },
  {
   "cell_type": "code",
   "execution_count": 8,
   "id": "09403b92-0b9d-4f52-ae92-d46ecece88ef",
   "metadata": {},
   "outputs": [
    {
     "data": {
      "text/plain": [
       "14"
      ]
     },
     "execution_count": 8,
     "metadata": {},
     "output_type": "execute_result"
    }
   ],
   "source": [
    "compute(2, 4, 5)"
   ]
  },
  {
   "cell_type": "code",
   "execution_count": 4,
   "id": "ca373cc0-0bc4-4ab7-bedd-56ece7e20097",
   "metadata": {},
   "outputs": [],
   "source": [
    "def afunction(a1 = 1, a2 = 2, a3 = 3):\n",
    "    a2 = 3\n",
    "    return(a1*a2)"
   ]
  },
  {
   "cell_type": "code",
   "execution_count": null,
   "id": "cb41a440-23c9-4ddc-b29f-3bbd0b15a028",
   "metadata": {},
   "outputs": [],
   "source": []
  },
  {
   "cell_type": "code",
   "execution_count": 8,
   "id": "ce6bab44-a211-4921-afca-713c3dad11c4",
   "metadata": {},
   "outputs": [
    {
     "ename": "AttributeError",
     "evalue": "module 'sys' has no attribute '__version__'",
     "output_type": "error",
     "traceback": [
      "\u001b[1;31m----------------------------------------------------------------\u001b[0m",
      "\u001b[1;31mAttributeError\u001b[0m                 Traceback (most recent call last)",
      "Cell \u001b[1;32mIn[8], line 2\u001b[0m\n\u001b[0;32m      1\u001b[0m \u001b[38;5;28;01mimport\u001b[39;00m \u001b[38;5;21;01msys\u001b[39;00m\n\u001b[1;32m----> 2\u001b[0m \u001b[38;5;28mprint\u001b[39m(\u001b[43msys\u001b[49m\u001b[38;5;241;43m.\u001b[39;49m\u001b[43m__version__\u001b[49m)\n",
      "\u001b[1;31mAttributeError\u001b[0m: module 'sys' has no attribute '__version__'"
     ]
    }
   ],
   "source": [
    "import sys\n",
    "print(sys.__version__)"
   ]
  },
  {
   "cell_type": "code",
   "execution_count": 19,
   "id": "1e9fb87d-bf00-48f3-877c-f8a3e2a4c167",
   "metadata": {},
   "outputs": [
    {
     "name": "stdout",
     "output_type": "stream",
     "text": [
      "1000000\n"
     ]
    }
   ],
   "source": [
    "import random\n",
    "def create_dna(n, alphabet='ACGT'):\n",
    "    return ''.join([random.choice(alphabet) for i in range(n)])\n",
    "dna = create_dna(1000000)\n",
    "print(len(dna))"
   ]
  },
  {
   "cell_type": "code",
   "execution_count": 12,
   "id": "70f89bb5-1670-4633-a671-8115d8435d98",
   "metadata": {},
   "outputs": [],
   "source": [
    "def count1(dna, base):\n",
    "    i = 0\n",
    "    for c in dna:\n",
    "        if c == base:\n",
    "    \t    i += 1 \n",
    "    return i\n",
    "\n",
    "def count2(dna, base):\n",
    "    i = 0 \n",
    "    for j in range(len(dna)):\n",
    "        if dna[j] == base:\n",
    "    \t    i += 1 \n",
    "    return i \n",
    "\n",
    "def count3(dna, base):\n",
    "    match = [c == base for c in dna]\n",
    "    return sum(match)\n",
    "\n",
    "def count4(dna, base):\n",
    "    return dna.count(base)\n",
    "\n",
    "def count5(dna, base):\n",
    "    return len([i for i in range(len(dna)) if dna[i] == base])\n",
    "\n",
    "def count6(dna,base):\n",
    "    return sum(c == base for c in dna)"
   ]
  },
  {
   "cell_type": "code",
   "execution_count": 20,
   "id": "fb32ef7f-4741-4b32-a174-07aad68e7d33",
   "metadata": {},
   "outputs": [],
   "source": [
    "dna = create_dna(1000000)"
   ]
  },
  {
   "cell_type": "code",
   "execution_count": 21,
   "id": "b4413b98-ccf6-400a-aa38-45a697031cb6",
   "metadata": {},
   "outputs": [
    {
     "data": {
      "text/plain": [
       "250070"
      ]
     },
     "execution_count": 21,
     "metadata": {},
     "output_type": "execute_result"
    }
   ],
   "source": [
    "base = \"C\"\n",
    "count6(dna, base)"
   ]
  },
  {
   "cell_type": "code",
   "execution_count": 29,
   "id": "71dc4719-2a0e-4269-b8c6-ee63daa554bb",
   "metadata": {},
   "outputs": [
    {
     "name": "stdout",
     "output_type": "stream",
     "text": [
      "0.002991914749145508\n"
     ]
    }
   ],
   "source": [
    "import time\n",
    "start_time = time.time()\n",
    "count4(dna, base)\n",
    "end_time = time.time()\n",
    "elapsed_time = end_time - start_time\n",
    "print(elapsed_time)"
   ]
  },
  {
   "cell_type": "code",
   "execution_count": 31,
   "id": "3bebfc0b-bfd9-4b39-a21e-119fe3d7e066",
   "metadata": {},
   "outputs": [
    {
     "data": {
      "text/plain": [
       "['_STRUCT_TM_ITEMS',\n",
       " '__doc__',\n",
       " '__loader__',\n",
       " '__name__',\n",
       " '__package__',\n",
       " '__spec__',\n",
       " 'altzone',\n",
       " 'asctime',\n",
       " 'ctime',\n",
       " 'daylight',\n",
       " 'get_clock_info',\n",
       " 'gmtime',\n",
       " 'localtime',\n",
       " 'mktime',\n",
       " 'monotonic',\n",
       " 'monotonic_ns',\n",
       " 'perf_counter',\n",
       " 'perf_counter_ns',\n",
       " 'process_time',\n",
       " 'process_time_ns',\n",
       " 'sleep',\n",
       " 'strftime',\n",
       " 'strptime',\n",
       " 'struct_time',\n",
       " 'thread_time',\n",
       " 'thread_time_ns',\n",
       " 'time',\n",
       " 'time_ns',\n",
       " 'timezone',\n",
       " 'tzname']"
      ]
     },
     "execution_count": 31,
     "metadata": {},
     "output_type": "execute_result"
    }
   ],
   "source": [
    "dir(time)"
   ]
  },
  {
   "cell_type": "code",
   "execution_count": 32,
   "id": "54d4802b-83e4-439f-bb39-8bc786b0fa61",
   "metadata": {},
   "outputs": [
    {
     "name": "stdout",
     "output_type": "stream",
     "text": [
      "Ope\n"
     ]
    }
   ],
   "source": [
    "try:\n",
    "    f = open(\"filename.txt\", \"r\")\n",
    "except IOError:\n",
    "    print(\"Ope\")\n",
    "    "
   ]
  },
  {
   "cell_type": "markdown",
   "id": "89b32911-a417-4300-be29-8e88c51d411a",
   "metadata": {},
   "source": [
    "Something quite neat is that, once you read through a file, if you do f.read() again, nothing prints.\n",
    "You have to go to the first line in the file again by doing f.seek(0). Then you can also do f.readline() to read each line.\n"
   ]
  },
  {
   "cell_type": "markdown",
   "id": "f6aa584d-55b3-4675-ad98-5fcc6ae44d03",
   "metadata": {},
   "source": [
    "OK, we can put in arguments with the command line. "
   ]
  },
  {
   "cell_type": "code",
   "execution_count": 43,
   "id": "7372f39e-69bf-4dae-a24c-3cd088ba892c",
   "metadata": {},
   "outputs": [
    {
     "name": "stdout",
     "output_type": "stream",
     "text": [
      "['C:\\\\Users\\\\kimcog\\\\AppData\\\\Roaming\\\\Python\\\\Python310\\\\site-packages\\\\ipykernel_launcher.py', '-f', 'C:\\\\Users\\\\kimcog\\\\AppData\\\\Roaming\\\\jupyter\\\\runtime\\\\kernel-06301162-7331-4673-a0a6-1c601ba01aa9.json']\n"
     ]
    },
    {
     "ename": "GetoptError",
     "evalue": "option -f not recognized",
     "output_type": "error",
     "traceback": [
      "\u001b[1;31m----------------------------------------------------------------\u001b[0m",
      "\u001b[1;31mGetoptError\u001b[0m                    Traceback (most recent call last)",
      "Cell \u001b[1;32mIn[43], line 21\u001b[0m\n\u001b[0;32m     19\u001b[0m \u001b[38;5;28mprint\u001b[39m(sys\u001b[38;5;241m.\u001b[39margv)\n\u001b[0;32m     20\u001b[0m \u001b[38;5;66;03m# o is optional args, a is required args\u001b[39;00m\n\u001b[1;32m---> 21\u001b[0m o, a \u001b[38;5;241m=\u001b[39m \u001b[43mgetopt\u001b[49m\u001b[38;5;241;43m.\u001b[39;49m\u001b[43mgetopt\u001b[49m\u001b[43m(\u001b[49m\u001b[43msys\u001b[49m\u001b[38;5;241;43m.\u001b[39;49m\u001b[43margv\u001b[49m\u001b[43m[\u001b[49m\u001b[38;5;241;43m1\u001b[39;49m\u001b[43m:\u001b[49m\u001b[43m]\u001b[49m\u001b[43m,\u001b[49m\u001b[43m \u001b[49m\u001b[38;5;124;43m'\u001b[39;49m\u001b[38;5;124;43ml:\u001b[39;49m\u001b[38;5;124;43m'\u001b[39;49m\u001b[43m)\u001b[49m \u001b[38;5;66;03m#l: means it must be filled.\u001b[39;00m\n\u001b[0;32m     22\u001b[0m opts \u001b[38;5;241m=\u001b[39m {}\n\u001b[0;32m     23\u001b[0m seqlen \u001b[38;5;241m=\u001b[39m \u001b[38;5;241m0\u001b[39m\n",
      "File \u001b[1;32mC:\\Python310\\lib\\getopt.py:95\u001b[0m, in \u001b[0;36mgetopt\u001b[1;34m(args, shortopts, longopts)\u001b[0m\n\u001b[0;32m     93\u001b[0m         opts, args \u001b[38;5;241m=\u001b[39m do_longs(opts, args[\u001b[38;5;241m0\u001b[39m][\u001b[38;5;241m2\u001b[39m:], longopts, args[\u001b[38;5;241m1\u001b[39m:])\n\u001b[0;32m     94\u001b[0m     \u001b[38;5;28;01melse\u001b[39;00m:\n\u001b[1;32m---> 95\u001b[0m         opts, args \u001b[38;5;241m=\u001b[39m \u001b[43mdo_shorts\u001b[49m\u001b[43m(\u001b[49m\u001b[43mopts\u001b[49m\u001b[43m,\u001b[49m\u001b[43m \u001b[49m\u001b[43margs\u001b[49m\u001b[43m[\u001b[49m\u001b[38;5;241;43m0\u001b[39;49m\u001b[43m]\u001b[49m\u001b[43m[\u001b[49m\u001b[38;5;241;43m1\u001b[39;49m\u001b[43m:\u001b[49m\u001b[43m]\u001b[49m\u001b[43m,\u001b[49m\u001b[43m \u001b[49m\u001b[43mshortopts\u001b[49m\u001b[43m,\u001b[49m\u001b[43m \u001b[49m\u001b[43margs\u001b[49m\u001b[43m[\u001b[49m\u001b[38;5;241;43m1\u001b[39;49m\u001b[43m:\u001b[49m\u001b[43m]\u001b[49m\u001b[43m)\u001b[49m\n\u001b[0;32m     97\u001b[0m \u001b[38;5;28;01mreturn\u001b[39;00m opts, args\n",
      "File \u001b[1;32mC:\\Python310\\lib\\getopt.py:195\u001b[0m, in \u001b[0;36mdo_shorts\u001b[1;34m(opts, optstring, shortopts, args)\u001b[0m\n\u001b[0;32m    193\u001b[0m \u001b[38;5;28;01mwhile\u001b[39;00m optstring \u001b[38;5;241m!=\u001b[39m \u001b[38;5;124m'\u001b[39m\u001b[38;5;124m'\u001b[39m:\n\u001b[0;32m    194\u001b[0m     opt, optstring \u001b[38;5;241m=\u001b[39m optstring[\u001b[38;5;241m0\u001b[39m], optstring[\u001b[38;5;241m1\u001b[39m:]\n\u001b[1;32m--> 195\u001b[0m     \u001b[38;5;28;01mif\u001b[39;00m \u001b[43mshort_has_arg\u001b[49m\u001b[43m(\u001b[49m\u001b[43mopt\u001b[49m\u001b[43m,\u001b[49m\u001b[43m \u001b[49m\u001b[43mshortopts\u001b[49m\u001b[43m)\u001b[49m:\n\u001b[0;32m    196\u001b[0m         \u001b[38;5;28;01mif\u001b[39;00m optstring \u001b[38;5;241m==\u001b[39m \u001b[38;5;124m'\u001b[39m\u001b[38;5;124m'\u001b[39m:\n\u001b[0;32m    197\u001b[0m             \u001b[38;5;28;01mif\u001b[39;00m \u001b[38;5;129;01mnot\u001b[39;00m args:\n",
      "File \u001b[1;32mC:\\Python310\\lib\\getopt.py:211\u001b[0m, in \u001b[0;36mshort_has_arg\u001b[1;34m(opt, shortopts)\u001b[0m\n\u001b[0;32m    209\u001b[0m     \u001b[38;5;28;01mif\u001b[39;00m opt \u001b[38;5;241m==\u001b[39m shortopts[i] \u001b[38;5;241m!=\u001b[39m \u001b[38;5;124m'\u001b[39m\u001b[38;5;124m:\u001b[39m\u001b[38;5;124m'\u001b[39m:\n\u001b[0;32m    210\u001b[0m         \u001b[38;5;28;01mreturn\u001b[39;00m shortopts\u001b[38;5;241m.\u001b[39mstartswith(\u001b[38;5;124m'\u001b[39m\u001b[38;5;124m:\u001b[39m\u001b[38;5;124m'\u001b[39m, i\u001b[38;5;241m+\u001b[39m\u001b[38;5;241m1\u001b[39m)\n\u001b[1;32m--> 211\u001b[0m \u001b[38;5;28;01mraise\u001b[39;00m GetoptError(_(\u001b[38;5;124m'\u001b[39m\u001b[38;5;124moption -\u001b[39m\u001b[38;5;132;01m%s\u001b[39;00m\u001b[38;5;124m not recognized\u001b[39m\u001b[38;5;124m'\u001b[39m) \u001b[38;5;241m%\u001b[39m opt, opt)\n",
      "\u001b[1;31mGetoptError\u001b[0m: option -f not recognized"
     ]
    }
   ],
   "source": [
    "#!/usr/bin/python\n",
    "\"\"\"\n",
    "Builds a dictionary of sequences from a FASTA file.\n",
    "\"\"\"\n",
    "import sys\n",
    "import getopt # a lot of command line functionality\n",
    "\n",
    "def usage():\n",
    "    print(\"\"\"\n",
    "    processfasta.py : reads a FASTA file and builds a dictionary with all sequences bigger than a given length\n",
    "    \n",
    "    processfasta.py [-h] [-l <length>] <filename>\n",
    "    \n",
    "    -h             print this message\n",
    "    -l <length>    filter all sequences with a length smaller than <length> (default <length>=0\n",
    "    <filename>     the file must be in FASTA format\n",
    "    \"\"\")\n",
    "\n",
    "print(sys.argv)\n",
    "# o is optional args, a is required args\n",
    "o, a = getopt.getopt(sys.argv[1:], 'l:') #l: means it must be filled.\n",
    "opts = {}\n",
    "seqlen = 0\n",
    "\n",
    "for k, v in o:\n",
    "    opts[k] = v\n",
    "\n",
    "if '-h' in opts.keys():\n",
    "    usage(); sys.exit()\n",
    "if len(a) < 1:\n",
    "    usage(); sys.exit()\n",
    "if '-l' in ops.keys():\n",
    "    if int(opts['1'])<0:\n",
    "        print(\"Length of sequence should be positive!\"); sys.exit(0)\n",
    "    seqlen=opts['-l']\n",
    "    \n",
    "filename = sys.argv[1]\n",
    "\n",
    "try:\n",
    "    f = open(filename)\n",
    "except IOError:\n",
    "    print(f'File {filename} does not exist')"
   ]
  },
  {
   "cell_type": "code",
   "execution_count": 36,
   "id": "e549bac3-dc5f-489d-b08b-5e84785200c8",
   "metadata": {},
   "outputs": [
    {
     "name": "stdout",
     "output_type": "stream",
     "text": [
      "['processfasta.py', 'myfile.fa']\n"
     ]
    }
   ],
   "source": [
    "! python processfasta.py myfile.fa"
   ]
  },
  {
   "cell_type": "code",
   "execution_count": null,
   "id": "7ff9004d-6a83-479d-95ff-548b5e7de173",
   "metadata": {},
   "outputs": [],
   "source": []
  },
  {
   "cell_type": "code",
   "execution_count": 37,
   "id": "12246a02-58e3-472f-9830-235a463e34d7",
   "metadata": {},
   "outputs": [],
   "source": [
    "! processfasta.py -l 250 myfile.fa"
   ]
  },
  {
   "cell_type": "code",
   "execution_count": 44,
   "id": "eab8af81-c3ac-49c3-98da-f0297ada0a07",
   "metadata": {},
   "outputs": [],
   "source": [
    "def get_extension1(filename):\n",
    "    return(filename.split(\".\")[-1])"
   ]
  },
  {
   "cell_type": "code",
   "execution_count": 45,
   "id": "6d13695e-0234-4c25-bc2d-8c9cd57e8021",
   "metadata": {},
   "outputs": [
    {
     "data": {
      "text/plain": [
       "'myfile'"
      ]
     },
     "execution_count": 45,
     "metadata": {},
     "output_type": "execute_result"
    }
   ],
   "source": [
    "get_extension1(\"myfile\")"
   ]
  },
  {
   "cell_type": "code",
   "execution_count": 46,
   "id": "88e6f379-7052-4534-9e64-fb556c50d28c",
   "metadata": {},
   "outputs": [],
   "source": [
    "def get_extension2(filename):\n",
    "    import os.path\n",
    "    return(os.path.splitext(filename)[1])"
   ]
  },
  {
   "cell_type": "code",
   "execution_count": 48,
   "id": "d1d7fac3-80cf-4f97-b515-4381eb9f4b3c",
   "metadata": {},
   "outputs": [
    {
     "data": {
      "text/plain": [
       "'.gz'"
      ]
     },
     "execution_count": 48,
     "metadata": {},
     "output_type": "execute_result"
    }
   ],
   "source": [
    "get_extension2(\"myfile.tar.gz\")"
   ]
  },
  {
   "cell_type": "code",
   "execution_count": 49,
   "id": "bc81418a-0e03-4eef-bbf0-7fd404d7b7d8",
   "metadata": {},
   "outputs": [],
   "source": [
    "def get_extension3(filename):\n",
    "    return filename[filename.rfind('.'):][1:]"
   ]
  },
  {
   "cell_type": "code",
   "execution_count": 54,
   "id": "19c3cc88-c6d7-49ea-938b-b31d9afb596e",
   "metadata": {},
   "outputs": [
    {
     "data": {
      "text/plain": [
       "''"
      ]
     },
     "execution_count": 54,
     "metadata": {},
     "output_type": "execute_result"
    }
   ],
   "source": [
    "get_extension3(\"myfile\")"
   ]
  },
  {
   "cell_type": "markdown",
   "id": "785c30fa-09c6-4132-8883-5dc4f8032b5c",
   "metadata": {},
   "source": [
    "A student launches the Python interpreter from his home directory. His home directory contains another directory called 'mydir',  and 'mydir' contains two files called 'foo' and 'bar'. The home directory does not contain any files, only other directories.  What will happen when he writes the following code at the Python prompt:\n",
    "```\n",
    ">>> import os\n",
    ">>> filenames = os.listdir('mydir')\n",
    ">>> f= open(filenames[0])\n",
    "```"
   ]
  },
  {
   "cell_type": "code",
   "execution_count": 55,
   "id": "3606864f-573a-48b9-a4d0-8fb8e309e29b",
   "metadata": {},
   "outputs": [
    {
     "name": "stdout",
     "output_type": "stream",
     "text": [
      "['bar.py', 'foo.py']\n"
     ]
    }
   ],
   "source": [
    "import os\n",
    "filenames = os.listdir('mydir')\n",
    "print(filenames)"
   ]
  },
  {
   "cell_type": "code",
   "execution_count": 56,
   "id": "af31de4f-fc79-4f29-86c3-db2106b0444a",
   "metadata": {},
   "outputs": [
    {
     "ename": "FileNotFoundError",
     "evalue": "[Errno 2] No such file or directory: 'bar.py'",
     "output_type": "error",
     "traceback": [
      "\u001b[1;31m----------------------------------------------------------------\u001b[0m",
      "\u001b[1;31mFileNotFoundError\u001b[0m              Traceback (most recent call last)",
      "Cell \u001b[1;32mIn[56], line 1\u001b[0m\n\u001b[1;32m----> 1\u001b[0m f \u001b[38;5;241m=\u001b[39m \u001b[38;5;28;43mopen\u001b[39;49m\u001b[43m(\u001b[49m\u001b[43mfilenames\u001b[49m\u001b[43m[\u001b[49m\u001b[38;5;241;43m0\u001b[39;49m\u001b[43m]\u001b[49m\u001b[43m)\u001b[49m\n",
      "File \u001b[1;32m~\\AppData\\Roaming\\Python\\Python310\\site-packages\\IPython\\core\\interactiveshell.py:324\u001b[0m, in \u001b[0;36m_modified_open\u001b[1;34m(file, *args, **kwargs)\u001b[0m\n\u001b[0;32m    317\u001b[0m \u001b[38;5;28;01mif\u001b[39;00m file \u001b[38;5;129;01min\u001b[39;00m {\u001b[38;5;241m0\u001b[39m, \u001b[38;5;241m1\u001b[39m, \u001b[38;5;241m2\u001b[39m}:\n\u001b[0;32m    318\u001b[0m     \u001b[38;5;28;01mraise\u001b[39;00m \u001b[38;5;167;01mValueError\u001b[39;00m(\n\u001b[0;32m    319\u001b[0m         \u001b[38;5;124mf\u001b[39m\u001b[38;5;124m\"\u001b[39m\u001b[38;5;124mIPython won\u001b[39m\u001b[38;5;124m'\u001b[39m\u001b[38;5;124mt let you open fd=\u001b[39m\u001b[38;5;132;01m{\u001b[39;00mfile\u001b[38;5;132;01m}\u001b[39;00m\u001b[38;5;124m by default \u001b[39m\u001b[38;5;124m\"\u001b[39m\n\u001b[0;32m    320\u001b[0m         \u001b[38;5;124m\"\u001b[39m\u001b[38;5;124mas it is likely to crash IPython. If you know what you are doing, \u001b[39m\u001b[38;5;124m\"\u001b[39m\n\u001b[0;32m    321\u001b[0m         \u001b[38;5;124m\"\u001b[39m\u001b[38;5;124myou can use builtins\u001b[39m\u001b[38;5;124m'\u001b[39m\u001b[38;5;124m open.\u001b[39m\u001b[38;5;124m\"\u001b[39m\n\u001b[0;32m    322\u001b[0m     )\n\u001b[1;32m--> 324\u001b[0m \u001b[38;5;28;01mreturn\u001b[39;00m io_open(file, \u001b[38;5;241m*\u001b[39margs, \u001b[38;5;241m*\u001b[39m\u001b[38;5;241m*\u001b[39mkwargs)\n",
      "\u001b[1;31mFileNotFoundError\u001b[0m: [Errno 2] No such file or directory: 'bar.py'"
     ]
    }
   ],
   "source": [
    "f = open(filenames[0])"
   ]
  },
  {
   "cell_type": "code",
   "execution_count": null,
   "id": "9e274f7a-d8a8-4bd0-9eda-d1605feab322",
   "metadata": {},
   "outputs": [],
   "source": []
  }
 ],
 "metadata": {
  "kernelspec": {
   "display_name": "Python 3 (ipykernel)",
   "language": "python",
   "name": "python3"
  },
  "language_info": {
   "codemirror_mode": {
    "name": "ipython",
    "version": 3
   },
   "file_extension": ".py",
   "mimetype": "text/x-python",
   "name": "python",
   "nbconvert_exporter": "python",
   "pygments_lexer": "ipython3",
   "version": "3.10.5"
  }
 },
 "nbformat": 4,
 "nbformat_minor": 5
}
