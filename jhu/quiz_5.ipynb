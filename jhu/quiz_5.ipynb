{
 "cells": [
  {
   "cell_type": "code",
   "execution_count": 1,
   "id": "40604fca-cb98-466d-a1e2-6f5208bd0bea",
   "metadata": {},
   "outputs": [],
   "source": [
    "def swap1(x,y) :\n",
    "    x=y\n",
    "    y=x\n",
    "    return(x,y)\n",
    "\n",
    "def swap2(x,y) :\n",
    "    return(y,x)\n",
    "\n",
    "def swap3(x,y) :\n",
    "    z=x\n",
    "    x=y\n",
    "    y=z\n",
    "    return(x,y)\n",
    "\n",
    "def swap4(x,y) :\n",
    "    x,y=y,x\n",
    "    return(x,y)"
   ]
  },
  {
   "cell_type": "code",
   "execution_count": 2,
   "id": "86b18bdc-2e53-451c-9ebf-2575562d0dff",
   "metadata": {},
   "outputs": [
    {
     "data": {
      "text/plain": [
       "(2, 1)"
      ]
     },
     "execution_count": 2,
     "metadata": {},
     "output_type": "execute_result"
    }
   ],
   "source": [
    "x = 1\n",
    "y = 2\n",
    "swap4(x, y)"
   ]
  },
  {
   "cell_type": "code",
   "execution_count": 3,
   "id": "b981021b-8fae-4e12-b3f6-1b01b158ea47",
   "metadata": {},
   "outputs": [],
   "source": [
    "def f1(x):\n",
    "    if (x > 0):\n",
    "        x = 3*x \n",
    "        x = x / 2\n",
    "    return x\n",
    "\n",
    "def f2(x):\n",
    "    if (x > 0):\n",
    "        x = 3*x\n",
    "    x = x / 2\n",
    "    return x"
   ]
  },
  {
   "cell_type": "code",
   "execution_count": 4,
   "id": "53fe8adf-867e-40e4-94bc-f08eb2c3f4d3",
   "metadata": {},
   "outputs": [
    {
     "data": {
      "text/plain": [
       "4.5"
      ]
     },
     "execution_count": 4,
     "metadata": {},
     "output_type": "execute_result"
    }
   ],
   "source": [
    "f1(3)"
   ]
  },
  {
   "cell_type": "code",
   "execution_count": 5,
   "id": "ee734196-193b-41e7-9fe9-7518239a1715",
   "metadata": {},
   "outputs": [
    {
     "data": {
      "text/plain": [
       "4.5"
      ]
     },
     "execution_count": 5,
     "metadata": {},
     "output_type": "execute_result"
    }
   ],
   "source": [
    "f2(3)"
   ]
  },
  {
   "cell_type": "code",
   "execution_count": 6,
   "id": "9a688c2f-6e48-457d-bb5c-870a4d3ed16e",
   "metadata": {},
   "outputs": [],
   "source": [
    "def function1(length):\n",
    "    if length > 0:\n",
    "        print(length)\n",
    "        function1(length - 1)\n",
    "def function2(length):\n",
    "    while length > 0:\n",
    "        print(length)\n",
    "        function2(length - 1)"
   ]
  },
  {
   "cell_type": "code",
   "execution_count": 7,
   "id": "211219dd-94a5-4553-b05c-28faa8d4956b",
   "metadata": {},
   "outputs": [],
   "source": [
    "def compute(n,x,y) :\n",
    "    if n==0 : return x\n",
    "    return compute(n-1,x+y,y)"
   ]
  },
  {
   "cell_type": "code",
   "execution_count": 8,
   "id": "09403b92-0b9d-4f52-ae92-d46ecece88ef",
   "metadata": {},
   "outputs": [
    {
     "data": {
      "text/plain": [
       "14"
      ]
     },
     "execution_count": 8,
     "metadata": {},
     "output_type": "execute_result"
    }
   ],
   "source": [
    "compute(2, 4, 5)"
   ]
  },
  {
   "cell_type": "code",
   "execution_count": 9,
   "id": "ca373cc0-0bc4-4ab7-bedd-56ece7e20097",
   "metadata": {},
   "outputs": [],
   "source": [
    "def afunction(a1 = 1, a2 = 2, a3 = 3):\n",
    "    a2 = 3\n",
    "    return(a1*a2)"
   ]
  },
  {
   "cell_type": "code",
   "execution_count": null,
   "id": "cb41a440-23c9-4ddc-b29f-3bbd0b15a028",
   "metadata": {},
   "outputs": [],
   "source": []
  },
  {
   "cell_type": "code",
   "execution_count": 10,
   "id": "1e9fb87d-bf00-48f3-877c-f8a3e2a4c167",
   "metadata": {},
   "outputs": [
    {
     "name": "stdout",
     "output_type": "stream",
     "text": [
      "1000000\n"
     ]
    }
   ],
   "source": [
    "import random\n",
    "def create_dna(n, alphabet='ACGT'):\n",
    "    return ''.join([random.choice(alphabet) for i in range(n)])\n",
    "dna = create_dna(1000000)\n",
    "print(len(dna))"
   ]
  },
  {
   "cell_type": "code",
   "execution_count": 11,
   "id": "70f89bb5-1670-4633-a671-8115d8435d98",
   "metadata": {},
   "outputs": [],
   "source": [
    "def count1(dna, base):\n",
    "    i = 0\n",
    "    for c in dna:\n",
    "        if c == base:\n",
    "    \t    i += 1 \n",
    "    return i\n",
    "\n",
    "def count2(dna, base):\n",
    "    i = 0 \n",
    "    for j in range(len(dna)):\n",
    "        if dna[j] == base:\n",
    "    \t    i += 1 \n",
    "    return i \n",
    "\n",
    "def count3(dna, base):\n",
    "    match = [c == base for c in dna]\n",
    "    return sum(match)\n",
    "\n",
    "def count4(dna, base):\n",
    "    return dna.count(base)\n",
    "\n",
    "def count5(dna, base):\n",
    "    return len([i for i in range(len(dna)) if dna[i] == base])\n",
    "\n",
    "def count6(dna,base):\n",
    "    return sum(c == base for c in dna)"
   ]
  },
  {
   "cell_type": "code",
   "execution_count": 12,
   "id": "fb32ef7f-4741-4b32-a174-07aad68e7d33",
   "metadata": {},
   "outputs": [],
   "source": [
    "dna = create_dna(1000000)"
   ]
  },
  {
   "cell_type": "code",
   "execution_count": 13,
   "id": "b4413b98-ccf6-400a-aa38-45a697031cb6",
   "metadata": {},
   "outputs": [
    {
     "data": {
      "text/plain": [
       "249622"
      ]
     },
     "execution_count": 13,
     "metadata": {},
     "output_type": "execute_result"
    }
   ],
   "source": [
    "base = \"C\"\n",
    "count6(dna, base)"
   ]
  },
  {
   "cell_type": "code",
   "execution_count": 14,
   "id": "71dc4719-2a0e-4269-b8c6-ee63daa554bb",
   "metadata": {},
   "outputs": [
    {
     "name": "stdout",
     "output_type": "stream",
     "text": [
      "0.0019905567169189453\n"
     ]
    }
   ],
   "source": [
    "import time\n",
    "start_time = time.time()\n",
    "count4(dna, base)\n",
    "end_time = time.time()\n",
    "elapsed_time = end_time - start_time\n",
    "print(elapsed_time)"
   ]
  },
  {
   "cell_type": "code",
   "execution_count": 15,
   "id": "3bebfc0b-bfd9-4b39-a21e-119fe3d7e066",
   "metadata": {},
   "outputs": [
    {
     "data": {
      "text/plain": [
       "['_STRUCT_TM_ITEMS',\n",
       " '__doc__',\n",
       " '__loader__',\n",
       " '__name__',\n",
       " '__package__',\n",
       " '__spec__',\n",
       " 'altzone',\n",
       " 'asctime',\n",
       " 'ctime',\n",
       " 'daylight',\n",
       " 'get_clock_info',\n",
       " 'gmtime',\n",
       " 'localtime',\n",
       " 'mktime',\n",
       " 'monotonic',\n",
       " 'monotonic_ns',\n",
       " 'perf_counter',\n",
       " 'perf_counter_ns',\n",
       " 'process_time',\n",
       " 'process_time_ns',\n",
       " 'sleep',\n",
       " 'strftime',\n",
       " 'strptime',\n",
       " 'struct_time',\n",
       " 'thread_time',\n",
       " 'thread_time_ns',\n",
       " 'time',\n",
       " 'time_ns',\n",
       " 'timezone',\n",
       " 'tzname']"
      ]
     },
     "execution_count": 15,
     "metadata": {},
     "output_type": "execute_result"
    }
   ],
   "source": [
    "dir(time)"
   ]
  },
  {
   "cell_type": "code",
   "execution_count": 16,
   "id": "54d4802b-83e4-439f-bb39-8bc786b0fa61",
   "metadata": {},
   "outputs": [
    {
     "name": "stdout",
     "output_type": "stream",
     "text": [
      "Ope\n"
     ]
    }
   ],
   "source": [
    "try:\n",
    "    f = open(\"filename.txt\", \"r\")\n",
    "except IOError:\n",
    "    print(\"Ope\")\n",
    "    "
   ]
  },
  {
   "cell_type": "markdown",
   "id": "89b32911-a417-4300-be29-8e88c51d411a",
   "metadata": {},
   "source": [
    "Something quite neat is that, once you read through a file, if you do f.read() again, nothing prints.\n",
    "You have to go to the first line in the file again by doing f.seek(0). Then you can also do f.readline() to read each line.\n"
   ]
  },
  {
   "cell_type": "markdown",
   "id": "f6aa584d-55b3-4675-ad98-5fcc6ae44d03",
   "metadata": {},
   "source": [
    "OK, we can put in arguments with the command line. "
   ]
  },
  {
   "cell_type": "code",
   "execution_count": 17,
   "id": "e549bac3-dc5f-489d-b08b-5e84785200c8",
   "metadata": {},
   "outputs": [
    {
     "name": "stdout",
     "output_type": "stream",
     "text": [
      "['processfasta.py', 'myfile.fa']\n"
     ]
    }
   ],
   "source": [
    "! python processfasta.py myfile.fa"
   ]
  },
  {
   "cell_type": "code",
   "execution_count": null,
   "id": "7ff9004d-6a83-479d-95ff-548b5e7de173",
   "metadata": {},
   "outputs": [],
   "source": []
  },
  {
   "cell_type": "code",
   "execution_count": 18,
   "id": "12246a02-58e3-472f-9830-235a463e34d7",
   "metadata": {},
   "outputs": [],
   "source": [
    "! processfasta.py -l 250 myfile.fa"
   ]
  },
  {
   "cell_type": "code",
   "execution_count": 19,
   "id": "eab8af81-c3ac-49c3-98da-f0297ada0a07",
   "metadata": {},
   "outputs": [],
   "source": [
    "def get_extension1(filename):\n",
    "    return(filename.split(\".\")[-1])"
   ]
  },
  {
   "cell_type": "code",
   "execution_count": 20,
   "id": "6d13695e-0234-4c25-bc2d-8c9cd57e8021",
   "metadata": {},
   "outputs": [
    {
     "data": {
      "text/plain": [
       "'myfile'"
      ]
     },
     "execution_count": 20,
     "metadata": {},
     "output_type": "execute_result"
    }
   ],
   "source": [
    "get_extension1(\"myfile\")"
   ]
  },
  {
   "cell_type": "code",
   "execution_count": 21,
   "id": "88e6f379-7052-4534-9e64-fb556c50d28c",
   "metadata": {},
   "outputs": [],
   "source": [
    "def get_extension2(filename):\n",
    "    import os.path\n",
    "    return(os.path.splitext(filename)[1])"
   ]
  },
  {
   "cell_type": "code",
   "execution_count": 22,
   "id": "d1d7fac3-80cf-4f97-b515-4381eb9f4b3c",
   "metadata": {},
   "outputs": [
    {
     "data": {
      "text/plain": [
       "'.gz'"
      ]
     },
     "execution_count": 22,
     "metadata": {},
     "output_type": "execute_result"
    }
   ],
   "source": [
    "get_extension2(\"myfile.tar.gz\")"
   ]
  },
  {
   "cell_type": "code",
   "execution_count": 23,
   "id": "bc81418a-0e03-4eef-bbf0-7fd404d7b7d8",
   "metadata": {},
   "outputs": [],
   "source": [
    "def get_extension3(filename):\n",
    "    return filename[filename.rfind('.'):][1:]"
   ]
  },
  {
   "cell_type": "code",
   "execution_count": 24,
   "id": "19c3cc88-c6d7-49ea-938b-b31d9afb596e",
   "metadata": {},
   "outputs": [
    {
     "data": {
      "text/plain": [
       "''"
      ]
     },
     "execution_count": 24,
     "metadata": {},
     "output_type": "execute_result"
    }
   ],
   "source": [
    "get_extension3(\"myfile\")"
   ]
  },
  {
   "cell_type": "markdown",
   "id": "785c30fa-09c6-4132-8883-5dc4f8032b5c",
   "metadata": {},
   "source": [
    "A student launches the Python interpreter from his home directory. His home directory contains another directory called 'mydir',  and 'mydir' contains two files called 'foo' and 'bar'. The home directory does not contain any files, only other directories.  What will happen when he writes the following code at the Python prompt:\n",
    "```\n",
    ">>> import os\n",
    ">>> filenames = os.listdir('mydir')\n",
    ">>> f= open(filenames[0])\n",
    "```"
   ]
  },
  {
   "cell_type": "code",
   "execution_count": 25,
   "id": "3606864f-573a-48b9-a4d0-8fb8e309e29b",
   "metadata": {},
   "outputs": [
    {
     "name": "stdout",
     "output_type": "stream",
     "text": [
      "['bar.py', 'foo.py']\n"
     ]
    }
   ],
   "source": [
    "import os\n",
    "filenames = os.listdir('mydir')\n",
    "print(filenames)"
   ]
  },
  {
   "cell_type": "markdown",
   "id": "ca341748-9e3f-4f55-b44e-262e22ced6e1",
   "metadata": {},
   "source": [
    "Write a Python program that takes as input a file containing DNA sequences in multi-FASTA format, and computes the answers to the following questions. You can choose to write one program with multiple functions to answer these questions, or you can write several programs to address them. We will provide a multi-FASTA file for you, and you will run your program to answer the exam questions. \n",
    "\n",
    "While developing your program(s), please use the following example file to test your work: dna.example.fasta\n",
    "\n",
    "You'll be given a different input file to launch the exam itself.\n",
    "\n",
    "Here are the questions your program needs to answer. The quiz itself contains the specific multiple-choice questions you need to answer for the file you will be provided.\n",
    "\n",
    "\n",
    "(4) **A repeat is a substring of a DNA sequence that occurs in multiple copies (more than one) somewhere in the sequence. Although repeats can occur on both the forward and reverse strands of the DNA sequence, we will only consider repeats on the forward strand here. Also we will allow repeats to overlap themselves. For example, the sequence ACACA contains two copies of the sequence ACA - once at position 1 (index 0 in Python), and once at position 3. Given a length n, your program should be able to identify all repeats of length n in all sequences in the FASTA file. Your program should also determine how many times each repeat occurs in the file, and which is the most frequent repeat of a given length.**"
   ]
  },
  {
   "cell_type": "code",
   "execution_count": 26,
   "id": "2dd03ac1-1c43-4e8c-a377-fec9ffaf5971",
   "metadata": {},
   "outputs": [],
   "source": [
    "f = open(\"dna2.fasta\", \"r\")\n",
    "content = f.read().split(\">\")[1:]\n",
    "f.close()\n",
    "\n",
    "fasta_in_list = []\n",
    "for line in content:\n",
    "    ind = line.find(\"\\n\")\n",
    "    head = line[:ind]\n",
    "    tail = line[ind:].replace(\"\\n\", \"\")\n",
    "    fasta_in_list.append([head, tail])\n",
    "    \n"
   ]
  },
  {
   "cell_type": "code",
   "execution_count": 27,
   "id": "4a7d516b-efeb-4c6e-8968-df2c3e6d3b1b",
   "metadata": {},
   "outputs": [
    {
     "data": {
      "text/plain": [
       "['gi|142022655|gb|EQ086233.1|527 marine metagenome JCVI_SCAF_1096627390048 genomic scaffold, whole genome shotgun sequence',\n",
       " 'GAGAACCGGGAACCGGAACCATGACAGCCCCGCGCCGGTTTTACGCGAGATAGCCGGAAACGCCGTCCCAGAGCAGTTTCAATGCGGTCACCGCCAGCAATCCGTAGCAGCTCCGGTAGATCAGGCGCTGGTCCAGCCTGCCGTGAAGCCGCCAGCCGAACACCACGCCGGCCGGAATGGCAAGCAGGCACACCGCCATCAACGCCCAGACGTTCGCGGTCGGCTGCACGATCAGCAGCCACGGCACTGCCTTGATCGCATTGCCCACGGTGAAGAACAGGCTCGTCGTTCCCGCGTACATCTCCTTGCTGAGGCCAAGCGGCAGCAGATACATCGCGAGCGGCGGCCCGCCCGAGTGCGCGACCATCGTCGTGACGCCCGATGCAAGGCCGGCCGAGACTGCCTTCGGCGACGAACGCGGACGAACCGTCGGCTCCGCCCCGCCCCTCACCCACAGCCCGACGAAGACCAGCGTGACCACCGCCATCAAAAGCTCGATGGCGCGATGGTCGAGGAAGCGGAAAGCCAGGTAACCGAACCCGATACCGACCACCAGCCCCGGCAGGAGCAGCACGAGGTCGGGCTTCGACCATGTCGACGGCTTCCAGTACCGCAGCGCGAACAGGTCCATCGCGATGAACAGCGGGGCGAGCAAGCCGCCGGCCGTCACGGGGTCCATCACGAGGGACAGCAGCGGAATGCCGATGATCGCGAATCCACCACCGAACGCGCCGCGCATGAACGCGATCACGAACACGCCGGCAAACGCGATCAGGATCGTGGCCAGCGTCAATTGCAGGCCCATCGCAGCAGGGGTCGCCATCACGACCTCCATGCCGGTTCGAATCGCGGCGTGGCGGACAGCCACGGAGCGGGTCGCACGCGCGGCATCGCCGCACGATGGATCCGGGTTGAACGCGTTGCACCCATGCTGCTTCTCCAATGAGGTACCGGGGCGATGCGGTACACCAACGCACCGCAGGCCGCATGGGCCGCACAAGCATTTCAGCCCCGGTACAATCGACTTGACGAAAGCAGAATGCACCGCCGTCTATCTCAGTGCAATTAAAACATTGACCTCGGTGCAATATTCATTGTTATCGGTGCAATCCATGTCGAATTCCGAATACCTGCAGTTGGCCGACGCGATCGCCGCCCAAATTGCCGACGGCACGCTCAGGCCGGGCGACCGCCTGCCTCCGCAGCGTCATTTCGCCGACCAGCATGCGATCGCCGCATCGACGGCGGGACGGGTTTACGCGGAACTGTTACGGCGCGGCCTTGTGGTCGGCGAAGTCGGCCGAGGCACTTTCGTGTCGGGTGAGACGCGACGCGGGGCCGCTGCGCCGGGCGAGCCGCGCGGCGTTCGGATCGATTTCGAGTTCAACTACCCGACCGTCCCGGCCCAGACCGCGTTGATCACCAGAAGCCTGCGCGGATTGCACCGACCTGCGGAGCTCGACGCCGCGTTACGCGAGGCGACGAGTACCGGGACCCCGGTCATCCGAAGCGTTGCCGCCGCGTATCTGGCGCAGCATGAATGGGCCCCATCGCCCGACCAGCTCGTGTTTACCGGCAACGGGCGGCAAAGCATCGCCGCGGCCGTTGCCGCGGTCGTGCCGACCGGCGGACGCTGTGGCGTGGAGGCATTGACCTACCCGTTCATCAAGGGCATCGCGGCCAAGCTGGGGATCTCGCTGGTGCCACTGGCGATGGACGACGACGGCGTGCGGCCCGACGCCGTGCAAAAGGCCCACCGCGAGGCCAGGCTGTCGGCGATCTACGTTCAGCCAGCCATCCAGAATCCGCTCGGCACGACGATGAGCGCCGCTCGCCGCGCCGATCTGCTGCGTGTCGTCGACAAACTCGACATACCGGTCATCGAAGACAACGTGTACGGCTTTCTCGGCGACGAGCCGCCGCTGGCCGCACTCGCCCCGGACGCCTGCATCGTGATCGACAGCCTGTCCAAGCGGGTCACGCCAGGCCTGACCCTCGGCTTCATCGTGCCGCCGCCGCGGCTGCGCGAAAGCGTGATGGCGTCGGTACGCTCGGGGGGATGGACCGCTTCCGGGTTCGCGTTTGCAGCCGCTCAGCGCTTGATGCGTGACGGCACCGTGGCCGAACTCGCGAGATTGAAACGCATCGACGCAATTGCACGTCAGGCGCTGGCGATCGAGCGTCTGGCGGGTTTCGATGTCCGGACCAACGGCAAGTGCTATCACCTGTGGCTGACGTTGCCGGCGCACTGGCGTTCGCAGGCCCTCGTCGCAGCCGCGGCCCGGCGCGACATCGGGCTGACGCCGTCGACCACCTTCGCCGTTTCGTCCGGCCATGCGCCGAACGCGATCAGGCTCGCGCTGGCCGCGCCGAGCATGGATCAGCTCGACGCCGGCCTGCGCACGCTGACCGCGATGCTGAACGGCCGCGAGGGCGATTTCGACGCGACCGAGTGAGCATCGCGCGGATGTGTCGTCGTACATCACCCGCCTGATTCGGTATCCGGATCAATATCAAGCCGTCACTTCGTCAGCAACTCGGCCTCCAGCTCGCGCAACCGTTCCGGAAACCGGACGCGCAGCACCAGGAACCACCCGAGCCCGATCGCCAGCAATGCGACGAACACATACGGCAGCCACGCATAGA']"
      ]
     },
     "execution_count": 27,
     "metadata": {},
     "output_type": "execute_result"
    }
   ],
   "source": [
    "fasta_in_list[-1]"
   ]
  },
  {
   "cell_type": "markdown",
   "id": "cf37796f-e329-40e4-8289-467584b89f64",
   "metadata": {},
   "source": [
    "(1) **How many records are in the file? A record in a FASTA file is defined as a single-line header, followed by lines of sequence data. The header line is distinguished from the sequence data by a greater-than (\">\") symbol in the first column. The word following the \">\" symbol is the identifier of the sequence, and the rest of the line is an optional description of the entry. There should be no space between the \">\" and the first letter of the identifier.**"
   ]
  },
  {
   "cell_type": "code",
   "execution_count": 28,
   "id": "fcb98ebe-126b-4ba7-94ad-492d178175f3",
   "metadata": {},
   "outputs": [
    {
     "data": {
      "text/plain": [
       "18"
      ]
     },
     "execution_count": 28,
     "metadata": {},
     "output_type": "execute_result"
    }
   ],
   "source": [
    "len(fasta_in_list)"
   ]
  },
  {
   "cell_type": "markdown",
   "id": "b080f221-e16f-4652-86e0-85149ae2626f",
   "metadata": {},
   "source": [
    "(2) **What are the lengths of the sequences in the file? What is the longest sequence and what is the shortest sequence? Is there more than one longest or shortest sequence? What are their identifiers?** "
   ]
  },
  {
   "cell_type": "code",
   "execution_count": 33,
   "id": "d7fd2ed5-21b1-45a2-ab23-dafcbe2a14ca",
   "metadata": {},
   "outputs": [],
   "source": [
    "lengths = [len(line[1]) for line in fasta_in_list]\n",
    "    "
   ]
  },
  {
   "cell_type": "code",
   "execution_count": 34,
   "id": "1b3c20d7-edf8-411f-aa7f-e796e7129e0a",
   "metadata": {},
   "outputs": [
    {
     "data": {
      "text/plain": [
       "115"
      ]
     },
     "execution_count": 34,
     "metadata": {},
     "output_type": "execute_result"
    }
   ],
   "source": [
    "min(lengths)"
   ]
  },
  {
   "cell_type": "markdown",
   "id": "9114e950-6e0d-4e5f-88b3-017074e05ed7",
   "metadata": {},
   "source": [
    "(3) In molecular biology, a reading frame is a way of dividing the DNA sequence of nucleotides into a set of consecutive, non-overlapping triplets (or codons). Depending on where we start, there are six possible reading frames: three in the forward (5' to 3') direction and three in the reverse (3' to 5'). For instance, the three possible forward reading frames for the sequence AGGTGACACCGCAAGCCTTATATTAGC are: \n",
    "\n",
    "AGG TGA CAC CGC AAG CCT TAT ATT AGC\n",
    "\n",
    "A GGT GAC ACC GCA AGC CTT ATA TTA GC\n",
    "\n",
    "AG GTG ACA CCG CAA GCC TTA TAT TAG C \n",
    "\n",
    "These are called reading frames 1, 2, and 3 respectively. An open reading frame (ORF) is the part of a reading frame that has the potential to encode a protein. It starts with a start codon (ATG), and ends with a stop codon (TAA, TAG or TGA). For instance, ATGAAATAG is an ORF of length 9.\n",
    "\n",
    "Given an input reading frame on the forward strand (1, 2, or 3) your program should be able to identify all ORFs present in each sequence of the FASTA file, and answer the following questions: what is the length of the longest ORF in the file? What is the identifier of the sequence containing the longest ORF? For a given sequence identifier, what is the longest ORF contained in the sequence represented by that identifier? What is the starting position of the longest ORF in the sequence that contains it? The position should indicate the character number in the sequence. For instance, the following ORF in reading frame 1:\n",
    "\n",
    ">sequence1\n",
    "\n",
    "ATGCCCTAG\n",
    "\n",
    "starts at position 1.\n",
    "\n",
    "Note that because the following sequence:\n",
    "\n",
    ">sequence2\n",
    "\n",
    "ATGAAAAAA\n",
    "\n",
    "does not have any stop codon in reading frame 1, we do not consider it to be an ORF in reading frame 1. "
   ]
  },
  {
   "cell_type": "code",
   "execution_count": 61,
   "id": "18d5ecb8-05d8-4cd3-9ce9-6b1fe2810fc7",
   "metadata": {},
   "outputs": [],
   "source": [
    "seqs = [line[1] for line in fasta_in_list]\n",
    "def find_longest(seqs, frame=1):\n",
    "    orf_lengths = []\n",
    "    for seq in seqs:\n",
    "        if ((frame-4)%3) == 0:\n",
    "            rf = seq[frame-1:]\n",
    "        else:\n",
    "            rf = seq[frame-1:-((frame-4)%3)] # reading frames 2, 3\n",
    "        i = 0\n",
    "        while i < len(rf):\n",
    "            if rf[i:i+3] == \"ATG\":\n",
    "                j = i+3\n",
    "                while j < len(rf):\n",
    "                    if rf[j:j+3] in [\"TAA\", \"TGA\", \"TAG\"]:\n",
    "                        orf_lengths.append(j+3-i)\n",
    "                        i = j\n",
    "                        break\n",
    "                    j+=3\n",
    "            i+=3\n",
    "    return max(orf_lengths)\n",
    "    \n",
    "                    "
   ]
  },
  {
   "cell_type": "code",
   "execution_count": 58,
   "id": "9024cc78-a222-441a-8ca8-f647c2dcbcd9",
   "metadata": {},
   "outputs": [
    {
     "data": {
      "text/plain": [
       "2394"
      ]
     },
     "execution_count": 58,
     "metadata": {},
     "output_type": "execute_result"
    }
   ],
   "source": [
    "find_longest(seqs,frame=1)"
   ]
  },
  {
   "cell_type": "code",
   "execution_count": 37,
   "id": "0f2a2cd9-4f5c-447c-9edd-e50a295318a4",
   "metadata": {},
   "outputs": [
    {
     "name": "stdout",
     "output_type": "stream",
     "text": [
      "0 6\n",
      "0 27\n",
      "12 27\n"
     ]
    }
   ],
   "source": [
    "rf = \"ATGAAATAGAAAATGATAATAATAATATAA\"\n",
    "for i in range(0, len(rf), 3):\n",
    "    if rf[i:i+3] == \"ATG\":\n",
    "        for j in range(i+3, len(rf), 3):\n",
    "            if rf[j:j+3] in [\"TAA\", \"TGA\", \"TAG\"]:\n",
    "                print(i, j)"
   ]
  },
  {
   "cell_type": "code",
   "execution_count": 73,
   "id": "b4d785df-eb48-42a9-b482-b38f187c8d77",
   "metadata": {},
   "outputs": [],
   "source": [
    "starting_to_length_dict = {}\n",
    "k = 0\n",
    "for seq in seqs:\n",
    "    rf = seq[2:-1] # reading frame 3\n",
    "    #rf = \"ATGAAATAGAAAATGATAATAATAATATAA\"\n",
    "    i = 0\n",
    "    while i < len(rf):\n",
    "        if rf[i:i+3] == \"ATG\":\n",
    "            j = i+3\n",
    "            while j < len(rf):\n",
    "                if rf[j:j+3] in [\"TAA\", \"TGA\", \"TAG\"]:\n",
    "                    starting_to_length_dict[f'{k}_{i+1}'] = j+3-i\n",
    "                    i = j\n",
    "                    break\n",
    "                j+=3\n",
    "        i+=3\n",
    "    k += 1\n"
   ]
  },
  {
   "cell_type": "code",
   "execution_count": 74,
   "id": "167210e4-34d6-49b4-a3df-1d59e1da00aa",
   "metadata": {},
   "outputs": [
    {
     "name": "stdout",
     "output_type": "stream",
     "text": [
      "{'0_907': 354, '0_1399': 39, '0_2269': 129, '0_2854': 588, '0_3448': 84, '0_3541': 150, '0_3751': 99, '0_3940': 15, '0_4081': 48, '0_4261': 30, '0_4309': 66, '0_4390': 81, '1_619': 147, '1_907': 120, '1_1096': 42, '2_775': 171, '2_1177': 9, '2_1639': 285, '2_2020': 12, '2_2608': 66, '2_3703': 201, '2_4024': 192, '3_214': 258, '3_523': 33, '3_697': 324, '3_2626': 84, '4_427': 225, '4_1939': 30, '4_1990': 48, '4_2389': 84, '4_2695': 96, '4_3118': 63, '4_3202': 180, '4_3397': 15, '4_3418': 72, '4_3493': 48, '4_3871': 171, '5_244': 99, '5_1372': 249, '6_88': 189, '6_310': 42, '8_64': 213, '9_1015': 252, '9_1354': 9, '9_1393': 162, '9_1696': 417, '9_2332': 711, '9_3058': 129, '10_55': 204, '10_289': 33, '10_343': 36, '10_400': 183, '10_595': 51, '11_220': 540, '11_1270': 123, '11_2056': 66, '11_2167': 132, '11_2314': 93, '11_3094': 1401, '12_109': 1317, '12_1438': 1644, '12_3103': 132, '12_3400': 60, '12_3628': 60, '12_3796': 93, '12_4147': 153, '12_4576': 90, '13_346': 132, '14_691': 63, '14_1201': 27, '14_1276': 219, '14_1960': 126, '15_757': 171, '15_964': 69, '15_1135': 60, '15_1195': 27, '15_1357': 27, '17_19': 33, '17_175': 357, '17_634': 1821}\n"
     ]
    }
   ],
   "source": [
    "print(starting_to_length_dict)"
   ]
  },
  {
   "cell_type": "code",
   "execution_count": 75,
   "id": "b3b23d7c-df58-4832-a5ca-7b8abf4f6ff7",
   "metadata": {},
   "outputs": [
    {
     "data": {
      "text/plain": [
       "['17_634']"
      ]
     },
     "execution_count": 75,
     "metadata": {},
     "output_type": "execute_result"
    }
   ],
   "source": [
    "[key for key, value in starting_to_length_dict.items() if value == max(starting_to_length_dict.values())]"
   ]
  },
  {
   "cell_type": "code",
   "execution_count": 62,
   "id": "d5dc8161-9722-487e-80d1-186288a1c6da",
   "metadata": {},
   "outputs": [
    {
     "name": "stdout",
     "output_type": "stream",
     "text": [
      "[['gi|142022655|gb|EQ086233.1|91 marine metagenome JCVI_SCAF_1096627390048 genomic scaffold, whole genome shotgun sequence', 'CTCGCGTTGCAGGCCGGCGTGTCGCGCAACGACGTGTGGGGCCTGACGGGCAGGGAGGATCTCGGCGGCGCCAACTATGCGGTCTTTCGGCTCGAAAGCCAGTTCCAGACCTCCGACGGCGCGCTGACCGTGCCCGGCTCCGCATTCAGTTCGCAAGCCTACGTCGGGCTCGGCGGCGACTGGGGGACCGTGACGCTCGGGCGCCAGTTCGATTTCGTCGGCGATCTGATGCCGGCTTTCGCGATCGGCGCGAACACGCCGGCCGGCCTGCTCGCGTGGGGCTTGCCGGCGAATGCGTCGGCGGGCGGTGCGCTCGACAACCGCGTGTGGGGCGTCCAGGTGAACAATGCGGTGAAGTACGTGAGCCCGACGTTCGGCGGATTGTCGTTCGGCGGCCTGTGGGGCTTCGGCAACGTGCCCGGCACGGTCGCGCGCAGCAGCGTGCAAAGCGCGATGCTGTCCTACACGCAAGGCGCGTTCAGCGCCGCGCTCGCTTATTTCGGCCAGCACGATGTAACTGCCGGTGGCAATCTGCGCAATTTCTCGGGCGGTGCAGGCTACAACGTCGGGCAGTTCCGCGTCTTCGGCATGGTGTCGGACGTGCGGATCAGCGCCGCCGCGCCGCTGCGGGCCACGACCTATGACGGCGGCTTGACCTATGCGGTCACGCCGGCGTTGCAGCTCGGCGGCGGCTTCCAGTACCAGCAGCGCGGCGGCGACATCGGCTCGGCCAACCAGGTCACGTTGAGCGCCGACTATTCGCTGTCGAAGCGTACCGGCCTTTACGTGGTATTCGCACGCGGGCACGACAGTGCGTATGGCGCGCAGGTCGAGGCGGCGCTCGGCGGGGCGGCGTCCGGCTCGACGCAGACCGCGGTCCGGCTCGGGCTGCGGCATCAGTTCTGACGATGCGCGAGAAACACGGGCTGCCGCGTACGCCGCGCGCGAGCCCGTGTTTTTCCGCCGGATTCAGAACCGATGCATCATCCCGACGCGCAACGCCAGCTGGTTGCGGCCCGACGACTGCCCGGCCGTGCCGAGCACGTGCGCGTAGTCGAAATCGGTGCCGGTATGGCCGGTTGCATGCTGGTACGCGCCCTGGATGTACGTCGAGGTTCGCTTGCTCAGATCGTAGTCGAGCATCATCGACACCTGGTGCCAGTTCGGCGACGCATCGCCCGCCGCCGTCGCGACATGCGCATGCGTGTAGATATAGGCGGCGCCGAGCCAGAGGTCCGGCCGGAAGAAATACTGGCCGTTGACCTCGAAGTTGTCGAATTTCCACGCGTTCTGCGAGCCTGCCGCCGGCTGGTTCGCGAAGTACAGATTCGACTCGGGGTTGGTCACGTCGACGTGCGAATACGCGGCGGACAGCGTCAGCTTGTCGCTGAACTTGTACGATGCGCCCGCATCGATGTTCTGCTGCGCGCGGCCGCTGAAGACCGTATCGTCGCTCGACAACGCACCGCCCGCGGTCGCGCCGCCGTTGTTGGCCTTCAGGTACGCGACGGCGGCGGAGAACGCGCCCGCCTGGTACTGCACGGCGGCGCTATAGACGCGGTTCCGCGCGAAGCCCCCCGCCTGGTTCGCGAGCCCGTAGAGCACTTCGCCCTTGAAGCCGGCGTAGGAGGGCGACACGTACTTGACGCTGTTCTGGATGCGGTAGTCCCAATCGGCGTTGTCGTTGTCGTACGGGTGCGCGCCGAAGTCGCCGAGCCAGTTGCCGGTGGCGGTGAAGGTACTCCACATGTCGAGCGTGGGGTCGTACTGGCGGCCGAACGTGAGCGTGCCGAACCGGTCGGAATCGAGGCCGACGTAGGCTTGCCTGCCGAACATCCGCGACGTCACGCCGAGCGCGCCGGTGCTCGCGTTGAAGCCGTTCTCGAGCTGGAACAGCGCTCTGATCCCGCCGCCGAGATCCTCGGTGCCTTTCAGCCCCCAGTTGCTGCCGACGGTATCGCCGCTGACCATCTGGTAAGCCTTGCTGCCGCCCGCGTTGCTCGTGAAATTGACGCCTTCGTCGATCAGGCCGTACAGCGTCACGGTGCTTTGCGCATGGGCCGTCAGGCCGAATCCCATGGCGCTCGCGGCCGATACGGCCGCCATCATCTTCTTCATCGTCGATCTCCAGGTGTGGGCAGCCCACGCGGCGCGGTGCGGTTTCCGACGGCATACGTCAGCACCGGACGCGTGCAGCGAGTCCGTTTGTCGTTAGTAAAACGAAATATGAATTACGAAGAAAAGAGGCCCGCCGCGATCGGGCGGACCGGATGACGAACCGCGCCGGGCGCGCGGTTCCGCGTGGCGGCGGCGTTACAGCATCCGTCGCAGCACGTCGTTTTCCGGGTTGCGGTCGAAGAACCGGTGTTTCAGCGCGCCAAGCACATGCAGCACGATGAGCGCGAGCAACGTATAGGCGAGCGTTTTGTGCAGCCACTGAAACGCCTCGAACCAATGGTCGTTCTTCGGCAGCAGCTCGGGTACGCGGAAAAAGAAGAACGGCACGCCGTCGCTCTGCGTATACGTGCTGGACATCGAATAGCCCATCAGCGGCACGATGATCGCGAGCGCATACAGCAGGTAATGGCCGATCTTCGCGAGCGTGCGATCGAGCGTCGGCAGCGTGGAGGGCAGCGGCGGCAACGGCTTCATCGCGCGAATCGCCAGTTGCGTGACGACCACCAGCAGCGTGAGCACGCCGAACTCCTTGTGCGTCGGGTAGTACCAGTCGAACTTGGCCGGCAGGTTGTCGTCGAGCCGGACCATCGTCCAGCCGGTCCACAGCTGCGCGCCGATCAGGATCGCCCTGACCCAGTGCAGCAACCGAAGCGCGAGCGGGTATTTCTCCGCGGGGAATGCAATGGCCTGGTTGTCCATTTGACTTGTCTTCCTTTGAAACGACATTGCGACAGGCGGGATGCCGATCGTCGACTTCGGCGTCCCGCGGCGATCTACGTCGAACCGAGGCCGGATCGCGATACGCACGGACCTTCGACGAAAAGCCCGTGCGTCGGGCTGTTTCGCGCGGTCAGGCGATCGCGCGCGAATCCGCGCAGCACTCCTGCAACGCCTCGCGCAGTGTCACGGCCATGAAGTCGGCTTCGCCAGGCTGCAGCGTGAGCGGCGGCGAGATCACCACCTTGTTCGCGATCGCCCGCACCAGCACGCCGCGCCGACGCGCGGCATCGGCCACGCGGGCGGCGAACCCCTGGCCCGGATCGAGCGGCGTGCGGCTGGCCTTGTCGGTCACCAGATCGAGCGCCAGCATCAGCCCCTTGCCGCGGACGTCGCCGACCGTCTCGAAGTCGGCCTTCAGCGGCAGCAATTGCTCGAGCAGGCGCTGTCCGACCCGCGCCGCGTTGCCCGGCAGATCCTCGGCCTCGACGATGTCGAGCACCGCGAGCGACGCGGCGCACGCGAGCGGATGGCCGCTGTACGTATAGCCGTGCATGACCACGTGCGAGAAGCCCGCGCCATGTTCGATCGCGTCGGCGATCCGCCCGTTGTACAGCGTCGCGCCGAGCGGCACGTAGCCGGCGGAGATGCCCTTGGCGACGCACAGGATGTCGGCGGCGACGCCCCAGCCGCGGCTGCCGAGCAGGCTGCCGGTGCGGCCGAAGCCGGTGACCACCTCGTCGGCGATCAGCAGGATGCCGTTGCGGTCGCACACGGCCCGCACGCGCGCCCAGTAATCGGCCGGCGGGACGATCAGGCCGCCGGCGCCCTGCACCGGTTCGGCGACGAATGCGGCAATGGTCTGCGGGCCGTGGAACGCGATCGTTTCCTCGAGCTGCCGGATGCAGTGCTCGACGAGCTGGTGCGGATCGTCGCAATTCCACGGATTGCGATAGAGCCACGGCGTGTCGAGCAGCACGCAGCCGGGCAGCAGCGGGCCATGATTGTAATGGTAGACGCCGTTGCCGCCGATCGACGTGCCGCCCATGTGCACGCCGTGATAGCCGTTGCGCAGCGACAGGAATTTCGTGCGCGACGGCTCGCCCGCGGCGACCCAGTACTGGCGCGCCATCTTGAGCGCGGTCTCGATCGCGTCGGAGCCGCCGCTGCCGAACATCACCCGCTGCATGTCTTCCTGCGCGAACATCGCGCACAGGCGGTCGGCCAGATCGTAGACGCGCGGATGGGCGACGCCGTCGAAGGTCTGGTAGTACGACAGCTCGTCCATCTGCCGCGCGATCGCGCTTTTCACTTCCGGCCGGTTGTGGCCGACGTTGACGTTCCACAGTCCGCCGACGCCGTCGAGCATGCGGTGGCCGTCGACGTCGTACACGTAGTTGCCGTCGCCGCGCTCGATGATCACGGTGGGAGTCGTATGCCCGGCGGCCGCCGAGCTCATCGGGTGCCAGAATCGTTTTTGACGCTTTTGATAGTCCATGGTGTCTCTCGTCTCTCTTACGAAGTGCTTGAACAGGGGGCGGCGCGGTGTGCGCCGCCGGATCACAGGGCTGCGGTGATGATCTTTTCCTCGAGGTACGAATCGAGGGCGGCCTTCGACAGGTCGCGCCCGATCCCGCTTTGCTTGGTGCCGCCCCACGGCAGGCGTGCGTCGATCGGGCTCCACGCATTGATCGCGACCGCGCCGATGTCGAGCCGCTCGGCGACGCGGTGCGCGGTGCC'], ['gi|142022655|gb|EQ086233.1|304 marine metagenome JCVI_SCAF_1096627390048 genomic scaffold, whole genome shotgun sequence', 'CGCGATCCAGTAGCGCTTGTAGCCGAGCGCTTCGGCACGCTTCGCGAGCGCGATCGTGAAATTCAGTGCGTCGTGCGCGCTCGCCCCTTCTGCAATCGGGCTTTTGTCGAGAATCGAAAGGGAATAAGACATGAAGCTCAACCTTTTAGAACGGCTGACCCGCCGGCACGAAGCGGCGTCCGGCGGGTGCCGATACAGCGGAAAACACCGGGCAGACCCGTTATTATCGATAACGGATCAACGTCCCGTTACGGTCATTTCTGCTATGGATATGGTCGTTCGATCAGAACAGATAGCGCGCGCGCAGATAATAAAATCCGCCGTTGACGCCGATCGTGCTGCCGCCGCTGTACTGAATACCTTCCAGTTGCGTCTCGAAAGGCAGCTTGCTCGGGCGAACGTCGAACAGGTTTTGCGCGCCCGCCGCGATCTGGAACTGCTTGGTCACGTCGTAGCGCACTTCCAGGTCGGTCACGTACCGCGCGGCCTCCTCGTAGTGAACGAACTGCGACGTCGAGAATGCGTTCGGGCCGACGAAGTACGTCCCCTCGCCCGAGGTCTTCCCGTAGCGCGTTTCATGCAGCGTGACCGCCCACTTGTCGAGACGCCAGGTGCCGCCGATGATGATCTTGTTCTTCGGTGTCGTCGTGGACAGCGACGCGATCTGCTGTCCGTTCAGCGACGGCTTCCCGTTCGATCCGTTCGCCACGTGCGTGACCGACGTCGTATTCAGGTTCACGCCGAAATCCCAGTCCACCTGGCCGTAGCGACCGAACCCGGTGTGATAGGTGCCCGCGAGGTCGATCCCGCGCGTGCGCGTGTTCGCGCCGTTGGTGAAGTAACTTGCGCTGACCGCCGATGCCGGCACCGAGCCCGGCACGCTCAGGCCCGCCCCTTCGAGCGCGGCGATGGCCGCGGCGCCCGACGCAGTTCCGCCAAGAACGATCCGGTTGCGGATATTGATCTGGTACGCGTCGATCGTCAGCTGCAGGTTGCGAACGGGATTGAGCACCAATCCGAAGTTGTAGCTGGTCGACTGCTCCGGCTTCAGCGCCTGCGCGCCGATCAGGCGCGCGCCGGGCGACGTCGTTGCCAGGATGCCGCCCACGGAGGCCGGCGACGTCGTCACGCTGGTATAGGACTCCTGGGCC'], ['gi|142022655|gb|EQ086233.1|255 marine metagenome JCVI_SCAF_1096627390048 genomic scaffold, whole genome shotgun sequence', 'CTCGACGCGCTCCGCGTCGAGGTCGCCCGACGTCTCGCGCAGCAACTGATTCAAAAACAGGCCGCCGCTCATGCCGATCTTGCGGTGGATGCGCCACACCGACAGTTCGATGCCTTCGGCATCGAGCGCTTCCTTCCACGCAAGCACGTGCTGGTAGACGCTGTCGACGAGCGTGCCGTCGAGATCGAACAGAAAAGACGTTTCAATGCGCATGTGTATCTCCTGGCTCGAAAGGGGGCGAGCGAACGGGTCGTGAAGCGTGTCCGCACATTATCGGCGCGCGGCGATGTCATGACCATGTCCCGCGGCCCGCCGACGCGACGCCACCCCGTGCCGCGCCGTGTCATGTGCCGCTGGTACAATCGCGGCGATCGCCGGGCCGGGCTCTCCGCGCCGCGCGCCCCCAACCCTCGTCTCGCCGATTCCAGGTATGGCTACACCGGACGCCGTCAGTTCCAAGCACTCGTGGTGGGGTGTCCTGGCCCTGGCACTCACCGCCTTCATCTTCAATACCACCGAATTCGTGCCCGTCGCGCTGCTCAGCGCGATCGGCGACAGCCTGCACATGCAGCCGACCGACGTCGGCCTGATGCTGACGATCTACGCGTGGGCCGTGGCCGTCGTGTCCTTGCCGCTGACGCTGGCCACGCGCCACGTCGAGCGCCGCAAGCTGCTGACGGGGGCATTGCTGGTATTCATCGCGAGCCACGTCGTGACCGGTGTCGCGTGGAATTTCGCGGTGCTGATGGTCGGCCGGCTGGGCATCGCATGTGCGCATGCGGTGTTCTGGTCGATTTCCGTGCCGCTGGCCGTGCGGCTCGCGCCGAGCGACCGGAAAAGCCGCGCGCTCAGCCTGCTGGCGATGGGCACGGCGATCGCGATGGTGGCCGGCATTCCGCTCGGGCGCGTGGTCGGCGAGACGTTCGGCTGGCGCGTCACGTTCCTGATCATTGCCGGCGCGGCCGGCGTCGCGTTGCTGCTGCTGCGCGCGACGTTGCCGGTATCGCCGAGCCAGGGCGCCGGGTCGCTCGGCAGCATCGGCGTGTTCCTGCGCAAGCCCGCGCTGGTGGCGTTGTACGCGATCACCGTGCTCGTCGTGTCCGCGCACTTCACGTCGTACACGTACATCGAGCCTTTCGTCCAGAGCGTCAACCACGCGAGCAGCAGCCGGATCACGTATGTGCTGATCCTGTTCGGCGTCGCCGGCATACCGGCCGCGATCTGCTTCAACCGCATCTATCCGCACCGGCCGGACGACTTCCTGCTCGGGTCGATCGTCGCGCTGGCGGGATGCCTGCTGATCCTGTTCCCGTGCGCGCTGAACATCGTCACGCTGTCCGTGCATACGCTGGTGTGGGGCGGGGCGATCGTCTGCTTCGGGCTGGCGATGCAGGCATGGGTGCTGAAGCTGGCGCCGGAGGGGACCGACCTCGCGGTGTCGATCTTCTCCGGGCTGTACAACGTCGGGATCGGCGCGGGCGCGCTGATCGGCAACCATATCGCCGGCGACTTCGGGCTGCCGTGGATCGGCACGTTCGGCGGCGTGGTCGGCGCGGTGGCCGTCGGGATCGCGTGGCTGGCGTTGCGGCTGCACGCGAGGCAGGCGGCGGCCTAGCCAGCGCCGGCTGGCGGCGTCCGGCATGGGGCGCAGGTCGCCACGGCCCGGCCTCGCGCTTCGCGCTTCGCGGGTCATGCCACCGAGTAGCCGCCGTCGGCCACGAGCGCATGACCTGACACATAGCTGGAGTCATCCGATGCGAGGAACGCGACGATCGTCGCCATCTCCTCGGCAGAGCCCCAGCGTCCGGCCGGTGTCGATGCGGCAAACGCTTGCTGCGCTTCTTCCGACGGCCAGATGCCGCGATGATGGAACGGCGTTTCGATCAGCCCCGGGCACAGCGCGTTCACCCGCACGCCGCGCTTGAACCATTCGATCGAAGCGGTCTTCGTCATCCCGATCACCGCGTGCTTGCTCGCGATATAGACCGACGCATTCTCGAAGCCGATCAGCCCGCCCATCGATGCGTTGTTGATGATGCTGCCCGAACCCTGCCGCAGCATGATTTCAGCGGCGTACTTCATCGAGTTGAATACACCGCGCACGTTCGGCTCGAACACCATGTCGAACCGCTCGGCATCCTGCTCGAGCAGCGGCGCGAACACGCCTTCCGTGCCCGCATTGTTGAACGCGACGTCGAGGCGGCCGTAGGTCGATACCGTGAAATCGAACAGCTTGCGCAGATCGTCTTCGTTCGCGACGTCCGCGACGAAGGCCTTCGCTTCGCCGCCGGCGGTCACGATTTCGTCGACCAGTTGATCGAGCTCGGGCTTGCGCCGCGCGGAGACGACGACCTTTGCGCCGCGACGCGCGAGTTCGATGGCCGACGCGCGGCCGATGCCGGAGCTGGCGCCCGTTACCAGGGCGATGCGGCCGTCGAGTTGGGCCGGTTTCGTGATTGCGTTCATGATGAAGTTCTCCAGAGTGATGTTTGAAAGCGACGCATGTGGCTGAGTCGAATCGGTTGCGATGCACGCTTTACGAGCATTGTGGTCGCTCGCGCGTCGTAAAAAAATGGAACAATGGCGCATTCAGAATTCCCGTTTCGGGAATGAAGCGCGAAGCCGCATGCGCGCGCCAGGAGGGTTCTCCATGCTCAATCGACTCGACATCCTGAAGATCTTTGCCGCGGCCGCCGCGGCGCCCACGTTCCGCGAGGCGGCCGCGCGCCTCGGCGTGTCGCCGCAGGTGGTGACACGCGCGGTGCGCGACCTGGAGGAGATGCTCGGCGAAACGCTGTTTCACCGGACGACCCGGAGCATCCGGATCACCGCGTTCGGGCAAGCCTTCGCGCGCGACGCGCAGACGGCGCTGGCTGCCGTCGACGGGCTGTTCGGCCCCGCGACCGGCCAGGCCGACGAGCCGGTGGGCGTCGTGCGGATCACGGCGCCGTCGGGCATGGGGCGTCGTTACGTCCAGCCGATCCTGGGCGATCTCATGCAGCGGTACCCGGGGCTCGTGCCCGACTTGCGGCTGTCGGACGTGCCGTCGCCGGTGGTCGACGAGCAGATCGACATCGGCGTGCGCGTCGGGGCCATCGGCGACAACCGCTTCGTCGCGCGCATGGTCGGGCCGTTGCCGATGTGGATCGTCGGCGCGCCGTCGCTGATCCGGCGGCTGGGTGAGCCCAAAAACCGCAAGGACCTCGAATCGATGCCGGTGACGTGCCTGATCGATCGCGCGAGCGGCCGCGCGTGGCCGTGGATGTTTCGGGGGGAGCAGCAGTTCGTCCCGTCGTCGCCGGCGTACCTGACGGACGATACCGAGGTGGAGATCGAGGCCATCTGTGCGGGGGTGGGGCTGGGGCAGTGCTCGGAGTACCTCGTCCGGCCGTACGTCGACAACGGGCGCCTCGTGCGGCTGCTGCCCGGCCTCGAGCCCGAGCCGTGGAAGCTGCACGTCTATCGGCCGCGGCGCGGGCCGATGCCCCGGCGCATCCGGGTCGTGTACGACGAGCTGGTGGCGAAGCTCGCGGACGCGACGTGGCGGGGGTAGGCGGTGCGGCCCGGCCGCGGGTCGCGTTGGCGCGAAGCGGTGTCAGCCACGGCTCGACGACGTCGGCGCACCTGCGAACCAGTAACGTGCGTCGCGCACGGCTATCCGGCCTGGCGTGGTACGCGGCAAACCGACATATTGCGGCATCATCATGGACGCTGACGCACCCGCATTCGGTGCCCGATATTCGACTGGAGACGTTACATGCCGATACCCCGGATTGAAACCCGCGACGCGATGGGCGACCCCGATGTGGTCTATCTCAACCCGGATCACGTGCTGTGGATGTCACAGCCGACCGCTGCGCAGCGGCGGCCGGGCGGCACGGCGATTCGCGTGGACGACCGCGTGAAGGGCGGTTCGTTGCTGATGGCCGACCATCCGCCGGCCGCCCAACTGCTGCAGGATCTCGGGCCGTTCGTGACGGTGACGCTGGCGAACCCGTCGTCCGACTATCCGGACGGTCTCGTCCATGTGCGTGCGCAGGCGATCGTCAAGATCGCGACGGACGACCACGACAAGCCGCTCGCCGAGCGCACGCTCGGCTGGGTCCACGTCAAGGACGGCTCCGCGTTCAAGGTCAGCGATTACGCCGGCGTGGCCGCGCAATGGCAGGCGTCGGTGGCGGGTGCCGGCCGCTGAACGGGGCTTCACGCCTGCGTAATGGCGCTGCGGCCCGTCGTGCCGCAGTCGGCCGGCCGTGGTTCTCCGCGGCAAAACGGATGCCGTGCCTCGTGCACCGCGGCGAACGGCTCAGGTGCCGCCTGGCCGGGCGAACCATGCGCCCACCCGGTGCCGCATTCGATACGCATTGCACCGATCCCCCGAGTAACATGGCGCATCGCGACGAACCGGCGCCCGTTCGGGCCTTCGCCGCGAACGCGCCCGTCGAAGCGCCCGATGCAGGTGTTCTCCACCGGCTTGCCGAGGAACCATCCGTCATGAACCTTTCCGCGTCCGATATCACACCGGAGGAACTCCGGCTGTTCGGCGACATCATCGCCCGCCTGGAAGAACTGGGGCCGGTCGTCGACGTGAGGACGGTCGTGCTGCCCGCGATCGCGCAACTGCTCCGCGCCGATTTCGCCGCGTCGTTCGATTGCGACGAACACACCGGCCTGTGGCGCAACGGCTTCTCGTACAACATCGATCCGTTGCAGATCGCCCGGTACGAAGCGTGGTTCCAGCATATCGATCCGGTCACATCGCAACTGCGCGCGCGCCGCGTGGCGACCTGCGTCGACGAGGTGGTGAGCCGGTGCGAACTGGAACGGACCGAGTTCTACAACGACTTCCTGTGCCGCGACGGCATGCATCACGGCATCAACGTCTATGCGTTCG'], ['gi|142022655|gb|EQ086233.1|45 marine metagenome JCVI_SCAF_1096627390048 genomic scaffold, whole genome shotgun sequence', 'CGTGCTCGGCACGACTATCAGCCCGTATCTGTTTTTCTGGCAGGCCTCCCAGGAAGTCGAGGAGTTGCACGCGGCGCCGCGTGATCATCCATTGCGCCGCGCCCCCTTTCAGGCGCCAGTTCAACTACGCCGGATCAGTTTCGATACCTGGTTCGGCATGGGCGTATCGAACGTAATCGCGTTCTTCATCGTGCTGACCGCTGCCGCGACCCTCCATGCGCATCACATCGTCGTCAAGACATCGGCCGACGCGGCGCGTGCACTCGAACCGTTGGCGGGCCACTTCGCCTACGTCCTGTTCGCACTCGGCATCATCGGCACCGGCTTGCTGGCGCTTCCGGTGCTGGCCGGCTCGACCGCCTATGCGATGGCGGGGACCTTCAAATGGAGAAACAGTCTCGCGTTACGCGCGACGGTCGCGGGAGAGTTCTATGCGGTCATCGCTGCCGCGGTCGCGATTGGACTGGTCATGACGTTCGTTCATTTCGACCCGATTCGAGCGCTCTACTGGAGCGCCGTCATCAATGGGATCACGGCAGTGCCCATCATGGTGGTGATGATGCTGATGGCGCAGAGCCGGCGCGTGATGGGCGAGTTCGCAATCAGAGGACCGCTTGCGTGGGGAGGGTGGCTCGCGACGCTCGCCATGGCGCTCGCGGCGGCCGGAATGCTGCTGCCGGGATGAGCCGGCAATCCGGATGGAGAATGCGCATGCCCGCGACGCACCGGCGACGCCTCGCCGGACGGCGGGCGTCGCATTCGCCATTCGCCATTCGCCATTCGCCATTCGCCATTCGCCATTCGCCATTCGCCATTCGCCATTCGCCATTCGCCGAGCGCTCCATCGACGACGGTGGCGGCCACGCCCCGGAATTCGACATGCCTGCATCCTCCGATACGGCGAACCGGCGGGCGTCATCAATCGCGCGCATCCAGCGCGGGCTGAAGCGCGGGCTCGGCCGGCGCTGCCGGTTCATGGCCGCCGTGGCGCGCGGCGGTGGAATGGCCGGGCCGGATCCTGAACCAGATCGCATACATCGCGGGCAGGAACACGAGCGTGAGGACCGTCCCGGCGAACGTGCCGCCGATCAGCGTGTACGCGAGCGTGCCCCAGAACACCGAATGCGTGAGCGGAATGAACGCGAGCACGGCCGCCATCGCGGTAAGAATCACCGGGCGCGCCCGCTGCACGGTCGCTTCGACGACCGCGTGGAACGGATCGAGTCCCGCGTGTTCGTTCTGGTGGATCTGGCCGATCAGGATCAGCGTGTTGCGCATCAGGATCCCCGACAGCGCGATGAGGCCGACCAGCGCATTGATGCCGAACGGCTGCCCGAACAGGATCAGCGTCGGCACCACGCCGATCAAGCCGAGCGGGCTCGTCATGAACACCATCACCATCGCGGAGATCGAGCGCACCTGGAAGATGATGATCACGAGCGTGACCGCCAGCATGATCGGGAAGAGCGGCAGCATCGCCTTCGTGGCCTTGCCGGATTCCTCGATGGAGCCGGCTTCCTCGATTCGATAGCCGCTCGGCAGCGCGGCGACGATCGGCTGAAGCTGCTTCGTGATCGCGGCCGACACGTCCGGCGGCTGCAGGCCGTCGGCGATGTCGCCGCGCACCGTGAGCGTCGGCACGCGATCGCGCCAGCGCATGATCGGCTCTTCCATCCGCACGTCGACCTTGCCGACCTGCGACAGCGGGATGCGCTGCCCGTTCGCGCCGGCGAGCGTGAAGTCGTCGAGCCGCGCCGGGTCGAGCCGCGTATCGCCGCCCGAGCGCGCGATCACCTGTACGGTCCGGATATCCTCGCGTACCGCGGTGACGGGCACCCCGGTCAGCAGGAACTGCAGTTGCTGCGCGACCGCGCTGGACGTCAACCCGACTGCCTGCAGGCGGTCCTGCTGCAACGTAAAGTGCAGCGTCGGCGCGCGCGTGCCCCAGTCGGCATTGACCGTGCGCATCATCGGGCTGCCGTGCATCACACGCTCGACGTCGGTTGCGATACCGCGCAGCTTGTCCGGATCGGGGCCCGTGATCCGGTAGGCCACCGGGAACGGCGAATAAGGGCCGAACACGAGCTGCGTCACGCGCACTTGCGCTTCGGGCGCGAGGCCGTCGGCGATGGCGCGCCGCAGCCGCGCCTTCAGCGCTTCGCGCTCGTCCTGGCTGTCCGTGCGGATCACGATCTTCGCGAACGACGGATCGGGCAGCTCCGGCCCCATCGCGAGATAGAAGCGCGGCGCGCCCTGGCCGACGTACGCGGTGACGATCCTCGCTTCCTTCTGCTTCGCGAGCCACGCCTCGACCTTCTGCGTGGCGGCGCTCGTTTGCGTAATCGACGTGCCGTACGGCATCTGCACCTCGATCAGTACCTCGGGGCGATCGGAGATCGGGAAAAACTGCTTCTTCACGATCGCCATGCCGAGAATCGCGAGCACGAAGAGGGCGACGACCGAACCGGCGACGAGCCATTTGCGGGCGATCACGCGCGTCAGCAGTTGCCGGAAGCGGTTGTAGCGGGGCGTGTCGTAGATCGCATCGTGGCCGCCTTCGAATTTCCTGAGGTTCGGCAGCATCTTCACGCCGAGGTACGGCGTGAACGCGACGGCGACGACCCACGATGCGATCAGCGCGATTCCGACGATCCAGAACATGTTGCTCGTGTATTCGCCGGCGGTGGAGCGCGCGAAGCCGTTCGGCATGAAGCCGACCGCGGTGACCAGCGTGCCGGCCAGCATCGGCGCGGCCGTATGGCTCCACGCGTAGGCTGAAGCAGCCACGCGGTCGTAGCCTTCCTCCATCTTCACGACCATCATCTCGATCGCGATGATCGCGTCGTCGACCAGCAGCCCGAGCGCGAGGATCAGCGAGCCGAGCGTGATGCGGTCGAAGTTCTTGCCGGTCGCGGCCATCACGACGAACACGATCGCCAGCGTCAGCGGCACGGCCGCGGCGACGACGAGCCCCACGCGCCAGCCCATGCTGACGAAGCTCACGAGCATCACGACGAGCAGCGCGGCGAAGAACTTCACCATGAACTCGTCGACGGCCGAGCTGATGTTCACCGACTGGTCGGTGACCTTGGTCAGGCTCATGCCGAGCGGCAGCGCCGCGTTGATCGCGCCGACTTCGCGGTCCAGCGCGCGGCCGAGCTCGAGCCCGTTCCAGCCGTCGCGCATCACGACCCCGAGCAGCAGCGCGGGTTCGCCGTTGTTGTGGATCAGGAACGTGGACGGATCTTCGTAGCCGCGCTCGACGGTCGCGATGTCGGACAGTTTCAGCGTGCGGCCCTGCGAGACGATCGGCGTGTCGCGAATCTTCTGCAGCGTGTCGAACGCGCCGTCCACACGAATGAAGATCTCCGGCCCGCGCGTCTCGACGGAGCCGGCCGGCGTCAGCAGGTTCTGGCCGTTGAGCGCGGCGAACACGTCCTGCGGGCTCACGCCGAGCGTCGCGAGCCGGTCGTGCGACAGCTGCACGTAGATGCGCTCCGCCTGCTCGCCG'], ['gi|142022655|gb|EQ086233.1|396 marine metagenome JCVI_SCAF_1096627390048 genomic scaffold, whole genome shotgun sequence', 'TGCATCGGCGACGGCTACTGGTTCCTCGAGAAAGCGCGCAACTACGCGAGCGAGCGCAAGGTGTTCGGCCGGCCGATCGGCCAGAACCAGGGTATCCAGTTCCCGCTCGCCGAATCGTTCATCGAGCTGGAGGCCGCGAACCTGATGCGCTGGCGCGCCTGCGAGAAGATCGACGCGCGCCAGAATGCCGGCGTCGAGGCCAACATGGCCAAGTACCTGGCCGCGAAAGCGAGCTGGGAAGCGGCCAATGCTTGCCTGCAGACGCACGGCGGCTTCGGTTTCGCCTGCGAATACGACGTGGAGCGCAAGTTCCGCGAAACGCGCCTGTACCAGGTCGCGCCGATTTCCACCAACATGATCCTCGGGCATGTGGCCGAGCACGTGCTGCAGCTCCCTCGTTCCTACTGATTCCGGAAGGATTCCTCTCCATGAAGATGCTCGTACCCGATCGACCAGACCGGCGAGATCGTCGCGCCGCAACAGTACATCGCGGCCGGCATCTCGGGGACGATCCAGCACTTGGCCGGCATGAAGGGTTCAACGGCAGTCGTCTCGATCGACAAGCATTCCGAAGCACTGATCTTCAGCGTGGCCGACTACAGCCTCGAAACGGACCTGCTCCGGCCGTACCCGACCAGGTCAACGCACGCTGACGGCAAGGGCAGCCGGCACCTGAAATACCGGCGTCGATTGCCTGCCGGACACTTCCATCACCTAGTACGAAGCACCATGAATGTCGAGCTTTCCGAATCCTTCGACGCGTGGGTCGGCCGCAGCGAAGGCCATACGGACCGGATTACTCGGGCGCCCGTCCGTCTGTTGCAGGCAACTCTGGACTACGCGACCCCATCCGAACTCCCCGCGACGCTGCCGCCACTGTGGCACTGGCTGTACTTCCTGCCGGGCGAGCGACAGTCGAACATCGGCGTCGACGGTCACCCGCAGCGCGGCGGCTTCCTGCCGCCCGTCACGCTGCCGCGCCGCATGTGGGCCGGCGGACGGCTGCAGTTCCTTCGCCCGCTGGCCGTCGATGCACCCGTGCAGCGCCGCTCCACGATCCTCAGCGTGCAGAGTAAATCCGGCCGCAGCGGCCGGCTGGTGTTCGTCACCGTGCTGCACGAAACGAGCGACGCCGAGGGCGTGGCCATCCGCGAAGAACAGGACATCGTGTATCGCGATGCGCCGCCGCCTGCCACTGCCGGCGCGCCGACACCTGAGCCAGCACCGGCGCCGACCGACGAACAGTTTTCGCGCATCGTCACGCCCGATCCGGTGCTGCTGATGCGCTTTTCCGCGCTCACCTTCAACGGCCACCGGATCCACTACGACCGGCCCTACGCGATGCAGGAAGAAGGCTATCCGGGCCTCGTGGTGCACGGCCCGCTGATCGCGATGCTGCTGCTGGAGGAACTGCGCCGCACGCACTCCGGCAAGACCGTTCGCCGCTTCGAGTTCAAGGCTGTGAGCCCGCTGTTCGACACCGCGCCGTTCACGGTGAACGGCAAGCTCGAAGGACATGCCGCCCGCCTGTGGGCGCGCGGCCCGCAAGGGCGGCTGGCCATGCAGGCCAGCGCCGAACTGGAGTAACGTTCCGACCATGCAAGCTCGCAAAGCTCAACCCGGCCCGCTGAGCGGGATGACCGTCGTCGCGCTCGAACACGCGATTGCCGCGCCGTTCTGCACACGCCAGCTCGCCGACCTCGGCGCCCGTGTCATCAAGGTGGAACGCCCTGGCGTGGGCGATTTCGCGCGGGCGTACGATCACCGCACCCGCGGCCTCGCGTCGCACTTCGTGTGGACCAACCGGTCGAAGGAAAGCCTCACGCTGGACCTGAAGCAACCGGCCGCGCAGGCGGTGCTGGGCGAACTCGTGGGCCAGGCCGACGTGCTGGTGCAGAACCTCGCGCCCGGCGCGGCCGCGCGCCTGGGCCTGTCGTTCGATGCGCTGCACGCGAAGCACCCGCGGCTGATCGTCTGCGACATCTCGGGCTATGGCGCCGACGGCCCGTACCGCGACAAGAAAGCCTACGACCTGCTGATCCAGAGCGAGGCGGCATTCCTGTCGATCACGGGCACGGCAGACGAGCCCTGCAAGGCCGGCAACTCGATCGCCGACATCGCGGCGGGCATGTACGCGTACACCGGCATCCTCAGCGCGCTCCTGCAGCGCGGCGTCACGGGCATCGGCTCGCACGTGGAAATTTCGATGCTCGAAGCGCTGGCCGAGTGGATGAGCTTCCCGATGTACTACGCGTACGACGGCCAGCAGCAGCCGGCCCGCAACGGCGCCGCGCACGCGACCATCTACCCGTACGGCCCGTTCAAGGCCGGCGACGGCCGCGTCGTGATGCTCGGACTGCAGAACGAGCGCGAATGGAAAGCGTTCTGCGATGTCGTGCTGCGCGACCCGGCGCTCGCGACCGACCCGCGCTTCGACGCCAACGTGCGCCGTTCCGAACATCGTGCGGAACTGAAGGCCGTGATCGAACAGGCATTCTCCTCGCTCACCGCGCAGGACGTGATCGCGCGCCTCGACGCCGCGCAGATCGCGAACGCCGCCGTGAACCAGATCGGCGATCTCTGGACGCATCCGCAACTGCACGCGCGCCAGCGCTTTCGCACGATCGACTCGCCGGCCGGCGAACTGCGGGCGCTGCTGCCGCCCGCAACGATCGACAGCTTCGACGCGCGCATGGATGCAGTGCCCGCGCTGGGCGAGCACAGCGCGGCCATCCTGCACGAACTCGGGCGCACCGACGCCGATATCGAACAACTGCGCGCCGCCGGCGTGATCTGAGCCATGTCCAAACCCCTCTCCCCCGTCCATCACGCGCGCAGCCTGCTGTTCGTGCCGGCCACTCGCCCCGAGCGCTTTGCGAAGGCGTTCGACTCGGGCGCCGACTGCATCATCGTCGACCTCGAGGACGCGGTCAGCCCCGACAGCAAGGACGACGCACGCGCGCAACTCGCGCAGCACCTGCCGTTGCTGACGGCCGAGCAGCGTGCGCGCACCGTCGTGCGCGTGAACGCGGTCGGCACGCCGTGGCACGACGCGGACATCGCGCTGCTGCGCGACCGGGCCGCGCAACGCGTAGTCGTGATGCTGCCGAAGTCAGAAGATGCGGGCGCGCTGCGCCAGGTCGCGGAGCAGCTCGGCGCGCACGCGCAACTCGTGGCGCTGATTGAATCGCTGGCGGGGCTCGATGCGGCCGATGCGCTGGCGCGCGACCCGCAGGTCGTGCGTGTCGCGTTCGGGCATCTGGATTTCCAGCTCGACCTCGGCATGCGCGCGACGCCCGACGAGCCGGAGCTGGCCTTTGCGCGCCATGCGATCGTGGCCGCGTCGCGTCGCGCACAGTTGCCCGCGCCGATCGACGGCGTGACCACGCGCACCGACGATGCCGAGCGTCTGACGGCCGATGCCCGACGCGCGCGCGCATTCGGTTTCGGCGGCAAGCTGTGCATCCACCCGGCGCAGGTCGCCGGCGTGAACGATGCGATGGGCTATTCGGAAGACGAGCAGGCGTGGGCGCGCCGCGTGATCGACGCCGCCGCGAAACACGGCGGCGCCGCGTTCAGCCTGGACGGCCGAATGGTCGATCTCCCGGTGATTCGTGCGGCCGAAGCGATCCTCGCCGGTACGCGGAAATGATCCGTCGCTACGACGCGGCAAGATCGGCGACTTCGACAGCCGGCCTCGCGCGGCTCGCGCCGAACGCGCTGCCGGGAAGCCCGGCTCGCCGTTGAACGGCGACACGACCGTCCCGCCGAAGGCGGAGTCGCCGCGACGGTCGCCAAGAGGCTCGCCCCCCGGTCAGACGCCTTCGACCAGCACGGCCCGAAAGCGTCCACCCTTGACGCGATGCTGAACAATGGCCTGGTATGCCGGGCTGTCGTACCACGCGCGCGCGGCGTCCGCGGACGGAAACTCGACGATCACGACCCCTTCCGGGCCGTCACCCTCGAGCGCTTCCTGCGGGCCATACGCGGCCAGCACCTTCAACGGGTGGCCGGCGATCGTCGCGCCGACCTTGTCCTGGTAGAGATCGAGTTCCTGCTGATCCTGCGTGCTTTCA'], ['gi|142022655|gb|EQ086233.1|250 marine metagenome JCVI_SCAF_1096627390048 genomic scaffold, whole genome shotgun sequence', 'GCCCGTGCCGACGCGCCGCATCGTCAGCGCGCGGCGCTCGTGGTCCTGCCACGCGGGCACGGTCATCGCGTCGCCGTGCTCGTCGAACCAGCCGATCTCGGCCATGCCCGGCGCCGCGTCGCGGTCGCCCGACGGATAGCCCGGCGTGGACATCACCGGATACATGCGCCGCAGCGCGGCAAGCCGCGACACGAAGCGCATCAGCGTTACCGCTTCGTCGCTGCGCGCCAGATCCCAGTCGAGCCATGACAGCTCGTTGTCCTGGCAGTACGCGTTGTTGTTGCCGTGCTGCGTGCGGCCGAACTCGTCGCCGGCCACCAGCATCGGCGTGCCGAGCGCGGTGAACAGCGTCGCGAGCATCGAGCGCGCGACGCGTGCGCGCACGTCACGGATCGCCGCGTCGTCGCTCGGCCCTTCGACGCCCCAGTTCGCGCTGCAGTTGTCGTCGCGGCCGTCGCGGTTGTCCTCGCCGTTGGCTTCGTTGTGTTTGGTCGAATACGAAGCGAGATCGGCGAGCGTGAAGCCGTCGTGCGCGGTGATGAAATTGACCGACGCCCAGGTATGCCGGCGCTGGTGGTTGAACAGGTCGGCCGAGCCCGCAAGGCGCGCGGCGAGCTCCGGCCGCTGGCCCGGGTCGCCGCGCCAGAAGCGCCGCACGGTGTCGCGAAAGCGGTCGTTCCACTCGGCGAAACCGGGCGGGTGGCGGCCGAGCTGATAGCCGCCGGGGCCGAGATCCCACGGCTCGGTGATCAGCTTGCGCTGCGCGAGCACCGGGTCCTGCCGCAACGCGTCGAAAAAACCCGCGCCGGGATCGAAACCGTGCTCCTCGCGGCCGAGCGTCACGCCGAGGTCGAAGCGGAAGCCGTCGATGTTGAACGCGGTCGCCCAGTAGCGCAGCGAATCCATCACCATCTGCACGACGCGCGGATGCGACAGGTTCAGCGTGTTGCCGCAGCCCGTTTCGTCGACATGAAAGCGGCGGTTGTCCGGCATCAGCCGGTAGTAGCTCGCGTTGTCGAGGCCGCGCCACGACAGCGTCGGGCCGAGCTCGTTGCCCTCGCACGTATGGTTGTAGACGACGTCGAGCACGACCTCGATGCCGGCCGCATGCAGCTGGCGGATCGCGATGCGCATCTCGTCGAGCCGCCGCGTCGCGAGATACGCGGGCTCCGGCGCGAAGAACGCGGCCGTGTCGTAGCCCCAGTAGTTGCGCAGCCCGCGGTTCACGAGCGCGCGCTGCTGCAGGAACGCGTGGACGGGCAGCAGCTCGACCGTCGTCACGCCGATCGACAGCAGGTGATCGATGAACGCCGGATGCGCGAACGACGCGAACGTGCCTCGCTCGGGCGGGCGCAACCCGGCACGCCGCATCGATGCGCCGCGCACGTGGGTCTCGTAGATCACCGTATTGCGCCACGACACGCGCGGGCGCCGGTCGGTGCTCCAGTCGAACGCTTCGTCGACCACCACGCACTTCGGCATCGCGGGCGCCGAGTCGCGTCGGTCCATCGACAGGTCCGCGCGGTTCGAATGCAGGCGATAGCCGAACAGCGCGTCCGACCAGCGGAACTGGCCGACCAGCTTGCGCGCATACGGGTCGAGCAGCAGCTTGGTCGGGTTGAAGCGATGGCCGTGCTGCGGCTGGTACGGGCCGTCCGCGCGAAACCCGTACACGGTGCCCGGATGCGCGTTGGGCAGGTAGCCGTGCCAGATCTCGTCGGTGCATTCGGGCAGGTCCAGGCGCGCAAGCTCCTTGCGGCCGGTCGGATCGAACACGCACAGCTGGATGCGCTGCGCGTGCGCGGAAAACACCGCGAAGTTGGTCCCGAGGCCGTCCCAGGTCGCGCCGAGCGGATAGCTGCGGCCGGATTCGAGACGGGTGGGCAGGGCGGTCGGCATGGGGCGGATCTCCGTGTCGAAGGCACGATTCATGAGGCGGGCGTCAGCCACAGCGTCGCGAGCGGCGGCAGGCGCAAGGTCGCCGACCACGCTTCGCCGTGGGCGGGCACGGCTTCGGCCCACACGGCGCCGTCGTTGCCGGCGTTGGTGCCGCCGTACGGCGCGGCATCGGTGTTCATCAGTTCGCGCCAGTGGCCGGGCGCGGGCAGCCCGACGCGATAACCGGCGCGCGGCACGGGCGTGAAGTTGCAGACCGCGACGACGAGATGCCCCGCGTCGTCGCGGCGCGCGAACGCGAACACGCTGTTGTCGCGATCGTCGCCGATCAGCCAGGAGAAGCCGGCCGCGTGGCAGTCGAGCGCATGCAGCGCCGGTTCGGCCGCATAGGTGCGGTTCAGGTCGCGCACGAGCCGCTGCACGCCGCGATGCGCAGGTGCGTCGAGCAGGTCCCAGTGCGGCGTCGCGTCGTGCGCGAACTCGGCCCATTGCGCGAATTCGCTGCCCATGAACAGCAGCTTCTTGCCCGGGTGGGCCCACATGAAGCCGAAGTACGCGCGCAGTGTCGCGAGCCGCTGCCATGCGTCGCCGGGCATCTTCGCGACGAGCGAGCCCTTGCCGTGCACGACTTCGTCGTGCGACAGCGGCAGCACGAAACGCTCGGAGAACGCGTACACGAGCCCGAACGTCATCCGGTCGTGGTGATAGCGGCGGTGGATCGGGTCTTCGTGCAGATACGCGAGCGTGTCGTGCATCCAGCCCATGTTCCACTTGAAGTCGAAGCCGAGCCCGCCGTCGCCGGTCGGCGCGGTGACGCCCGGCCACGCGGTCGATTCCTCCGCGACGGTGACGACGCCCGCCGGCGCGGCCGCACCGTGCAACGTGTCGTTCAGCATGCGCAGGAATGCGACCGATTCGAGGTTCTCGCGGCCGCCGTGCACGTTCGGCACCCATTCGCCTTCCGCACGCGA'], ['gi|142022655|gb|EQ086233.1|322 marine metagenome JCVI_SCAF_1096627390048 genomic scaffold, whole genome shotgun sequence', 'TGCGGGCGGCCTGTGGGCGGTCGGCGCCGGGCTGTCGCAGCCGCTGTTCCACGGCGGCGCGCTGCTGGCTCACCGCCGCGCGACGCGCGATGCGTACGACGCAGCCGTGCTGCAGTACAAGGCGACGGTGCTGTCCGCATTCGGCGACGTTGCCGATTCGCTTGCCGCGCTGGAAAACGACGCCGAGGCGCTGGCCGCGAACGAACTCGCGGCGCGCGCGGCCGGCGAAGGCTTCGACGAAACGGTGCAGCGCCGCGCGCTCGGTGCCGTGCCGATGACCGCGCAACGGGCGAGCGAGCGGCAGTACCTGAATGCGGAGCTCGATTCGGTGCGCGCCGCGAGCCGCCGGATGACCGATACGGCGGCACTCCTGCAGGCGATGGGCGAATTGCCGCCCGACGCCCGCACGGCAGTCGCGGCCCGGCAATGACGGCTGCTTGCG'], ['gi|142022655|gb|EQ086233.1|88 marine metagenome JCVI_SCAF_1096627390048 genomic scaffold, whole genome shotgun sequence', 'GGACCGGCGAGGAAGTGGTCGGCGTCGAACAGGACGATCGCTGCGTCACGTTGCAGGTGCGCGGTGCCGACGGCCGGCAATATGCGCTCGATGCCGACTACGTGGTGGCGGCCGACGGCGGGCGCAGCCCGATGCGCGACTGGCTCGACATCAAGCTGGCCGGCACGACGCACCCGATCAAATGGGTCGTGGTCGACGTGAAGAACGCCGGGCTCGACCAGCCGTGCACGGCGCTGAACTGCGACCCGCGCCGCCCGAACGTGTGCATCTATCTGCCGTTCAATTTCCGGCGCTGGGAGTTTCTCGTATTCCCGCATGAAGACGCGGAGGCGATTGCCCGGCCCGAATCGATCCGCGCGCTGATCGCGCCGTACGTCGACGACGTCGAGCGCATCGAGATCGTGCGCGCACGGACCTATACGCACCATTCTCGCGTGGCCGAGCGCTTCGTGGCGGGCCGCGTGGCGCTCGTCGGCGACGCCGCCCACCTGAGCCCGCCGTGGATCGGCCAGGGCCTGAATGCGGGCTTGCGCGACGTCGGCAATCTCGCGTGGAAACTGGCAGGCGTCGTGAACGGCACGCTCGATCCCGGCGTGATCCACACCTACGAATCGGAACGCCGCGACCACGCGAAGGCGATGATCGATCTCGCGGACACGTTCGGCGCGATGCTGATGCCGACCAACCGGCTCGTCGCGTTTCTGCGCGACCGGTTCCTCGGGCTCGCGCGATATGCGCCCGGCCTGAAGGACTACGTGCTGCAGATGCGTTTCAAGCCGATGCCGAGCTATACGCGGGGCGTCGTGCTGCCGGGCGCGCCGGGCGACGCGACGGGCAGGATGATCGCGCAGCCCGACGTCGAAACGGCCGACGGCGTGCGCCGCAAGCTC'], ['gi|142022655|gb|EQ086233.1|594 marine metagenome JCVI_SCAF_1096627390048 genomic scaffold, whole genome shotgun sequence', 'GCCGCGGGCGCCGGACGGAGCACGCGCATGATCCCGCTTTCCCATCCGTCCTTCCGACCGCAACCATGATCGGCGAAATCGACATCTTCGGCGTATTCGTGCCGGCCCCGCTCGTGCTGATGCTGATCGCCTACCTGATCAACATCGTCGTGCGCGCCGTGCTCGAGCGCGTCGGCTTCTACCGCCTCGTCTGGCACCGTTCGATCTTCGACCTCGGCATCTACGTATTCGTGTTGGCCGCCGTCGTCATCGTTTCCCACCATCTCGTGGCTACCTAACGTGAAAAAAACCTGGCTCTCGGCAGGGCAGATCCTGCTCACCCTGATCGTCGTCGTCGTGGCTGCCATCGTGCTGTGGCGCATCGTCAACTACTACATGTTCTCGCCGTGGACCCGCGACGGTCACGTGCGCGCCGACGTGATCCAGGTCGCGCCGGACGTGGCGGGCCTCATCACGTCCGTGCAGGTCGCCGACAACCAGGAGGTCAAGCGCGGCCAGGTGCTGTTCGTGATCGACCAGGCCCGCTACACGCTCGCGGAACGGTTTGCCGAAGCCACGCTCGCGCAGCGCCGCGCGACGCTCGCCCAGGCGAAGCGCGAGTACGCCCGCAACCTGCAGCTCGGCAACCTGGTCGCGAGCGAACAGGTCGAGGAAAGCCGCACGCGCGTCGAACAGGGCGAAGCCGCCGTCGCCGATGCGCAGGTGTCGCTCGACACCGCGAAGCTGAACCTGCAGCGCACGACGATCGTCAGTCCCGTAGACGGCTACCTGAACGACCGCGCGCCGCGTGTCGGCGAATACGTGCCGGCCGGCCGCGCGGTGCTGTCGGTCGTCGACCGCAATTCGTTCCGCGTCGACGGCTACTTCGAGGAAACCAAGCTGCGCGGCATCCACATCGGCCAGCCGGTCGACATCATCGTGATGGGTGAGCCGCGTGCGCTGCGCGGCCACGTACAGAGCATCGTCG'], ['gi|142022655|gb|EQ086233.1|293 marine metagenome JCVI_SCAF_1096627390048 genomic scaffold, whole genome shotgun sequence', 'ACTGCCGCGTTCAGCGCGAGAATGTTCGTCTGGAACGCAATCCCTTCGATTACCGTAATGATTTCGGCAACCTTGCCCGAACTGCTCGAAATGGCGCGCATGGAGTCGACCACCTGGTTCACCACTTCGCCGCCGCGCATCGCAACCTCGCAGGCGCTGCCTGCGAGCGCGTTCGCCTGCCTGGCGTTCTCCGTATTTTGACGCACCGTCGCGGTCAACTGCTCCATGCTGGCCGCCGTTTCCTCGAGTGAAGCCGCCTGCTCTTCCGTGCGCTGCGACAGATCCAGGTTGCCCTGCGCGATTTCGCCGGCCGACGTCGTGATCGATTCCGCGGTCGATTGAATTTCCGACACGATGCCGCTCAGTTGCCGCCGCATCGATTCGAGCGACGCCATCAGGCTGCCGCGATCGTTCGGCGCGACCGGCACGGGTGCTTCGAGATTGCCTTCGGCAATACGCCCGGCCACGACCGCGGCGTCGGCAGGTTCACCGCCCAGCGACCGCATGATTCCGCGCGTGATGACGGTTCCCAGCACGATCGACAGGATGACGGTGATGACGCCTGCTGCCGCGAGCGTCAACTTGGTCAACGCAGTCAAGCTCGCCACGTCCCCTGAACGCTGATCGAGCAGCGACTGCTCGGCCTCGTTCAGCTCGGCCGCCACGGCTCGATAGCGATCCATGAACTGCTTGTCGTCGCCCTGCTTGAAGTAGTCGATCAGCACATTGGCAGGCTGCGTGCCTGCATTGACGTCACGCCGCATGGCGATCAGCTTGTCGTCGACCTCCGCCACCTTCCGGTGCATGTCGCGCAGTGTCTCGAGACGACGCTGTTGCGCTGCATTGTCCGAAGTGAGGCTGCGGACGAGATCGAACGACGTGGCGAACTGCTTGAGGCCGGCCTTGTAGGGCTCCAGGAACCGGTCATCCCCCGAGGCCACGTAGCCGCGCACCCCTGTCTCCAGGTTGACCATGCTGGTCAGCATGTCGTCGTTCGCTCGCAGGACCTGGTAACTATGAATGTTCCAGCCGTTCGCCTGATTCAGCTTCAGAAAATTGACGATCGAGATCGCGCTGCCGATCAACGATATGAGTACGACGATACCGAATGCTACGCCCAGCTTCCTGCCGACTGTCATGGAGCCCATGCTCTTCCTCCGTGTATTGCTGCTTTGTCGGCACGCAAGCAAACTTACTGTAATGCACGCATTCCCCGCCTGAAGAGACATTTCGCAGGACGGTCGAATTTATCGGTCGGCTTGCCCTGACACGCAGTCGCATCAGGTGACTATTCGTCCTCGCAAACGATCGCGGGCGGATTATCTTTTTATCGGTTGCCGCAAAGAACATTGCGCATGGTGTGAATCCCTCATCGCCTCACGCAGGTCGATGCGATGCGCGGCCGCGAATACGACCGTTCTCGTCACCAGGAAAAGAGGAATCGGCAAGGAGAGCGCGGCCAGGTTCTCCATGTCGTGCCGTCTCGTACGGATTTCCATACACCCGTGTCACGATCCGTTGACACACGGGTTGCAGCACTGCCCGCAAACCCTTGACGGAACGAGCGGACCAGATGGCATGCGTATTGCGTGCATTGCGCGGTCGATGCCGGTCCAGGGCGTTCAATACCGGCTCCCGCAGCGTGATGGGCTCTCGACACAGATCGACAAAACAGTTATCCCGGCGGATTTCGAACGATGAACGACACCACGCGACAAGCGCCGACATGGCGGCCGATCCAGTTTTTGCCGACCTTCCTTTATTTGTTCGACGCCCAACTGGACGAAGCGCGTGGGATACAGGTCAAACTCATCACGCACAAAATGGAGCCGCACGCGCTGGACGGCTCGATGCTCAAACGAATCCGGCATTACTACGCGCGGCAACGAGGCACATTACCGATTCAGGACGAGCAGTTCATGCGCTGGCAAGCAGAGGCCACGACCGCGGAGCAGCGAGAAATGCTTGCTCGCGTCAGTGTGTACGCCGATGAACTCTCCGGGCTGTTCAATTCGATCATTGCGGCAATCGATGCGCTGTCTCGAGATGCGCTCGACAGCAGGAGACTGGATGCGTCAACCTCCGCCCGACCTCGCATCGCGGCATCGCCATGACGCCGTCACATCGGGGCCCATGCCGACGGTGCGCAACGCTTCGTCCGTCACGTACGGAATGAGACCCGTCGCGCGAATCTTCGCAGCGATCGTGCCGCGGCAAGCCGCATCGTCCGGCGCGCAATAGTCGATCGAGATCACCGGTATTGCGTAGCGCGCTTCAATCGCCTTTGCTTGCGCGAGCAGCCAGTCTCGATCCGCGGCAGGGACGGCGCCGTAATGCCGGTTGCGCTGATCCCAGTTGCCGAACAGCGATTCGAATGCAACCGCGGCGACCGCGTCGTGCACCTTCGGCAAGATCTCGAAGCCGCGGTTCAGGATCAGTTGCACAGTCGGGTAGCGCGATTTCACGGCGCGGATCACCGCGACCAGGCCTGCCTCCTGCTTCGCGCGTGCCGCTTCCGTCTTCGCGACGAGCTGGTACGAATCCAGCGTATCGAAAAAGAAGCCGCGGTAACCGTGCGCCCACAGCGGCGCGATCACCTGTTCGACGAAAAACGACGGCCACCCCGGCGCCGACTGATCGACGACCGCCGACGCCCATGTCGTATTACGCCCGAACAACCACTGTTTCGGCATCCTGCGCGCATAGTCACGCTCTTGCGTGACTTCGCCGACGCTCACATAGGCGAACCACGCAGGGCGTCGCACGTCTTGCGCACGTGGATCGAAGCCGCTGTCGGGTTCGACGACCGCGATATCGAACTTTTCCAGCTGGCGAACCGGCACGTCGTTGCCGTAGAAAAACGCGACGGAGTGCGGACGCATCGCGTCGGCCGGATCGCACGCGTCAGGCGACGATACGGGCTGTGCGGGCTGCGCATAACCTGCCCGCCCGCCCAGCGCGCCGATGATGACGAATGCGATGACAGCCACGGACGATGCGGTCGCCATCATCGACGGCCTGCGCGACGGACGAATGCGGAGTGAAAACATATCCCCTCAATGACGCAACATATAGGTTTCGTATTCGAGGCGGCCGAACTTGCGGTCGAGCAGCAGCACCGCCGCGACGTCGAGAATGAGCAGTGCAAGAGCAAAGCCGTAGCCGTATGCATCCGGCGTCATCCATAGCGTGATACCGGTCAGCACGCCGTTGAGCGCGACGAAGGCCGCCGACAGCGCCATGACCAGCCGGCGCGCGTCGAGATAGAAGAATACGTTCAGCAAACCCAACAGCAGCACCTGCAGACTCGCGGCGATCACGTCGACGAGCAGAAGCGGAAGGTACAGCGTCGAGATATGCAGGGCCGCCAGCAGCCAGTGACCGAATGCGACGATCAGCACCAGCACGGCAGCCTGCACCTTGATGATTTCATACAGCCCGGCGCGCACGCTGCCGACCATCATGTCGCGCATGTCGTTGATGTGCCGCAGCGTCGCACCGCTGCGCACGGCTTCGTAAAACGCATCGTAATACTCGACGAAGTCCGCCTCGATGCGCACCAGAAACGTCGCCATCCCGGGCATCACGCAAACGTACGCGATGAACACGGGAATGTCGTAGATCACCGATGCATGCAACGGCCCGATCACCTGCGCGCCCGTGCCCCGCGCATACCAGAACATGAACTTGTCGAGCCATACGCCGAGATTGAACAGCAGTCCGACGAGCGCCAGCGTCGGATACGCGAAGCGCCGGTCGAGCATGTCGAACGAGACGAAGCGATCGCTGCGGTAGTTTCGGTAGATCAACCCCGAAAGCCCGGTAAGCAGGACGAGATGCCCGGCGACGAAACCGCCGAGCAGGCCGCAGATGCCCTGCCGGTTCAGCATCAGCGCGAACGCGACCGTGCAGCCGTATCCGACCAGGAATACCGCAAGAATCTGTCGATACTGCTTCACGCTGGACAAAAATATCACCGCGATCCAGATATTGCTGACGATGACGAATCCCGCGACCATCAGCAGCCGATACAGCAGCGGCTCGCCGCGAAAACCCGCCCCCACCGCGATGAAGCCGACGCATCCCGACGCCACCGTGGCAATCAGCGCCACACCGTTATAGTTCGACAGCACGAGATCGTCGCGCTTCTCGAACAGCCGGTCGGAGATGAAGCGCGTGAACGACAATTGCAGCGGCCCGGTCAAAATCAGGCTGCACGCGATCAGGTAAGTCACCGACACCTGAAACTGGACGATCGCATATTTCGGTATCACGAACGCGACGCTCATCACGCCGATGATCAGAATTCCGAATATAGAAAGAATCAGCGGACCGGAA'], ['gi|142022655|gb|EQ086233.1|75 marine metagenome JCVI_SCAF_1096627390048 genomic scaffold, whole genome shotgun sequence', 'TATAGGCCTGGACCTGCGTGCGGGCGAGATCGGCGTCTTCGCCGAAGGTGCCGTTGATGCGTGCCCAGCGCGGTTCGGTTGCCAGATCGGCTTGCGGTGAAAGCGCCACGGTGATGCCGACGGCGCGATACTCCTGGCGCGCGATGTCGCCGAATTTTCGCGTGAGCGCCGTATCGCCGATCGCGGCGAAGCCGAGCGTTTCCGGCCACTGCGAGAAACCGCTGCTGCCCGCGCTTGCGCCAAGCGTGTACTGGAAATGATTGCGCGGATCGGAGCTGATCGACACCGGGATGCCGAGCCGCGACTGCTCCGCCAGCGTCTGAATCTGGTTCGCCTGGTCGGCCATGGTGCGCGCATCGGCACTCATGCGCGTGATATAGGTGTTGACGCCCCGCTGATTGATGAGCGTCTTGAGCGCCGCCAGGTCGTACGCGGAGCCGGTGCCCGCACCGGTCGTGTCGTTCAGCACCGGCGCGGTGCCGTGCATCATCAGGCCGGCTTTCTCGGCCAGCGTGAGGCGGCCGACCAGGTCCCGCGCACGCACTTCGGCACTCAGCCGCCAGTCTTCGTACGGTTCGATCTGACCGCTCTTGTCCATGTCCTTGAACTTCAGGCCGTCCCGGGTGATCAGGTTCAACGTGGTGTAGCCGAAGTCCTGCTGCGTGACAGGCGGGGCAGAGGAGTCGACGCCGCCGCAGGCAAACAGCCCCAGCGTGAGCGCGGTGCCGGATGCGGCCCGTGCCGATCGGCGAATGGCTGATCTCGTGATGCGTTGCATTGCTTGTCTCCTGAATCGGATTTTTGGCGCGGCCGTGATGCATGACGCAGGGCCGCCGGCCACTTTACCGAGCTGTTTCAGGGGACGTTTTGCCGCCGGGTGCAGTTTTTGCCCCGATGGGGCGCGATGTGTCGGGCCATGCGGTCGGGCGGATTTTCAACGCGGTCCAGCGGCTTCGGGAGCCGGCTTGCCGCTCGTCCGCCCGCGCACGCTACGCATGAACGGCCACCCGATACCGGGTGGTCTGTCTATAGACGGCGTCCGGATAAAGGATCACGTCGCCGCTCAGGCCGGGCATGTTGACCTGGTCCGGAAAGCCGCCCGCCTCCAGGCACAGCGCCGCGTGTTGCGTGCAACGTGTGCCGCCGCTCACGCGCAGGCCATCGAGATAGTTGCCGGTATAGAGTTGCAGGCCGCGCTGATCGGTCGACACGACCAGCTCGCGGCCGCTTTCCGGATCGTAGACGCGTGCGACGGGCCGGGCCTCGTGCGCGCCGTCGCCCAGCACGAAGCAATGATCGAAGCCGCGTGCACGAGCCAGTTGCGCGTGCGGCCAGTCGAGGCGCGCGCCGAG'], ['gi|142022655|gb|EQ086233.1|454 marine metagenome JCVI_SCAF_1096627390048 genomic scaffold, whole genome shotgun sequence', 'TCGCGGGCCTCGCGCTGCCGTTCGCGGCGCTCGCGTTGCTGGAGGTGGTCGTGCGGCAGGGCTGGCTGCCGAACCATCTCGTCCCGGCGCCGAGCGAAATTCTCGACACGCTCGCCCGCCTGGGCATCACGCGCGTGGCGCGTCATGTCGGCGCGAGTACGCTGCGGGTCGCGGCGGGGTTTGCGGCGGGCGCCGGCTTGGCGCTCGTCGTCGGCGCCGCGATGGGCCTGAGCCGCCGGATCGACGCGCTGTTCGAACCGACGTTCCAGGCGCTGCGCGCGATTCCATCGCTCGCGTGGGTGCCGGTGTTGCTGCTGTGGCTCGGCATCGACGAAGCACCGAAGATCACGCTGATCGCCATCGGCGCCTTCTTCCCGGTGCACCTCGCGGTGGTCGCCGGCATTCGCGACGTCGACCGCAAGCTCGTCGAACTCGGCGCGGTGTACCGGCTCGGCCCGTTCGCGCTGTTCCGTCGCATCCTGCTGCCGGCCGCGCTGCCGCAGATCGTCACCGGCTTGCGCACCGGTCTCAGTCTCGCGTGGATGTTCATGGTCGCCGCGGAGCTGATCGCGGCCACGCGCGGGCTCGGCTTCCTGTTGAGCGACGGCCGCGAAACCGGCCGCCCGGATCTCGTGTTCGGGGCGATCCTGCTGCTGGCGTTGCTCGGCAAGCTGACCGACGGCGCGATGGCGCGCATCGAGTCGCACTGGCTCGGCTGGCGCGACGCCTACGACCACACGCCACGCAAAGGGTCGGCATGAGCACGCGTTCTTCTGCACCCACGGCGGCGAGCACCGCGACACCGCTGCTCGACCTGCGCATCACCCGCAAGCTTTACGGCGATCGCACGATCCTCGCCGACGTCCCGCTGCAGGTTGCGCGCGGCGAGATCGTCTGCGTGGTCGGCCCGAGCGGTTGCGGCAAGAGCACGCTGCTGCGGATCGTCGCCGGCCTCGACACCGATTTCCGCGGCAGCGTGAAGCTGGGCGGCGTCGCGCTCGACGGCCCCTCCCCGCGTGCGGGCGTGATCTTCCAGGAGCCGCGACTGCTGCCGTGGCTGTCGATCGCGGACAACGTCGGCTTTGCGGCCGGCCCGCGCGGCGGGCGCGAGCCGGCCGTCGCCCGGCTGCTCGACGAAGTCGGCCTGGCCGGGGTCGCCCGGCAGCTGCCGGCCACGTTGTCGGGCGGGATGGCGCAGCGCGCGGCGATCGCGCGCGGGCTGTTCGGCGAGCCGGACCTGCTGCTGCTCGACGAACCGTTCAGCGCGGTCGATGCGATCACCCGGATGCGGTTGCAGTCGCTGCTGCTCGATGTCGTCGAGCGGCACCGGACGGCCGCGATCGTCGTCACGCACGATCTCGACGAAGCGCTGTATCTCGGCGATCGCGTGCTGATGCTCGCGCCCAACCCGGGCCGCATCGACGACGAGATCCACGTCGGGGTCGTCCGGCCGCGCGATCGACGCGACCCGGCGCTGGCCGTGCTGCGCGCACGGCTGCTGGACGCATTCCAGCAGCTTCAGGATCGTGCCGACGAGACGAAGCGCCGAACGCACGACCTTCAGGCCTCCGAAGCCTGACTTCGCGCCGGCCGATTCACGACCGGCGTCGCCCGGCCTCGACTCGGCACGCGTTCAGCGCCGGCATGACGCTTCCGTCATCGGATACGGGTACGACAGGAATCGCAGTCGCACCGGAACCACGATCGATCGGTGCGCGGAAAATCGCGCGCCCGCTCACCCCGTAGCGGCGTGACAGGCTGCAACGTACCGGTGCACCGGCGCACTTCAACCGTGCGTATGCCGCAACTCGCCGTCGATCGTCTGCGGCAGTCGCAGCAGGTTGAAGATCGGGCATACGGCCTCGACTGCCTGATGCAGTGCACGAATCGATTCCGGCGGTTCGGGCGAGACGATATCGAGGGTGTAGCGGAGGTTATGCGGGAACACCGGCACATGCTCGAAACCCGGTTGCTGCGCGAGTGGATGCTGGTCGCCGGTCACTTCGACCTCGATCGAGTCGATTTTCAGGCCGCGCTCCGCGGCCTGAATCAGCGTGATGTGCGTCAGGCAACTGCCCAGCACGCCGAGCTGCAGCTCCGGCGATGCCGGCCCGAGGTTGTAGCCCGCGAAATCGGGCGGGCTGTCGCTGATCACCTGGAAATCGCGAATGCGGATCTCCCGCACGCCGCTGCGGCCCAGCGCGCGCACGGTCGCTTTCAGCGGGGTGGCCTTGAGTTCCGGATTGCTGCGCGCGGCTTCCTTTTTCGCGAGCCAGGCGTCACGCTTTTGTTCGAGATAGTCGTTCAGTGTCGTCATGTCGGGCCGATACGGTCGCAATGACTGGCCACGCACACGGCGGCCAATCGGGAGGGAGCTTCATGCTATTCCCTTCCGCGACCGCCACTAAACGATCAATCCAGCAAAGCAATTCGCAGTATGTGATGTCGCATTGCGGCACGCGCGCGCGGGAATTTCAACTGTCGTTCATCCACCTCGAGTTATCCACAATTTCCGTGCATAACCCTGTGGAGAACGTCGGAGAAATTGCCCGTCCGCCTTTACCGGCAAGGATCGCGGCGACGCGGTGCTGCCTCGCGGGCCCTGCACGCAGACAGCGTCGCATCGGGTTCGGCGATCGTCAGATTGTGTGCTTCACCGGCGCCGGCGCATCGATCGCATCGACGTCGGCAGTCACGAAGTCCGCACCGGAAACGTGCCGTGTCGACACCGATGCACCGTGTGGGACACCCGTCCTGCCCGACGATCCCGCTCCGGCGCCGACATCGATGCATCAGGCGAGCGCCTCGTCACGCAGACGGAATTGCGCAACCGCCGCACTCAGCCGCGCGCCCTGTTCGTCGAGCGACAGCGCCGCGGCCGCGGCCTCCTCGACCAGCGCGGCATTGCGCTGCATCGTCTGCTCCATCTGGATGACCGCGGCGTTCACCTGCTCGATGCCCGACGCCTGCTCCTCGAACGCCTGGCCGGTTTCGCTCATGATCATGTTGACGCGCTCGACCGCCGCGACGAGTTCGGCCATCGCCGAGCCGGCCAGTGCGACGAGGCCGCTGCCGTCTTCGACACGCTGCGCGGAATGGCCGATCAGTTCGCGGATCTCCTTCGCCGCCGACGCGCAGCGCTGCGCGAGGCCGCGCACTTCCGTCGCGACGACCGCGAAGCCGCGCCCCTGCTCGCCGGCGCGCGCGGCTTCGACGGCAGCGTTCAACGCAAGGATGTTGGTCTGGAATGCGATGCTTTCGATCACGCCGACGATCCCGGAGATCCGCGTGGAACTGAGCGAAATCGCCGACATCGTCTCGACCACGCGCTGCATCGCCTCGCCGCCGCGCGACGCGATGCCGGACGCGCCTTCGACATAGGTGCGTGCATCGCGTGCGTTGTCAGCGTTCTGGCGCACGGCCGCCGTCAGTTGCTCGACGCTCGCCGCCGCCTGTTGCAGCGAGACGGCCTGCTGCTCGGTGCGCGCCGACAGGTCGACGTTGCCGCTCGCAATCGTGCGGACGTCGCCGACGATCGTCTCCGTGCTCGCGCGCACCTGGTTCACGGTGACGACGAGGCCGTCCTGCATCCGCTTCAGCGCATGCAGCAGATAGGCCATCTCGTTCTCGCCGGGCACGACGACCGTTCCGGTCAGGTCGCCTTTCGAGATCTTCTCGAACTGGCCGACCGCGAGCTTGATCGGCTCGATGATCGCCTTCGCGAGCACGCGCTGCGCCAAGAAGCCGACGACGAGTGCGAAGGCCGCGACCGCCGCCATCCCCCACACGATCCGGTGGAACTGCACGCCGGCCGCGTCGTAGCGCGCCTTTTCGCGCGCGACCTGGAACGCCTCGAGCGCATCGATCGCCTCCTGATAGGCGGCGAACAGCGCGGGCGGCGCGGTACGCTGCGTGTCGAGGAAGCCGAAACCGTCGTCGGCGTCGAGTTGCGAGAGGGCCTTCAGGAACACGCCGTCGAGCAACGCCCGACGGCGATTTTGGAGCGTGTCGAAGAGCGCCTGCTCGTCGGCGTTGCGCGCGTGCAGGCCCGCATAGGCATCCAGTTCGTCGTTGCTCTGCTTGAGAAGCGTGCGGAGTTTCGCGATCTCTTCCTTGCCCGAGTGGCCGGCGCTGATGATCTGCGCGACGTCGCTCATGCGTTCGCGCATCACGAGCATGCGCTCGGAGCTGGTCTTCAGGTGCAGCAGCGACGCGGTGTCGTCGCGGTACATCGCCTCGAGCGAACTGTTGCCCATATAGAGGGCCGCGATGCTTGCGCCGACCACCAGCACGAGCAGCACGGTATAGCCGGCGATGGTCGCGACGAGACCACCACGGATAGTGAGTTGTTTTCGCATGACGTTCCCTTGCGCCGGCCGGGCGCGGCCAGCGGCGGATGTGGATTCCGGATCACGAAAGACGCGCGCAGTGTCGCAACACGGGGCGCATGGGCTGCGAACGGGTTAACGGCGGCGGGAACGGGGAGGTTTTACTGATACGCGACGTGAATCTTGACGATTGCGACAGGGGCGTGGGGATGAATGCGCCCGATTTTCGCCCCCAG'], ['gi|142022655|gb|EQ086233.1|16 marine metagenome JCVI_SCAF_1096627390048 genomic scaffold, whole genome shotgun sequence', 'GTCGATCGACACGACGCTCGCGCAGCGCGACGCGAAGGCCGCGTGAGCGCACGACGCGCGTCACACACCACGAGCACAACGAACACGACCCCACTCTCACGGAGCCGACCATGGCCGACCTTCGCTGCACCATCGCGGGCATCACTTCGCCGAACCCTTTCTGGCTGGCGTCCGCGCCGCCGACCGACAAGGCCTACAACGTGAACCGCGCGTTCGAGGCGGGCTGGGGCGGGGTCGTCTGGAAGACGCTCGGGCTCGATCCGCATGTCGTCAACGTCAGTTCGCGCTATGGCGCGGTGCAGTGGAACGGCCAGCGCATCGCGGGGCTGAACAACATCGAGCTGATCACCGACCGTCCGCTCGACGTGAACCTGAGAGAGATCGCGCAGGTGAAGCGCGACTGGCCGGACCGCGCGCTGATCGTGTCGCTGATGGTGCCGTGCAACGAGCGCGACTGGAAATGGATCCTGCCGCTCGTCGAGGATACGGGCGCCGACGCGGTCGAGCTGAACTTCGGTTGTCCGCACGGGATGAGCGAGCGCGGGATGGGCGCGGCGGTCGGGCAGGTGCCCGAATATGTGGAGATGGTCACGCGCTGGGTGAAGGAAGGCACGAAGCTGCCGTGCCTCGTGAAGCTCACGCCGAACATCAGCGACATCCGGATGGGGTCGCGCGCCGCGTACAAGGGCGGCGCGGACGGCGTGTCGCTGATCAACACGATCAACTCGATCGTCGCGGTCGATCTCGACCATATGGCGCCGATGCCGACGGTCGACGGCAAGGGCACGCACGGCGGCTATTGCGGCCCGGCGGTCAAGCCGATCGCATTGAACATGGTCGCGGAGATCGCACGTGACCCGGAAACGCCGAACCTGCCGATCTCGGGCATCGGCGGCATCTCGTCATGGCGCGACGCGGCGGAGTTCATGGTGCTCGGCGCCGGCAGCGTGCAGGTGTGCACCGCCGCGATGCATTACGGATTCCGGATCGTGTCGGACCTGGCCGACGGATTGTCGAACTGGATGGACGAGAAGGGCTACGCGACGCTCGACGACATTCGCGGCCGCGCGGTGCCGAACGTGACCGACTGGAAATACCTGAACCTGAAATACGACATCAAGGCGCGTATCGACCAGGACCGCTGCATCCAGTGCGGGTTGTGCCATATCGCGTGCGAGGACACGTCGCACCAGGCGATCACCGCGACGAAGGACGGCGTGCGGCATTTCGAAGTGGTCGATTCGGCGTGCGTCGGGTGCAATCTTTGCATGCATGTGTGTCCGGTCGAGCAATGCATCACGATGGAGCGTGTCGATTCGGGCGACTACGCGAACTGGACCACGCATCCGAACAATCCGGCGAGCGCGGAGGCGGGGGCGAGTGCAGGCGCGGCGGCACCCGAGAAGCACGCGAAGAAGGCTGCTTGACGGCGTCCGGCGATGCGGGCCATCCTGCATCGCCGCCTTTCGTTCCACCCGGGCCGGCATCGAGTGATGCCGGCGTTGACGTTTTCGTGGAGTGAGTCAGATGAATCACGCAGCGAATCCCGCCGATCCCGATCGCGCCGCGGCGCAGGGCGGCAGCCTGTACAACGACGATCTCGCGCCGACGACGCCGGCGCAGCGCACGTGGAAGTGGTATCACTTCGCGGCGCTGTGGGTCGGGATGGTGATGAACATCGCGTCGTACATGCTCGCGGCCGGGCTGATCCAGGAAGGCATGTCGCCGTGGCAGGCGGTGACGACGGTGCTGCTCGGCAACCTGATCGTGCTCGTGCCGATGCTGCTGATCGGCCATGCGGGCGCGAAGCACGGGATTCCGTACGCGGTGCTCGTGCGCGCGTCGTTCGGCACGCAGGGGGCGAAGCTGCCGGCGCTGCTGCGCGCGATCGTCGCGTGCGGCTGGTACGGGATCCAGACCTGGCTCGGCGGCAGCGCGATCTATACGCTGCTGAACATCCTGACCGGCAACGCGCTGCATGGCGCCGCGCTGCCGGTCATCGGCATCGGGTTCGGGCAGCTCGCATGCTTCCTCGTGTTCTGGGCGCTGCAGCTCTACTTCATCTGGCATGGCACCGATTCGATCCGCTGGCTCGAAAGCTGGTCGGCGCCGATCAAGGTCGTGATGTGCGTGGCGCTGGTGTGGTGGGCAACGTCGAAGGCGGGCGGCTTCGGCACGATGCTGTCGGCGCCGTCGCAGTTTGCCGCAGGCGGCAAGAAAGCCGGGCTGTTCTGGGCGACCTTCTGGCCGGGGCTGACCGCGATGGTCGGCTTCTGGGCGACGCTCGCGCTGAACATCCCCGACTTCACGCGCTTCGCGCATTCGCAGCGCGACCAGGTGATCGGCCAGTCGATCGGGCTGCCGTTGCCGATGGCGCTGCTGTCGGTGGTGTCGGTCGTCGTGACGTCGGCGACCGTCGTGATCTACGGCAACGCGATCTGGGATCCGATCGACCTGACGAGCCGGATGACGGGCATCGGCGTGGGCATCGCGCTCGTGATCCTCACGCTCGACACGATGTGCTGCAACCTCGCCGCGAATCTCGTCGGCCCGGCGTACGACTTCTCGAGCCTGTGGCCGAAGGCGATCTCGTACCGCACCGGCGGGATGATCACCGCGACGCTCGCGATCGTGATGATGCCGTGGAAGATCCTCGCGACGACGGACGGCTACATCTTCACCTGGCTCGTCGGCTACTCGGCGCTGCTCGGGCCCGTGGCGGGGATCCTGATGGTCGACTACTTCCTGATTCGCGGCACGCGGCTCGACACGCGCGCGCTGTTCGACGAGCGCGGCGGCTTCAGCTACGCGCGCGGCTGGAACCCGGCCGCGCTGGCCGCGCTCGCGGTCGGCGTGCTGCCGAACCTGCCCGGCTTCCTGCACACGGCGTTTCCGGCGTCGTTTCCGAACGTGCCGGCGTTCTTCAACACGCTTTACACGTACGCGTGGTTCGTCGGCCTCGTGCTGGCGTCATGCGTGTACGGCACCTGGATGAAGTGGCGCGCCGGACAGCACGCGCAGATCGCGAGCGCCTGATTCGGCACCCGACAGTCAACGAGGAGGCAACCCCATGGCAATCCTGATTCGTGGCGGCACCGTGGTCGATGCGGACCGTTCCTACCGCGCGGACGTGCTCTGCGCAGCCCCGGAGGACGGCGGCACGATCCTGCAGATCGCCGGGCAGATCGATGCGCCGGCCGGCGCGACCGTCGTCGATGCGCACGACCAGTACGTGATGCCGGGCGGCATCGATCCGCATACGCACATGGAACTGCCGTTCATGGGCACGACCGCGAGCGACGATTTCTACTCGGGTACGGCCGCCGGGCTCGCGGGCGGCACGACGAGCATCATCGACTTCGTGATCCCGAGCCCGAAGCAGCCGCTGATGGACGCGTTCCATGCCTGGCGCGGCTGGGCCGAGAAGGCGGCGGCCGACTACGGCTTCCACGTGGCCGTGACGTGGTGGGACGAGAGTGTGCACCGCGACATGGGCACGCTCGTGCGCGAACACGGCGTGTCGAGCTTCAAGCACTTCATGGCGTACAAGAACGCGATCATGGCCGACGACGAGGTGCTCGTGAACAGCTTCTCGCGTTCGCTCGAACTCGGCGCGTTGCCGACCGTGCATGCGGAGAACGGCGAGCTCGTGTTCCAGTTGCAGAAGGCGCTGCTCGCGCGCGGGATGACGGGGCCGGAGGCGCATCCGCTGTCGCGGCCGCCGGAGGTCGAGGGTGAGGCGGCGAATCGTGCGATCCGCATTGCGCAGGTGCTCGGCGTGCCGGTGTATATCGTGCATGTGTCCGCGAAGGACGCGGTCGATGCGATCACGAAGGCGCGCAGCGAAGGGCTGCGCGTGTTCGGCGAGGTGCTGCCGGGCCATCTGGTGATCGACGAGGCCGTCTATCGCGATCCGGACTGGACACGTGCGGCCGCGCACGTGATGAGCCCGCCGTTCCGCTCGGCCGAGCACCGCGAGGCGCTGTGGCGCGGGCTGCAGGCAGGGCAGCTGCATACGACGGCAACCGACCACTGCGTGTTCTGCGCGTCGCAGAAGGCGATGGGCCGCGAGGATTTCACGAAGATCCCGAACGGCTGCGGCGGTGTCGAGGATCGCATGTCGGTGCTGTGGCATCACGGCGTGAATCATGGCCGCATCACGCCGAACGAGTTCGTGCGGATCACGTCGACGAACGCCGCGCAGATCTTCAACCTGTATCCGCGCAAGGGCGCCGTGCAGGTGGGCGCCGATGCCGACCTCGTCGTGTGGGACCCGGCCGCGACCAGGACGATCTCGGTGAAGACGCATCACCAGCAGGTCGATTTCAACGTGTTCGAGGGGATGACCGTACAAGGCGTCGCAACCCACACGCTCACGCGCGGCGCGCTCGCGTGGGCCGACGGCGATCTGCGTGCCGTGCGCGGCGCGGGCCGCTATCTGAAGCGCCCGCCGGCAGCCAGCTACTACGAGGCCGCGCGGATCGCGAACCGGCTGCGCGAACCGCATCCGGTCGAGCGCGCCGGTTGAGCGTTGCGTATCGCGCGGGGCGTGTCGGTTCGAACGACACGCCCCGCGCATGTTTGAGCGTGCGTTTACGTTCGTGCCGGCACCGCTCGTGCCGCCTCTCCGCATCACGCCCATCCTCTCAATATTTGGGATGAATTGAGCGCGATCGCGCCTTGCCGATCTCCGGATACATAGAACAACTGAGCAAGTCGATGAAACACGCGATGTCGCGCAAATGCGACCATTTTGTTTGCGTTGTCGACGTGCATGCCGGCGAGTAATATCCACCGACGGCGT'], ['gi|142022655|gb|EQ086233.1|584 marine metagenome JCVI_SCAF_1096627390048 genomic scaffold, whole genome shotgun sequence', 'CGCAGGTGGCAGCATTTAAGATCTCGCAAGGTGGTGTCTCCCCCATCATTGGTGGGTCATTTACGTTGTATTAGCTTCTCGTGCCGCGCTACTGTGGAGCACAGCTGAGCGCCCTCCAGACAGCCTTCGTCGCAGCGCGAAGTGATTCATCGTCTGACGATGCGCCATGTGTCGGCCGGACTAACACGATTAAACCGGCCAAATGGGAGTACAGCAGACGACCGCGTAACGCACACTCCCGAGGTGTAAGCGATCGATTGATCTTGGCCAGCAATCGGGCGAACGTCTCCTGGAACCGACGGTTGAAACCTGCCACCAAGTCTCGGGCAAATTCTTCGCGCTCGGCCATGCTCCAGACTTCCAGGCAAAATGGTGCAATGTGCGTACCACGCTTGACCAACTCGTCAAACGCGATATCTGCGATGACATCTAGTCGCGCCTCCGGCGATAGATCATCGTCGTCGACCACATTTTCATAGAGCGTCAGATATCGTGTTGCCACCGCCTCCAACGCCGCTCGCAAAAGGTCTTCTCTGGTCGGAAAGTAGTATTGCAAGGTCGCCAGGTGGATTCCAACATCGCTCGCCACGCGGCGCAAAGCGAAGCCGACGTTACCGTACTGCGCGAGGACATTGATCGCGGCCTCCACGATTTCGGGGACTCGTGTCGTTCTGTTGCCGCGGCGCTTCGGCTCGTCGGCCAACTCTTTAGCCCCTGCCAGTTCAATCGCCAGCTCCCTCATCTTTGACCTCTTGCCGGCAGCCGCCGGTGTGCGCTTCGACCAGTCCAACCGCTCAACCATCACCATTCCCTCGAGCGATCGCAGTCAGTTCATCGGTGCTCGCCCTAGCCACCATAGCGAGCAACCACCTTGTCACAAATAATATGTCACGCGACTGATAATTACCAGTCAATCGAACATAAAGCGATATGACCCTTTAAATATCATCCATATTTATCAGGC'], ['gi|142022655|gb|EQ086233.1|4 marine metagenome JCVI_SCAF_1096627390048 genomic scaffold, whole genome shotgun sequence', 'ATGTGCCTGAAGACGTTTCAGGCGCGCGAATATTGTGGCGAGAGAAAAAATCTGCTGCCGAATGCCTCCTCCTCTACGTATCTCGGGCAGTCGCACGGTATCCGACTTGTCGGACCGGCCCGTCGGTCCACCAATCGGCGACTTCGACGATCCCTCGCTCACACTGGTCTGGCCAGTCAGGCCTTAAGTTCCCCCAGCCGCTGTCGTTAAACAGGACGTTGCCTGTTTTTGGCGACCCCATTCCTATAACGCGGTAACGGAGATCGAAGTCATCATGTTGTCCTCGATTCGTGCACGGATACTCGCGACCTGCGTCGCCATCGTGGTAACGGCGCTGGCCGTGACAGGCGGCCTGGTCTATTACGTCGTCAAGCAACACAACGACGAGACAATCGACCAGAATCACAAGTCGATCCTCGCCGGGCACGCGCTGGCGATCAACGAATGGGTGGCCAGCAGAGGCCGGGAAACCCAGGCACTCGCAGACACGATCGCCATCGGCGAAGGGGATCCCCTGCCGGCGCTGAAGCTGCTCGGGAAGTCGGGCGGCTTCGAGGTATTGACGCTCGGCCTGCCGGACAAGACCGCGTTCTCGAACGTGCCGCTCGCCCCCGGCTACGACCCGACGGCACGCCCGTGGTACAAGCAGGCCGTCAGCGCCGGCAGCCTGGTCGTGACGGCACTCTATCGTGATGCAACGACCGGCAAGCCGGCTGTTGCGTTCGCGGTGCCGGTGGTGCGCGACGGCACGGTGAAGGGTGTGCTGGCCGCCAGCCTGTTCATGGAGAGCGTGAGCTCGATCGTGACCTCGGTACACCCGACACCCGCGAGCTTCGCATTTCTGGTGGACAAGAGCGGGCGCGTGATTGCGTCGGCCAAGACTGACCTGATCATGAAGCCGGCAACCGGCCTTTCCCCTGCACTCGACGCCGACCACCTCGGCGCGCTGCAGTCAGCGTCCAAGCCCGTCGCTGTCGACATCGACGGCGCCACCAAGCTGGTGCGGGCCCAGCCGATCGCCGGTACCGATTGGTCCCTCGTGCTCGCGCTCGACAAGGCGGACGTGACGGCCGGCATGCGCGCGGTCGCGACGACGACGCTGGCGGCGATCCTGATCGTGGCCGTGATCGCGGCCGCGCTCGTCGGTGCGATGACGAACGCAGCCTTCAAGCGCATCCTGCTGGTCCGCGACGCGCTGACGGATGTGTCGACCGGCAGCGGCGACCTGACGAAACGCCTGCCTGCCGACGGCGCGGACGAAGCCGCGCAGATCGCGCATGCGTTCAATCTGTTCGCCGAAAAGATCAGTACGATCCTGCTGCAGATTCGCGAGTTCAGCGAATCCGTCAATCTCGCGAGCGCCGAGATCGCGCAGGGCAACCAGGATCTGTCCGGCCGGACCGAGCATGCCGCATCGAGCTTGCAGGAAACGGCCGCCGCGCTCGAGGAAATCGCCGGCACGGCCCGCAACTCGGCCGATGCCGCGAGCCAGGTGAGCCGTCTGGCGGAATCGGCGTCGGACGTCGCGGTGCGCGGCGGCACGGTCGTCAGCGAAGTCGTCGCGACGATGAACGAGATCACGCAGGCATCGAGCGAGATCGCCAACATCGTCGGCGTGATCGACGGCATCGCGTTCCAGACCAACATTCTCGCGTTGAACGCTGCCGTCGAGGCCGCACGTGCGAACGAGCACGGCCGGGGCTTTGCGGTCGTCGCGGGCGAGGTGCGTGCGCTCGCGCAGCGCAGCGCGCAGGCCGCCAAGGAAATCAAGCAGTTGATTCACTCGTCGGTCGAGAAGATCGAGGGGGGCTCGGGACTCGTCCAGACGGCCGGTACGACGATGAACGAAATCGTCGAGGGCGTGCGCGGCATCACGAGCGTGATTGCGGAAATTACCGTCGCCGCCAAGGAGCAGAGCACGGGGATCGAGCAGGTGAATCAGGCTGTGTCGCAACTCGACAATGCGACGCAGCAGAACGCGGCGCTCGTCGAGCAGTCGGCGGCGGCCGCGACATTGCTGCGCGAGCAGGCCGCCAGGCTCGCGCAGACGGTCGGCGAGTTCAAGCTCGAGGACCGCCGCGCGATGACGTTGCAG'], ['gi|142022655|gb|EQ086233.1|277 marine metagenome JCVI_SCAF_1096627390048 genomic scaffold, whole genome shotgun sequence', 'CCGCGAAGGCCGCGTTCGCCACGCCCGCTGCCAACAGCGATCTCGCCGGCACCACGTTGCGTGTCGCAACCTACAAGGGTGGCTGGCGCGCGCTGCTGCAGGCGGCCGGGCTGGCCGACACACCGTACCGGATCGACTGGCGCGAGCTGAACAACGGCGTGCTGCATATCGAGGCGCTCAACGCGGATGCGCTCGACATCGGTTCGGGAAGCGAAATTCCGGCCGTATTCGCCGCGCGGCAGAAGGCCAACGTGCGGCTCATCACCCGCGTGCGCGAAGACCTGAACAACCAGGTCACGCTCGCGCGCAAGGACACGCCGATCCGCAGCATTGCAGACCTGAAGGGCAAGCGTGTCGGGTACGTGCGTGCGACGACGTCGCACTACTTCCTGTATCGCCAGCTCACGGAGGCCGGCCTGAGCTTCGACGACATCCAGCCGATCAACCTGTCGCCAAGCGACGGCTTGTCCGCCTACGATCGCGGCGACATCGACGCGTGGGCGATCTACGGCTACAACGGCCAGCTCGCGCGCAATCGCTACGGTGCACGTGTGTTGAAGACGGGGAAGGGCTATCTGTCGGGCAACTTCCCGGTCTATGCGAACCCGCGCACGCTCGACGATGCGCGCCGTCGCGCGGCAACGGGCGATCTGCTGCTGCGATTCCGGCGCGCGTATGCATGGGCGAACGGGCATTTCCGCGACTATGCGCTCGCGCAGAACAGCGAGACGCGCGTGCCGGTCGCCGATCTCGTCGCGATGTTCGATCAGCGCAGCGAAGACTACGCGCTGCTGCCGGTGACGCCCGACGTGGTGGCGCAGCATCAGCAGGTCGCGGATGTGTTCGCGCGGATCGGTGTGCTGGACGGGCCGGCCAATGTTGCGCCGCTGTGGGATACGTCGTTCAATGCGCTGGTCGCGGCGACGTGATCGAGCGTAACGAGAAGGCGCCCGAGTGAGTGGGGGATGCGGATGAACACGTGCTCTCGAAGGCGCTGTTCACCGCGCGCGAACCCGGCATCCCGCCTGCAGTGAGTCTCGTCGCGAGATCCGGTCGACCGGATCAGGCGAACGTCGTCGCGACCATGATGCCGAACACGACGCCGATCGCAATTCCGCAGAGCCGGCCGTAAATCGATGCGCGCACATTGTCGTCGAGCACGAACGGCGAGCGTTTGTGCTTCCATACCGTGCTGAATGCGACGGGGCGCGTCAGCAGGGTGACGCACGCGATCAGCACCGGCGTGGCGATGAGCATCGCGATGCGCGGCCCGTTCCAGTCGACGCCGTGCATCGCCAGCGAAACGATCGCGGCAAGCGGAACCTCGACGCACAAGCCCAGCAACGAACCGTTGACGAATGAATCTCCGGGGGACTGGAACATGATCGGTCCTGGCATTCAAATGAAATCGGCGCCCGGCTCGAGCTCCCGA'], ['gi|142022655|gb|EQ086233.1|346 marine metagenome JCVI_SCAF_1096627390048 genomic scaffold, whole genome shotgun sequence', 'GCGGTCCCGGCGCCGCAGGCCGTCCGGCTCCTGCAGCGCGCCGAACCGGGTCTCGCGGTGATTGCCCAGCGTACCGAGATGCGCCCGGCCTGGGCCGTGATGGCGCAGTGCGGCC'], ['gi|142022655|gb|EQ086233.1|527 marine metagenome JCVI_SCAF_1096627390048 genomic scaffold, whole genome shotgun sequence', 'GAGAACCGGGAACCGGAACCATGACAGCCCCGCGCCGGTTTTACGCGAGATAGCCGGAAACGCCGTCCCAGAGCAGTTTCAATGCGGTCACCGCCAGCAATCCGTAGCAGCTCCGGTAGATCAGGCGCTGGTCCAGCCTGCCGTGAAGCCGCCAGCCGAACACCACGCCGGCCGGAATGGCAAGCAGGCACACCGCCATCAACGCCCAGACGTTCGCGGTCGGCTGCACGATCAGCAGCCACGGCACTGCCTTGATCGCATTGCCCACGGTGAAGAACAGGCTCGTCGTTCCCGCGTACATCTCCTTGCTGAGGCCAAGCGGCAGCAGATACATCGCGAGCGGCGGCCCGCCCGAGTGCGCGACCATCGTCGTGACGCCCGATGCAAGGCCGGCCGAGACTGCCTTCGGCGACGAACGCGGACGAACCGTCGGCTCCGCCCCGCCCCTCACCCACAGCCCGACGAAGACCAGCGTGACCACCGCCATCAAAAGCTCGATGGCGCGATGGTCGAGGAAGCGGAAAGCCAGGTAACCGAACCCGATACCGACCACCAGCCCCGGCAGGAGCAGCACGAGGTCGGGCTTCGACCATGTCGACGGCTTCCAGTACCGCAGCGCGAACAGGTCCATCGCGATGAACAGCGGGGCGAGCAAGCCGCCGGCCGTCACGGGGTCCATCACGAGGGACAGCAGCGGAATGCCGATGATCGCGAATCCACCACCGAACGCGCCGCGCATGAACGCGATCACGAACACGCCGGCAAACGCGATCAGGATCGTGGCCAGCGTCAATTGCAGGCCCATCGCAGCAGGGGTCGCCATCACGACCTCCATGCCGGTTCGAATCGCGGCGTGGCGGACAGCCACGGAGCGGGTCGCACGCGCGGCATCGCCGCACGATGGATCCGGGTTGAACGCGTTGCACCCATGCTGCTTCTCCAATGAGGTACCGGGGCGATGCGGTACACCAACGCACCGCAGGCCGCATGGGCCGCACAAGCATTTCAGCCCCGGTACAATCGACTTGACGAAAGCAGAATGCACCGCCGTCTATCTCAGTGCAATTAAAACATTGACCTCGGTGCAATATTCATTGTTATCGGTGCAATCCATGTCGAATTCCGAATACCTGCAGTTGGCCGACGCGATCGCCGCCCAAATTGCCGACGGCACGCTCAGGCCGGGCGACCGCCTGCCTCCGCAGCGTCATTTCGCCGACCAGCATGCGATCGCCGCATCGACGGCGGGACGGGTTTACGCGGAACTGTTACGGCGCGGCCTTGTGGTCGGCGAAGTCGGCCGAGGCACTTTCGTGTCGGGTGAGACGCGACGCGGGGCCGCTGCGCCGGGCGAGCCGCGCGGCGTTCGGATCGATTTCGAGTTCAACTACCCGACCGTCCCGGCCCAGACCGCGTTGATCACCAGAAGCCTGCGCGGATTGCACCGACCTGCGGAGCTCGACGCCGCGTTACGCGAGGCGACGAGTACCGGGACCCCGGTCATCCGAAGCGTTGCCGCCGCGTATCTGGCGCAGCATGAATGGGCCCCATCGCCCGACCAGCTCGTGTTTACCGGCAACGGGCGGCAAAGCATCGCCGCGGCCGTTGCCGCGGTCGTGCCGACCGGCGGACGCTGTGGCGTGGAGGCATTGACCTACCCGTTCATCAAGGGCATCGCGGCCAAGCTGGGGATCTCGCTGGTGCCACTGGCGATGGACGACGACGGCGTGCGGCCCGACGCCGTGCAAAAGGCCCACCGCGAGGCCAGGCTGTCGGCGATCTACGTTCAGCCAGCCATCCAGAATCCGCTCGGCACGACGATGAGCGCCGCTCGCCGCGCCGATCTGCTGCGTGTCGTCGACAAACTCGACATACCGGTCATCGAAGACAACGTGTACGGCTTTCTCGGCGACGAGCCGCCGCTGGCCGCACTCGCCCCGGACGCCTGCATCGTGATCGACAGCCTGTCCAAGCGGGTCACGCCAGGCCTGACCCTCGGCTTCATCGTGCCGCCGCCGCGGCTGCGCGAAAGCGTGATGGCGTCGGTACGCTCGGGGGGATGGACCGCTTCCGGGTTCGCGTTTGCAGCCGCTCAGCGCTTGATGCGTGACGGCACCGTGGCCGAACTCGCGAGATTGAAACGCATCGACGCAATTGCACGTCAGGCGCTGGCGATCGAGCGTCTGGCGGGTTTCGATGTCCGGACCAACGGCAAGTGCTATCACCTGTGGCTGACGTTGCCGGCGCACTGGCGTTCGCAGGCCCTCGTCGCAGCCGCGGCCCGGCGCGACATCGGGCTGACGCCGTCGACCACCTTCGCCGTTTCGTCCGGCCATGCGCCGAACGCGATCAGGCTCGCGCTGGCCGCGCCGAGCATGGATCAGCTCGACGCCGGCCTGCGCACGCTGACCGCGATGCTGAACGGCCGCGAGGGCGATTTCGACGCGACCGAGTGAGCATCGCGCGGATGTGTCGTCGTACATCACCCGCCTGATTCGGTATCCGGATCAATATCAAGCCGTCACTTCGTCAGCAACTCGGCCTCCAGCTCGCGCAACCGTTCCGGAAACCGGACGCGCAGCACCAGGAACCACCCGAGCCCGATCGCCAGCAATGCGACGAACACATACGGCAGCCACGCATAGA']]\n"
     ]
    }
   ],
   "source": [
    "print(fasta_in_list)"
   ]
  },
  {
   "cell_type": "code",
   "execution_count": 63,
   "id": "ca53cce7-7b15-4bdc-8846-b486250ffcc1",
   "metadata": {},
   "outputs": [],
   "source": [
    "ident = \"gi|142022655|gb|EQ086233.1|16\""
   ]
  },
  {
   "cell_type": "code",
   "execution_count": 65,
   "id": "419319f1-b9c5-4be0-a3ea-cd5fdeb83302",
   "metadata": {},
   "outputs": [],
   "source": [
    "found = [line[1] for line in fasta_in_list if ident in line[0]]"
   ]
  },
  {
   "cell_type": "code",
   "execution_count": 66,
   "id": "7a2dd3e0-82b3-4bce-be93-58dc76bb200c",
   "metadata": {},
   "outputs": [
    {
     "name": "stdout",
     "output_type": "stream",
     "text": [
      "['GTCGATCGACACGACGCTCGCGCAGCGCGACGCGAAGGCCGCGTGAGCGCACGACGCGCGTCACACACCACGAGCACAACGAACACGACCCCACTCTCACGGAGCCGACCATGGCCGACCTTCGCTGCACCATCGCGGGCATCACTTCGCCGAACCCTTTCTGGCTGGCGTCCGCGCCGCCGACCGACAAGGCCTACAACGTGAACCGCGCGTTCGAGGCGGGCTGGGGCGGGGTCGTCTGGAAGACGCTCGGGCTCGATCCGCATGTCGTCAACGTCAGTTCGCGCTATGGCGCGGTGCAGTGGAACGGCCAGCGCATCGCGGGGCTGAACAACATCGAGCTGATCACCGACCGTCCGCTCGACGTGAACCTGAGAGAGATCGCGCAGGTGAAGCGCGACTGGCCGGACCGCGCGCTGATCGTGTCGCTGATGGTGCCGTGCAACGAGCGCGACTGGAAATGGATCCTGCCGCTCGTCGAGGATACGGGCGCCGACGCGGTCGAGCTGAACTTCGGTTGTCCGCACGGGATGAGCGAGCGCGGGATGGGCGCGGCGGTCGGGCAGGTGCCCGAATATGTGGAGATGGTCACGCGCTGGGTGAAGGAAGGCACGAAGCTGCCGTGCCTCGTGAAGCTCACGCCGAACATCAGCGACATCCGGATGGGGTCGCGCGCCGCGTACAAGGGCGGCGCGGACGGCGTGTCGCTGATCAACACGATCAACTCGATCGTCGCGGTCGATCTCGACCATATGGCGCCGATGCCGACGGTCGACGGCAAGGGCACGCACGGCGGCTATTGCGGCCCGGCGGTCAAGCCGATCGCATTGAACATGGTCGCGGAGATCGCACGTGACCCGGAAACGCCGAACCTGCCGATCTCGGGCATCGGCGGCATCTCGTCATGGCGCGACGCGGCGGAGTTCATGGTGCTCGGCGCCGGCAGCGTGCAGGTGTGCACCGCCGCGATGCATTACGGATTCCGGATCGTGTCGGACCTGGCCGACGGATTGTCGAACTGGATGGACGAGAAGGGCTACGCGACGCTCGACGACATTCGCGGCCGCGCGGTGCCGAACGTGACCGACTGGAAATACCTGAACCTGAAATACGACATCAAGGCGCGTATCGACCAGGACCGCTGCATCCAGTGCGGGTTGTGCCATATCGCGTGCGAGGACACGTCGCACCAGGCGATCACCGCGACGAAGGACGGCGTGCGGCATTTCGAAGTGGTCGATTCGGCGTGCGTCGGGTGCAATCTTTGCATGCATGTGTGTCCGGTCGAGCAATGCATCACGATGGAGCGTGTCGATTCGGGCGACTACGCGAACTGGACCACGCATCCGAACAATCCGGCGAGCGCGGAGGCGGGGGCGAGTGCAGGCGCGGCGGCACCCGAGAAGCACGCGAAGAAGGCTGCTTGACGGCGTCCGGCGATGCGGGCCATCCTGCATCGCCGCCTTTCGTTCCACCCGGGCCGGCATCGAGTGATGCCGGCGTTGACGTTTTCGTGGAGTGAGTCAGATGAATCACGCAGCGAATCCCGCCGATCCCGATCGCGCCGCGGCGCAGGGCGGCAGCCTGTACAACGACGATCTCGCGCCGACGACGCCGGCGCAGCGCACGTGGAAGTGGTATCACTTCGCGGCGCTGTGGGTCGGGATGGTGATGAACATCGCGTCGTACATGCTCGCGGCCGGGCTGATCCAGGAAGGCATGTCGCCGTGGCAGGCGGTGACGACGGTGCTGCTCGGCAACCTGATCGTGCTCGTGCCGATGCTGCTGATCGGCCATGCGGGCGCGAAGCACGGGATTCCGTACGCGGTGCTCGTGCGCGCGTCGTTCGGCACGCAGGGGGCGAAGCTGCCGGCGCTGCTGCGCGCGATCGTCGCGTGCGGCTGGTACGGGATCCAGACCTGGCTCGGCGGCAGCGCGATCTATACGCTGCTGAACATCCTGACCGGCAACGCGCTGCATGGCGCCGCGCTGCCGGTCATCGGCATCGGGTTCGGGCAGCTCGCATGCTTCCTCGTGTTCTGGGCGCTGCAGCTCTACTTCATCTGGCATGGCACCGATTCGATCCGCTGGCTCGAAAGCTGGTCGGCGCCGATCAAGGTCGTGATGTGCGTGGCGCTGGTGTGGTGGGCAACGTCGAAGGCGGGCGGCTTCGGCACGATGCTGTCGGCGCCGTCGCAGTTTGCCGCAGGCGGCAAGAAAGCCGGGCTGTTCTGGGCGACCTTCTGGCCGGGGCTGACCGCGATGGTCGGCTTCTGGGCGACGCTCGCGCTGAACATCCCCGACTTCACGCGCTTCGCGCATTCGCAGCGCGACCAGGTGATCGGCCAGTCGATCGGGCTGCCGTTGCCGATGGCGCTGCTGTCGGTGGTGTCGGTCGTCGTGACGTCGGCGACCGTCGTGATCTACGGCAACGCGATCTGGGATCCGATCGACCTGACGAGCCGGATGACGGGCATCGGCGTGGGCATCGCGCTCGTGATCCTCACGCTCGACACGATGTGCTGCAACCTCGCCGCGAATCTCGTCGGCCCGGCGTACGACTTCTCGAGCCTGTGGCCGAAGGCGATCTCGTACCGCACCGGCGGGATGATCACCGCGACGCTCGCGATCGTGATGATGCCGTGGAAGATCCTCGCGACGACGGACGGCTACATCTTCACCTGGCTCGTCGGCTACTCGGCGCTGCTCGGGCCCGTGGCGGGGATCCTGATGGTCGACTACTTCCTGATTCGCGGCACGCGGCTCGACACGCGCGCGCTGTTCGACGAGCGCGGCGGCTTCAGCTACGCGCGCGGCTGGAACCCGGCCGCGCTGGCCGCGCTCGCGGTCGGCGTGCTGCCGAACCTGCCCGGCTTCCTGCACACGGCGTTTCCGGCGTCGTTTCCGAACGTGCCGGCGTTCTTCAACACGCTTTACACGTACGCGTGGTTCGTCGGCCTCGTGCTGGCGTCATGCGTGTACGGCACCTGGATGAAGTGGCGCGCCGGACAGCACGCGCAGATCGCGAGCGCCTGATTCGGCACCCGACAGTCAACGAGGAGGCAACCCCATGGCAATCCTGATTCGTGGCGGCACCGTGGTCGATGCGGACCGTTCCTACCGCGCGGACGTGCTCTGCGCAGCCCCGGAGGACGGCGGCACGATCCTGCAGATCGCCGGGCAGATCGATGCGCCGGCCGGCGCGACCGTCGTCGATGCGCACGACCAGTACGTGATGCCGGGCGGCATCGATCCGCATACGCACATGGAACTGCCGTTCATGGGCACGACCGCGAGCGACGATTTCTACTCGGGTACGGCCGCCGGGCTCGCGGGCGGCACGACGAGCATCATCGACTTCGTGATCCCGAGCCCGAAGCAGCCGCTGATGGACGCGTTCCATGCCTGGCGCGGCTGGGCCGAGAAGGCGGCGGCCGACTACGGCTTCCACGTGGCCGTGACGTGGTGGGACGAGAGTGTGCACCGCGACATGGGCACGCTCGTGCGCGAACACGGCGTGTCGAGCTTCAAGCACTTCATGGCGTACAAGAACGCGATCATGGCCGACGACGAGGTGCTCGTGAACAGCTTCTCGCGTTCGCTCGAACTCGGCGCGTTGCCGACCGTGCATGCGGAGAACGGCGAGCTCGTGTTCCAGTTGCAGAAGGCGCTGCTCGCGCGCGGGATGACGGGGCCGGAGGCGCATCCGCTGTCGCGGCCGCCGGAGGTCGAGGGTGAGGCGGCGAATCGTGCGATCCGCATTGCGCAGGTGCTCGGCGTGCCGGTGTATATCGTGCATGTGTCCGCGAAGGACGCGGTCGATGCGATCACGAAGGCGCGCAGCGAAGGGCTGCGCGTGTTCGGCGAGGTGCTGCCGGGCCATCTGGTGATCGACGAGGCCGTCTATCGCGATCCGGACTGGACACGTGCGGCCGCGCACGTGATGAGCCCGCCGTTCCGCTCGGCCGAGCACCGCGAGGCGCTGTGGCGCGGGCTGCAGGCAGGGCAGCTGCATACGACGGCAACCGACCACTGCGTGTTCTGCGCGTCGCAGAAGGCGATGGGCCGCGAGGATTTCACGAAGATCCCGAACGGCTGCGGCGGTGTCGAGGATCGCATGTCGGTGCTGTGGCATCACGGCGTGAATCATGGCCGCATCACGCCGAACGAGTTCGTGCGGATCACGTCGACGAACGCCGCGCAGATCTTCAACCTGTATCCGCGCAAGGGCGCCGTGCAGGTGGGCGCCGATGCCGACCTCGTCGTGTGGGACCCGGCCGCGACCAGGACGATCTCGGTGAAGACGCATCACCAGCAGGTCGATTTCAACGTGTTCGAGGGGATGACCGTACAAGGCGTCGCAACCCACACGCTCACGCGCGGCGCGCTCGCGTGGGCCGACGGCGATCTGCGTGCCGTGCGCGGCGCGGGCCGCTATCTGAAGCGCCCGCCGGCAGCCAGCTACTACGAGGCCGCGCGGATCGCGAACCGGCTGCGCGAACCGCATCCGGTCGAGCGCGCCGGTTGAGCGTTGCGTATCGCGCGGGGCGTGTCGGTTCGAACGACACGCCCCGCGCATGTTTGAGCGTGCGTTTACGTTCGTGCCGGCACCGCTCGTGCCGCCTCTCCGCATCACGCCCATCCTCTCAATATTTGGGATGAATTGAGCGCGATCGCGCCTTGCCGATCTCCGGATACATAGAACAACTGAGCAAGTCGATGAAACACGCGATGTCGCGCAAATGCGACCATTTTGTTTGCGTTGTCGACGTGCATGCCGGCGAGTAATATCCACCGACGGCGT']\n"
     ]
    }
   ],
   "source": [
    "print(found)"
   ]
  },
  {
   "cell_type": "code",
   "execution_count": 69,
   "id": "b5b2601a-a930-47e1-a568-28b5a861bad3",
   "metadata": {},
   "outputs": [
    {
     "data": {
      "text/plain": [
       "1644"
      ]
     },
     "execution_count": 69,
     "metadata": {},
     "output_type": "execute_result"
    }
   ],
   "source": [
    "find_longest(found, frame=3)"
   ]
  },
  {
   "cell_type": "code",
   "execution_count": 89,
   "id": "9d7aa6ce-d753-4a90-8af6-4bf814596448",
   "metadata": {},
   "outputs": [],
   "source": [
    "def count_kmers(seqs, k):\n",
    "    counts = {}\n",
    "    for text in seqs:\n",
    "        for i in range(len(text)-k+1):\n",
    "            k_mer = text[i:i+k]\n",
    "            counts[k_mer] = counts.get(k_mer, 0) + 1\n",
    "    return counts"
   ]
  },
  {
   "cell_type": "code",
   "execution_count": 91,
   "id": "ca8fc752-e90f-4edb-9b44-21918ebc0156",
   "metadata": {},
   "outputs": [
    {
     "data": {
      "text/plain": [
       "['CGCGCCG']"
      ]
     },
     "execution_count": 91,
     "metadata": {},
     "output_type": "execute_result"
    }
   ],
   "source": [
    "ct = count_kmers(seqs, 7)\n",
    "[key for key, value in ct.items() if value == max(ct.values())]"
   ]
  },
  {
   "cell_type": "code",
   "execution_count": 88,
   "id": "604d7717-eae1-43a4-b727-71b5c54aeb92",
   "metadata": {},
   "outputs": [
    {
     "data": {
      "text/plain": [
       "152"
      ]
     },
     "execution_count": 88,
     "metadata": {},
     "output_type": "execute_result"
    }
   ],
   "source": [
    "max(ct.values())"
   ]
  },
  {
   "cell_type": "code",
   "execution_count": null,
   "id": "06e70fd7-5206-48f4-b923-7a0ebc36c639",
   "metadata": {},
   "outputs": [],
   "source": []
  }
 ],
 "metadata": {
  "kernelspec": {
   "display_name": "Python 3 (ipykernel)",
   "language": "python",
   "name": "python3"
  },
  "language_info": {
   "codemirror_mode": {
    "name": "ipython",
    "version": 3
   },
   "file_extension": ".py",
   "mimetype": "text/x-python",
   "name": "python",
   "nbconvert_exporter": "python",
   "pygments_lexer": "ipython3",
   "version": "3.10.5"
  }
 },
 "nbformat": 4,
 "nbformat_minor": 5
}
