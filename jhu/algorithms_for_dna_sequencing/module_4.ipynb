{
 "cells": [
  {
   "cell_type": "markdown",
   "id": "2faf62d6-de32-4421-ae65-85f00eb5d458",
   "metadata": {},
   "source": [
    "# Week 4: Algorithms for Assembly"
   ]
  },
  {
   "cell_type": "markdown",
   "id": "8fc8b7e8-b399-469b-b996-20a8a40d7c44",
   "metadata": {},
   "source": [
    "## Naive Shortest Common Superstring"
   ]
  },
  {
   "cell_type": "code",
   "execution_count": 1,
   "id": "b230ec0d-f0fc-434d-9da6-89d540cf4947",
   "metadata": {},
   "outputs": [],
   "source": [
    "def overlap(a, b, min_length=3):\n",
    "    \"\"\"Return the length of longest suffix of var 'a'\n",
    "       matching a prefix of var 'b' that is at least min_length\n",
    "       long. Return 0 if none exists.\"\"\"\n",
    "    start = 0\n",
    "    while True:\n",
    "        start = a.find(b[:min_length], start)\n",
    "        if start == -1:\n",
    "            return 0\n",
    "        if b.startswith(a[start:]):\n",
    "            return len(a)-start\n",
    "        start += 1"
   ]
  },
  {
   "cell_type": "code",
   "execution_count": 2,
   "id": "c9f12985-03c4-4464-82a6-60ab909b3d5d",
   "metadata": {},
   "outputs": [
    {
     "data": {
      "text/plain": [
       "4"
      ]
     },
     "execution_count": 2,
     "metadata": {},
     "output_type": "execute_result"
    }
   ],
   "source": [
    "overlap(\"ATGTGTG\", \"TGTG\")"
   ]
  },
  {
   "cell_type": "code",
   "execution_count": 3,
   "id": "232cf2ed-a6a8-4baf-947c-852539f7f050",
   "metadata": {},
   "outputs": [],
   "source": [
    "import itertools\n",
    "\n",
    "def scs(ss):\n",
    "    shortest_sup = None\n",
    "    for ssperm in itertools.permutations(ss):\n",
    "        sup = ssperm[0]\n",
    "        for i in range(len(ss)-1):\n",
    "            olen = overlap(ssperm[i], ssperm[i+1], min_length = 1)\n",
    "            sup += ssperm[i+1][olen:]\n",
    "        if shortest_sup is None or len(sup) < len(shortest_sup):\n",
    "            shortest_sup = sup\n",
    "    return shortest_sup"
   ]
  },
  {
   "cell_type": "code",
   "execution_count": 4,
   "id": "6994b6e6-acaf-43f0-a78c-31fec3366d2c",
   "metadata": {},
   "outputs": [
    {
     "data": {
      "text/plain": [
       "'ACTAAG'"
      ]
     },
     "execution_count": 4,
     "metadata": {},
     "output_type": "execute_result"
    }
   ],
   "source": [
    "scs(['ACT', 'CTA', 'AAG'])"
   ]
  },
  {
   "cell_type": "markdown",
   "id": "60a50a58-2ed8-418c-9a5b-8b4945197f4f",
   "metadata": {},
   "source": [
    "This is a very slow algorithm in O(n!) time. "
   ]
  },
  {
   "cell_type": "markdown",
   "id": "7da1f140-50ba-4c8e-a8d8-aabb2180a4be",
   "metadata": {},
   "source": [
    "## Greedy Shortest Common Superstring\n",
    "\n",
    "This algorithm will make a series of decisions that will get us to a solution quickly, but may not give us the optimal solution. We're going to always pick the longest overlaps."
   ]
  },
  {
   "cell_type": "code",
   "execution_count": 5,
   "id": "1ca5340e-3685-4163-9207-018d4541fc64",
   "metadata": {},
   "outputs": [],
   "source": [
    "# helper function\n",
    "def pick_maximal_overlap(reads, k):\n",
    "    reada, readb = None, None\n",
    "    best_olen = 0\n",
    "    for a, b in itertools.permutations(reads, 2):\n",
    "        olen = overlap(a, b, min_length = k)\n",
    "        if olen > best_olen:\n",
    "            reada, readb = a, b\n",
    "            best_olen = olen\n",
    "    return reada, readb, best_olen\n",
    "    \n",
    "def greedy_scs(reads, k):\n",
    "    reada, readb, olen = pick_maximal_overlap(reads, k)\n",
    "    while olen > 0:\n",
    "        reads.remove(reada)\n",
    "        reads.remove(readb)\n",
    "        reads.append(reada+readb[olen:])\n",
    "        reada, readb, olen = pick_maximal_overlap(reads, k)\n",
    "    return \"\".join(reads) # for reads that don't have overlap"
   ]
  },
  {
   "cell_type": "code",
   "execution_count": 6,
   "id": "9d9542e9-5bd7-4481-9385-f165f9729662",
   "metadata": {},
   "outputs": [
    {
     "data": {
      "text/plain": [
       "'CDBCABCDA'"
      ]
     },
     "execution_count": 6,
     "metadata": {},
     "output_type": "execute_result"
    }
   ],
   "source": [
    "greedy_scs(['ABCD', 'CDBC', 'BCDA'], 1)"
   ]
  },
  {
   "cell_type": "code",
   "execution_count": 7,
   "id": "7a555428-bbc3-4078-b9b5-a057b437d244",
   "metadata": {},
   "outputs": [
    {
     "data": {
      "text/plain": [
       "'ABCDBCDA'"
      ]
     },
     "execution_count": 7,
     "metadata": {},
     "output_type": "execute_result"
    }
   ],
   "source": [
    "scs(['ABCD', 'CDBC', 'BCDA'])"
   ]
  },
  {
   "cell_type": "markdown",
   "id": "d4cd76d3-9e2a-4b21-858e-7c6c98f8ccf7",
   "metadata": {},
   "source": [
    "So the Greedy Shortest Common Superstring algorithm doesn't give us the *actual* shortest common superstring, but in most cases, the time saved from using the greedy algorithm will be worth it."
   ]
  },
  {
   "cell_type": "markdown",
   "id": "f8a13870-1418-4933-9f86-e95b8c771151",
   "metadata": {},
   "source": [
    "## The Third Law of Assembly: Repeats are Bad\n",
    "\n",
    "If the genome contains repeats, the shortest common superstring will not be the best solution. Some copies of the repeats is lost in what is called **overcollapsing**. About half of the human genome is repeating sequences, so it's a significant problem."
   ]
  },
  {
   "cell_type": "markdown",
   "id": "d73076ae-973b-4dd1-bdef-7c7415a80ad2",
   "metadata": {},
   "source": [
    "## De Bruijn Graphs and Eulerian Walks\n",
    "\n",
    "A de Bruijn graph is Eulerian as long as it has one read for every *k*-mer."
   ]
  },
  {
   "cell_type": "code",
   "execution_count": 8,
   "id": "4216375b-c33a-4787-aea0-ed2490806c8c",
   "metadata": {},
   "outputs": [],
   "source": [
    "def de_bruijn_ize(st, k):\n",
    "    edges = []\n",
    "    nodes = set()\n",
    "    for i in range(len(st)-k+1):\n",
    "        left, right = st[i:i+k-1], st[i+1:i+k]\n",
    "        edges.append((left, right))\n",
    "        nodes.add(left)\n",
    "        nodes.add(right)\n",
    "    return nodes, edges"
   ]
  },
  {
   "cell_type": "code",
   "execution_count": 9,
   "id": "e24c2fe2-8030-44a1-a362-e385aacd05cb",
   "metadata": {},
   "outputs": [],
   "source": [
    "nodes, edges = de_bruijn_ize('ACGCGTCG', 3)"
   ]
  },
  {
   "cell_type": "markdown",
   "id": "2d40f5df-ff8c-4f89-8b2b-eca654db9258",
   "metadata": {},
   "source": [
    "print(nodes)\n",
    "print(edges)"
   ]
  },
  {
   "cell_type": "code",
   "execution_count": 11,
   "id": "f4aa954b-4c24-4976-ba5a-5aae427ebfd7",
   "metadata": {},
   "outputs": [],
   "source": [
    "def visualize_de_bruijn(st, k):\n",
    "    nodes, edges = de_bruijn_ize(st, k)\n",
    "    dot_str = 'digraph \"DeBruijn graph\" {\\n'\n",
    "    for node in nodes:\n",
    "        dot_str += ' %s [label=\"%s\"] ; \\n' % (node, node)\n",
    "    for src, dst in edges:\n",
    "        dot_str += ' %s -> %s ; \\n' % (src, dst)\n",
    "    return dot_str + '}\\n'"
   ]
  },
  {
   "cell_type": "code",
   "execution_count": 12,
   "id": "137e3799-290b-4d11-ab66-a5ec4ce9f60e",
   "metadata": {},
   "outputs": [],
   "source": [
    "#import graphviz"
   ]
  },
  {
   "cell_type": "code",
   "execution_count": 13,
   "id": "fc042d0e-99a9-4ad8-9423-74f70a0a15d5",
   "metadata": {},
   "outputs": [],
   "source": [
    "# graphviz.Source(visualize_de_bruijn('ACGCGTCG', 3))"
   ]
  },
  {
   "cell_type": "markdown",
   "id": "27329607-a069-4ac6-9b71-00594d4b6194",
   "metadata": {},
   "source": [
    "Assembly in practice will require a graph of some kind, whether overlap graph or de Bruijn. And we'll have to trim away spurious dead ends and islands created by sequencing error. Polyploidy can also complicate sequencing: we can have different versions of genes, one from Mom and one from Dad. This causes \"bubbles\" to appear. If the overall graph is ambiguous, we can still report **contigs** which are sequenced unambiguously.\n",
    "\n",
    "The solution to ambiguity is, really, to do longer reads. But longer reads suffer from more sequencing errors. And if we can span the entire repeat region and capture non-repeat regions on both sides, we can unambiguously determine the length of the repeat region.\n",
    "\n",
    "Paired-end sequencing allows us to get twice the sequencing length, but we need more."
   ]
  },
  {
   "cell_type": "markdown",
   "id": "7509c3c8-7295-450b-82d6-8bb6764d4f85",
   "metadata": {},
   "source": [
    "## Homework\n",
    "\n",
    "### 1. What is the length of the shortest common superstring of the following strings?"
   ]
  },
  {
   "cell_type": "code",
   "execution_count": 15,
   "id": "030df280-ce32-45c9-97a7-0e624f5e8f87",
   "metadata": {},
   "outputs": [
    {
     "data": {
      "text/plain": [
       "11"
      ]
     },
     "execution_count": 15,
     "metadata": {},
     "output_type": "execute_result"
    }
   ],
   "source": [
    "ss = [\"CCT\", \"CTT\", \"TGC\", \"TGG\", \"GAT\", \"ATT\"]\n",
    "len(scs(ss))"
   ]
  },
  {
   "cell_type": "markdown",
   "id": "5e669ba4-3c39-4917-823f-f64a305241e2",
   "metadata": {},
   "source": [
    "### 2. How many different shortest common superstrings are there?"
   ]
  },
  {
   "cell_type": "code",
   "execution_count": 23,
   "id": "a04a70ef-8ba5-4b78-a56d-b5c9a7b0f260",
   "metadata": {},
   "outputs": [],
   "source": [
    "def scs_with_counts(ss):\n",
    "    shortest_sup = None\n",
    "    scss = []\n",
    "    for ssperm in itertools.permutations(ss):\n",
    "        sup = ssperm[0]\n",
    "        for i in range(len(ss)-1):\n",
    "            olen = overlap(ssperm[i], ssperm[i+1], min_length = 1)\n",
    "            sup += ssperm[i+1][olen:]\n",
    "        if shortest_sup is None or len(sup) < len(shortest_sup):\n",
    "            shortest_sup = sup\n",
    "            scss = [sup]\n",
    "        elif len(sup) == len(shortest_sup):\n",
    "            scss.append(sup)\n",
    "    return shortest_sup, scss"
   ]
  },
  {
   "cell_type": "code",
   "execution_count": 26,
   "id": "a36b1397-6432-44c7-b36f-0852323dd26e",
   "metadata": {},
   "outputs": [],
   "source": [
    "a, b = scs_with_counts(ss)"
   ]
  },
  {
   "cell_type": "code",
   "execution_count": 28,
   "id": "8247c897-d95a-4f57-b502-4003904b2735",
   "metadata": {},
   "outputs": [
    {
     "name": "stdout",
     "output_type": "stream",
     "text": [
      "4\n"
     ]
    }
   ],
   "source": [
    "print(len(b))"
   ]
  },
  {
   "cell_type": "markdown",
   "id": "25047ba6-cdd0-406e-8984-4fea4c118cc3",
   "metadata": {},
   "source": [
    "### 3. Download this FASTQ file containing synthetic sequencing reads from a mystery virus:\n",
    "\n",
    "https://d28rh4a8wq0iu5.cloudfront.net/ads1/data/ads1_week4_reads.fq\n",
    "\n",
    "All the reads are the same length (100 bases) and are exact copies of substrings from the forward strand of the virus genome.  You don't have to worry about sequencing errors, ploidy, or reads coming from the reverse strand.\n",
    "\n",
    "Assemble these reads using one of the approaches discussed, such as greedy shortest common superstring.  Since there are many reads, you might consider ways to make the algorithm faster, such as the one discussed in the programming assignment in the previous module.\n",
    "\n",
    "How many As are there in the full, assembled genome?\n",
    "\n",
    "Hint: the virus genome you are assembling is exactly 15,894 bases long"
   ]
  },
  {
   "cell_type": "code",
   "execution_count": 48,
   "id": "f7d25324-c370-42c8-bdbd-76d20a45ac1e",
   "metadata": {},
   "outputs": [],
   "source": [
    "def read_fastq(filename):\n",
    "    with open(filename, 'r') as f:\n",
    "        content = f.read().rstrip(\"\\n\").split(\"\\n\")\n",
    "        seqs = [content[i] for i in range(len(content)) if i%4 == 1]\n",
    "        quals = [content[i] for i in range(len(content)) if i%4 == 3]\n",
    "    return seqs, quals"
   ]
  },
  {
   "cell_type": "code",
   "execution_count": 49,
   "id": "b8a853be-e799-43dd-9830-53e7ec0f9450",
   "metadata": {},
   "outputs": [],
   "source": [
    "seqs, _ = read_fastq('ads1_week4_reads.fq')"
   ]
  },
  {
   "cell_type": "code",
   "execution_count": 50,
   "id": "3e097902-9669-4e11-a860-7aaad988db82",
   "metadata": {},
   "outputs": [
    {
     "name": "stdout",
     "output_type": "stream",
     "text": [
      "CPU times: total: 13min 24s\n",
      "Wall time: 14min 7s\n"
     ]
    }
   ],
   "source": [
    "%%time\n",
    "result = greedy_scs(seqs, 10)"
   ]
  },
  {
   "cell_type": "code",
   "execution_count": 51,
   "id": "17e80963-0f09-490b-b47e-33182afcd357",
   "metadata": {},
   "outputs": [
    {
     "data": {
      "text/plain": [
       "15894"
      ]
     },
     "execution_count": 51,
     "metadata": {},
     "output_type": "execute_result"
    }
   ],
   "source": [
    "len(result)"
   ]
  },
  {
   "cell_type": "code",
   "execution_count": 52,
   "id": "ca819438-c62f-4d8b-b696-54db09c8aacf",
   "metadata": {},
   "outputs": [
    {
     "data": {
      "text/plain": [
       "4633"
      ]
     },
     "execution_count": 52,
     "metadata": {},
     "output_type": "execute_result"
    }
   ],
   "source": [
    "result.count(\"A\")"
   ]
  },
  {
   "cell_type": "markdown",
   "id": "65921eed-e6d1-4d48-bb38-43d348f225f7",
   "metadata": {},
   "source": [
    "### 4. How many Ts are there in the full, assembled genome from the previous question?"
   ]
  },
  {
   "cell_type": "code",
   "execution_count": 53,
   "id": "8e65bb44-d317-4709-bd0d-dd4ab0241616",
   "metadata": {},
   "outputs": [
    {
     "data": {
      "text/plain": [
       "3723"
      ]
     },
     "execution_count": 53,
     "metadata": {},
     "output_type": "execute_result"
    }
   ],
   "source": [
    "result.count(\"T\")"
   ]
  }
 ],
 "metadata": {
  "kernelspec": {
   "display_name": "Python 3 (ipykernel)",
   "language": "python",
   "name": "python3"
  },
  "language_info": {
   "codemirror_mode": {
    "name": "ipython",
    "version": 3
   },
   "file_extension": ".py",
   "mimetype": "text/x-python",
   "name": "python",
   "nbconvert_exporter": "python",
   "pygments_lexer": "ipython3",
   "version": "3.12.5"
  }
 },
 "nbformat": 4,
 "nbformat_minor": 5
}
