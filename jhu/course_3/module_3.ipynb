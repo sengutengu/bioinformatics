{
 "cells": [
  {
   "cell_type": "markdown",
   "id": "fc882e8c-64b5-4b68-a568-1096e7692255",
   "metadata": {},
   "source": [
    "# Week 3: Edit distance, assembly, and overlaps\n",
    "\n"
   ]
  },
  {
   "cell_type": "markdown",
   "id": "ad53f320-33f3-4ebb-bb48-d0ca04d47652",
   "metadata": {},
   "source": [
    "We're going to use **dynamic programming** to find edit distances and approximate matches that account for insertions and deletions. It'll also allow us to find similar substrings between strings. Toward the end of this week, we'll begin to discuss genome assembly."
   ]
  },
  {
   "cell_type": "markdown",
   "id": "03480b9e-f43a-4140-9747-9f4bebdb7bf6",
   "metadata": {},
   "source": [
    "### Recursive edit distance\n",
    "\n",
    "This algorithm is ridiculously slow. It runs on O(n!) time."
   ]
  },
  {
   "cell_type": "code",
   "execution_count": 21,
   "id": "1f99ddf9-458e-4b6b-b680-91cd01a8e9a1",
   "metadata": {},
   "outputs": [],
   "source": [
    "def edit_dist_recursive(a, b):\n",
    "    if len(a) == 0:\n",
    "        return len(b)\n",
    "    if len(b) == 0:\n",
    "        return len(a)\n",
    "    delt = 1 if a[-1] != b[-1] else 0\n",
    "    \n",
    "    return min(edit_dist_recursive(a[:-1], b[:-1])+delt, \n",
    "               edit_dist_recursive(a[:-1], b)+1, \n",
    "               edit_dist_recursive(a, b[:-1])+1)"
   ]
  },
  {
   "cell_type": "markdown",
   "id": "af68eb8c-de6c-4142-9e34-577356e876d3",
   "metadata": {},
   "source": [
    "As we can see, it takes a long time."
   ]
  },
  {
   "cell_type": "code",
   "execution_count": 24,
   "id": "539fb6cc-f86d-4959-aa74-34192136ddc6",
   "metadata": {},
   "outputs": [
    {
     "name": "stdout",
     "output_type": "stream",
     "text": [
      "CPU times: total: 3.05 s\n",
      "Wall time: 3.04 s\n"
     ]
    },
    {
     "data": {
      "text/plain": [
       "3"
      ]
     },
     "execution_count": 24,
     "metadata": {},
     "output_type": "execute_result"
    }
   ],
   "source": [
    "%%time\n",
    "edit_dist_recursive('shake spea', 'Shakespear')"
   ]
  },
  {
   "cell_type": "markdown",
   "id": "ba1ae3c3-34d8-4465-81a6-92c77491147a",
   "metadata": {},
   "source": [
    "### Implementing dynamic programming for edit distance\n",
    "\n",
    "Dynamic programming is much faster."
   ]
  },
  {
   "cell_type": "code",
   "execution_count": 132,
   "id": "435c3c71-a3ad-4a80-8002-eff9d0250ce9",
   "metadata": {},
   "outputs": [],
   "source": [
    "def edit_dist(x, y):\n",
    "    # initialize empty x+1 by y+1 matrix\n",
    "    D = [[0]*(len(y)+1) for i in range(len(x)+1)]\n",
    "\n",
    "    # first column and row should be 0, 1, 2, 3...\n",
    "    for i in range(len(x)+1):\n",
    "        D[i][0] = i\n",
    "    for i in range(len(y)+1):\n",
    "        D[0][i] = i\n",
    "\n",
    "\n",
    "    for i in range(1, len(x)+1):\n",
    "        for j in range(1, len(y)+1):\n",
    "            dist_hor = D[i][j-1] + 1 # value of cell to left + 1 penalty\n",
    "            dist_ver = D[i-1][j] + 1 # value of cell above + 1 penalty\n",
    "            if x[i-1] == y[j-1]:\n",
    "                dist_diag = D[i-1][j-1] # if characters match then no penalty\n",
    "            else:\n",
    "                dist_diag = D[i-1][j-1] + 1 # else +1 penalty\n",
    "            D[i][j] = min(dist_hor, dist_ver, dist_diag)\n",
    "            \n",
    "    return D[-1][-1] # return very bottom right value"
   ]
  },
  {
   "cell_type": "code",
   "execution_count": 31,
   "id": "ac7cc2db-e3e2-4b3b-ad50-eb79ccd07975",
   "metadata": {},
   "outputs": [
    {
     "name": "stdout",
     "output_type": "stream",
     "text": [
      "CPU times: total: 0 ns\n",
      "Wall time: 0 ns\n"
     ]
    },
    {
     "data": {
      "text/plain": [
       "3"
      ]
     },
     "execution_count": 31,
     "metadata": {},
     "output_type": "execute_result"
    }
   ],
   "source": [
    "%%time\n",
    "edit_dist('shake spea', 'Shakespear')"
   ]
  },
  {
   "cell_type": "markdown",
   "id": "830075fa-96a0-4ebd-9f0b-8b0372c55242",
   "metadata": {},
   "source": [
    "### Global alignment\n",
    "\n",
    "We want to penalize certain kinds of errors more than others. Transitions are much more frequent and more likely due to chance mutation rather than transversions, which are more significant.\n",
    "\n",
    "<img src=\"https://upload.wikimedia.org/wikipedia/commons/thumb/8/8a/All_transitions_and_transversions.svg/1200px-All_transitions_and_transversions.svg.png\" width=400px />\n",
    "\n",
    "And skips are really bad. I think we're using the Needleman-Wunsch algorithm."
   ]
  },
  {
   "cell_type": "code",
   "execution_count": 82,
   "id": "9c429332-ac19-4e88-87f0-3804cb02b3b4",
   "metadata": {},
   "outputs": [],
   "source": [
    "alphabet = ['A', 'C', 'G', 'T']\n",
    "score = [[0, 4, 2, 4, 8],  # A>A:0, A>C:4, A>G:2, A>T:4, A>null: 8\n",
    "         [4, 0, 4, 2, 8],\n",
    "         [2, 4, 0, 4, 8],\n",
    "         [4, 2, 4, 0, 8],\n",
    "         [8, 8, 8, 8, 8]] "
   ]
  },
  {
   "cell_type": "code",
   "execution_count": 131,
   "id": "c51d107d-0980-4678-ac95-9c7a95f2c913",
   "metadata": {},
   "outputs": [],
   "source": [
    "def global_alignment(x, y):\n",
    "    # initialize empty x+1 by y+1 matrix\n",
    "    D = [[0]*(len(y)+1) for i in range(len(x)+1)]\n",
    "\n",
    "    for i in range(1, len(x)+1): # don't want to touch the top left char\n",
    "        D[i][0] = D[i-1][0] + score[alphabet.index(x[i-1])][-1] \n",
    "    for i in range(1, len(y)+1):\n",
    "        D[0][i] = D[0][i-1] + score[-1][alphabet.index(y[i-1])] \n",
    "\n",
    "    for i in range(1, len(x)+1):\n",
    "        for j in range(1, len(y)+1):\n",
    "            dist_hor = D[i][j-1] + score[-1][alphabet.index(y[j-1])]\n",
    "            dist_ver = D[i-1][j] + score[alphabet.index(x[i-1])][-1]\n",
    "            if x[i-1] == y[j-1]:\n",
    "                dist_diag = D[i-1][j-1] # if characters match then no penalty\n",
    "            else:\n",
    "                dist_diag = D[i-1][j-1] + score[alphabet.index(x[i-1])][alphabet.index(y[j-1])]\n",
    "\n",
    "            print(dist_hor, dist_ver, dist_diag)\n",
    "            D[i][j] = min(dist_hor, dist_ver, dist_diag)\n",
    "            \n",
    "    return D[-1][-1] # return very bottom right value"
   ]
  },
  {
   "cell_type": "code",
   "execution_count": 88,
   "id": "9702599e-a50b-4cdb-adff-fd47b4c574d7",
   "metadata": {},
   "outputs": [
    {
     "name": "stdout",
     "output_type": "stream",
     "text": [
      "16 16 0\n",
      "8 24 8\n"
     ]
    },
    {
     "data": {
      "text/plain": [
       "8"
      ]
     },
     "execution_count": 88,
     "metadata": {},
     "output_type": "execute_result"
    }
   ],
   "source": [
    "global_alignment('A', 'AA')"
   ]
  },
  {
   "cell_type": "markdown",
   "id": "f4a0f9c7-f61a-407d-9808-d4873797d128",
   "metadata": {},
   "source": [
    "## Overlaps between pairs of reads"
   ]
  },
  {
   "cell_type": "code",
   "execution_count": 117,
   "id": "477abf96-d478-45c7-a8bc-77b48cd85466",
   "metadata": {},
   "outputs": [],
   "source": [
    "def overlap(a, b, min_length=0):\n",
    "    '''length of longest suffix of a matching prefix of b'''\n",
    "    start = 0\n",
    "    while True:\n",
    "        start = a.find(b[:min_length], start)\n",
    "        if start == -1:\n",
    "            return 0\n",
    "        if b.startswith(a[start:]):\n",
    "            return len(a)-start # length of overlap\n",
    "        start += 1"
   ]
  },
  {
   "cell_type": "code",
   "execution_count": 118,
   "id": "da69f6dc-3292-4f08-9fe5-2b1036ecc596",
   "metadata": {},
   "outputs": [
    {
     "data": {
      "text/plain": [
       "0"
      ]
     },
     "execution_count": 118,
     "metadata": {},
     "output_type": "execute_result"
    }
   ],
   "source": [
    "overlap(\"CC\",\"ACC\") # pay close attention to min_length"
   ]
  },
  {
   "cell_type": "markdown",
   "id": "e7a96bcd-a8b3-46a4-a1dc-23ab02d3cdca",
   "metadata": {},
   "source": [
    "## Naive Overlap Map"
   ]
  },
  {
   "cell_type": "code",
   "execution_count": 119,
   "id": "f69230a2-959a-4810-bdf5-ee6b20d92c61",
   "metadata": {},
   "outputs": [],
   "source": [
    "from itertools import permutations"
   ]
  },
  {
   "cell_type": "code",
   "execution_count": 120,
   "id": "7a4b2f18-2ca5-4836-9b84-20938a67debd",
   "metadata": {},
   "outputs": [
    {
     "data": {
      "text/plain": [
       "[(1, 2), (1, 3), (2, 1), (2, 3), (3, 1), (3, 2)]"
      ]
     },
     "execution_count": 120,
     "metadata": {},
     "output_type": "execute_result"
    }
   ],
   "source": [
    "list(permutations([1, 2, 3], 2))"
   ]
  },
  {
   "cell_type": "code",
   "execution_count": 121,
   "id": "4be37d2f-ca8c-4ed7-96ef-1798b3e54f56",
   "metadata": {},
   "outputs": [],
   "source": [
    "def naive_overlap_map(reads, k):\n",
    "    olaps = {}\n",
    "    for a, b in permutations(reads, 2):\n",
    "        olen = overlap(a, b, min_length=k)\n",
    "        if olen > 0:\n",
    "            olaps[(a,b)] = olen\n",
    "    return olaps"
   ]
  },
  {
   "cell_type": "code",
   "execution_count": 122,
   "id": "a4286f3f-52f9-4245-b0fa-275338e33e40",
   "metadata": {},
   "outputs": [
    {
     "data": {
      "text/plain": [
       "{('ACGGATGATC', 'GATCAAGT'): 4, ('TTCACGGA', 'ACGGATGATC'): 5}"
      ]
     },
     "execution_count": 122,
     "metadata": {},
     "output_type": "execute_result"
    }
   ],
   "source": [
    "reads = ['ACGGATGATC', 'GATCAAGT', 'TTCACGGA']\n",
    "naive_overlap_map(reads, 3)"
   ]
  },
  {
   "cell_type": "markdown",
   "id": "307b61d7-40a2-460b-ac35-fd1badd5cb05",
   "metadata": {},
   "source": [
    "## Homework\n",
    "\n",
    "We saw how to adapt dynamic programming to find approximate occurrences of a pattern in a text. Recall that:\n",
    "\n",
    "* Rows of the dynamic programming matrix are labeled with bases from P and columns with bases from T\n",
    "* Elements in the first row are set to 0\n",
    "* Elements in the first column are set to 0, 1, 2, ..., as for edit distance\n",
    "* Other elements are set in the same way as elements of a standard edit distance matrix\n",
    "* The minimal value in the bottom row is the edit distance of the closest match between P and T\n",
    "\n",
    "First, download the provided excerpt of human chromosome 1\n",
    "\n",
    "https://d28rh4a8wq0iu5.cloudfront.net/ads1/data/chr1.GRCh38.excerpt.fasta\n",
    "\n",
    "Second, parse it using the readGenome function we wrote before."
   ]
  },
  {
   "cell_type": "code",
   "execution_count": 124,
   "id": "b8e7b454-c19c-4d0b-b84c-2d0c5df23e90",
   "metadata": {},
   "outputs": [],
   "source": [
    "def read_genome(filename):\n",
    "    f = open(filename, \"r\")\n",
    "    genome = f.read().split(\"\\n\")[1:]\n",
    "    f.close()\n",
    "    return \"\".join(genome)"
   ]
  },
  {
   "cell_type": "code",
   "execution_count": 125,
   "id": "75732902-1396-4bb0-8821-9171a80008c1",
   "metadata": {},
   "outputs": [],
   "source": [
    "chromosome = read_genome('genomes/chr1.GRCh38.excerpt.fasta')"
   ]
  },
  {
   "cell_type": "markdown",
   "id": "38ae8eee-610f-423d-8364-b96d85620b8b",
   "metadata": {},
   "source": [
    "Third, adapt the editDistance function we saw in practical (copied below) to answer questions 1 and 2 below. Your function should take arguments p (pattern), t (text) and should return the edit distance of the match between P and T with the fewest edits."
   ]
  },
  {
   "cell_type": "code",
   "execution_count": null,
   "id": "66d347ac-cb59-41f0-8bc6-a41f9a26f3c7",
   "metadata": {},
   "outputs": [],
   "source": [
    "def editDistance(x, y):\n",
    "    # Create distance matrix\n",
    "    D = []\n",
    "    for i in range(len(x)+1):\n",
    "        D.append([0]*(len(y)+1))\n",
    "    # Initialize first row and column of matrix\n",
    "    for i in range(len(x)+1):\n",
    "        D[i][0] = i\n",
    "    for i in range(len(y)+1):\n",
    "        D[0][i] = i\n",
    "    # Fill in the rest of the matrix\n",
    "    for i in range(1, len(x)+1):\n",
    "        for j in range(1, len(y)+1):\n",
    "            distHor = D[i][j-1] + 1\n",
    "            distVer = D[i-1][j] + 1\n",
    "            if x[i-1] == y[j-1]:\n",
    "                distDiag = D[i-1][j-1]\n",
    "            else:\n",
    "                distDiag = D[i-1][j-1] + 1\n",
    "            D[i][j] = min(distHor, distVer, distDiag)\n",
    "    # Edit distance is the value in the bottom right corner of the matrix\n",
    "    return D[-1][-1]"
   ]
  },
  {
   "cell_type": "markdown",
   "id": "2f24c4f6-eadb-4c3e-9990-c26852853f94",
   "metadata": {},
   "source": [
    "Hint: In the \"A new solution to approximate matching\" video we saw that the best approximate match of P=GCGTATGC within T=TATTGGCTATACGGTThad 2 edits. You can use this and other small examples to double-check that your function is working."
   ]
  },
  {
   "cell_type": "markdown",
   "id": "a4d627e5-6970-4263-b77c-d8b2dd91c134",
   "metadata": {},
   "source": [
    "### Q1. \n",
    "\n",
    "What is the edit distance of the best match between pattern GCTGATCGATCGTACG and the excerpt of human chromosome 1?  (Don't consider reverse complements.)\n",
    "\n",
    "\n",
    "    Rows of the dynamic programming matrix are labeled with bases from P and columns with bases from T\n",
    "    Elements in the first row are set to 0\n",
    "    Elements in the first column are set to 0, 1, 2, ..., as for edit distance\n",
    "    Other elements are set in the same way as elements of a standard edit distance matrix\n",
    "    The minimal value in the bottom row is the edit distance of the closest match between P and T\n"
   ]
  },
  {
   "cell_type": "code",
   "execution_count": 164,
   "id": "5cae5cb2-b58f-4ba8-b4f2-20c5693dba42",
   "metadata": {},
   "outputs": [],
   "source": [
    "def approximate_edit_distance(p, t):\n",
    "    D = [[0]*(len(t)+1) for i in range(len(p)+1)]\n",
    "\n",
    "    # leave first row set to 0\n",
    "    \n",
    "    for i in range(len(p)+1):\n",
    "        D[i][0] = i # first column are set to 0, 1, 2 ... for edit distance\n",
    "\n",
    "    \n",
    "    for i in range(1, len(p)+1):\n",
    "        for j in range(1, len(t)+1):\n",
    "            dist_hor = D[i][j-1] +1\n",
    "            dist_ver = D[i-1][j] +1\n",
    "            if p[i-1] == t[j-1]:\n",
    "                dist_drag = D[i-1][j-1]\n",
    "            else:\n",
    "                dist_drag = D[i-1][j-1] + 1\n",
    "            D[i][j] = min(dist_hor, dist_ver, dist_drag)\n",
    "\n",
    "    return min(D[len(p)])"
   ]
  },
  {
   "cell_type": "code",
   "execution_count": 166,
   "id": "f75e8ed9-4235-4b4a-ba14-8350ea006864",
   "metadata": {},
   "outputs": [
    {
     "data": {
      "text/plain": [
       "3"
      ]
     },
     "execution_count": 166,
     "metadata": {},
     "output_type": "execute_result"
    }
   ],
   "source": [
    "p = 'GCTGATCGATCGTACG'\n",
    "approximate_edit_distance(p, chromosome)"
   ]
  },
  {
   "cell_type": "markdown",
   "id": "dc1271bb-fcfd-4b80-8376-980124a6b749",
   "metadata": {},
   "source": [
    "### Q2.\n",
    "\n",
    "What is the edit distance of the best match between pattern `GATTTACCAGATTGAG` and the excerpt of human chromosome 1?  (Don't consider reverse complements.)"
   ]
  },
  {
   "cell_type": "code",
   "execution_count": 169,
   "id": "abd47012-d6de-4d4d-a28b-7609a68d679c",
   "metadata": {},
   "outputs": [
    {
     "data": {
      "text/plain": [
       "2"
      ]
     },
     "execution_count": 169,
     "metadata": {},
     "output_type": "execute_result"
    }
   ],
   "source": [
    "p = 'GATTTACCAGATTGAG'\n",
    "approximate_edit_distance(p, chromosome)"
   ]
  },
  {
   "cell_type": "markdown",
   "id": "43ff4e8b-55d6-4bbf-9deb-03bbf2301d9a",
   "metadata": {},
   "source": [
    "### Q3. \n",
    "\n",
    "In a practical, we saw a function for finding the longest exact overlap (suffix/prefix match) between two strings. The function is copied below."
   ]
  },
  {
   "cell_type": "code",
   "execution_count": null,
   "id": "b4b16a49-0162-4211-9506-1680e83c2277",
   "metadata": {},
   "outputs": [],
   "source": [
    "def overlap(a, b, min_length=0):\n",
    "    '''length of longest suffix of a matching prefix of b'''\n",
    "    start = 0\n",
    "    while True:\n",
    "        start = a.find(b[:min_length], start)\n",
    "        if start == -1:\n",
    "            return 0\n",
    "        if b.startswith(a[start:]):\n",
    "            return len(a)-start # length of overlap\n",
    "        start += 1"
   ]
  },
  {
   "cell_type": "markdown",
   "id": "f5c9ce31-7d34-4eb2-b642-0e3deb463dd7",
   "metadata": {},
   "source": [
    "Say we are concerned only with overlaps that (a) are exact matches (no differences allowed), and (b) are at least `k` bases long. To make an overlap graph, we could call `overlap(a, b, min_length=k)` on every possible pair of reads from the dataset.  Unfortunately, that will be very slow!\n",
    "\n",
    "Consider this: Say we are using k=6, and we have a read `a` whose length-6 suffix is `GTCCTA`.  Say `GTCCTA` does not occur in any other read in the dataset.  In other words, the 6-mer `GTCCTA` occurs at the end of read `a` and nowhere else.  It follows that `a`'s suffix cannot possibly overlap the prefix of any other read by 6 or more characters.\n",
    "\n",
    "Put another way, if we want to find the overlaps involving a suffix of read `a` and a prefix of some other read, we can ignore any reads that don't contain the length-k suffix of `a`.  This is good news because it can save us a lot of work!\n",
    "\n",
    "Here is a suggestion for how to implement this idea. You don't have to do it this way, but this might help you. Let every k-mer in the dataset have an associated Python `set` object, which starts out empty.  We use a Python dictionary to associate each k-mer with its corresponding set.\n",
    "\n",
    "1) For every k-mer in a read, we add the read to the `set` object corresponding to that k-mer. If our read is `GATTA` and k=3, we would add `GATTA` to the set objects for GAT, ATT and TTA.  We do this for every read so that, at the end, each set contains all reads containing the corresponding k-mer.\n",
    "2) Now, for each read `a`, we find all overlaps involving a suffix of `a`.  To do this, we take `a`'s length-k suffix, find all reads containing that k-mer (obtained from the corresponding setset) and call overlap(a, b, min_length=k) for each.\n",
    "\n",
    "The most important point is that we do not call `overlap(a, b, min_length=k)` if `b` does not contain the length-k suffix of `a`.\n",
    "\n",
    "Download and parse the read sequences from the provided Phi-X FASTQ file. We'll just use their base sequences, so you can ignore read names and base qualities.  Also, no two reads in the FASTQ have the same sequence of bases.  This makes things simpler.\n",
    "\n",
    "https://d28rh4a8wq0iu5.cloudfront.net/ads1/data/ERR266411_1.for_asm.fastq\n",
    "\n",
    "Next, find all pairs of reads with an exact suffix/prefix match of length at least 30. Don't overlap a read with itself; if a read has a suffix/prefix match to itself, ignore that match.  Ignore reverse complements.\n",
    "\n",
    "Hints \n",
    "1. Your function should not take much more than 15 seconds to run on this 10,000-read dataset, and maybe much less than that.  (Our solution takes about 3 seconds.) If your function is much slower, there is a problem somewhere.\n",
    "2. Remember not to overlap a read with itself. If you do, your answers will be too high.\n",
    "3. You can test your implementation by making up small examples, then checking that (a) your implementation runs quickly, and (b) you get the same answer as if you had simply called `overlap(a, b, min_length=k)` on every pair of reads.  We also have provided a couple examples you can check against."
   ]
  },
  {
   "cell_type": "code",
   "execution_count": 197,
   "id": "b72e82f1-70de-4d60-a4ca-6d8c68c57ab5",
   "metadata": {},
   "outputs": [],
   "source": [
    "def read_fastq(filename):\n",
    "    with open(filename, 'r') as f:\n",
    "        content = f.read().rstrip(\"\\n\").split(\"\\n\")\n",
    "        seqs = [content[i] for i in range(len(content)) if i%4 == 1]\n",
    "        quals = [content[i] for i in range(len(content)) if i%4 == 3]\n",
    "    return seqs, quals"
   ]
  },
  {
   "cell_type": "code",
   "execution_count": 198,
   "id": "c9581946-c18f-454e-bf02-948c74d379da",
   "metadata": {},
   "outputs": [],
   "source": [
    "seqs, _ = read_fastq('genomes/ERR266411_1.for_asm.fastq')"
   ]
  },
  {
   "cell_type": "code",
   "execution_count": 211,
   "id": "82d82d64-ace2-455f-96b9-ff5202eeedb7",
   "metadata": {},
   "outputs": [],
   "source": [
    "def make_kmers(string, k):\n",
    "    return set([string[i:i+k] for i in range(len(string)-k+1)])\n",
    "        \n",
    "def find_overlaps(reads, min_length):\n",
    "    kmer_read_dict = {}\n",
    "    for read in reads:\n",
    "        kmers = make_kmers(read, min_length)\n",
    "        for kmer in kmers:\n",
    "            if kmer not in kmer_read_dict.keys():\n",
    "                kmer_read_dict[kmer] = set()\n",
    "            kmer_read_dict[kmer].add(read)\n",
    "\n",
    "    overlaps = []\n",
    "    for read in reads:\n",
    "        suff = read[-min_length:]\n",
    "        found_reads = kmer_read_dict[suff]\n",
    "        for r in found_reads:\n",
    "            if overlap(read, r) >= 30 and read != r:\n",
    "                overlaps.append((read, r))\n",
    "    return overlaps\n",
    "        "
   ]
  },
  {
   "cell_type": "markdown",
   "id": "fb072a88-3d38-4db2-8ea5-ab0b7c55d154",
   "metadata": {},
   "source": [
    "Picture the overlap graph corresponding to the overlaps just calculated.  How many edges are in the graph?  In other words, how many distinct pairs of reads overlap?"
   ]
  },
  {
   "cell_type": "code",
   "execution_count": 212,
   "id": "4b8a4749-3d2d-46a0-8e86-4f9a4561739d",
   "metadata": {},
   "outputs": [],
   "source": [
    "olaps = find_overlaps(seqs, 30)"
   ]
  },
  {
   "cell_type": "code",
   "execution_count": 213,
   "id": "53e08720-a6e0-4b35-b40d-14fe02c41cff",
   "metadata": {},
   "outputs": [
    {
     "data": {
      "text/plain": [
       "904746"
      ]
     },
     "execution_count": 213,
     "metadata": {},
     "output_type": "execute_result"
    }
   ],
   "source": [
    "len(olaps)"
   ]
  },
  {
   "cell_type": "markdown",
   "id": "0f6214fe-1aac-4893-8630-88bb47a3855d",
   "metadata": {},
   "source": [
    "## Q4\n",
    "Picture the overlap graph corresponding to the overlaps computed for the previous question. How many nodes in this graph have at least one outgoing edge?  (In other words, how many reads have a suffix involved in an overlap?)"
   ]
  },
  {
   "cell_type": "code",
   "execution_count": 218,
   "id": "a2073172-726c-41e0-8719-187f98f469c4",
   "metadata": {},
   "outputs": [
    {
     "data": {
      "text/plain": [
       "7161"
      ]
     },
     "execution_count": 218,
     "metadata": {},
     "output_type": "execute_result"
    }
   ],
   "source": [
    "srcs = set([a[0] for a in olaps])\n",
    "len(srcs)"
   ]
  }
 ],
 "metadata": {
  "kernelspec": {
   "display_name": "Python 3 (ipykernel)",
   "language": "python",
   "name": "python3"
  },
  "language_info": {
   "codemirror_mode": {
    "name": "ipython",
    "version": 3
   },
   "file_extension": ".py",
   "mimetype": "text/x-python",
   "name": "python",
   "nbconvert_exporter": "python",
   "pygments_lexer": "ipython3",
   "version": "3.10.5"
  }
 },
 "nbformat": 4,
 "nbformat_minor": 5
}
