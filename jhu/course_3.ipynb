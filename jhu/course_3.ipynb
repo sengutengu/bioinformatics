{
 "cells": [
  {
   "cell_type": "code",
   "execution_count": 1,
   "id": "31fb2dbe-bb40-48fd-9a81-af97b03528ff",
   "metadata": {},
   "outputs": [],
   "source": [
    "def longest_common_prefix(s1, s2):\n",
    "    i = 0\n",
    "    while s1[i] == s2[i] and i < len(s1) and i < len(s2):\n",
    "        i += 1\n",
    "    return s1[:i]"
   ]
  },
  {
   "cell_type": "code",
   "execution_count": 2,
   "id": "eaa1d845-f2e9-4443-928c-9ff2b2c9944b",
   "metadata": {},
   "outputs": [
    {
     "data": {
      "text/plain": [
       "'ACCA'"
      ]
     },
     "execution_count": 2,
     "metadata": {},
     "output_type": "execute_result"
    }
   ],
   "source": [
    "longest_common_prefix(\"ACCATGT\", \"ACCAGAC\")"
   ]
  },
  {
   "cell_type": "code",
   "execution_count": 3,
   "id": "17f44b1c-21ab-44fd-aff4-647bc2f806e9",
   "metadata": {},
   "outputs": [],
   "source": [
    "def match(s1, s2):\n",
    "    return s1 == s2"
   ]
  },
  {
   "cell_type": "code",
   "execution_count": 4,
   "id": "43f98a87-6685-4fd5-b9e9-5580c45cd788",
   "metadata": {},
   "outputs": [
    {
     "data": {
      "text/plain": [
       "False"
      ]
     },
     "execution_count": 4,
     "metadata": {},
     "output_type": "execute_result"
    }
   ],
   "source": [
    "match(\"AGG\", \"AGTG\")"
   ]
  },
  {
   "cell_type": "code",
   "execution_count": 5,
   "id": "a7831fc7-69d4-4f42-a1c9-e5f62b274ec2",
   "metadata": {},
   "outputs": [],
   "source": [
    "def reverse_complement(s):\n",
    "    s = s.upper()\n",
    "    bases = {\"A\": \"T\", \"G\":\"C\", \"T\":\"A\", \"C\":\"G\", \"N\":\"N\"}\n",
    "    return \"\".join([bases[i] for i in s])[::-1]"
   ]
  },
  {
   "cell_type": "code",
   "execution_count": 6,
   "id": "8d506c71-1255-44c5-961d-2004bbf7b37d",
   "metadata": {},
   "outputs": [
    {
     "data": {
      "text/plain": [
       "'GACT'"
      ]
     },
     "execution_count": 6,
     "metadata": {},
     "output_type": "execute_result"
    }
   ],
   "source": [
    "reverse_complement(\"Agtc\")"
   ]
  },
  {
   "cell_type": "code",
   "execution_count": 7,
   "id": "a614c6ed-4a4f-4fe3-a336-eccf90b7a66b",
   "metadata": {},
   "outputs": [],
   "source": [
    "def read_genome(filename):\n",
    "    f = open(filename, \"r\")\n",
    "    genome = f.read().split(\"\\n\")[1:]\n",
    "    f.close()\n",
    "    return \"\".join(genome)"
   ]
  },
  {
   "cell_type": "code",
   "execution_count": 8,
   "id": "c52eb8ce-684c-4484-a148-598cb03d44d4",
   "metadata": {},
   "outputs": [],
   "source": [
    "genome = read_genome(\"lambda_virus.fa\")"
   ]
  },
  {
   "cell_type": "code",
   "execution_count": 9,
   "id": "f4f1c86f-b3f9-42bf-b36b-23898fcfd7e7",
   "metadata": {},
   "outputs": [
    {
     "name": "stdout",
     "output_type": "stream",
     "text": [
      "GGGCGGCGACCTCGCGGGTTTTCGCTATTTATGAAAATTTTCCGGTTTAAGGCGTTTCCGTTCTTCTTCGTCATAACTTAATGTTTTTATTTAAAATACC\n"
     ]
    }
   ],
   "source": [
    "print(genome[:100])"
   ]
  },
  {
   "cell_type": "code",
   "execution_count": 10,
   "id": "c1fb3f84-dfb8-4bde-b08f-dff32c4f3740",
   "metadata": {},
   "outputs": [
    {
     "data": {
      "text/plain": [
       "48502"
      ]
     },
     "execution_count": 10,
     "metadata": {},
     "output_type": "execute_result"
    }
   ],
   "source": [
    "len(genome)"
   ]
  },
  {
   "cell_type": "code",
   "execution_count": 11,
   "id": "296f5d2b-33ae-42ab-ad6e-f32c2241a152",
   "metadata": {},
   "outputs": [
    {
     "name": "stdout",
     "output_type": "stream",
     "text": [
      "{'A': 12334, 'C': 11362, 'G': 12820, 'T': 11986}\n"
     ]
    }
   ],
   "source": [
    "counts = {\"A\":0, \"C\":0, \"G\":0, \"T\":0}\n",
    "for base in genome:\n",
    "    counts[base] += 1\n",
    "print(counts)"
   ]
  },
  {
   "cell_type": "code",
   "execution_count": 12,
   "id": "c16aa870-4336-4945-9b8f-649cb5603b46",
   "metadata": {},
   "outputs": [
    {
     "data": {
      "text/plain": [
       "Counter({'G': 12820, 'A': 12334, 'T': 11986, 'C': 11362})"
      ]
     },
     "execution_count": 12,
     "metadata": {},
     "output_type": "execute_result"
    }
   ],
   "source": [
    "# Same thing:\n",
    "import collections\n",
    "collections.Counter(genome)"
   ]
  },
  {
   "cell_type": "code",
   "execution_count": 13,
   "id": "ae08fc89-90d8-4ced-ba18-9823e5a5e027",
   "metadata": {},
   "outputs": [],
   "source": [
    "def read_fastq(filename):\n",
    "    with open(filename, 'r') as f:\n",
    "        content = f.read().rstrip(\"\\n\").split(\"\\n\")\n",
    "        seqs = [content[i] for i in range(len(content)) if i%4 == 1]\n",
    "        quals = [content[i] for i in range(len(content)) if i%4 == 3]\n",
    "    return seqs, quals"
   ]
  },
  {
   "cell_type": "code",
   "execution_count": 14,
   "id": "58ced93c-5d93-49dd-96f1-99fd13403a62",
   "metadata": {},
   "outputs": [],
   "source": [
    "seqs, quals = read_fastq(\"SRR835775_1.first1000.fastq\")"
   ]
  },
  {
   "cell_type": "code",
   "execution_count": 15,
   "id": "4f3a4eda-fe32-49c5-8667-785b3f9928f6",
   "metadata": {},
   "outputs": [
    {
     "name": "stdout",
     "output_type": "stream",
     "text": [
      "100\n",
      "1000\n"
     ]
    }
   ],
   "source": [
    "print(len(quals[0]))\n",
    "print(len(quals))"
   ]
  },
  {
   "cell_type": "code",
   "execution_count": 16,
   "id": "e46bcf25-de0b-45e7-a23c-b42306a8d7b9",
   "metadata": {},
   "outputs": [],
   "source": [
    "def phred_to_q(qual):\n",
    "    return ord(qual)-33"
   ]
  },
  {
   "cell_type": "code",
   "execution_count": 17,
   "id": "5e6558b5-6d7b-48c6-8a82-ebd7e28cf291",
   "metadata": {},
   "outputs": [],
   "source": [
    "def create_hist(quals):\n",
    "    hist = [0]*50 # highest quality score is 41\n",
    "    for qual in quals:\n",
    "        for char in qual:\n",
    "            q = phred_to_q(char)\n",
    "            hist[q] += 1\n",
    "    return hist"
   ]
  },
  {
   "cell_type": "code",
   "execution_count": 18,
   "id": "3eea9f0a-e164-416b-86b4-45d2ff198d49",
   "metadata": {},
   "outputs": [
    {
     "data": {
      "image/png": "[encoded data removed]",
      "text/plain": [
       "<Figure size 640x480 with 1 Axes>"
      ]
     },
     "metadata": {},
     "output_type": "display_data"
    }
   ],
   "source": [
    "%matplotlib inline\n",
    "import matplotlib.pyplot as plt\n",
    "h = create_hist(quals)\n",
    "plt.plot(range(len(h)), h)\n",
    "plt.show()"
   ]
  },
  {
   "cell_type": "code",
   "execution_count": 19,
   "id": "d15b49ef-e874-4700-bd3c-f72f0c307ae6",
   "metadata": {},
   "outputs": [],
   "source": [
    "def find_gc_by_pos(reads):\n",
    "    gc = [0]*100\n",
    "    total = [0]*100\n",
    "    for read in reads:\n",
    "        for i in range(100):\n",
    "            if read[i] in [\"C\", \"G\"]:\n",
    "                gc[i] += 1\n",
    "            total[i]+= 1\n",
    "    for i in range(100):\n",
    "        gc[i] /= float(total[i])\n",
    "    return gc"
   ]
  },
  {
   "cell_type": "code",
   "execution_count": 20,
   "id": "b449a3ed-2923-4b0d-881b-8ee914fd7fac",
   "metadata": {},
   "outputs": [
    {
     "data": {
      "image/png": "[encoded data removed]",
      "text/plain": [
       "<Figure size 640x480 with 1 Axes>"
      ]
     },
     "metadata": {},
     "output_type": "display_data"
    }
   ],
   "source": [
    "gc = find_gc_by_pos(seqs)\n",
    "plt.plot(range(len(gc)), gc) # random fluctuations, bbut consistenly higher than 0.5. Human genome has GC content > 0.5\n",
    "plt.show()"
   ]
  },
  {
   "cell_type": "code",
   "execution_count": 21,
   "id": "00d5bac3-0aec-418d-a574-dee9fb7a5ca9",
   "metadata": {},
   "outputs": [
    {
     "name": "stdout",
     "output_type": "stream",
     "text": [
      "Counter({'G': 28742, 'C': 28272, 'T': 21836, 'A': 21132, 'N': 18})\n"
     ]
    }
   ],
   "source": [
    "count = collections.Counter()\n",
    "for seq in seqs:\n",
    "    count.update(seq)\n",
    "print(count)"
   ]
  },
  {
   "cell_type": "markdown",
   "id": "74ab72ee-f81b-411c-9e2b-d94ffeb698f8",
   "metadata": {},
   "source": [
    "## Exact Matching\n",
    "\n",
    "Given some text *T*, at what offset (i.e. index) does pattern *P* occur?\n",
    "\n",
    "The Python function `find()` can do this easily."
   ]
  },
  {
   "cell_type": "code",
   "execution_count": 22,
   "id": "ce7bb298-580b-4cd3-b4ff-b389d4f8f69a",
   "metadata": {},
   "outputs": [
    {
     "data": {
      "text/plain": [
       "37"
      ]
     },
     "execution_count": 22,
     "metadata": {},
     "output_type": "execute_result"
    }
   ],
   "source": [
    "t = 'It was the best of times, it was the blurst of times.'\n",
    "t.find('blurst')"
   ]
  },
  {
   "cell_type": "markdown",
   "id": "6080386c-a0bd-4961-94ce-491ec1609541",
   "metadata": {},
   "source": [
    "But let's implement this ourselves."
   ]
  },
  {
   "cell_type": "code",
   "execution_count": 23,
   "id": "8c7200c0-10b8-4ce6-bf94-2e2987defab1",
   "metadata": {},
   "outputs": [],
   "source": [
    "def naive_match(text, pattern):\n",
    "    occurrences = []\n",
    "    k = len(pattern)\n",
    "    for i in range(len(text)-k+1):\n",
    "        if text[i:i+k] == pattern:\n",
    "            occurrences.append(i)\n",
    "    return occurrences"
   ]
  },
  {
   "cell_type": "code",
   "execution_count": 24,
   "id": "b95bd556-7d72-471f-a32a-ca406dc757cb",
   "metadata": {},
   "outputs": [
    {
     "data": {
      "text/plain": [
       "[37]"
      ]
     },
     "execution_count": 24,
     "metadata": {},
     "output_type": "execute_result"
    }
   ],
   "source": [
    "naive_match(t, 'blurst')"
   ]
  },
  {
   "cell_type": "code",
   "execution_count": 88,
   "id": "ee599ac2-4693-4260-b404-308aacc5a28b",
   "metadata": {},
   "outputs": [],
   "source": [
    "p = 'needle'\n",
    "t = 'needle need noodle needle'"
   ]
  },
  {
   "cell_type": "code",
   "execution_count": 89,
   "id": "988e885b-f71e-4621-ad18-8f45b0cd552d",
   "metadata": {},
   "outputs": [],
   "source": [
    "def naive(p, t):\n",
    "    occurrences = []\n",
    "    num_alignments = 0\n",
    "    num_char = 0\n",
    "    for i in range(len(t) - len(p) + 1):\n",
    "        match = True\n",
    "        for j in range(len(p)):\n",
    "            num_char += 1\n",
    "            if t[i+j] != p[j]:\n",
    "                match = False\n",
    "                break\n",
    "        if match:\n",
    "            occurrences.append(i)\n",
    "        num_alignments += 1\n",
    "    return occurrences, num_alignments, num_char"
   ]
  },
  {
   "cell_type": "code",
   "execution_count": 90,
   "id": "2629da4e-dce7-42ff-a198-7e25de7a4d7c",
   "metadata": {},
   "outputs": [
    {
     "data": {
      "text/plain": [
       "([0, 19], 20, 35)"
      ]
     },
     "execution_count": 90,
     "metadata": {},
     "output_type": "execute_result"
    }
   ],
   "source": [
    "naive(p, t)"
   ]
  },
  {
   "cell_type": "markdown",
   "id": "1422ce45-e1ab-4496-94c9-64bb652a64aa",
   "metadata": {},
   "source": [
    "### Practical: Matching artificial reads\n",
    "\n",
    "Let's read in the genome of an artificial organism."
   ]
  },
  {
   "cell_type": "code",
   "execution_count": 26,
   "id": "2d8d8126-8d21-4e9c-bcdf-7a3b11bd9881",
   "metadata": {},
   "outputs": [],
   "source": [
    "genome = read_genome(\"phix.fa\")"
   ]
  },
  {
   "cell_type": "code",
   "execution_count": 27,
   "id": "43493702-6e6e-4e54-9a87-e61d7dabc0ff",
   "metadata": {},
   "outputs": [
    {
     "name": "stdout",
     "output_type": "stream",
     "text": [
      "GAGTTTTATCGCTTCCATGACGCAGAAGTTAACACTTTCGGATATTTCTGATGAGTCGAAAAATTATCTTGATAAAGCAGGAATTACTACTGCTTGTTTA\n"
     ]
    }
   ],
   "source": [
    "print(genome[:100])"
   ]
  },
  {
   "cell_type": "markdown",
   "id": "c0189468-6c2d-4ee7-9754-2557158ef65c",
   "metadata": {},
   "source": [
    "If we randomly generate some *k*-mers from this genome, we should be able to find them again."
   ]
  },
  {
   "cell_type": "code",
   "execution_count": 28,
   "id": "0bd127f9-3ccd-4793-a059-069c95bf37ab",
   "metadata": {},
   "outputs": [],
   "source": [
    "import random\n",
    "def generate_reads(genome, num_reads, k):\n",
    "    reads = []\n",
    "    for n in range(num_reads):\n",
    "        i = random.randint(0, len(genome)-k+1)\n",
    "        reads.append(genome[i:i+k])\n",
    "    return reads"
   ]
  },
  {
   "cell_type": "code",
   "execution_count": 29,
   "id": "cc679ce6-9cc6-4f75-a481-4d65455a6b2f",
   "metadata": {},
   "outputs": [
    {
     "data": {
      "text/plain": [
       "100"
      ]
     },
     "execution_count": 29,
     "metadata": {},
     "output_type": "execute_result"
    }
   ],
   "source": [
    "reads = generate_reads(genome, 100, 100)\n",
    "matched = [i for i in reads if len(naive_match(genome, i)) != 0]\n",
    "len(matched)"
   ]
  },
  {
   "cell_type": "markdown",
   "id": "987ea086-d8ec-4736-8d2a-9c6a66eb025b",
   "metadata": {},
   "source": [
    "But, given \"real\" DNA sequencing reads, the results aren't so great."
   ]
  },
  {
   "cell_type": "code",
   "execution_count": 30,
   "id": "670d4956-f43d-4fec-9e23-8b0247dbf0e6",
   "metadata": {},
   "outputs": [],
   "source": [
    "reads, quals = read_fastq(\"ERR266411_1.first1000.fastq\")"
   ]
  },
  {
   "cell_type": "code",
   "execution_count": 31,
   "id": "07249693-829d-4278-b61f-6e721f0c64a4",
   "metadata": {},
   "outputs": [
    {
     "name": "stdout",
     "output_type": "stream",
     "text": [
      "0 out of 1000 reads matched the genome\n"
     ]
    }
   ],
   "source": [
    "num_matched = 0\n",
    "n = 0\n",
    "for read in seqs:\n",
    "    matches = naive_match(genome, read)\n",
    "    n += 1\n",
    "    if len(matches) > 0:\n",
    "        num_matched += 1\n",
    "print(f'{num_matched} out of {n} reads matched the genome')"
   ]
  },
  {
   "cell_type": "markdown",
   "id": "522e84ef-c625-40f4-8d6c-23a6e1438f20",
   "metadata": {},
   "source": [
    "Sequencers have errors, and individual genomes have differences from the reference genome."
   ]
  },
  {
   "cell_type": "markdown",
   "id": "c770ca31-e801-4b7a-86ae-a1b7cba56f7c",
   "metadata": {},
   "source": [
    "### Homework: Strand-Aware Naive Matching"
   ]
  },
  {
   "cell_type": "code",
   "execution_count": 32,
   "id": "bcd0f1c6-7c4c-4981-b27a-7e60a561e72e",
   "metadata": {},
   "outputs": [],
   "source": [
    "def strand_aware_naive_match(text, pattern):\n",
    "    occurrences = []\n",
    "    k = len(pattern)\n",
    "    rc = reverse_complement(pattern)\n",
    "    for i in range(len(text)-k+1):\n",
    "        if text[i:i+k] == pattern:\n",
    "            occurrences.append(i)\n",
    "        if text[i:i+k] == rc:\n",
    "            occurrences.append(i)\n",
    "    return set(occurrences)"
   ]
  },
  {
   "cell_type": "code",
   "execution_count": 33,
   "id": "c9b5ba08-5817-4269-a445-383082b6c1f9",
   "metadata": {},
   "outputs": [
    {
     "data": {
      "text/plain": [
       "{10, 23}"
      ]
     },
     "execution_count": 33,
     "metadata": {},
     "output_type": "execute_result"
    }
   ],
   "source": [
    "text = 'AAAAAAAAAACCCAAAAAAAAAAGGGAAAAAAAAAA'\n",
    "pattern = 'CCC'\n",
    "strand_aware_naive_match(text, pattern)"
   ]
  },
  {
   "cell_type": "code",
   "execution_count": 34,
   "id": "0f379a23-56af-4a19-95df-5f33048d2b04",
   "metadata": {},
   "outputs": [],
   "source": [
    "lambda_genome = read_genome('lambda_virus.fa')"
   ]
  },
  {
   "cell_type": "code",
   "execution_count": 35,
   "id": "e6990c04-f5a9-4cbf-a3f9-400758c748ed",
   "metadata": {},
   "outputs": [
    {
     "data": {
      "text/plain": [
       "{450, 1908, 2472, 18005, 23320, 33657, 41927, 44806, 45369}"
      ]
     },
     "execution_count": 35,
     "metadata": {},
     "output_type": "execute_result"
    }
   ],
   "source": [
    "strand_aware_naive_match(lambda_genome, 'AGTCGA')\n"
   ]
  },
  {
   "cell_type": "markdown",
   "id": "328b0312-c555-4988-b6e8-fd180f71a239",
   "metadata": {},
   "source": [
    "### Homework: Approximate Naive Matching (allowing *n* mismatches)"
   ]
  },
  {
   "cell_type": "code",
   "execution_count": 36,
   "id": "58cdeaa6-16e9-4b1b-96a8-ca982e444de2",
   "metadata": {},
   "outputs": [],
   "source": [
    "def hamming_dist(p1, p2):\n",
    "    dist = 0\n",
    "    for i in range(len(p1)):\n",
    "        if p1[i] != p2[i]:\n",
    "            dist += 1\n",
    "    return dist\n",
    "    \n",
    "def approximate_naive_match(text, pattern, n):\n",
    "    occurrences = []\n",
    "    k = len(pattern)\n",
    "    for i in range(len(text)-k+1):\n",
    "        if text[i:i+k] == pattern:\n",
    "            occurrences.append(i)\n",
    "        elif hamming_dist(text[i:i+k], pattern) <= n:\n",
    "            occurrences.append(i)\n",
    "    return occurrences"
   ]
  },
  {
   "cell_type": "code",
   "execution_count": 37,
   "id": "0f109920-2af9-4a63-8877-c53d26471010",
   "metadata": {},
   "outputs": [
    {
     "data": {
      "text/plain": [
       "49"
      ]
     },
     "execution_count": 37,
     "metadata": {},
     "output_type": "execute_result"
    }
   ],
   "source": [
    "min(approximate_naive_match(lambda_genome, \"AGGAGGTT\", 2))"
   ]
  },
  {
   "cell_type": "markdown",
   "id": "f9d08cf7-9bd8-4a00-9ec9-354d3daddbf3",
   "metadata": {},
   "source": [
    "## Homework: Identifying Bad Sequencing Cycle"
   ]
  },
  {
   "cell_type": "code",
   "execution_count": 38,
   "id": "b9a3cdde-dc83-47bc-97b4-ce5fc92d1eae",
   "metadata": {},
   "outputs": [],
   "source": [
    "seqs, quals = read_fastq(\"ERR037900_1.first1000.fastq\")"
   ]
  },
  {
   "cell_type": "code",
   "execution_count": 39,
   "id": "975db9da-5ec7-43d5-960c-49ed7c02be41",
   "metadata": {},
   "outputs": [
    {
     "data": {
      "image/png": "[encoded data removed]",
      "text/plain": [
       "<Figure size 640x480 with 1 Axes>"
      ]
     },
     "metadata": {},
     "output_type": "display_data"
    }
   ],
   "source": [
    "gc = find_gc_by_pos(seqs)\n",
    "plt.plot(range(len(gc)), gc)\n",
    "plt.show()"
   ]
  },
  {
   "cell_type": "code",
   "execution_count": 40,
   "id": "c7d37ec1-92ef-428d-b2d7-097ab3853ddc",
   "metadata": {},
   "outputs": [
    {
     "name": "stdout",
     "output_type": "stream",
     "text": [
      "66\n"
     ]
    }
   ],
   "source": [
    "gc_min = min(gc)\n",
    "print(gc.index(gc_min))"
   ]
  },
  {
   "cell_type": "markdown",
   "id": "9424d614-534d-4418-bcba-6367637d4e6c",
   "metadata": {},
   "source": [
    "## Boyer-Moore Algorithm\n",
    "\n",
    "* **Given**: *Text* and *Pattern*.\n",
    "* **Return**: *Positions* in *Text* that matches *Pattern*."
   ]
  },
  {
   "cell_type": "code",
   "execution_count": 41,
   "id": "865a9b2e-b0d8-4f49-8994-155bf714e29d",
   "metadata": {},
   "outputs": [],
   "source": [
    "text = \"ANPANMAN\"\n",
    "p = \"PAN\""
   ]
  },
  {
   "cell_type": "markdown",
   "id": "f18c56f1-1f3e-4e48-9e72-9a25e7317f04",
   "metadata": {},
   "source": [
    "## *k*-mer Index"
   ]
  },
  {
   "cell_type": "code",
   "execution_count": 42,
   "id": "d02998de-451d-4561-8869-2bfbea7c44dd",
   "metadata": {},
   "outputs": [],
   "source": [
    "import bisect"
   ]
  },
  {
   "cell_type": "code",
   "execution_count": 43,
   "id": "9a578121-8956-49a3-847a-0db2a591eec5",
   "metadata": {},
   "outputs": [],
   "source": [
    "class Index(object):\n",
    "    def __init__(self, text, k):\n",
    "        self.k = k\n",
    "        self.index = [(text[i:i+k], i) for i in range(len(text)-k+1)] # list of tuples\n",
    "        self.index.sort() # sort for binary search\n",
    "\n",
    "    def query(self, pattern): \n",
    "        kmer = pattern[:self.k] # get the first k-mer from pattern\n",
    "        # return index of the first occurrence of (kmer, n) in self.index\n",
    "        # -1 since all indices > -1 so ensure first occurrence\n",
    "        i = bisect.bisect_left(self.index, (kmer, -1)) \n",
    "        hits = []\n",
    "        while i < len(self.index): # iterate through the right half of self.index\n",
    "            if self.index[i][0] != kmer:\n",
    "                break # since we know that once kmer no longer matches in a sorted map then no point in continuing comparison\n",
    "            hits.append(self.index[i][1])\n",
    "            i += 1\n",
    "        return hits"
   ]
  },
  {
   "cell_type": "code",
   "execution_count": 44,
   "id": "9ee39642-3ff1-426f-80f8-4998df9db6d8",
   "metadata": {},
   "outputs": [],
   "source": [
    "ind = Index(\"ANPANMAN\", 3)"
   ]
  },
  {
   "cell_type": "code",
   "execution_count": 45,
   "id": "a9ae1819-87a6-43b9-9b80-9cf57f47c038",
   "metadata": {},
   "outputs": [
    {
     "data": {
      "text/plain": [
       "[('ANM', 3), ('ANP', 0), ('MAN', 5), ('NMA', 4), ('NPA', 1), ('PAN', 2)]"
      ]
     },
     "execution_count": 45,
     "metadata": {},
     "output_type": "execute_result"
    }
   ],
   "source": [
    "ind.index"
   ]
  },
  {
   "cell_type": "code",
   "execution_count": 46,
   "id": "5f311e4f-3700-4b90-a103-cc4a9d106703",
   "metadata": {},
   "outputs": [],
   "source": [
    "def query_index(pattern, text, index):\n",
    "    k = index.k\n",
    "    hits = index.query(pattern)\n",
    "    offsets = [i for i in hits if pattern[k:] == text[i+k:i+len(pattern)]]\n",
    "    return offsets"
   ]
  },
  {
   "cell_type": "code",
   "execution_count": 47,
   "id": "9c1dcd0a-1244-449d-b928-1545992d6348",
   "metadata": {},
   "outputs": [
    {
     "name": "stdout",
     "output_type": "stream",
     "text": [
      "[7, 14]\n"
     ]
    }
   ],
   "source": [
    "text = \"GCTACGATCTAGAATCTATCTG\"\n",
    "pattern = \"TCTA\"\n",
    "index = Index(text, 2)\n",
    "print(query_index(pattern, text, index))"
   ]
  },
  {
   "cell_type": "code",
   "execution_count": 48,
   "id": "192a40dc-5254-47f3-9286-7c3aa0a85c3d",
   "metadata": {},
   "outputs": [
    {
     "data": {
      "text/plain": [
       "'AT'"
      ]
     },
     "execution_count": 48,
     "metadata": {},
     "output_type": "execute_result"
    }
   ],
   "source": [
    "text[17:19]"
   ]
  },
  {
   "cell_type": "code",
   "execution_count": 1,
   "id": "0037d336-cd43-40c8-bbd9-f6202b74d1a2",
   "metadata": {},
   "outputs": [],
   "source": [
    "# put in BoyerMoore notebook\n",
    "def boyer_moore(p, p_bm, t):\n",
    "    \"\"\" Do Boyer-Moore matching \"\"\"\n",
    "    i = 0\n",
    "    occurrences = []\n",
    "    num_alignments = 0\n",
    "    num_char_comp = 0\n",
    "    while i < len(t) - len(p) + 1:\n",
    "        shift = 1\n",
    "        mismatched = False\n",
    "        for j in range(len(p)-1, -1, -1):\n",
    "            num_char_comp += 1\n",
    "            if p[j] != t[i+j]:\n",
    "                skip_bc = p_bm.bad_character_rule(j, t[i+j])\n",
    "                skip_gs = p_bm.good_suffix_rule(j)\n",
    "                shift = max(shift, skip_bc, skip_gs)\n",
    "                mismatched = True\n",
    "                break\n",
    "        if not mismatched:\n",
    "            occurrences.append(i)\n",
    "            skip_gs = p_bm.match_skip()\n",
    "            shift = max(shift, skip_gs)\n",
    "        i += shift\n",
    "        num_alignments += 1\n",
    "    return occurrences, num_alignments, num_char_comp"
   ]
  },
  {
   "cell_type": "code",
   "execution_count": 2,
   "id": "cda11b07-12fe-4451-8c5e-f82e2eb2e1cf",
   "metadata": {},
   "outputs": [
    {
     "ename": "NameError",
     "evalue": "name 'BoyerMoore' is not defined",
     "output_type": "error",
     "traceback": [
      "\u001b[1;31m---------------------------------------------------------------------------\u001b[0m",
      "\u001b[1;31mNameError\u001b[0m                                 Traceback (most recent call last)",
      "Cell \u001b[1;32mIn[2], line 4\u001b[0m\n\u001b[0;32m      2\u001b[0m t \u001b[38;5;241m=\u001b[39m \u001b[38;5;124m'\u001b[39m\u001b[38;5;124mneedle need noodle needle\u001b[39m\u001b[38;5;124m'\u001b[39m\n\u001b[0;32m      3\u001b[0m lowercase_alphabet \u001b[38;5;241m=\u001b[39m \u001b[38;5;124m'\u001b[39m\u001b[38;5;124mabcdefghijklmnopqrstuvwxyz \u001b[39m\u001b[38;5;124m'\u001b[39m\n\u001b[1;32m----> 4\u001b[0m p_bm \u001b[38;5;241m=\u001b[39m \u001b[43mBoyerMoore\u001b[49m(p, lowercase_alphabet)\n\u001b[0;32m      5\u001b[0m naive(p, t)\n",
      "\u001b[1;31mNameError\u001b[0m: name 'BoyerMoore' is not defined"
     ]
    }
   ],
   "source": [
    "p = 'needle'\n",
    "t = 'needle need noodle needle'\n",
    "lowercase_alphabet = 'abcdefghijklmnopqrstuvwxyz '\n",
    "p_bm = BoyerMoore(p, lowercase_alphabet)\n",
    "naive(p, t)"
   ]
  },
  {
   "cell_type": "code",
   "execution_count": null,
   "id": "64fc89bd-ea91-42ee-8590-4ce330266a15",
   "metadata": {},
   "outputs": [],
   "source": []
  }
 ],
 "metadata": {
  "kernelspec": {
   "display_name": "Python 3 (ipykernel)",
   "language": "python",
   "name": "python3"
  },
  "language_info": {
   "codemirror_mode": {
    "name": "ipython",
    "version": 3
   },
   "file_extension": ".py",
   "mimetype": "text/x-python",
   "name": "python",
   "nbconvert_exporter": "python",
   "pygments_lexer": "ipython3",
   "version": "3.10.5"
  }
 },
 "nbformat": 4,
 "nbformat_minor": 5
}
