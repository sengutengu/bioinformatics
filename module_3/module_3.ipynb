{
 "cells": [
  {
   "cell_type": "markdown",
   "id": "6dd44b7c-97c0-496f-ad1d-d02fe3d856ee",
   "metadata": {},
   "source": [
    "How do you find the shared 15-mer regulatory motif in the below strings?\n",
    "```\n",
    "1 \"atgaccgggatactgataaaaaaaagggggggggcgtacacattagataaacgtatgaagtacgttagactcggcgccgccg\"\n",
    "2 \"acccctattttttgagcagatttagtgacctggaaaaaaaatttgagtacaaaacttttccgaataaaaaaaaaggggggga\"\n",
    "3 \"tgagtatccctgggatgacttaaaaaaaagggggggtgctctcccgatttttgaatatgtaggatcattcgccagggtccga\"\n",
    "4 \"gctgagaattggatgaaaaaaaagggggggtccacgcaatcgcgaaccaacgcggacccaaaggcaagaccgataaaggaga\"\n",
    "5 \"tcccttttgcggtaatgtgccgggaggctggttacgtagggaagccctaacggacttaataaaaaaaagggggggcttatag\"\n",
    "6 \"gtcaatcatgttcttgtgaatggatttaaaaaaaaggggggggaccgcttggcgcacccaaattcagtgtgggcgagcgcaa\"\n",
    "7 \"cggttttggcccttgttagaggcccccgtaaaaaaaagggggggcaattatgagagagctaatctatcgcgtgcgtgttcat\"\n",
    "8 \"aacttgagttaaaaaaaagggggggctggggcacatacaagaggagtcttccttatcagttaatgctgtatgacactatgta\"\n",
    "9 \"ttggcccattggctaaaagcccaacttgacaaatggaagatagaatccttgcataaaaaaaagggggggaccgaaagggaag\"\n",
    "10 \"ctggtgagcaacgacagattcttacgtgcattagctcgcttccggggatctaatagcacgaagcttaaaaaaaaggggggga\"\n",
    "```\n",
    "\n",
    "We just use the FrequentWords algorithm we made earlier."
   ]
  },
  {
   "cell_type": "code",
   "execution_count": 1,
   "id": "ec090978-ed61-4f90-893e-a260a4383993",
   "metadata": {},
   "outputs": [],
   "source": [
    "def frequency_table(text, k):\n",
    "    \"\"\"\n",
    "    Returns a frequency table of k-mers in a text.\n",
    "\n",
    "    Args:\n",
    "        text (str): The text.\n",
    "        k (int): the length of the k-mers.\n",
    "\n",
    "    Returns:\n",
    "        freq_map (dict): The map of each k-mer to its frequency.\n",
    "    \"\"\"\n",
    "    freq_map = {}\n",
    "    n = len(text)\n",
    "    # indexing excludes end of range so must add +1 to n-k\n",
    "    for i in range(0, n-k+1):\n",
    "        pattern = text[i:i+k]\n",
    "        if pattern not in freq_map:\n",
    "            freq_map[pattern] = 1\n",
    "        else:\n",
    "            freq_map[pattern] += 1\n",
    "    return freq_map\n",
    "\n",
    "\n",
    "def maxmap(input_map):\n",
    "    \"\"\"\n",
    "    Returns the maximum value (not key) in a map.\n",
    "\n",
    "    Args:\n",
    "        input_map (dict): the map (type(value) == int)\n",
    "\n",
    "    Returns:\n",
    "        max_value (int): the maximum value.\n",
    "    \"\"\"\n",
    "    max_value = max(input_map.values())\n",
    "    return max_value\n",
    "\n",
    "    \n",
    "def frequent_words(text, k):\n",
    "    \"\"\"\n",
    "    Returns the most frequent k-mers from a text.\n",
    "\n",
    "    Args:\n",
    "        text (str): the text.\n",
    "        k (int): the length of the k-mers.\n",
    "\n",
    "    Returns:\n",
    "        frequent_patterns (list): the most frequent k-mers.\n",
    "    \"\"\"\n",
    "    frequent_patterns = []\n",
    "    freq_map = frequency_table(text, k)\n",
    "    max_num = maxmap(freq_map)\n",
    "    for pattern, freq in freq_map.items():\n",
    "        if freq == max_num:\n",
    "            frequent_patterns.append(pattern)\n",
    "    return frequent_patterns"
   ]
  },
  {
   "cell_type": "code",
   "execution_count": 2,
   "id": "7f380393-1786-44eb-b2ce-807840127b1c",
   "metadata": {},
   "outputs": [
    {
     "data": {
      "text/plain": [
       "['aaaaaaaaggggggg']"
      ]
     },
     "execution_count": 2,
     "metadata": {},
     "output_type": "execute_result"
    }
   ],
   "source": [
    "text = \"atgaccgggatactgataaaaaaaagggggggggcgtacacattagataaacgtatgaagtacgttagactcggcgccgccgacccctattttttgagcagatttagtgacctggaaaaaaaatttgagtacaaaacttttccgaataaaaaaaaagggggggatgagtatccctgggatgacttaaaaaaaagggggggtgctctcccgatttttgaatatgtaggatcattcgccagggtccgagctgagaattggatgaaaaaaaagggggggtccacgcaatcgcgaaccaacgcggacccaaaggcaagaccgataaaggagatcccttttgcggtaatgtgccgggaggctggttacgtagggaagccctaacggacttaataaaaaaaagggggggcttataggtcaatcatgttcttgtgaatggatttaaaaaaaaggggggggaccgcttggcgcacccaaattcagtgtgggcgagcgcaacggttttggcccttgttagaggcccccgtaaaaaaaagggggggcaattatgagagagctaatctatcgcgtgcgtgttcataacttgagttaaaaaaaagggggggctggggcacatacaagaggagtcttccttatcagttaatgctgtatgacactatgtattggcccattggctaaaagcccaacttgacaaatggaagatagaatccttgcataaaaaaaagggggggaccgaaagggaagctggtgagcaacgacagattcttacgtgcattagctcgcttccggggatctaatagcacgaagcttaaaaaaaaggggggga\"\n",
    "frequent_words(text, 15)"
   ]
  },
  {
   "cell_type": "markdown",
   "id": "8172c0a0-51b7-4400-b9d1-721cdf2a7cf6",
   "metadata": {},
   "source": [
    "But when the regulatory motif has mutations, even the Frequent Words with Mismatches algorithm becomes too slow, and unlike a DnaA box, a regulatory motif only has to appear at least once in each of the regions in the genome associated with the regulatory gene. For this, we might use a brute force algorithm first. \n",
    "\n",
    "Given a collection of strings Dna and an integer d, a k-mer is a (k,d)-motif if it appears in every string from Dna with at most d mismatches. For example, the implanted 15-mer in the strings above represents a (15,4)-motif.\n",
    "\n",
    "**Implanted Motif Problem**: Find all (k, d)-motifs in a collection of strings.\n",
    "\n",
    "    **Input**: A collection of strings Dna, and integers k and d.\n",
    "    **Output**: All (k, d)-motifs in Dna.\n"
   ]
  },
  {
   "cell_type": "code",
   "execution_count": 3,
   "id": "7ce1edd5-737d-48f5-a37f-3ef970174232",
   "metadata": {},
   "outputs": [],
   "source": [
    "def hamming(s1, s2):\n",
    "    \"\"\"\n",
    "    Find Hamming distance between two strings\n",
    "    \"\"\"\n",
    "    dist = 0\n",
    "    for i in range(len(s1)):\n",
    "        if s1[i] != s2[i]:\n",
    "            dist += 1\n",
    "    return dist\n",
    "\n",
    "    \n",
    "def neighbors(pattern, d):\n",
    "    # handle edge cases first\n",
    "    if d == 0:\n",
    "        return [pattern] # absolutely necessary to return list\n",
    "    if len(pattern) == 1:\n",
    "        return [\"A\", \"T\", \"G\", \"C\"]\n",
    "    neighborhood = []\n",
    "    suffix_neighbors = neighbors(pattern[1:], d)\n",
    "    for text in suffix_neighbors:\n",
    "        if hamming(pattern[1:], text) < d:\n",
    "            for nt in [\"A\", \"T\", \"G\", \"C\"]:\n",
    "                neighborhood.append(nt+text)\n",
    "        else:\n",
    "            neighborhood.append(pattern[0]+text)\n",
    "    return neighborhood"
   ]
  },
  {
   "cell_type": "code",
   "execution_count": 4,
   "id": "a38c6327-671f-419c-b915-7a0d6d442844",
   "metadata": {},
   "outputs": [],
   "source": [
    "def kmer_in_all_dna(kmer, kmers_dict):\n",
    "    for array in kmers_dict.values():\n",
    "        if kmer not in array:\n",
    "            return False\n",
    "    return True\n",
    "    \n",
    "def motif_enumeration(dna, k, d):\n",
    "    patterns = set()\n",
    "    kmers_dict = {}\n",
    "    all_kmers = set()\n",
    "\n",
    "    for pattern in dna:\n",
    "        kmers = {pattern[i:i+k] for i in range(len(pattern)-k+1)}\n",
    "        kmers_dict[pattern] = set()\n",
    "        for kmer in kmers:\n",
    "            kmer_neighbors = neighbors(kmer, d)\n",
    "            for i in kmer_neighbors:\n",
    "                kmers_dict[pattern].add(i) # d-neighbors of the k-mer\n",
    "                all_kmers.add(i)\n",
    "            kmers_dict[pattern].add(kmer) # the k-mer itself\n",
    "            all_kmers.add(kmer)\n",
    "                        \n",
    "    for kmer in all_kmers:\n",
    "        if kmer_in_all_dna(kmer, kmers_dict):\n",
    "            patterns.add(kmer)\n",
    "    \n",
    "    return patterns"
   ]
  },
  {
   "cell_type": "code",
   "execution_count": 5,
   "id": "8b656fdd-0950-497a-a079-39ca343d7cbf",
   "metadata": {},
   "outputs": [
    {
     "data": {
      "text/plain": [
       "{'brown', 'hard', 'slushy'}"
      ]
     },
     "execution_count": 5,
     "metadata": {},
     "output_type": "execute_result"
    }
   ],
   "source": [
    "dna = [\"AGTGCATCTGATTAGTCGTTGGATG\", \"GAGTCTCCAGAGTTGCATATGGAAA\", \"ATCTAAGTATGCACTTCATCAGGCC\", \"TCCGAAGTTTTGACGCCCGGAATTA\", \"CACCATTTTGAGTTCTTGCAACCTA\", \"CAACCTAGGCACCATGGCAAAGTTG\", \"TAGTAGGGCTTGTATCCCAGAGTGG\", \"AGTACTTCGCCCTTATCCTACAAGG\", \"TCCGGGTCTGGTGATCTTCTAGTTC\", \"AGTTATTGACCTCCAGGCGAATCAC\"]\n",
    "k = 5\n",
    "d = 2\n",
    "\" \".join(motif_enumeration(dna, k, d))\n",
    "\n",
    "poop = [\"brown\", \"brown\", \"slushy\", \"hard\"]\n",
    "set(poop)"
   ]
  },
  {
   "cell_type": "code",
   "execution_count": 6,
   "id": "26f5d3ad-00ba-424b-b92e-adf07d8cb424",
   "metadata": {},
   "outputs": [],
   "source": [
    "dna = [\"TCGGGGGTTTTT\",\n",
    "    \"CCGGTGACTTAC\",\n",
    "    \"ACGGGGATTTTC\",\n",
    "    \"TTGGGGACTTTT\",\n",
    "    \"AAGGGGACTTCC\",\n",
    "    \"TTGGGGACTTCC\",\n",
    "    \"TCGGGGATTCAT\",\n",
    "    \"TCGGGGATTCCT\",\n",
    "    \"TAGGGGAACTAC\",\n",
    "    \"TCGGGTATAACC\"]"
   ]
  },
  {
   "cell_type": "code",
   "execution_count": 7,
   "id": "aabf0032-03a0-46f2-b1a5-1d10a7c71c2f",
   "metadata": {},
   "outputs": [],
   "source": [
    "def score(dna):\n",
    "    score_dicts = []\n",
    "    scores = []\n",
    "    for i in range(len(dna[0])):\n",
    "        nt_counts = {\"A\":0, \"T\":0, \"G\":0, \"C\":0}\n",
    "        for seq in dna:\n",
    "            nt_counts[seq[i]] += 1\n",
    "        score_dicts.append(nt_counts)\n",
    "    for d in score_dicts:\n",
    "        print(d)\n",
    "        dict_score = 0\n",
    "        for key, value in d.items():\n",
    "            if key != max(d, key=d.get):\n",
    "                dict_score += value\n",
    "        scores.append(dict_score)\n",
    "    return scores"
   ]
  },
  {
   "cell_type": "code",
   "execution_count": 8,
   "id": "eab25980-854f-414c-982e-47085e1f5974",
   "metadata": {},
   "outputs": [
    {
     "name": "stdout",
     "output_type": "stream",
     "text": [
      "{'A': 2, 'T': 7, 'G': 0, 'C': 1}\n",
      "{'A': 2, 'T': 2, 'G': 0, 'C': 6}\n",
      "{'A': 0, 'T': 0, 'G': 10, 'C': 0}\n",
      "{'A': 0, 'T': 0, 'G': 10, 'C': 0}\n",
      "{'A': 0, 'T': 1, 'G': 9, 'C': 0}\n",
      "{'A': 0, 'T': 1, 'G': 9, 'C': 0}\n",
      "{'A': 9, 'T': 0, 'G': 1, 'C': 0}\n",
      "{'A': 1, 'T': 5, 'G': 0, 'C': 4}\n",
      "{'A': 1, 'T': 8, 'G': 0, 'C': 1}\n",
      "{'A': 1, 'T': 7, 'G': 0, 'C': 2}\n",
      "{'A': 3, 'T': 3, 'G': 0, 'C': 4}\n",
      "{'A': 0, 'T': 4, 'G': 0, 'C': 6}\n"
     ]
    },
    {
     "data": {
      "text/plain": [
       "[3, 4, 0, 0, 1, 1, 1, 5, 2, 3, 6, 4]"
      ]
     },
     "execution_count": 8,
     "metadata": {},
     "output_type": "execute_result"
    }
   ],
   "source": [
    "score(dna)"
   ]
  },
  {
   "cell_type": "code",
   "execution_count": 9,
   "id": "b2253259-ef02-4b9b-92da-ffcaf48299ec",
   "metadata": {},
   "outputs": [],
   "source": [
    "def count(dna):\n",
    "    score_dicts = []\n",
    "    counts = {}\n",
    "    for i in range(len(dna[0])):\n",
    "        nt_counts = {\"A\":0, \"T\":0, \"G\":0, \"C\":0}\n",
    "        for seq in dna:\n",
    "            nt_counts[seq[i]] += 1\n",
    "        for k, v in nt_counts.items(): # necessary because of floating point error if done in prev for in\n",
    "            nt_counts[k] = v/len(dna)\n",
    "        score_dicts.append(nt_counts)\n",
    "    return(score_dicts)"
   ]
  },
  {
   "cell_type": "code",
   "execution_count": 10,
   "id": "13b5218b-85cd-4d62-94ab-e501c9d9fac3",
   "metadata": {},
   "outputs": [
    {
     "data": {
      "text/plain": [
       "[{'A': 0.2, 'T': 0.7, 'G': 0.0, 'C': 0.1},\n",
       " {'A': 0.2, 'T': 0.2, 'G': 0.0, 'C': 0.6},\n",
       " {'A': 0.0, 'T': 0.0, 'G': 1.0, 'C': 0.0},\n",
       " {'A': 0.0, 'T': 0.0, 'G': 1.0, 'C': 0.0},\n",
       " {'A': 0.0, 'T': 0.1, 'G': 0.9, 'C': 0.0},\n",
       " {'A': 0.0, 'T': 0.1, 'G': 0.9, 'C': 0.0},\n",
       " {'A': 0.9, 'T': 0.0, 'G': 0.1, 'C': 0.0},\n",
       " {'A': 0.1, 'T': 0.5, 'G': 0.0, 'C': 0.4},\n",
       " {'A': 0.1, 'T': 0.8, 'G': 0.0, 'C': 0.1},\n",
       " {'A': 0.1, 'T': 0.7, 'G': 0.0, 'C': 0.2},\n",
       " {'A': 0.3, 'T': 0.3, 'G': 0.0, 'C': 0.4},\n",
       " {'A': 0.0, 'T': 0.4, 'G': 0.0, 'C': 0.6}]"
      ]
     },
     "execution_count": 10,
     "metadata": {},
     "output_type": "execute_result"
    }
   ],
   "source": [
    "count(dna)"
   ]
  },
  {
   "cell_type": "code",
   "execution_count": 11,
   "id": "9a537db1-5f99-4dd1-9900-abd0ca440c9a",
   "metadata": {},
   "outputs": [],
   "source": [
    "import math\n",
    "def safe_log2(value):\n",
    "    try:\n",
    "        return math.log2(value)\n",
    "    except:\n",
    "        return 0\n",
    "        \n",
    "def entropy(d):\n",
    "    \"\"\"\n",
    "    Calculate entropy of given a dictionary with probabilities for each nucleotide\n",
    "    \"\"\"\n",
    "    plogp = [value*safe_log2(value) for key, value in d.items()]\n",
    "    ent = -1*sum(plogp)\n",
    "    return ent\n",
    "\n",
    "def total_entropy(dna):\n",
    "    count_matrix = count(dna)\n",
    "    entropies = [entropy(d) for d in count_matrix]\n",
    "    return sum(entropies)\n",
    "        \n",
    "        \n",
    "        "
   ]
  },
  {
   "cell_type": "code",
   "execution_count": 12,
   "id": "13d0c628-ecef-4058-8bb5-ad6ebfc7c375",
   "metadata": {},
   "outputs": [
    {
     "data": {
      "text/plain": [
       "1.3709505944546687"
      ]
     },
     "execution_count": 12,
     "metadata": {},
     "output_type": "execute_result"
    }
   ],
   "source": [
    "entropy({'A': 0.2, 'T': 0.2, 'G': 0.0, 'C': 0.6})"
   ]
  },
  {
   "cell_type": "code",
   "execution_count": 13,
   "id": "391a8772-f28e-400a-aeb4-3453ad07fc72",
   "metadata": {},
   "outputs": [
    {
     "data": {
      "text/plain": [
       "9.916290005356972"
      ]
     },
     "execution_count": 13,
     "metadata": {},
     "output_type": "execute_result"
    }
   ],
   "source": [
    "total_entropy(dna)"
   ]
  },
  {
   "cell_type": "code",
   "execution_count": 14,
   "id": "99b50c42-21e7-4bf9-bb60-58df09fe3576",
   "metadata": {},
   "outputs": [
    {
     "name": "stdout",
     "output_type": "stream",
     "text": [
      "TAA ATA ACG AAA AGA\n"
     ]
    }
   ],
   "source": [
    "# stolen code from comment section\n",
    "def hamming_dist(p,q):\n",
    "    dist = 0\n",
    "    if(len(p) != len(q)):\n",
    "        return \"Unable to compute.\"\n",
    "    else:\n",
    "        for i in range(0,len(p)):\n",
    "            if p[i] == q[i]:\n",
    "                next\n",
    "            else:\n",
    "                dist+=1\n",
    "    return dist\n",
    "    \n",
    "def closest_match(dna,pattern):\n",
    "    \"\"\"\n",
    "    given a dna fragment and a pattern with length=k, \n",
    "    find a substring k-mer in dna fragment that has the \n",
    "    smallest hamming distance from the pattern.\n",
    "    \"\"\"\n",
    "    distances = {}\n",
    "    for i in range(0,len(dna)-len(pattern)+1):\n",
    "        kmer = dna[i:i+len(pattern)]\n",
    "        kmer_dist = hamming_dist(kmer,pattern)\n",
    "        distances[kmer] = kmer_dist\n",
    "    min_val = min(distances, key=distances.get)\n",
    "    return min_val\n",
    "\n",
    "def median_string(dnas,pattern):\n",
    "    \"\"\"\n",
    "    Within each dna in dnas, find a k-mer min_val such that it is the closest match to the given pattern. \n",
    "    If there is a substring \"AAA\", it will be the closest match.\n",
    "    \"\"\"\n",
    "    kmers = []\n",
    "    for d in dnas:\n",
    "        min_val = closest_match(d,pattern)\n",
    "        kmers.append(min_val)\n",
    "    return kmers\n",
    "\n",
    "print(*median_string([\"TTACCTTAAC\",\"GATATCTGTC\",\"ACGGCGTTCG\",\"CCCTAAAGAG\",\"CGTCAGAGGT\"],\"AAA\"))\n"
   ]
  },
  {
   "cell_type": "markdown",
   "id": "97990823-98e7-44e9-9a78-68399e083409",
   "metadata": {},
   "source": [
    "```\n",
    "DistanceBetweenPatternAndStrings(Pattern, Dna)\n",
    "    k ← |Pattern|\n",
    "    distance ← 0\n",
    "    for each string Text in Dna\n",
    "        HammingDistance ← ∞\n",
    "        for each k-mer Pattern’ in Text\n",
    "            if HammingDistance > HammingDistance(Pattern, Pattern’)\n",
    "                HammingDistance ← HammingDistance(Pattern, Pattern’)\n",
    "        distance ← distance + HammingDistance\n",
    "    return distance\n",
    "```"
   ]
  },
  {
   "cell_type": "code",
   "execution_count": 15,
   "id": "6eaa96d4-74b1-4432-8bc8-c89346c4e208",
   "metadata": {},
   "outputs": [],
   "source": [
    "# my own implementation\n",
    "def DistanceBetweenPatternAndStrings(pattern, dnas):\n",
    "    k = len(pattern)\n",
    "    distance = 0\n",
    "    for dna in dnas:\n",
    "        hamming_dist = len(dna)\n",
    "        for i in range(len(dna)-len(pattern)+1):\n",
    "            kmer = dna[i:i+len(pattern)]\n",
    "            current_hamming = hamming(pattern, kmer)\n",
    "            if hamming_dist > current_hamming:\n",
    "                hamming_dist = current_hamming\n",
    "        distance += hamming_dist\n",
    "    return distance"
   ]
  },
  {
   "cell_type": "code",
   "execution_count": 16,
   "id": "93782bf2-e1bc-4da9-89e0-f9fea039a508",
   "metadata": {},
   "outputs": [
    {
     "data": {
      "text/plain": [
       "39"
      ]
     },
     "execution_count": 16,
     "metadata": {},
     "output_type": "execute_result"
    }
   ],
   "source": [
    "pattern = \"TTACG\"\n",
    "dnas = [\"GCCCGTACGCGCCGGGCATTAATTGAGGGGCCAAAACCTTGACGAGGGAAAAGTGCCTACATAACTAGCCGTAACATCTGTCCGACTGCGAAACAAGGGAAGAGC\",\n",
    "\"AAAGTACGTTATATATGCTCCCGCCACATACGGCGGGCTAATTACAATGCAAATGCCGCTTAATGATTGCAATGGTGATAACAGTATGGCAATGTTTAAGGGACG\",\n",
    "\"GCGCGATACCACCGTGAGGCGGAGATGAGTGGCGTTCGTCCGTAACTAGTGAGCATGTTACCACGGGTCCAATAGATCCCATAGGACCCTCAATTATGGTGGAGA\",\n",
    "\"CTTCTGTGCACGGATATTTTACCCGGGAGAGATGCGGCTCTGGTTGCGACAATAACCGGGGTGGGTTTAAGTTGGAACTGGTGACGATAGTTAATAGACCATCGT\", \n",
    "\"TCAAATAGCTCCTGGATCAGGATTGATTAGCGTATGACGGGTCACCGCGCTCATGCATTCAGCGTATAGAAGTCCCCTCCGACGCAAACCCGCGCCGAGACGCTC\",\n",
    "\"AATCGAATGGGGGCGGTTTTGCACCAGTTCGATAGGTAGTGCCCCGAATACACACGTCGTGCTCATAACATTCGCTGCCTTTTGGGCTGGTAATTTTGGAAATCT\",\n",
    "\"CGGGAGGTATCCACTGAATCCGACCAGCCCTGGGTTTTGGTTCACCCGCTTCTCGTCTTGGAGTACACGTTTGCTGCGCGCGATTGTCATTTTGGATATGTCAAC\",\n",
    "\"CTGAGACCAATCGGCGCATATTAGTTGACCGATGTACCAAACTGATAACACACCCAGCTTCCTTCATCCAATCATCGGCTAGTGAGCTAGAGCCGGCCCGGCCCT\",\n",
    "\"CAAGCAGCATCCCCTCAAGAGCCCATTTTAAAGCGCGAGCCATTTAGGGCCGTTTTTCCTGTTTCCTCTCTCGTAAGCAGGTTGCTCCTACCTACAACAGACCAA\",\n",
    "\"GTAGAAGTGATGACTGTCGGCTGTTGTTGTGACTGGTCTCAACCGTGTGGCGTCAAGATAGTGCGGTATCCTCTTCGATTATCAGATTTTCTGGGAGAGATTTAC\",\n",
    "\"CGCCACATGATGAATATAACATCTGTAGGGGTGTGTCGACAATGGCCTTGATGTCTCTTTCCCCGACGTCTGTGAAACAAAATTTTGTCGGCAGGTGGGCCCACT\",\n",
    "\"GACAAGTATTCACGCTCGTTTATTTGGGTTGAAGATTTAGCCTATCGACAACAGCCGTGGGGGGCGGTGGGCGGCAGAACTAACTCTATACTCGGATACCTTATA\",\n",
    "\"AAGGACACTGGTACGATCCTAGAAGGGGCAATGAGAATATGGACACTGGTCTAGAATGGATCCGGTAAGCTCCTCATAAGCCACTATCGGGATGGCCGGATTCTC\",\n",
    "\"GCTGCAGGCCGCTTTTCTCCGTTTAGGCCCCACCTGACGGGGTAACGAGTTTAGCGAGCCCTCTTTGAAAGGGGGAACGCATTTGATGGTTGCAGTAGACATAGT\",\n",
    "\"CAGATTTACATAACATCTAATTATATAGGCACTACCTACATGTGGTGATGTGCACGTGAACACGGAGTGGGCGCATTCCGCGTTATGTATGCCAGAGACCTTTCA\",\n",
    "\"CAATGGGTCTTTTATAACAAGGTTATACAATATTAGAGAATACCAAACGACGGCCCGGTATACCTGAGTTGCTCCAAACCGACTGATTCTGGTTGAACAAAGGTT\",\n",
    "\"TACTACCATGAGTTTATCGTCAGAGTATTCGCACTCGTAGACGAGATTCTGAAGCGCATTAACTGCTCCTTGGGCTGGGTTCCAAGGTCGGTTAGTCTTAGGGAT\",\n",
    "\"TGTAAGCGCCGCCTACAGCGTTACTCCTCTACATCAATCATAGTTGGTAGAAAGTCAGTAGGTACCCAACGACACAATGTTTATAGATCCTAATGTGAGTGGCTC\",\n",
    "\"CCTTACGTTGAGGTATGCTTACTTCGGCAAATGAACCGTTCGAACAAACCGGGTCAAATAGCTAGAGAGACTCAGAGTGGAGGCCATAATATATGGAGAGACATG\",\n",
    "\"GGGTAATTACTCTAATATTCTCAAATCACGGCAATACGGAGATAAACCTCTTTACCGACAGAATCTTAGGAAGCACATAATAACTAGGTAGGTAACATTATCAAC\",\n",
    "\"CCCATTCAGGTACCATGAAAAAAATTTATTTTCATGGTTGCCAAAATCCACGTTACACATGCCGGCAGCTTGTGGGCAACTGAGCAAGTCCGAGGACGTGAAGCT\",\n",
    "\"TTCATTACTGTGCATCAGGCACTGTACGTCTACCCAACTTAAGCTTATGATAAACGCTTCAGACCTTGGGTATTACCTCTGCTTGCTGACCTGGATAGCGCAAAT\",\n",
    "\"TAGTGCAGCTTGCAAGTAGAAAACTATATTCGGGGTCCGCTCACTATGAGGGTATACGATCCTACTGGGAGGCCTCTATGAAACACACCGTTAGGGGAGCCCATA\",\n",
    "\"CAGCCCATACATAGAAGAGGACGCACTCTACGTGTTGCATCTAGTAGTCAGCACTAATTACAACTCTATCCATAGTAGCAAAGGAATAAACGACAAAAGGTCTAA\",\n",
    "\"GTATGCTTCGTCTGTCTCACATAAACAGCGGATACTGTAAGTAACAAACAGATTGACCATAGCGTCAGGTCCGCTAGCACCCCCTGGCATTGCGGGACGAGTCTC\",\n",
    "\"CAGTCTTTAACCAGGACCAACAATCCTCGTAAACCTGTGGCTCTCTCCAGGTCTGTTTATTTATTGCATCAGCGTCTCGCACCTTGTGCACAAACGACGTCAATG\",\n",
    "\"GCAATGTAGATTTAACATTGTCGACAGTTACCCAGAGCCTGAGACACCTTTCGTCTTTCTAGGCCACGACTTCGCCAGGTTAGATAAGTGAGCCCGTGTGGAAGG\",\n",
    "\"CGCATAACAGACAAATGTAACTGTGTACGTCTAAGGCGCCCTTTTTGTAGTCATCCCACCGCCACTATGGCTTGCTCCGTTCTAGCTGTGGTAGACGGCGCCCCA\",\n",
    "\"CACCGAGCATGAATTATCAGTTCTTTTGACTGGGAGGACTGATTGGTGGATAACCTGAACGGTGGATTACGGGTAACTCACTTAGCATGACCCCACTAGGTTATA\",\n",
    "\"CAGGTGTCCGTTTGTCAATACTCTCCAGAATGTAGGAAGTTCGTACTTACTCAGGCTCTTCCGGTTGCCTCAACCCCTCTAAATTGTCACGACGTTTGTCGAGTA\",\n",
    "\"AGTAACCCGAAAGCCTATATGTTGAATTCCTGGTGTTGCAAGTATATGCCAGAGCAGATTTTGGAAGATCCCGCCAGGCGCGGCTTGTTAAACTATTTACTATTC\",\n",
    "\"CGATCGGGGTAAAGCAGCTTCAAGCCCTCCGTTAAGGCGCAGTCTACTGCATCTTCGTCAGTAATCTTAAGGCAGCGCATCGTTTGAGTACTCGTGGATTAACGG\",\n",
    "\"CCTGAAGCCCGACGAGAAATGGGAACAACTTTTAGCCGTTCGAACGTTCTGCATCGGCGGAAGCTTGATACGTATCTTGCGCATTTGGCGACCAGACAAGCTAAG\",\n",
    "\"TTGGCAACGAACCTGCAGATTTCTAACGGAACGTTCTTCCGCGCCATTGAAGTATGACTCGCCTACCAGTTTCGGAATGTCGTAGCATTACCTACTTTACTGGTC\"]\n",
    "        \n",
    "\n",
    "DistanceBetweenPatternAndStrings(pattern, dnas)"
   ]
  },
  {
   "cell_type": "markdown",
   "id": "21327799-f579-4b68-93e5-96b331999bbf",
   "metadata": {},
   "source": [
    "```\n",
    "MedianString(Dna, k)\n",
    "    distance ← ∞\n",
    "    Patterns ← AllStrings(k)\n",
    "    for i ← 0 to |Patterns|\n",
    "        Pattern ← Patterns[i]\n",
    "        if distance > DistanceBetweenPatternAndStrings(Pattern, Dna)\n",
    "            distance ← DistanceBetweenPatternAndStrings(Pattern, Dna)\n",
    "            Median ← Pattern\n",
    "    return Median\n",
    "```"
   ]
  },
  {
   "cell_type": "code",
   "execution_count": 17,
   "id": "7d431473-126f-4e69-9d9a-caa5e84e53bb",
   "metadata": {},
   "outputs": [],
   "source": [
    "def medianString(dnas, k):\n",
    "    distance = float('inf')\n",
    "    patterns = neighbors(\"\".join([\"A\" for i in range(k)]), k)\n",
    "    for pattern in patterns:\n",
    "        current_distance = DistanceBetweenPatternAndStrings(pattern, dnas)\n",
    "        if distance > current_distance:\n",
    "            distance = current_distance\n",
    "            median = pattern\n",
    "    return median"
   ]
  },
  {
   "cell_type": "code",
   "execution_count": 36,
   "id": "3a030346-5855-4bf2-94f3-45e0edad4d26",
   "metadata": {},
   "outputs": [
    {
     "data": {
      "text/plain": [
       "'ATCGGC'"
      ]
     },
     "execution_count": 36,
     "metadata": {},
     "output_type": "execute_result"
    }
   ],
   "source": [
    "k=6\n",
    "\n",
    "dnas = [\n",
    "    \"TATGCCATCGGCCCAAGAGCAGGTGTGCGGCTGAATGAGTCA\",\n",
    "    \"GATAGTTGTTAATGACTACTCTTTATCGGGACCCGTCATCCG\",\n",
    "    \"CTGGGCCGTAGTAAACGTGGCGCCATCGGTATAGCACGTAAT\",\n",
    "    \"CGTACCGCCTGCATCTTTATCGGAACTCCGATCCAACCCATC\",\n",
    "    \"ATCGGTGATCAGCTTTGCCCTCCCGGCTGGGAGTACCTACAA\",\n",
    "    \"AGCAAATTAGGCGATGGCACGACGCTCAGCCCTACGATCGGC\",\n",
    "    \"GGCGGATCGTCCGGTCGGAGCCTGATCGGCCTTGTTTCACAC\",\n",
    "    \"AGTGCCTAACCTGTCGTGATCGGAAAACCGAACATGGCAGGT\",\n",
    "    \"TTGAGTCCGGAAAATCCACCAGGAAATATTAATGACATCGGT\",\n",
    "    \"TCAAGGTCTCATTCGCTAGACCCAATCGGCCGACATTCGCGG\"\n",
    "]\n",
    "medianString(dnas, k)"
   ]
  },
  {
   "cell_type": "code",
   "execution_count": 37,
   "id": "221c74fa-d572-4c55-a0d7-24190c77dcf0",
   "metadata": {},
   "outputs": [],
   "source": [
    "from itertools import product\n",
    "\n",
    "def hamming_distance(pattern1, pattern2):\n",
    "    \"\"\"Calculate the Hamming distance between two strings.\"\"\"\n",
    "    return sum(c1 != c2 for c1, c2 in zip(pattern1, pattern2))\n",
    "\n",
    "def median_string(dna, k):\n",
    "    \"\"\"Find the median string with the smallest total Hamming distance to all strings in the given DNA sequences.\"\"\"\n",
    "    distance = float('inf')\n",
    "    median = None\n",
    "    \n",
    "    # Generate all possible k-mers\n",
    "    for pattern in [''.join(p) for p in product('ACGT', repeat=k)]:\n",
    "        # Calculate the total distance between the current pattern and all strings in DNA\n",
    "        total_distance = sum(min(hamming_distance(pattern, dna_str[j:j+k]) for j in range(len(dna_str) - k + 1)) for dna_str in dna)\n",
    "        \n",
    "        # Update the median and distance if the total distance is smaller\n",
    "        if total_distance < distance:\n",
    "            distance = total_distance\n",
    "            median = pattern\n",
    "    \n",
    "    return median"
   ]
  },
  {
   "cell_type": "code",
   "execution_count": 38,
   "id": "93420c8c-847b-45ca-8c83-15af59129e6c",
   "metadata": {},
   "outputs": [
    {
     "data": {
      "text/plain": [
       "'ATCGGC'"
      ]
     },
     "execution_count": 38,
     "metadata": {},
     "output_type": "execute_result"
    }
   ],
   "source": [
    "median_string(dnas, k)"
   ]
  },
  {
   "cell_type": "code",
   "execution_count": null,
   "id": "e2a6c17d-1085-4ec5-b070-3a12d86a3bfe",
   "metadata": {},
   "outputs": [],
   "source": []
  }
 ],
 "metadata": {
  "kernelspec": {
   "display_name": "Python 3 (ipykernel)",
   "language": "python",
   "name": "python3"
  },
  "language_info": {
   "codemirror_mode": {
    "name": "ipython",
    "version": 3
   },
   "file_extension": ".py",
   "mimetype": "text/x-python",
   "name": "python",
   "nbconvert_exporter": "python",
   "pygments_lexer": "ipython3",
   "version": "3.12.5"
  }
 },
 "nbformat": 4,
 "nbformat_minor": 5
}
