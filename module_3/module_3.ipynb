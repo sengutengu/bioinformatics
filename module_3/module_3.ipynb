{
 "cells": [
  {
   "cell_type": "markdown",
   "id": "3232abc8-16d9-4c4b-8841-b44fd26b1d80",
   "metadata": {},
   "source": [
    "# Bioinformatics Algorithms, Week 3\n",
    "\n",
    "This week, we are switching gears from looking for the *DnaA* boxes in bacterial genomes, to looking for **regulatory motifs** responsible for maintaining circadian rhythms. Regulatory motifs are short nucleotide sequences, typically upstream of genes, which are bound by transcription factors that may activate or repress transcription. \n",
    "\n",
    "(A promoter a kind of a regulatory motif in DNA; activators and repressors are proteins. A *DnaA* box is not a promoter, but it is a regulatory motif found near the promoter. DNA polymerase is not an activator). \n",
    "\n",
    "### Identifying the evening element\n",
    "In [Harmer et al. (2000)](https://doi.org/10.1126/science.290.5499.2110), Steve Kay's team used a DNA microarray to identify genes expressed at different times of the day (transcriptomes). They then extracted the upstream regions (L = 1000 bps) of 500 genes that exhibited circadian behavior, and looked for Frequent Words. They found the sequence AAAATATCT 46 times. The expected number of occurrences of a 9-mer in 500 random DNA strings, each of length 1000 bps is 1.892, since:\n",
    "\n",
    "- The probability of randomly generating any 9-mer is $0.25^9$.\n",
    "- In a 1000 bp sequence, the 9-mer can occupy $992$ (i.e. $1000-9+1$) positions.\n",
    "- There are $500$ such sequences.\n",
    "- Therefore, $0.25^9 \\times 992 \\times 500 = 1.89208984375$ is the expected number.\n",
    "\n",
    "So it turns out that the sequence AAAATATCT was **about 24 times more frequent** than expected. Harmer et al. (2000) named this promoter sequence the **evening element** and verified that it does, indeed, govern circadian behavior. The idea is that a single activator, or a set of activators that recognize the same promoter AAAATATCT, will activate the transcription of all 500 genes associated with circadian behavior at the same time in a plant, so that all necessary proteins are available for the plant to express circadian behavior.  \n",
    "\n",
    "Perhaps because maintaining a correct circadian rhythm is a matter of life or death for plants, the evening element is remarkably well-conserved in plants. However, regulatory motifs in other genes and organisms may not be so conserved. Fruit fly **immunity genes** have very similar, but not identical, 12-mer promoters, where a transcription factor called **NF-kB** binds and activates transcription. \n",
    "\n",
    "```\n",
    "1   T C G G G G g T T T t t\n",
    "2   c C G G t G A c T T a C\n",
    "3   a C G G G G A T T T t C\n",
    "4   T t G G G G A c T T t t\n",
    "5   a a G G G G A c T T C C\n",
    "6   T t G G G G A c T T C C\n",
    "7   T C G G G G A T T c a t\n",
    "8   T C G G G G A T T c C t\n",
    "9   T a G G G G A a c T a C\n",
    "10  T C G G G t A T a a C C\n",
    "```\n",
    "\n",
    "The uppercase letters indicate the most common nucleotide in each column.\n",
    "\n",
    "When we have a case like this, where there are numerous (>2) differences between strings and our *k*-mers get quite long, the **Frequent Words** solution that we spent the last two weeks developing will no longer help us because the algorithm will be too slow. Moreover, unlike *DnaA* boxes, which occur in clumps near the *ori*, regulatory motifs tend to be scattered throughout the genome, which means we might be dealing with windows that are tens or hundreds of thousands of base pairs wide. We need another approach."
   ]
  },
  {
   "cell_type": "markdown",
   "id": "8172c0a0-51b7-4400-b9d1-721cdf2a7cf6",
   "metadata": {},
   "source": [
    "### Motif Enumeration\n",
    "We can first try a brute-force, **exhaustive search** which considers every possible candidate and checks whether each candidate solves the problem. While such a search is guaranteed to return a correct solution, its time complexity makes it an NP problem, and it is not guaranteed to return an answer in a reasonable amount of time. The function below does not entirely follow the pseudocode given in the course, because I could not make sense of the pseudocode.\n",
    "\n",
    "**Implanted Motif Problem**: *Find all (k, d)-motifs in a collection of strings.*\n",
    "- **Input**: A collection of strings *Dna*, and integers *k* and *d*.\n",
    "- **Output**: All (*k*, *d*)-motifs, which are *k*-mers appearing in every string in *Dna* with at most *d* mismatches.\n"
   ]
  },
  {
   "cell_type": "code",
   "execution_count": 1,
   "id": "4bc8ecb9-418c-4659-b7d2-650a9e9bf716",
   "metadata": {},
   "outputs": [],
   "source": [
    "def hamming_distance(s1, s2):\n",
    "    diff = [i for i in range(len(s1)) if s1[i] != s2[i]]\n",
    "    return len(diff)\n",
    "\n",
    "def neighbors(pattern, d):\n",
    "    if d == 0:\n",
    "        return {pattern}\n",
    "    if len(pattern) == 1:\n",
    "        return {\"A\", \"C\", \"G\", \"T\"}\n",
    "    neighborhood = set()\n",
    "    suffix_neighbors = neighbors(pattern[1:], d)\n",
    "    for text in suffix_neighbors:\n",
    "        if hamming_distance(pattern[1:], text) < d:\n",
    "            nts = [\"A\", \"C\", \"G\", \"T\"]\n",
    "            for nt in nts:\n",
    "                neighborhood.add(nt+text)\n",
    "        else:\n",
    "            neighborhood.add(pattern[0]+text)\n",
    "    return neighborhood\n",
    "    \n",
    "def kmer_in_all_dna(kmer, kmers_dict):\n",
    "    for array in kmers_dict.values():\n",
    "        if kmer not in array:\n",
    "            return False\n",
    "    return True\n",
    "    \n",
    "def motif_enumeration(dna, k, d):\n",
    "    patterns = set()\n",
    "    kmers_dict = {}\n",
    "    all_kmers = set()\n",
    "\n",
    "    for pattern in dna:\n",
    "        kmers = {pattern[i:i+k] for i in range(len(pattern)-k+1)}\n",
    "        kmers_dict[pattern] = set()\n",
    "        for kmer in kmers:\n",
    "            kmer_neighbors = neighbors(kmer, d)\n",
    "            for i in kmer_neighbors:\n",
    "                kmers_dict[pattern].add(i) # d-neighbors of the k-mer\n",
    "                all_kmers.add(i)\n",
    "            kmers_dict[pattern].add(kmer) # the k-mer itself\n",
    "            all_kmers.add(kmer)\n",
    "                        \n",
    "    for kmer in all_kmers:\n",
    "        if kmer_in_all_dna(kmer, kmers_dict):\n",
    "            patterns.add(kmer)\n",
    "    \n",
    "    return patterns"
   ]
  },
  {
   "cell_type": "code",
   "execution_count": 2,
   "id": "7ce1edd5-737d-48f5-a37f-3ef970174232",
   "metadata": {},
   "outputs": [
    {
     "data": {
      "text/plain": [
       "{'ATA', 'ATT', 'GTT', 'TTT'}"
      ]
     },
     "execution_count": 2,
     "metadata": {},
     "output_type": "execute_result"
    }
   ],
   "source": [
    "dna = [\"ATTTGGC\", \"TGCCTTA\", \"CGGTATC\", \"GAAAATT\"]\n",
    "k = 3 \n",
    "d = 1\n",
    "motif_enumeration(dna, k, d)"
   ]
  },
  {
   "cell_type": "markdown",
   "id": "6c88c12c-89af-4157-898a-226eddf73349",
   "metadata": {},
   "source": [
    "### Motif Scoring\n",
    "The **Implanted Motif** problem has some limitations. If even a single string in *Dna* does not contain the regulatory motif, a (*k*, *d*)-motif does not exist at all. \n",
    "\n",
    "A different way to think about the problem might be to score individual instances of the motif depending on how similar they are to an \"ideal\" motif. But since the ideal motif is unknown, we select a *k*-mer from each string, and score these *k*-mers based on how similar they are to **each other**.\n",
    "\n",
    "Given a list of *t* strings *Dna*, where each string has a length *n*, and we want to score *k*-mers. We will be dealing with a $t \\times k$ matrix *Motifs*.\n",
    "\n",
    "```\n",
    "               k\n",
    "\n",
    "   [[T C G G G G g T T T t t]\n",
    "    [c C G G t G A c T T a C]\n",
    "    [a C G G G G A T T T t C]\n",
    "    [T t G G G G A c T T t t]\n",
    "t   [a a G G G G A c T T C C]\n",
    "    [T t G G G G A c T T C C]\n",
    "    [T C G G G G A T T c a t]\n",
    "    [T C G G G G A T T c C t]\n",
    "    [T a G G G G A a c T a C]\n",
    "    [T C G G G t A T a a C C]]\n",
    "```\n",
    "\n",
    "By varying the choice of *k*-mers from each string in *Dna*, we can construct a large number of different *Motif* matrices. Our goal is to obtain the most \"conserved\" matrix, with the least amount of differences across the *k*-mers in the matrix. To quantify the similarity of the *k*-mers, we can simply count the number of nucleotides at each position in *k* that are not in the plurality. "
   ]
  },
  {
   "cell_type": "code",
   "execution_count": 49,
   "id": "8b656fdd-0950-497a-a079-39ca343d7cbf",
   "metadata": {},
   "outputs": [],
   "source": [
    "def score(motifs):\n",
    "    k = len(motifs[0])\n",
    "    \n",
    "    score_dicts = []\n",
    "    for i in range(k):\n",
    "        nt_counts = {\"A\":0, \"T\":0, \"G\":0, \"C\":0}\n",
    "        for motif in motifs:\n",
    "            nt_counts[motif[i]] += 1\n",
    "        score_dicts.append(nt_counts)\n",
    "\n",
    "    scores = []\n",
    "    for d in score_dicts:\n",
    "        dict_score = 0\n",
    "        for key, value in d.items():\n",
    "            if key != max(d, key=d.get):\n",
    "                dict_score += value\n",
    "        scores.append(dict_score)\n",
    "    return sum(scores)"
   ]
  },
  {
   "cell_type": "code",
   "execution_count": 50,
   "id": "26f5d3ad-00ba-424b-b92e-adf07d8cb424",
   "metadata": {},
   "outputs": [
    {
     "data": {
      "text/plain": [
       "30"
      ]
     },
     "execution_count": 50,
     "metadata": {},
     "output_type": "execute_result"
    }
   ],
   "source": [
    "dna = [\"TCGGGGGTTTTT\",\n",
    "    \"CCGGTGACTTAC\",\n",
    "    \"ACGGGGATTTTC\",\n",
    "    \"TTGGGGACTTTT\",\n",
    "    \"AAGGGGACTTCC\",\n",
    "    \"TTGGGGACTTCC\",\n",
    "    \"TCGGGGATTCAT\",\n",
    "    \"TCGGGGATTCCT\",\n",
    "    \"TAGGGGAACTAC\",\n",
    "    \"TCGGGTATAACC\"]\n",
    "\n",
    "score(dna)"
   ]
  },
  {
   "cell_type": "markdown",
   "id": "b284d2e5-e061-4a4f-a4fb-5b1f2e604407",
   "metadata": {},
   "source": [
    "But, currently, we ignore the difference between a column having 6C, 2A, and 2T versus a column having 6C and 4T. Both end up with the score of 6, yet the latter is actually more conserved than the former! This is important because many regulatory motifs have a few \"strongly conserved\" positions and many \"weakly conserved\" positions that allow one of several nucleotides with no clear preference for one over the other. \n",
    "\n",
    "To account for the degree to which having the \"right\" nucleotide matters, we turn to **entropy**. It is a measure of uncertainty for probability distributions, and is defined as: \n",
    "\n",
    "$$ H(p_1, \\dots, p_N) = -\\Sigma^N_{i=1} (p_i\\times\\log_2{p_i})$$"
   ]
  },
  {
   "cell_type": "code",
   "execution_count": 79,
   "id": "9a537db1-5f99-4dd1-9900-abd0ca440c9a",
   "metadata": {},
   "outputs": [],
   "source": [
    "import math\n",
    "def safe_log2(value):\n",
    "    try:\n",
    "        return math.log2(value)\n",
    "    except: \n",
    "        return 0 # log(0) is undefined but we need to return 0\n",
    "        \n",
    "def entropy(row):\n",
    "    plogp = [value*safe_log2(value) for value in row]\n",
    "    ent = -1*sum(plogp)\n",
    "    return ent\n",
    "\n",
    "def total_entropy(matrix):\n",
    "    pf = profile(matrix)\n",
    "    entropies = [ entropy(row) for row in pf.T ]\n",
    "    return sum(entropies)"
   ]
  },
  {
   "cell_type": "code",
   "execution_count": 81,
   "id": "ce5620d2-e0b8-46dc-907e-41ca1c3838a0",
   "metadata": {},
   "outputs": [
    {
     "data": {
      "text/plain": [
       "9.916290005356972"
      ]
     },
     "execution_count": 81,
     "metadata": {},
     "output_type": "execute_result"
    }
   ],
   "source": [
    "total_entropy(dna)"
   ]
  },
  {
   "cell_type": "markdown",
   "id": "0180fbf7-ee45-4ab2-ab3e-0e6d326ae259",
   "metadata": {},
   "source": [
    "Entropy offers an improved method of scoring motif matrices than just counting the non-plurality nucleotides, and in practice entropy is used more often, but for simplicity's sake, we'll use the **score** function instead.\n",
    "\n",
    "We can also obtain a **count** matrix, and if we divide all elements in **count** by *t*, the number of strings in *Dna*, we obtain the **profile** matrix."
   ]
  },
  {
   "cell_type": "code",
   "execution_count": 54,
   "id": "b2253259-ef02-4b9b-92da-ffcaf48299ec",
   "metadata": {},
   "outputs": [],
   "source": [
    "import numpy as np\n",
    "\n",
    "def count(motifs):\n",
    "    k = len(motifs[0])\n",
    "    counts = [[0]*k for i in range(4)] # empty matrix to fill\n",
    "    nt_index_map = {\"A\": 0, \"C\": 1, \"G\": 2, \"T\": 3}\n",
    "    for motif in motifs:\n",
    "        for i in range(k):\n",
    "            nt = motif[i]\n",
    "            counts[nt_index_map[nt]][i] += 1\n",
    "    return counts\n",
    "\n",
    "def profile(motifs):\n",
    "    counts = np.array(count(motifs))\n",
    "    return counts/len(motifs)"
   ]
  },
  {
   "cell_type": "code",
   "execution_count": 55,
   "id": "13b5218b-85cd-4d62-94ab-e501c9d9fac3",
   "metadata": {},
   "outputs": [
    {
     "data": {
      "text/plain": [
       "array([[0.2, 0.2, 0. , 0. , 0. , 0. , 0.9, 0.1, 0.1, 0.1, 0.3, 0. ],\n",
       "       [0.1, 0.6, 0. , 0. , 0. , 0. , 0. , 0.4, 0.1, 0.2, 0.4, 0.6],\n",
       "       [0. , 0. , 1. , 1. , 0.9, 0.9, 0.1, 0. , 0. , 0. , 0. , 0. ],\n",
       "       [0.7, 0.2, 0. , 0. , 0.1, 0.1, 0. , 0.5, 0.8, 0.7, 0.3, 0.4]])"
      ]
     },
     "execution_count": 55,
     "metadata": {},
     "output_type": "execute_result"
    }
   ],
   "source": [
    "profile(dna)"
   ]
  },
  {
   "cell_type": "markdown",
   "id": "51e0dd81-4428-477d-9732-20e05a3e7fc5",
   "metadata": {},
   "source": [
    "Finally, using the **profile** matrix, we can find out what the **consensus string** is. "
   ]
  },
  {
   "cell_type": "code",
   "execution_count": 60,
   "id": "92c44fe8-5d45-46be-bb3f-cecb6f4c9036",
   "metadata": {},
   "outputs": [],
   "source": [
    "def consensus(motifs):\n",
    "    pf = profile(motifs)\n",
    "    index_nt_map = {0: \"A\", 1: \"C\", 2: \"G\", 3: \"T\"}\n",
    "    max_values = np.argmax(pf, axis=0)\n",
    "    \n",
    "    return \"\".join([index_nt_map[i] for i in max_values])"
   ]
  },
  {
   "cell_type": "code",
   "execution_count": 61,
   "id": "cedd58bd-3f0d-4df6-a18f-ddc952188190",
   "metadata": {},
   "outputs": [
    {
     "data": {
      "text/plain": [
       "'TCGGGGATTTCC'"
      ]
     },
     "execution_count": 61,
     "metadata": {},
     "output_type": "execute_result"
    }
   ],
   "source": [
    "consensus(dna)"
   ]
  },
  {
   "cell_type": "markdown",
   "id": "a63ad146-0108-46e8-88f0-806ba8569f36",
   "metadata": {},
   "source": [
    "Super cool! The consensus string is not actually found in any of the 10 strings in *Dna*, but it still counts. "
   ]
  },
  {
   "cell_type": "markdown",
   "id": "173cc578-b93d-4a91-a29e-159f697f9bdf",
   "metadata": {},
   "source": [
    "### The Motif Finding Problem\n",
    "\n",
    "Now that we've learned how to evaluate a collection of *k*-mers, we can formulate the **Motif Finding** problem.\n",
    "\n",
    "**Motif Finding Problem**: *Given a collection of strings, find a set of k-mers, one from each string, that minimizes the score of the resulting motif.*\n",
    "-**Input**: A collection of strings *Dna* and an integer *k*.\n",
    "-**Output**: A collection **Motifs** of *k*-mers, one from each string in *Dna*, minimizing *Score*(*Motifs*) among all possible choices of *k*-mers.\n",
    "\n",
    "So, this is an optimization problem. A brute force algorithm would be way too slow (O(n<sup>k</sup>)), so we have to figure out a faster algorithm. Given the same matrix as before:\n",
    "\n",
    "```\n",
    "               k\n",
    "\n",
    "   [[T C G G G G g T T T t t]\n",
    "    [c C G G t G A c T T a C]\n",
    "    [a C G G G G A T T T t C]\n",
    "    [T t G G G G A c T T t t]\n",
    "t   [a a G G G G A c T T C C]\n",
    "    [T t G G G G A c T T C C]\n",
    "    [T C G G G G A T T c a t]\n",
    "    [T C G G G G A T T c C t]\n",
    "    [T a G G G G A a c T a C]\n",
    "    [T C G G G t A T a a C C]]\n",
    "```\n",
    "\n",
    "We can actually calculate score by tallying up the column-consensus nucleotide per row (in this matrix, it would be the capitalized letters). It also happens that the score per row is just the Hamming distance between the row and the consensus string for this matrix, and so the overall *Score*(*Motifs*) equals the sum of Hamming distances.\n",
    "\n",
    "<img src=\"http://bioinformaticsalgorithms.com/images/Motifs/motifs_score_consensus.png\" width=500px />\n",
    "\n",
    "Alright. The instructors define a **function *d*(*Pattern*, *Motifs*) as the sum of Hamming distances between *Pattern* and *Motif*** in *Dna*. And because *Score*(*Motifs*) = *d*(*Pattern*, *Motifs*), rather than looking for a set *Motifs* that minimizes *Score*, we can look for a string *Pattern* that minimizes *d* given all possible sets *Motifs* in *Dna*.\n",
    "\n",
    "**Equivalent Motif Finding Problem**: *Given a collection of strings, find a collection of k-mers (one from each string) that minimizes the distance between all possible patterns and all possible collections of k-mers.*\n",
    "- **Input**: A collection of strings *Dna* and an integer *k*.\n",
    "- **Output**: A *k*-mer *Pattern* and a collection of *k*-mers, one from each string in *Dna*, minimizing *d*(*Pattern*, *Motifs*) among all possible choices of *Pattern* and *Motifs*."
   ]
  },
  {
   "cell_type": "code",
   "execution_count": null,
   "id": "99b50c42-21e7-4bf9-bb60-58df09fe3576",
   "metadata": {},
   "outputs": [],
   "source": [
    "# stolen code from comment section\n",
    "def hamming_dist(p,q):\n",
    "    dist = 0\n",
    "    if(len(p) != len(q)):\n",
    "        return \"Unable to compute.\"\n",
    "    else:\n",
    "        for i in range(0,len(p)):\n",
    "            if p[i] == q[i]:\n",
    "                next\n",
    "            else:\n",
    "                dist+=1\n",
    "    return dist\n",
    "    \n",
    "def closest_match(dna,pattern):\n",
    "    \"\"\"\n",
    "    given a dna fragment and a pattern with length=k, \n",
    "    find a substring k-mer in dna fragment that has the \n",
    "    smallest hamming distance from the pattern.\n",
    "    \"\"\"\n",
    "    distances = {}\n",
    "    for i in range(0,len(dna)-len(pattern)+1):\n",
    "        kmer = dna[i:i+len(pattern)]\n",
    "        kmer_dist = hamming_dist(kmer,pattern)\n",
    "        distances[kmer] = kmer_dist\n",
    "    min_val = min(distances, key=distances.get)\n",
    "    return min_val\n",
    "\n",
    "def median_string(dnas,pattern):\n",
    "    \"\"\"\n",
    "    Within each dna in dnas, find a k-mer min_val such that it is the closest match to the given pattern. \n",
    "    If there is a substring \"AAA\", it will be the closest match.\n",
    "    \"\"\"\n",
    "    kmers = []\n",
    "    for d in dnas:\n",
    "        min_val = closest_match(d,pattern)\n",
    "        kmers.append(min_val)\n",
    "    return kmers\n",
    "\n",
    "print(*median_string([\"TTACCTTAAC\",\"GATATCTGTC\",\"ACGGCGTTCG\",\"CCCTAAAGAG\",\"CGTCAGAGGT\"],\"AAA\"))\n"
   ]
  },
  {
   "cell_type": "markdown",
   "id": "97990823-98e7-44e9-9a78-68399e083409",
   "metadata": {},
   "source": [
    "```\n",
    "DistanceBetweenPatternAndStrings(Pattern, Dna)\n",
    "    k ← |Pattern|\n",
    "    distance ← 0\n",
    "    for each string Text in Dna\n",
    "        HammingDistance ← ∞\n",
    "        for each k-mer Pattern’ in Text\n",
    "            if HammingDistance > HammingDistance(Pattern, Pattern’)\n",
    "                HammingDistance ← HammingDistance(Pattern, Pattern’)\n",
    "        distance ← distance + HammingDistance\n",
    "    return distance\n",
    "```"
   ]
  },
  {
   "cell_type": "code",
   "execution_count": null,
   "id": "6eaa96d4-74b1-4432-8bc8-c89346c4e208",
   "metadata": {},
   "outputs": [],
   "source": [
    "# my own implementation\n",
    "def DistanceBetweenPatternAndStrings(pattern, dnas):\n",
    "    k = len(pattern)\n",
    "    distance = 0\n",
    "    for dna in dnas:\n",
    "        hamming_dist = len(dna)\n",
    "        for i in range(len(dna)-len(pattern)+1):\n",
    "            kmer = dna[i:i+len(pattern)]\n",
    "            current_hamming = hamming(pattern, kmer)\n",
    "            if hamming_dist > current_hamming:\n",
    "                hamming_dist = current_hamming\n",
    "        distance += hamming_dist\n",
    "    return distance"
   ]
  },
  {
   "cell_type": "code",
   "execution_count": null,
   "id": "93782bf2-e1bc-4da9-89e0-f9fea039a508",
   "metadata": {},
   "outputs": [],
   "source": [
    "pattern = \"TTACG\"\n",
    "dnas = [\"GCCCGTACGCGCCGGGCATTAATTGAGGGGCCAAAACCTTGACGAGGGAAAAGTGCCTACATAACTAGCCGTAACATCTGTCCGACTGCGAAACAAGGGAAGAGC\",\n",
    "\"AAAGTACGTTATATATGCTCCCGCCACATACGGCGGGCTAATTACAATGCAAATGCCGCTTAATGATTGCAATGGTGATAACAGTATGGCAATGTTTAAGGGACG\",\n",
    "\"GCGCGATACCACCGTGAGGCGGAGATGAGTGGCGTTCGTCCGTAACTAGTGAGCATGTTACCACGGGTCCAATAGATCCCATAGGACCCTCAATTATGGTGGAGA\",\n",
    "\"CTTCTGTGCACGGATATTTTACCCGGGAGAGATGCGGCTCTGGTTGCGACAATAACCGGGGTGGGTTTAAGTTGGAACTGGTGACGATAGTTAATAGACCATCGT\", \n",
    "\"TCAAATAGCTCCTGGATCAGGATTGATTAGCGTATGACGGGTCACCGCGCTCATGCATTCAGCGTATAGAAGTCCCCTCCGACGCAAACCCGCGCCGAGACGCTC\",\n",
    "\"AATCGAATGGGGGCGGTTTTGCACCAGTTCGATAGGTAGTGCCCCGAATACACACGTCGTGCTCATAACATTCGCTGCCTTTTGGGCTGGTAATTTTGGAAATCT\",\n",
    "\"CGGGAGGTATCCACTGAATCCGACCAGCCCTGGGTTTTGGTTCACCCGCTTCTCGTCTTGGAGTACACGTTTGCTGCGCGCGATTGTCATTTTGGATATGTCAAC\",\n",
    "\"CTGAGACCAATCGGCGCATATTAGTTGACCGATGTACCAAACTGATAACACACCCAGCTTCCTTCATCCAATCATCGGCTAGTGAGCTAGAGCCGGCCCGGCCCT\",\n",
    "\"CAAGCAGCATCCCCTCAAGAGCCCATTTTAAAGCGCGAGCCATTTAGGGCCGTTTTTCCTGTTTCCTCTCTCGTAAGCAGGTTGCTCCTACCTACAACAGACCAA\",\n",
    "\"GTAGAAGTGATGACTGTCGGCTGTTGTTGTGACTGGTCTCAACCGTGTGGCGTCAAGATAGTGCGGTATCCTCTTCGATTATCAGATTTTCTGGGAGAGATTTAC\",\n",
    "\"CGCCACATGATGAATATAACATCTGTAGGGGTGTGTCGACAATGGCCTTGATGTCTCTTTCCCCGACGTCTGTGAAACAAAATTTTGTCGGCAGGTGGGCCCACT\",\n",
    "\"GACAAGTATTCACGCTCGTTTATTTGGGTTGAAGATTTAGCCTATCGACAACAGCCGTGGGGGGCGGTGGGCGGCAGAACTAACTCTATACTCGGATACCTTATA\",\n",
    "\"AAGGACACTGGTACGATCCTAGAAGGGGCAATGAGAATATGGACACTGGTCTAGAATGGATCCGGTAAGCTCCTCATAAGCCACTATCGGGATGGCCGGATTCTC\",\n",
    "\"GCTGCAGGCCGCTTTTCTCCGTTTAGGCCCCACCTGACGGGGTAACGAGTTTAGCGAGCCCTCTTTGAAAGGGGGAACGCATTTGATGGTTGCAGTAGACATAGT\",\n",
    "\"CAGATTTACATAACATCTAATTATATAGGCACTACCTACATGTGGTGATGTGCACGTGAACACGGAGTGGGCGCATTCCGCGTTATGTATGCCAGAGACCTTTCA\",\n",
    "\"CAATGGGTCTTTTATAACAAGGTTATACAATATTAGAGAATACCAAACGACGGCCCGGTATACCTGAGTTGCTCCAAACCGACTGATTCTGGTTGAACAAAGGTT\",\n",
    "\"TACTACCATGAGTTTATCGTCAGAGTATTCGCACTCGTAGACGAGATTCTGAAGCGCATTAACTGCTCCTTGGGCTGGGTTCCAAGGTCGGTTAGTCTTAGGGAT\",\n",
    "\"TGTAAGCGCCGCCTACAGCGTTACTCCTCTACATCAATCATAGTTGGTAGAAAGTCAGTAGGTACCCAACGACACAATGTTTATAGATCCTAATGTGAGTGGCTC\",\n",
    "\"CCTTACGTTGAGGTATGCTTACTTCGGCAAATGAACCGTTCGAACAAACCGGGTCAAATAGCTAGAGAGACTCAGAGTGGAGGCCATAATATATGGAGAGACATG\",\n",
    "\"GGGTAATTACTCTAATATTCTCAAATCACGGCAATACGGAGATAAACCTCTTTACCGACAGAATCTTAGGAAGCACATAATAACTAGGTAGGTAACATTATCAAC\",\n",
    "\"CCCATTCAGGTACCATGAAAAAAATTTATTTTCATGGTTGCCAAAATCCACGTTACACATGCCGGCAGCTTGTGGGCAACTGAGCAAGTCCGAGGACGTGAAGCT\",\n",
    "\"TTCATTACTGTGCATCAGGCACTGTACGTCTACCCAACTTAAGCTTATGATAAACGCTTCAGACCTTGGGTATTACCTCTGCTTGCTGACCTGGATAGCGCAAAT\",\n",
    "\"TAGTGCAGCTTGCAAGTAGAAAACTATATTCGGGGTCCGCTCACTATGAGGGTATACGATCCTACTGGGAGGCCTCTATGAAACACACCGTTAGGGGAGCCCATA\",\n",
    "\"CAGCCCATACATAGAAGAGGACGCACTCTACGTGTTGCATCTAGTAGTCAGCACTAATTACAACTCTATCCATAGTAGCAAAGGAATAAACGACAAAAGGTCTAA\",\n",
    "\"GTATGCTTCGTCTGTCTCACATAAACAGCGGATACTGTAAGTAACAAACAGATTGACCATAGCGTCAGGTCCGCTAGCACCCCCTGGCATTGCGGGACGAGTCTC\",\n",
    "\"CAGTCTTTAACCAGGACCAACAATCCTCGTAAACCTGTGGCTCTCTCCAGGTCTGTTTATTTATTGCATCAGCGTCTCGCACCTTGTGCACAAACGACGTCAATG\",\n",
    "\"GCAATGTAGATTTAACATTGTCGACAGTTACCCAGAGCCTGAGACACCTTTCGTCTTTCTAGGCCACGACTTCGCCAGGTTAGATAAGTGAGCCCGTGTGGAAGG\",\n",
    "\"CGCATAACAGACAAATGTAACTGTGTACGTCTAAGGCGCCCTTTTTGTAGTCATCCCACCGCCACTATGGCTTGCTCCGTTCTAGCTGTGGTAGACGGCGCCCCA\",\n",
    "\"CACCGAGCATGAATTATCAGTTCTTTTGACTGGGAGGACTGATTGGTGGATAACCTGAACGGTGGATTACGGGTAACTCACTTAGCATGACCCCACTAGGTTATA\",\n",
    "\"CAGGTGTCCGTTTGTCAATACTCTCCAGAATGTAGGAAGTTCGTACTTACTCAGGCTCTTCCGGTTGCCTCAACCCCTCTAAATTGTCACGACGTTTGTCGAGTA\",\n",
    "\"AGTAACCCGAAAGCCTATATGTTGAATTCCTGGTGTTGCAAGTATATGCCAGAGCAGATTTTGGAAGATCCCGCCAGGCGCGGCTTGTTAAACTATTTACTATTC\",\n",
    "\"CGATCGGGGTAAAGCAGCTTCAAGCCCTCCGTTAAGGCGCAGTCTACTGCATCTTCGTCAGTAATCTTAAGGCAGCGCATCGTTTGAGTACTCGTGGATTAACGG\",\n",
    "\"CCTGAAGCCCGACGAGAAATGGGAACAACTTTTAGCCGTTCGAACGTTCTGCATCGGCGGAAGCTTGATACGTATCTTGCGCATTTGGCGACCAGACAAGCTAAG\",\n",
    "\"TTGGCAACGAACCTGCAGATTTCTAACGGAACGTTCTTCCGCGCCATTGAAGTATGACTCGCCTACCAGTTTCGGAATGTCGTAGCATTACCTACTTTACTGGTC\"]\n",
    "        \n",
    "\n",
    "DistanceBetweenPatternAndStrings(pattern, dnas)"
   ]
  },
  {
   "cell_type": "markdown",
   "id": "21327799-f579-4b68-93e5-96b331999bbf",
   "metadata": {},
   "source": [
    "```\n",
    "MedianString(Dna, k)\n",
    "    distance ← ∞\n",
    "    Patterns ← AllStrings(k)\n",
    "    for i ← 0 to |Patterns|\n",
    "        Pattern ← Patterns[i]\n",
    "        if distance > DistanceBetweenPatternAndStrings(Pattern, Dna)\n",
    "            distance ← DistanceBetweenPatternAndStrings(Pattern, Dna)\n",
    "            Median ← Pattern\n",
    "    return Median\n",
    "```"
   ]
  },
  {
   "cell_type": "code",
   "execution_count": null,
   "id": "7d431473-126f-4e69-9d9a-caa5e84e53bb",
   "metadata": {},
   "outputs": [],
   "source": [
    "def medianString(dnas, k):\n",
    "    distance = float('inf')\n",
    "    patterns = neighbors(\"\".join([\"A\" for i in range(k)]), k)\n",
    "    for pattern in patterns:\n",
    "        current_distance = DistanceBetweenPatternAndStrings(pattern, dnas)\n",
    "        if distance > current_distance:\n",
    "            distance = current_distance\n",
    "            median = pattern\n",
    "    return median"
   ]
  },
  {
   "cell_type": "code",
   "execution_count": null,
   "id": "3a030346-5855-4bf2-94f3-45e0edad4d26",
   "metadata": {},
   "outputs": [],
   "source": [
    "k=6\n",
    "\n",
    "dnas = [\n",
    "    \"TATGCCATCGGCCCAAGAGCAGGTGTGCGGCTGAATGAGTCA\",\n",
    "    \"GATAGTTGTTAATGACTACTCTTTATCGGGACCCGTCATCCG\",\n",
    "    \"CTGGGCCGTAGTAAACGTGGCGCCATCGGTATAGCACGTAAT\",\n",
    "    \"CGTACCGCCTGCATCTTTATCGGAACTCCGATCCAACCCATC\",\n",
    "    \"ATCGGTGATCAGCTTTGCCCTCCCGGCTGGGAGTACCTACAA\",\n",
    "    \"AGCAAATTAGGCGATGGCACGACGCTCAGCCCTACGATCGGC\",\n",
    "    \"GGCGGATCGTCCGGTCGGAGCCTGATCGGCCTTGTTTCACAC\",\n",
    "    \"AGTGCCTAACCTGTCGTGATCGGAAAACCGAACATGGCAGGT\",\n",
    "    \"TTGAGTCCGGAAAATCCACCAGGAAATATTAATGACATCGGT\",\n",
    "    \"TCAAGGTCTCATTCGCTAGACCCAATCGGCCGACATTCGCGG\"]\n",
    "medianString(dnas, k)"
   ]
  },
  {
   "cell_type": "code",
   "execution_count": null,
   "id": "28d760b8-d8a8-4906-a89c-3fb5365fc145",
   "metadata": {},
   "outputs": [],
   "source": [
    "k=7\n",
    "dnas = [\"CTCGATGAGTAGGAAAGTAGTTTCACTGGGCGAACCACCCCGGCGCTAATCCTAGTGCCC\", \n",
    "        \"GCAATCCTACCCGAGGCCACATATCAGTAGGAACTAGAACCACCACGGGTGGCTAGTTTC\",\n",
    "        \"GGTGTTGAACCACGGGGTTAGTTTCATCTATTGTAGGAATCGGCTTCAAATCCTACACAG\"]\n",
    "\n",
    "def medianString_all(dnas, k):\n",
    "    medians = []\n",
    "    distance = float('inf')\n",
    "    patterns = neighbors(\"\".join([\"A\" for i in range(k)]), k)\n",
    "    for pattern in patterns:\n",
    "        current_distance = DistanceBetweenPatternAndStrings(pattern, dnas)\n",
    "        if distance > current_distance:\n",
    "            distance = current_distance\n",
    "            medians.append(pattern)\n",
    "        elif distance == current_distance:\n",
    "            medians.append(pattern)\n",
    "            \n",
    "    return medians\n",
    "    \n",
    "medianString_all(dnas, k)"
   ]
  },
  {
   "cell_type": "code",
   "execution_count": null,
   "id": "221c74fa-d572-4c55-a0d7-24190c77dcf0",
   "metadata": {},
   "outputs": [],
   "source": [
    "from itertools import product\n",
    "\n",
    "def hamming_distance(pattern1, pattern2):\n",
    "    \"\"\"Calculate the Hamming distance between two strings.\"\"\"\n",
    "    return sum(c1 != c2 for c1, c2 in zip(pattern1, pattern2))\n",
    "\n",
    "def median_string(dna, k):\n",
    "    \"\"\"Find the median string with the smallest total Hamming distance to all strings in the given DNA sequences.\"\"\"\n",
    "    distance = float('inf')\n",
    "    median = None\n",
    "    \n",
    "    # Generate all possible k-mers\n",
    "    for pattern in [''.join(p) for p in product('ACGT', repeat=k)]:\n",
    "        # Calculate the total distance between the current pattern and all strings in DNA\n",
    "        total_distance = sum(min(hamming_distance(pattern, dna_str[j:j+k]) for j in range(len(dna_str) - k + 1)) for dna_str in dna)\n",
    "        \n",
    "        # Update the median and distance if the total distance is smaller\n",
    "        if total_distance < distance:\n",
    "            distance = total_distance\n",
    "            median = pattern\n",
    "    \n",
    "    return median"
   ]
  },
  {
   "cell_type": "code",
   "execution_count": null,
   "id": "93420c8c-847b-45ca-8c83-15af59129e6c",
   "metadata": {},
   "outputs": [],
   "source": [
    "median_string(dnas, k)"
   ]
  },
  {
   "cell_type": "code",
   "execution_count": null,
   "id": "00f32c6c-9f0e-417f-8694-bee45e6d589a",
   "metadata": {},
   "outputs": [],
   "source": [
    "def most_probable_kmer(text, k, profile):\n",
    "    max_prob = -1\n",
    "    for i in range(len(text)-k+1):\n",
    "        kmer = text[i:i+k]\n",
    "        prob = 1\n",
    "        for j in range(k):\n",
    "            if kmer[j] == \"A\":\n",
    "                prob *= profile[0][j]\n",
    "            elif kmer[j] == \"C\":\n",
    "                prob *= profile[1][j]\n",
    "            elif kmer[j] == \"G\":\n",
    "                prob *= profile[2][j]\n",
    "            elif kmer[j] == \"T\":\n",
    "                prob *= profile[3][j]\n",
    "        if prob > max_prob:\n",
    "            max_prob = prob\n",
    "            max_kmer = kmer\n",
    "    return max_kmer"
   ]
  },
  {
   "cell_type": "code",
   "execution_count": null,
   "id": "e2a6c17d-1085-4ec5-b070-3a12d86a3bfe",
   "metadata": {},
   "outputs": [],
   "source": [
    "f = open(\"mostprobable.txt\", \"r\")\n",
    "input = f.read().split(\"\\n\")\n",
    "f.close()\n",
    "\n",
    "\n",
    "text = input[0]\n",
    "k = int(input[1])\n",
    "profile = [i.split(\" \") for i in input[2:]]\n",
    "profile = [[float(i) for i in line] for line in profile]\n",
    "print(profile)"
   ]
  },
  {
   "cell_type": "code",
   "execution_count": null,
   "id": "092c95d3-fffd-4ef2-af84-5bfcb68da76f",
   "metadata": {},
   "outputs": [],
   "source": [
    "most_probable_kmer(text, k, profile)"
   ]
  },
  {
   "cell_type": "markdown",
   "id": "85d82e2c-225f-4725-beeb-2798459d5e9f",
   "metadata": {},
   "source": [
    "Implement **GreedyMotifSearch**.\n",
    "\n",
    "    Input: Integers k and t, followed by a space-separated collection of strings Dna.\n",
    "    Output: A collection of strings BestMotifs resulting from applying GreedyMotifSearch(Dna, k, t). If at any step you find more than one Profile-most probable k-mer in a given string, use the one occurring first.\n"
   ]
  },
  {
   "cell_type": "markdown",
   "id": "19ab2411-20c8-46b5-89fd-e78eb3cc565d",
   "metadata": {},
   "source": [
    " Sample Input:\n",
    "\n",
    "3 5\n",
    "GGCGTTCAGGCA AAGAATCAGTCA CAAGGAGTTCGC CACGTCAATCAC CAATAATATTCG\n",
    "\n",
    "Sample Output:\n",
    "\n",
    "CAG CAG CAA CAA CAA"
   ]
  },
  {
   "cell_type": "code",
   "execution_count": null,
   "id": "b23df185-1254-4588-9515-4db940e8a795",
   "metadata": {},
   "outputs": [],
   "source": [
    "k = 3\n",
    "t = 5\n",
    "dnas = [\"GGCGTTCAGGCA\", \"AAGAATCAGTCA\", \"CAAGGAGTTCGC\", \"CACGTCAATCAC\", \"CAATAATATTCG\"]\n",
    "\n",
    "f = open(\"rosalind_ba2d.txt\", \"r\")\n",
    "input = f.read().rstrip(\"\\n\").split(\"\\n\")\n",
    "f.close()\n",
    "\n",
    "k = int(input[0].split(\" \")[0])\n",
    "t = int(input[0].split(\" \")[1])\n",
    "dnas = input[1:]\n",
    "print(k)\n",
    "print(t)\n",
    "print(dnas)"
   ]
  },
  {
   "cell_type": "code",
   "execution_count": null,
   "id": "7078b59e-6641-4d59-81e0-9ef8475598f8",
   "metadata": {},
   "outputs": [],
   "source": [
    "import numpy as np\n",
    "\n",
    "def score(dna):\n",
    "    score_dicts = []\n",
    "    scores = []\n",
    "    for i in range(len(dna[0])):\n",
    "        nt_counts = {\"A\":0, \"T\":0, \"G\":0, \"C\":0}\n",
    "        for seq in dna:\n",
    "            nt_counts[seq[i]] += 1\n",
    "        score_dicts.append(nt_counts)\n",
    "    for d in score_dicts:\n",
    "        dict_score = 0\n",
    "        for key, value in d.items():\n",
    "            if key != max(d, key=d.get):\n",
    "                dict_score += value\n",
    "        scores.append(dict_score)\n",
    "    return sum(scores)\n",
    "\n",
    "\n",
    "def profile(dna):\n",
    "    score_dicts = []\n",
    "    counts = {}\n",
    "    for i in range(len(dna[0])):\n",
    "        nt_counts = {\"A\":0, \"C\":0, \"G\":0, \"T\":0}\n",
    "        for seq in dna:\n",
    "            nt_counts[seq[i]] += 1\n",
    "        for k, v in nt_counts.items(): # necessary because of floating point error if done in prev for in\n",
    "            nt_counts[k] = v/len(dna)\n",
    "        score_dicts.append(nt_counts)\n",
    "    score_profile = np.array([list(i.values()) for i in score_dicts])\n",
    "    score_profile = score_profile.T # transpose\n",
    "    return score_profile\n",
    "\n",
    "\n",
    "def most_probable_kmer(text, k, profile):\n",
    "    max_prob = -1\n",
    "    for i in range(len(text)-k+1):\n",
    "        kmer = text[i:i+k]\n",
    "        prob = 1\n",
    "        for j in range(k):\n",
    "            if kmer[j] == \"A\":\n",
    "                prob *= profile[0][j]\n",
    "            elif kmer[j] == \"C\":\n",
    "                prob *= profile[1][j]\n",
    "            elif kmer[j] == \"G\":\n",
    "                prob *= profile[2][j]\n",
    "            elif kmer[j] == \"T\":\n",
    "                prob *= profile[3][j]\n",
    "        if prob > max_prob:\n",
    "            max_prob = prob\n",
    "            max_kmer = kmer\n",
    "    return max_kmer\n",
    "\n",
    "\n",
    "def greedy_motif_search(k, t, dnas):\n",
    "    # artitrarily choose first k chars from each dna string\n",
    "    best_motifs = [dna[:k] for dna in dnas] \n",
    "    # artitrarily start with first dna string and find all k-mers in this string\n",
    "    dna0_motifs = [dnas[0][i:i+k] for i in range(len(dnas[0])-k+1)] \n",
    "    \n",
    "    for motif in dna0_motifs:\n",
    "        current_motifs = [motif] # initialize a current_motifs list for each motif.\n",
    "        for i in range(1, t): # for each dna string aside from the first,\n",
    "            current_dna = dnas[i]\n",
    "            prof = profile(current_motifs) # get the probability profile given previous current_motifs\n",
    "            motifi = most_probable_kmer(current_dna, k, prof) # and find the most probable k-mer in the dna string given prev probs\n",
    "            current_motifs.append(motifi) # and update current_motifs\n",
    "        if score(current_motifs) < score(best_motifs): # if current_motifs has lower disagreement\n",
    "            best_motifs = current_motifs\n",
    "    return best_motifs"
   ]
  },
  {
   "cell_type": "code",
   "execution_count": null,
   "id": "d6d2bbbf-3341-43b1-8377-8a1ceff09f54",
   "metadata": {},
   "outputs": [],
   "source": [
    "print(\" \".join(greedy_motif_search(k, t, dnas)))"
   ]
  },
  {
   "cell_type": "code",
   "execution_count": null,
   "id": "93709877-0e2f-4389-9467-3b927bdbd309",
   "metadata": {},
   "outputs": [],
   "source": [
    "def laplace_profile(dna):\n",
    "    score_dicts = []\n",
    "    counts = {}\n",
    "    for i in range(len(dna[0])):\n",
    "        nt_counts = {\"A\":1, \"C\":1, \"G\":1, \"T\":1}\n",
    "        for seq in dna:\n",
    "            nt_counts[seq[i]] += 1\n",
    "        for k, v in nt_counts.items(): # necessary because of floating point error if done in prev for in\n",
    "            nt_counts[k] = v/(len(dna)+4) # +4 since we add 1 to each nucleotide\n",
    "        score_dicts.append(nt_counts)\n",
    "    score_profile = np.array([list(i.values()) for i in score_dicts])\n",
    "    score_profile = score_profile.T # transpose\n",
    "    return score_profile\n",
    "\n",
    "\n",
    "def greedy_motif_search_pseudocounts(k, t, dnas):\n",
    "    # artitrarily choose first k chars from each dna string\n",
    "    best_motifs = [dna[:k] for dna in dnas] \n",
    "    # artitrarily start with first dna string and find all k-mers in this string\n",
    "    dna0_motifs = [dnas[0][i:i+k] for i in range(len(dnas[0])-k+1)] \n",
    "    \n",
    "    for motif in dna0_motifs:\n",
    "        current_motifs = [motif] # initialize a current_motifs list for each motif.\n",
    "        for i in range(1, t): # for each dna string aside from the first,\n",
    "            current_dna = dnas[i]\n",
    "            prof = laplace_profile(current_motifs) # get the probability profile given previous current_motifs\n",
    "            motifi = most_probable_kmer(current_dna, k, prof) # and find the most probable k-mer in the dna string given prev probs\n",
    "            current_motifs.append(motifi) # and update current_motifs\n",
    "        if score(current_motifs) < score(best_motifs): # if current_motifs has lower disagreement\n",
    "            best_motifs = current_motifs\n",
    "    return best_motifs"
   ]
  },
  {
   "cell_type": "code",
   "execution_count": null,
   "id": "7f283be9-ef1d-4cb8-a7c3-2ac1e8f4195a",
   "metadata": {},
   "outputs": [],
   "source": [
    "prof = [[0.4, 0.3, 0.0, 0.1, 0.0, 0.9],\n",
    "        [0.2, 0.3, 0.0, 0.4, 0.0, 0.1],\n",
    "        [0.1, 0.3, 1.0, 0.1, 0.5, 0.0],\n",
    "        [0.3, 0.1, 0.0, 0.4, 0.5, 0.0]]\n",
    "k = 6\n",
    "text = \"GAGCTA\"\n",
    "def calculate_probability(text, k, profile):\n",
    "    prob = 1\n",
    "    for i in range(k):\n",
    "        if text[i] == \"A\":\n",
    "            prob *= profile[0][i]\n",
    "        elif text[i] == \"C\":\n",
    "            prob *= profile[1][i]\n",
    "        elif text[i] == \"G\":\n",
    "            prob *= profile[2][i]\n",
    "        elif text[i] == \"T\":\n",
    "            prob *= profile[3][i]\n",
    "    return prob\n",
    "\n",
    "calculate_probability(text, k, prof)"
   ]
  },
  {
   "cell_type": "code",
   "execution_count": null,
   "id": "cc67998a-30f8-4076-8760-7f8b90411b87",
   "metadata": {},
   "outputs": [],
   "source": []
  }
 ],
 "metadata": {
  "kernelspec": {
   "display_name": "Python 3 (ipykernel)",
   "language": "python",
   "name": "python3"
  },
  "language_info": {
   "codemirror_mode": {
    "name": "ipython",
    "version": 3
   },
   "file_extension": ".py",
   "mimetype": "text/x-python",
   "name": "python",
   "nbconvert_exporter": "python",
   "pygments_lexer": "ipython3",
   "version": "3.10.5"
  }
 },
 "nbformat": 4,
 "nbformat_minor": 5
}
