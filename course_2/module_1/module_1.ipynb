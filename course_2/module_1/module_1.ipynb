{
 "cells": [
  {
   "cell_type": "markdown",
   "id": "96d9a4df-84e5-4635-890a-358138fb688d",
   "metadata": {},
   "source": [
    "# Genome Sequencing, Week 1"
   ]
  },
  {
   "cell_type": "markdown",
   "id": "8c25349b-dbdf-4ad1-b6f6-823e5d0569ca",
   "metadata": {},
   "source": [
    "Solve the String Composition Problem.\n",
    "\n",
    "    Input: An integer k and a string Text.\n",
    "    Output: Compositionk(Text) (the k-mers can be provided in any order).\n"
   ]
  },
  {
   "cell_type": "code",
   "execution_count": 2,
   "id": "010feddf-30b1-45f7-89b2-9b8b71b12be6",
   "metadata": {},
   "outputs": [],
   "source": [
    "def composition(k, text):\n",
    "    return [text[i:i+k] for i in range(len(text)-k+1)]"
   ]
  },
  {
   "cell_type": "code",
   "execution_count": 3,
   "id": "b72464d6-09e0-4ff4-ab2c-d318e28a437c",
   "metadata": {},
   "outputs": [
    {
     "name": "stdout",
     "output_type": "stream",
     "text": [
      "CAATC AATCC ATCCA TCCAA CCAAC\n"
     ]
    }
   ],
   "source": [
    "k = 5\n",
    "text = \"CAATCCAAC\"\n",
    "print(\" \".join(composition(k, text)))"
   ]
  },
  {
   "cell_type": "markdown",
   "id": "7992385c-de7a-4b73-8870-7a7c5db2e276",
   "metadata": {},
   "source": [
    "It's straightforward to solve the **String Composition** problem, but to piece together a genome from reads, we have to solve the inverse problem, the **String Reconstruction** problem:\n",
    "\n",
    "**String Reconstruction Problem**: *Reconstruct a string from its k-mer composition.*\n",
    "- **Input**: An integer *k* and a collection *Patterns* of *k*-mers.\n",
    "- **Output**: A string *Text* with *k*-mer composition equal to *Patterns* (if such a string exists).\n",
    "\n",
    "If we know the **genome path** already, it is trivial to solve this problem.\n",
    "\n",
    "**String Spelled by a Genome Path Problem**: *Reconstruct a string from its genome path.*\n",
    "- **Input**: A sequence path of k-mers Pattern1, … ,Patternn such that the last k - 1 symbols of Patterni are equal to the first k-1 symbols of Patterni+1 for 1 ≤ i ≤ n-1.\n",
    "- **Output**: A string Text of length k+n-1 such that the i-th k-mer in Text is equal to Patterni (for 1 ≤ i ≤ n).\n"
   ]
  },
  {
   "cell_type": "code",
   "execution_count": 4,
   "id": "1b94a844-34be-40e5-9973-19382b59cea7",
   "metadata": {},
   "outputs": [],
   "source": [
    "def max_overlap_index(s1, s2):\n",
    "\n",
    "    def similarity(s1, s2):\n",
    "        sim_list = []\n",
    "        for i in range(len(s1)):\n",
    "            if s1[i] == s2[i]:\n",
    "                sim_list.append(1)\n",
    "            else:\n",
    "                sim_list.append(-1) # penalize mismatches\n",
    "        return sum(sim_list)\n",
    "    \n",
    "    index_to_overlap = {i: similarity(s1[i:], s2[0:len(s2)-i]) for i in range(len(s1))}\n",
    "    return max(index_to_overlap, key=index_to_overlap.get)\n",
    "    \n",
    "def string_from_genome_path(path):\n",
    "    string = path[0]\n",
    "    for i in range(1, len(path)):\n",
    "        prev = path[i-1]\n",
    "        curr = path[i]\n",
    "        max_index = max_overlap_index(prev, curr)\n",
    "        string += curr[len(curr)-max_index:]\n",
    "    return string"
   ]
  },
  {
   "cell_type": "code",
   "execution_count": 5,
   "id": "07a6957a-2634-4c5e-86b3-1be11351eb18",
   "metadata": {},
   "outputs": [
    {
     "name": "stdout",
     "output_type": "stream",
     "text": [
      "AAATGTATGACCAGCACCTCACGACAACGAGCGCTGTCCGTGATTAAACTCCAAACGTCGTAATCTACCGACGACGCGACGATAGCTTGCAGGATAAGCC\n"
     ]
    }
   ],
   "source": [
    "path = [\"AGCAGATC\", \"GCAGATCA\", \"CAGATCAT\", \"AGATCATC\", \"GATCATCG\", \"ATCATCGG\"]\n",
    "\n",
    "f = open(\"rosalind_ba3b.txt\", \"r\")\n",
    "path = f.read().rstrip(\"\\n\").split(\"\\n\")\n",
    "f.close()\n",
    "\n",
    "print(string_from_genome_path(path)[:100])"
   ]
  },
  {
   "cell_type": "markdown",
   "id": "0a369972-1b3a-45c1-ae42-b221bfe334e9",
   "metadata": {},
   "source": [
    "Overlap Graph Problem: Construct the overlap graph of a collection of k-mers.\n",
    "     Input: A collection Patterns of k-mers.\n",
    "     Output: The overlap graph Overlap(Patterns), in the form of an adjacency list. (You may return the nodes and their edges in any order.)"
   ]
  },
  {
   "cell_type": "code",
   "execution_count": 13,
   "id": "24b78db7-3485-4b2a-9860-166cc09089bb",
   "metadata": {},
   "outputs": [],
   "source": [
    "def prefix(pattern):\n",
    "    return pattern[:-1]\n",
    "def suffix(pattern):\n",
    "    return pattern[1:]\n",
    "def overlap(patterns):\n",
    "    #pattern_to_fix = {p: [prefix(p), suffix(p)] for p in patterns}\n",
    "    overlap_graph = {}\n",
    "    for p in patterns:\n",
    "        suff = suffix(p)\n",
    "        for pp in patterns:\n",
    "            pref = prefix(pp)\n",
    "            if suff == pref:\n",
    "                overlap_graph.setdefault(p, []).append(pp)\n",
    "    return overlap_graph"
   ]
  },
  {
   "cell_type": "code",
   "execution_count": 12,
   "id": "f4abaa0a-f390-4b84-8a1c-b825449068b4",
   "metadata": {},
   "outputs": [],
   "source": [
    "patterns = [\"ATGCG\", \"GCATG\", \"CATGC\", \"AGGCA\", \"GGCAT\", \"GGCAC\"]"
   ]
  },
  {
   "cell_type": "code",
   "execution_count": 14,
   "id": "169d3a25-5916-4216-81fe-434d47be366f",
   "metadata": {},
   "outputs": [
    {
     "name": "stdout",
     "output_type": "stream",
     "text": [
      "GCATG -> CATGC\n",
      "CATGC -> ATGCG\n",
      "AGGCA -> GGCAT GGCAC\n",
      "GGCAT -> GCATG\n"
     ]
    }
   ],
   "source": [
    "out = overlap(patterns)\n",
    "\n",
    "for key, value in out.items():\n",
    "    print(f'{key} -> {\" \".join(value)}')"
   ]
  },
  {
   "cell_type": "code",
   "execution_count": null,
   "id": "eaa9ff71-747c-4622-9d9d-bfebaac6cb44",
   "metadata": {},
   "outputs": [],
   "source": [
    "binary_4mers = [\"0000\", \"0001\", \"0010\", \"0011\", \"0100\", \"0101\", \"0110\", \"0111\", \"1000\", \"1001\", \"1010\", \"1011\", \"1100\", \"1101\", \"1110\", \"1111\"]\n",
    "\n"
   ]
  },
  {
   "cell_type": "markdown",
   "id": "f54e5c56-8a99-4068-b49f-e4dda40eb4a5",
   "metadata": {},
   "source": [
    "We can take a different approach. Instead of placing every 3-mer on a node, we put it on an edge. And we put the prefix of a 3-mer at the tail of the edge, and the suffix of a 3-mer at the head of the edge. We can merge nodes and create a de bruijn graph, then we can look for the Eulerian path---a path that visits each edge exactly once. Between the Hamiltonian Path problem and the Eulerian Path program, the Eulerian Path problem has been solved, but no one has developed a fast algorithm for the Hamiltonian Path problem. The Hamiltonian Path problem is NP-complete."
   ]
  },
  {
   "cell_type": "code",
   "execution_count": 15,
   "id": "6b9d7e9a-a3b2-447d-ab9a-e42be888693b",
   "metadata": {},
   "outputs": [],
   "source": [
    "def de_bruijn_from_string(k, text):\n",
    "    adjacency_list = {}\n",
    "    edges = [text[i:i+k] for i in range(len(text)-k+1)]\n",
    "    for edge in edges:\n",
    "        pref = prefix(edge)\n",
    "        suff = suffix(edge)\n",
    "        adjacency_list.setdefault(pref, []).append(suff)\n",
    "    return adjacency_list"
   ]
  },
  {
   "cell_type": "markdown",
   "id": "7bcb5159-6812-49ed-bad1-16650d3ef3c0",
   "metadata": {},
   "source": [
    "```\n",
    "DeBruijn(Patterns)\n",
    "    dB ← graph in which every k-mer in Patterns is isolated edge between its prefix and suffix\n",
    "    dB ← graph resulting from ﻿gluing all nodes in dB with identical labels\n",
    "    return dB\n",
    "```"
   ]
  },
  {
   "cell_type": "code",
   "execution_count": 24,
   "id": "4b6098d3-3f2a-467d-80c4-dceffa5ec4b5",
   "metadata": {},
   "outputs": [],
   "source": [
    "def de_bruijn_from_kmers(patterns):\n",
    "    adjacency_list = {}\n",
    "    for p in patterns:\n",
    "        pref = prefix(p)\n",
    "        suff = suffix(p)\n",
    "        adjacency_list.setdefault(pref, []).append(suff)\n",
    "    return adjacency_list"
   ]
  },
  {
   "cell_type": "code",
   "execution_count": 51,
   "id": "10329fe3-bfa3-453c-ac27-a1b73b6f7c53",
   "metadata": {},
   "outputs": [
    {
     "name": "stdout",
     "output_type": "stream",
     "text": [
      "yah\n"
     ]
    }
   ],
   "source": [
    "three_mers = [\"000\", \"001\", \"010\", \"011\", \"100\", \"101\", \"110\", \"111\"]\n",
    "string = \"0001110100\"\n",
    "true_false = [i in string for i in three_mers]\n",
    "if False in true_false:\n",
    "    print(\"nah\")\n",
    "else:\n",
    "    print(\"yah\")"
   ]
  },
  {
   "cell_type": "code",
   "execution_count": 38,
   "id": "0a24490a-912a-4b09-a9cf-2b724aedd297",
   "metadata": {},
   "outputs": [
    {
     "name": "stdout",
     "output_type": "stream",
     "text": [
      "[True, True, True, True, True, True, True, True]\n"
     ]
    }
   ],
   "source": [
    "print(true_false)"
   ]
  },
  {
   "cell_type": "code",
   "execution_count": 45,
   "id": "4826e89d-0187-4b15-9524-712931206063",
   "metadata": {},
   "outputs": [
    {
     "name": "stdout",
     "output_type": "stream",
     "text": [
      "AAG: AGA AGC AGA\n",
      "ACA: CAA CAG\n",
      "ACG: CGT\n",
      "AGC: GCC\n",
      "AGT: GTA GTA GTT GTA GTA\n",
      "ATC: TCC\n",
      "CAA: AAG\n",
      "CCC: CCC\n",
      "CGT: GTA GTA\n",
      "GCA: CAT\n",
      "GCC: CCG\n",
      "GCG: CGA CGC CGA CGC CGA\n",
      "GGT: GTC\n",
      "TAG: AGG AGA AGA\n",
      "TCC: CCT\n",
      "TTC: TCG\n"
     ]
    }
   ],
   "source": [
    "patterns = [\"GCGA\", \"CAAG\", \"AAGA\", \"GCCG\", \"ACAA\", \"AGTA\", \"TAGG\", \"AGTA\", \"ACGT\", \"AGCC\", \"TTCG\", \"AGTT\", \"AGTA\", \"CGTA\", \"GCGC\", \"GCGA\", \"GGTC\", \"GCAT\", \"AAGC\", \"TAGA\", \"ACAG\", \"TAGA\", \"TCCT\", \"CCCC\", \"GCGC\", \"ATCC\", \"AGTA\", \"AAGA\", \"GCGA\", \"CGTA\"]\n",
    "out = de_bruijn_from_kmers(patterns)\n",
    "\n",
    "keys = list(out.keys())\n",
    "keys.sort()\n",
    "for key in keys:\n",
    "    print(f'{key}: {\" \".join(out[key])}')"
   ]
  },
  {
   "cell_type": "code",
   "execution_count": null,
   "id": "10da4347-ce3e-4527-9e81-7adbb22222d1",
   "metadata": {},
   "outputs": [],
   "source": []
  }
 ],
 "metadata": {
  "kernelspec": {
   "display_name": "Python 3 (ipykernel)",
   "language": "python",
   "name": "python3"
  },
  "language_info": {
   "codemirror_mode": {
    "name": "ipython",
    "version": 3
   },
   "file_extension": ".py",
   "mimetype": "text/x-python",
   "name": "python",
   "nbconvert_exporter": "python",
   "pygments_lexer": "ipython3",
   "version": "3.10.5"
  }
 },
 "nbformat": 4,
 "nbformat_minor": 5
}
