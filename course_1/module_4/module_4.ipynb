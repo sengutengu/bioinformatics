{
 "cells": [
  {
   "cell_type": "markdown",
   "id": "44b446b9-f782-4e59-b026-1c24b992e728",
   "metadata": {},
   "source": [
    "# Bioinformatics Algorithms, Week 4\n",
    "\n",
    "Last week, we began thinking about ways to find regulatory motifs in DNA. After trial and error, we came up with a **Greedy Search with Pseudocounts** as a decent way to find regulatory motifs. This week, we are looking at randomized algorithms as a way to improve upon our solution to the **Motif Finding** problem. \n",
    "\n",
    "Randomized algorithms can be unintuitive because they rely on chance to find the solution, but they can be very helpful. **Las Vegas** algorithms return solutions guaranteed to be exact, while **Monte Carlo** algorithms quickly find approximate solutions that are not guaranteed to be exact. Because **Monte Carlo** algorithms are so fast, though, we can run them thousands of times and choose the best approximation.\n",
    "\n",
    "### Randomized Motif Search\n",
    "\n",
    "Last week, we defined *Profile*(*Motifs*) as the profile matrix constructed from a collection of *k*-mers *Motifs*. Now, given a collection of strings *Dna* and an arbitrary profile matrix *Profile*, we can define backwards a function *Motifs*(*Profile*, *Dna*) as the collection of the *Profile*-most probable *k*-mers from each string in *Dna*."
   ]
  },
  {
   "cell_type": "code",
   "execution_count": 1,
   "id": "4a1b8c8e",
   "metadata": {},
   "outputs": [],
   "source": [
    "def profile_most_probable_kmer(text, k, profile):\n",
    "    char_index_dict = {\"A\": 0, \"C\": 1, \"G\": 2, \"T\": 3}\n",
    "    most_probable_kmer = \"\"\n",
    "    max_probability = float('-inf')\n",
    "    for i in range(len(text)-k+1):\n",
    "        kmer = text[i:i+k]\n",
    "        current_prob = 1\n",
    "        for j in range(k):\n",
    "            nt = char_index_dict[kmer[j]]\n",
    "            current_prob *= profile[nt][j]\n",
    "        if current_prob > max_probability:\n",
    "            max_probability = current_prob\n",
    "            most_probable_kmer = kmer\n",
    "    return most_probable_kmer\n",
    "\n",
    "def motifs_function(profile, dna):\n",
    "    return [profile_most_probable_kmer(text, len(profile[0]), profile) for text in dna]"
   ]
  },
  {
   "cell_type": "code",
   "execution_count": 2,
   "id": "82c81a91",
   "metadata": {},
   "outputs": [
    {
     "name": "stdout",
     "output_type": "stream",
     "text": [
      "ACCT ATGT GCGT ACGA AGGT\n"
     ]
    }
   ],
   "source": [
    "profile = [[0.8, 0, 0, 0.2], [0, 0.6, 0.2, 0], [0.2, 0.2, 0.8, 0], [0, 0.2, 0, 0.8]]\n",
    "dna=[\"TTACCTTAAC\", \"GATGTCTGTC\", \"ACGGCGTTAG\", \"CCCTAACGAG\", \"CGTCAGAGGT\"]\n",
    "print(\" \".join(motifs_function(profile, dna)))"
   ]
  },
  {
   "cell_type": "markdown",
   "id": "24470b1c",
   "metadata": {},
   "source": [
    "This is pretty interesting stuff. We can first construct a set *Motifs* from randomly-selected *k*-mers in *Dna*, then obtain *Profile*(*Motifs*). Then, we can feed that *Profile* back into the *Motifs* function and *Dna*, to obtain a new set of *Motifs*. And we can keep nesting until the *Profile* ceases to improve. \n",
    "\n",
    "*Profile*(*Motifs*) -> *Motifs*(*Profile*(*Motifs*)) -> *Profile*(*Motifs*(*Profile*(*Motifs*))) ..."
   ]
  },
  {
   "cell_type": "markdown",
   "id": "7ccf5f52-1a19-43a6-9aa0-80f647861ac1",
   "metadata": {},
   "source": [
    "```\n",
    "RandomizedMotifSearch(Dna, k, t)\n",
    "    randomly select k-mers Motifs = (Motif1, …, Motift) in each string from Dna\n",
    "    BestMotifs ← Motifs\n",
    "    while forever\n",
    "        Profile ← Profile(Motifs)\n",
    "        Motifs ← Motifs(Profile, Dna)\n",
    "        if Score(Motifs) < Score(BestMotifs)\n",
    "            BestMotifs ← Motifs\n",
    "        else\n",
    "            return BestMotifs\n",
    "```"
   ]
  },
  {
   "cell_type": "code",
   "execution_count": 3,
   "id": "f4d19bda",
   "metadata": {},
   "outputs": [],
   "source": [
    "import random\n",
    "import numpy as np\n",
    "\n",
    "def laplace_profile(motifs):\n",
    "    def count(motifs):\n",
    "        k = len(motifs[0])\n",
    "        counts = [[0]*k for i in range(4)] # empty matrix to fill\n",
    "        nt_index_map = {\"A\": 0, \"C\": 1, \"G\": 2, \"T\": 3}\n",
    "        for motif in motifs:\n",
    "            for i in range(k):\n",
    "                nt = motif[i]\n",
    "                counts[nt_index_map[nt]][i] += 1\n",
    "        return counts\n",
    "\n",
    "    counts = np.array(count(motifs))\n",
    "    return (counts+1)/(len(motifs)+4)\n",
    "\n",
    "def profile_most_probable_kmer(text, k, profile):\n",
    "    char_index_dict = {\"A\": 0, \"C\": 1, \"G\": 2, \"T\": 3}\n",
    "    \n",
    "    most_probable_kmer = \"\"\n",
    "    max_probability = float('-inf')\n",
    "    for i in range(len(text)-k+1):\n",
    "        kmer = text[i:i+k]\n",
    "        current_prob = 1\n",
    "        for j in range(k):\n",
    "            nt = char_index_dict[kmer[j]]\n",
    "            current_prob *= profile[nt][j]\n",
    "        if current_prob > max_probability:\n",
    "            max_probability = current_prob\n",
    "            most_probable_kmer = kmer\n",
    "    return most_probable_kmer\n",
    "\n",
    "def score(motifs):\n",
    "    k = len(motifs[0])\n",
    "    \n",
    "    score_dicts = []\n",
    "    for i in range(k):\n",
    "        nt_counts = {\"A\":0, \"T\":0, \"G\":0, \"C\":0}\n",
    "        for motif in motifs:\n",
    "            nt_counts[motif[i]] += 1\n",
    "        score_dicts.append(nt_counts)\n",
    "\n",
    "    scores = []\n",
    "    for d in score_dicts:\n",
    "        dict_score = 0\n",
    "        for key, value in d.items():\n",
    "            if key != max(d, key=d.get):\n",
    "                dict_score += value\n",
    "        scores.append(dict_score)\n",
    "    return sum(scores)\n",
    "\n",
    "\n",
    "def randomized_motif_search(dna, k, t):\n",
    "    motifs = []\n",
    "    for text in dna:\n",
    "        i = random.randint(0, len(dna[0])-k)\n",
    "        motifs.append(text[i:i+k])\n",
    "    best_motifs = motifs\n",
    "    \n",
    "    while True:\n",
    "        profile = laplace_profile(motifs)\n",
    "        motifs = [profile_most_probable_kmer(text, k, profile) for text in dna]\n",
    "        if score(motifs) < score(best_motifs):\n",
    "            best_motifs = motifs\n",
    "        else:\n",
    "            return best_motifs\n",
    "        \n",
    "def thousand_times(dna, k, t):\n",
    "    best_list = [randomized_motif_search(dna, k, t) for i in range(1000)]\n",
    "    best_dict = {}\n",
    "    for bl in best_list:\n",
    "        best_dict[\" \".join(bl)] = score(bl)\n",
    "\n",
    "    min_value = min(best_dict.values())\n",
    "    min_keys = [key for key, value in best_dict.items() if value == min_value]\n",
    "    best_list = [\" \".join(i) for i in best_list]\n",
    "    for min_key in min_keys:\n",
    "        print(min_key)\n",
    "        print(best_list.count(min_key))\n",
    "    "
   ]
  },
  {
   "cell_type": "code",
   "execution_count": 4,
   "id": "57d9a589",
   "metadata": {},
   "outputs": [],
   "source": [
    "k = 8 \n",
    "t = 5\n",
    "dna = [\n",
    "    \"CGCCCCTCTCGGGGGTGTTCAGTAAACGGCCA\",\n",
    "    \"GGGCGAGGTATGTGTAAGTGCCAAGGTGCCAG\",\n",
    "    \"TAGTACCGAGACCGAAAGAAGTATACAGGCGT\",\n",
    "    \"TAGATCAAGTTTCAGGTGCACGTCGGTGAACC\",\n",
    "    \"AATCCACCAGCTCCACGTGCAATGTTGGCCTA\"\n",
    "]"
   ]
  },
  {
   "cell_type": "code",
   "execution_count": 5,
   "id": "9a2adbcf",
   "metadata": {},
   "outputs": [
    {
     "name": "stdout",
     "output_type": "stream",
     "text": [
      "AACGGCCA AAGTGCCA TAGTACCG AAGTTTCA ACGTGCAA\n",
      "1\n",
      "TCTCGGGG CCAAGGTG TACAGGCG TTCAGGTG TCCACGTG\n",
      "5\n"
     ]
    }
   ],
   "source": [
    "thousand_times(dna, k, t)"
   ]
  },
  {
   "cell_type": "markdown",
   "id": "66793d74",
   "metadata": {},
   "source": [
    "The answer the instructors want is \"TCTCGGGG CCAAGGTG TACAGGCG TTCAGGTG TCCACGTG\", and we obtain it about half of the time with this function. I ended up returning all *Motifs* associated with the lowest score, and we get \"AACGGCCA AAGTGCCA TAGTACCG AAGTTTCA ACGTGCAA\" as well. Kind of frustrating given the structure of the course, since they ask for one correct answer."
   ]
  },
  {
   "cell_type": "code",
   "execution_count": 6,
   "id": "5f5640d3",
   "metadata": {},
   "outputs": [],
   "source": [
    "f = open(\"./randomizedMotifSearch.txt\", 'r')\n",
    "rand_input = f.read().split(\"\\n\")\n",
    "f.close()\n",
    "\n",
    "k = int(rand_input[0].split(\" \")[0])\n",
    "t = int(rand_input[0].split(\" \")[1])\n",
    "dna = rand_input[1:]"
   ]
  },
  {
   "cell_type": "code",
   "execution_count": 7,
   "id": "b8fe239e",
   "metadata": {},
   "outputs": [
    {
     "name": "stdout",
     "output_type": "stream",
     "text": [
      "TTTTTGCAGCCTACC GTTAGACTACCGACC GTTCAGTTACCGACC GCAGTTCTACCGACC GTTCTTCACACGACC CGTCTTCTACCGACA GTTAGCCTACCGACC GTTCTCAAACCGACC TCACTTCTACCGACC GTTCTTCTAAGTACC TTTCTTCTACCGAAA GTTCTTCTACGACCC GTTCGCATACCGACC GTTCTTTAGCCGACC GTTCTAAAACCGACC GTTCTTCTACCGGAG GTTCTTAATCCGACC GTTCTTCTCGTGACC GTGACTCTACCGACC GTTCTTCTACCTTTC\n",
      "23\n"
     ]
    }
   ],
   "source": [
    "thousand_times(dna, k, t)"
   ]
  },
  {
   "cell_type": "code",
   "execution_count": 9,
   "id": "228da06b",
   "metadata": {},
   "outputs": [
    {
     "name": "stdout",
     "output_type": "stream",
     "text": [
      "0.01693439692910998\n"
     ]
    }
   ],
   "source": [
    "import math\n",
    "prob=0\n",
    "for i in range(1,11):\n",
    "    tmp=((585**(10-i))/(586**10))*math.comb(10,i)\n",
    "    prob+=tmp\n",
    "\n",
    "print(prob)"
   ]
  },
  {
   "cell_type": "markdown",
   "id": "266c1b48",
   "metadata": {},
   "source": [
    "### Gibbs Sampling\n",
    "\n",
    "The **Randomized Motif Search** algorithm has the chance to replace all strings in *Motifs*. The Gibbs Sampling approach is a more cautious approach that replaces only one string per iteration.\n",
    "\n",
    "```\n",
    "GibbsSampler(Dna, k, t, N)\n",
    "    randomly select k-mers Motifs = (Motif1, …, Motift) in each string from Dna\n",
    "    BestMotifs ← Motifs\n",
    "    for j ← 1 to N\n",
    "        i ← Random(t)\n",
    "        Profile ← profile matrix constructed from all strings in Motifs except for Motifi\n",
    "        Motifi ← Profile-randomly generated k-mer in the i-th sequence\n",
    "        if Score(Motifs) < Score(BestMotifs)\n",
    "            BestMotifs ← Motifs\n",
    "    return BestMotifs\n",
    "```"
   ]
  },
  {
   "cell_type": "markdown",
   "id": "e71747d7",
   "metadata": {},
   "source": [
    "To describe how GibbsSampler updates Motifs, we will need a slightly more advanced random number generator. \n",
    "\n",
    "Given a probability distribution (p1, …, pn), \n",
    "\n",
    "this random number generator, denoted *Random*(p1, …, pn), models an n-sided biased die and returns integer i with probability pi. \n",
    "\n",
    "For example, the standard six-sided fair die represents the random number generator Random(1/6, 1/6, 1/6, 1/6, 1/6, 1/6), whereas a biased die might represent the random number generator Random(0.1, 0.2, 0.3, 0.05, 0.1, 0.25).\n",
    "\n",
    "GibbsSampler further generalizes the random number generator by using the function Random(p1, …, pn) defined for any set of non-negative numbers, \n",
    "\n",
    "i.e., not necessarily satisfying the condition that the pi sum to 1. \n",
    "\n",
    "If the pi sum to some C > 0 instead, then Random(p1, …, pn) is defined as Random(p1/C, …, pn/C), where (p1/C, …, pn/C) is a probability distribution. \n",
    "\n",
    "For example, for (0.1, 0.2, 0.3) with 0.1 + 0.2 + 0.3 = 0.6,\n",
    "\n",
    "Random(0.1, 0.2, 0.3) = Random(0.1/0.6, 0.2/0.6, 0.3/0.6) = Random(1/6, 1/3, 1/2).\n",
    "\n",
    "STOP and Think: Implement the random number generator Random(p1, …, pn) so that it uses RandomNumber(X) (for an appropriately chosen integer X) as a subroutine.\n",
    "\n",
    "Because the course just doesn't work for my brain, I am following this [Medium post](https://abhinavmanc.medium.com/python-programs-for-beginner-bioinformatics-part-9-eae936c47370) to try to help me along."
   ]
  },
  {
   "cell_type": "code",
   "execution_count": 10,
   "id": "4719af1a",
   "metadata": {},
   "outputs": [
    {
     "data": {
      "text/plain": [
       "{'GCGT': 0.2, 'CGTT': 0.3, 'GTTA': 0.5}"
      ]
     },
     "execution_count": 10,
     "metadata": {},
     "output_type": "execute_result"
    }
   ],
   "source": [
    "def normalize(probs):\n",
    "    sum_probs = sum(probs.values())\n",
    "    return {key: value/sum_probs for key, value in probs.items()}\n",
    "    \n",
    "probs = {\n",
    "  \"GCGT\": 0.1,\n",
    "  \"CGTT\": 0.15,\n",
    "  \"GTTA\": 0.25\n",
    "}\n",
    "\n",
    "normalize(probs)"
   ]
  },
  {
   "cell_type": "code",
   "execution_count": 11,
   "id": "f60f50c1",
   "metadata": {},
   "outputs": [
    {
     "name": "stdout",
     "output_type": "stream",
     "text": [
      "{'GTTA': 4982, 'CGTT': 3009, 'GCGT': 2009}\n"
     ]
    }
   ],
   "source": [
    "def weighted_die(probs):\n",
    "    probs = normalize(probs)\n",
    "    sides = list(probs.keys())\n",
    "    weights = list(probs.values())\n",
    "    return random.choices(sides, weights=weights)[0]\n",
    "\n",
    "n = 10000\n",
    "test_dict = {}\n",
    "for i in range(n):\n",
    "    result = weighted_die(probs)\n",
    "    test_dict[result] = test_dict.get(result, 0) + 1\n",
    "    \n",
    "print(test_dict)"
   ]
  },
  {
   "cell_type": "code",
   "execution_count": 12,
   "id": "1aaffb5c",
   "metadata": {},
   "outputs": [],
   "source": [
    "import numpy as np\n",
    "\n",
    "def count(motifs):\n",
    "    k = len(motifs[0])\n",
    "    counts = [[0]*k for i in range(4)] # empty matrix to fill\n",
    "    nt_index_map = {\"A\": 0, \"C\": 1, \"G\": 2, \"T\": 3}\n",
    "    for motif in motifs:\n",
    "        for i in range(k):\n",
    "            nt = motif[i]\n",
    "            counts[nt_index_map[nt]][i] += 1\n",
    "    return counts\n",
    "\n",
    "def profile(motifs):\n",
    "    counts = np.array(count(motifs))\n",
    "    return counts/len(motifs)\n",
    "\n",
    "def probability(text, profile):\n",
    "    char_index_dict = {\"A\": 0, \"C\": 1, \"G\": 2, \"T\": 3}\n",
    "    prob = 1\n",
    "    for i in range(len(text)):\n",
    "        ind = char_index_dict[text[i]]\n",
    "        prob *= profile[ind][i]\n",
    "    return prob\n",
    "\n",
    "# poop"
   ]
  },
  {
   "cell_type": "code",
   "execution_count": 13,
   "id": "4335ad3d",
   "metadata": {},
   "outputs": [
    {
     "data": {
      "text/plain": [
       "0.244140625"
      ]
     },
     "execution_count": 13,
     "metadata": {},
     "output_type": "execute_result"
    }
   ],
   "source": [
    "dna = [\"AAA\", \"AAA\", \"AAA\", \"AAA\"]\n",
    "prof = laplace_profile(dna)\n",
    "probability(\"AAA\", prof)"
   ]
  },
  {
   "cell_type": "code",
   "execution_count": 14,
   "id": "01788d6e",
   "metadata": {},
   "outputs": [],
   "source": [
    "def profile_randomly_generated_kmer(text, profile, k):\n",
    "    probs = {text[i:i+k]: probability(text[i:i+k], profile) for i in range(len(text)-k+1)}\n",
    "    return weighted_die(probs)"
   ]
  },
  {
   "cell_type": "code",
   "execution_count": 15,
   "id": "a4100604",
   "metadata": {},
   "outputs": [
    {
     "data": {
      "text/plain": [
       "'ATT'"
      ]
     },
     "execution_count": 15,
     "metadata": {},
     "output_type": "execute_result"
    }
   ],
   "source": [
    "profile_randomly_generated_kmer(\"ATGCATATTA\", prof, 3)"
   ]
  },
  {
   "cell_type": "markdown",
   "id": "f75b8500",
   "metadata": {},
   "source": [
    "```\n",
    "GibbsSampler(Dna, k, t, N)\n",
    "    randomly select k-mers Motifs = (Motif1, …, Motift) in each string from Dna\n",
    "    BestMotifs ← Motifs\n",
    "    for j ← 1 to N\n",
    "        i ← Random(t)\n",
    "        Profile ← profile matrix constructed from all strings in Motifs except for Motifi\n",
    "        Motifi ← Profile-randomly generated k-mer in the i-th sequence\n",
    "        if Score(Motifs) < Score(BestMotifs)\n",
    "            BestMotifs ← Motifs\n",
    "    return BestMotifs\n",
    "```"
   ]
  },
  {
   "cell_type": "code",
   "execution_count": null,
   "id": "b77ceafa",
   "metadata": {},
   "outputs": [],
   "source": [
    "def gibbssampler(k,t,N,l,kmers_array):\n",
    "    bestmotifs = random_kmer_selection(k,t,l,kmers_array)\n",
    "    score_bestmotifs = Score(bestmotifs,k,t)\n",
    "    motifs = random_kmer_selection(k,t,l,kmers_array)\n",
    "    for j in range(N):\n",
    "        i = Random(t)\n",
    "        motifs.pop(i)\n",
    "        profile = Profile(motifs,k,t)\n",
    "        motifs_i = prgkst(k,kmers_array[i],profile)\n",
    "        motifs.insert(i,motifs_i)\n",
    "        score_motifs = Score(motifs,k,t)\n",
    "        if score_motifs  < score_bestmotifs:\n",
    "            bestmotifs = motifs\n",
    "            score_bestmotifs = score_motifs\n",
    "    return (bestmotifs,score_bestmotifs)"
   ]
  },
  {
   "cell_type": "code",
   "execution_count": 92,
   "id": "ee6e42c4",
   "metadata": {},
   "outputs": [],
   "source": [
    "def gibbs_sampler(dna, k, t, n):\n",
    "    motifs = []\n",
    "    for text in dna:\n",
    "        i = random.randint(0, len(dna[0])-k)\n",
    "        motifs.append(text[i:i+k])\n",
    "    best_motifs = motifs.copy()\n",
    "    for j in range(n):\n",
    "        i = random.randint(0,t-1)\n",
    "        text = motifs.pop(i)\n",
    "        prof = laplace_profile(motifs)\n",
    "        motif_i = profile_randomly_generated_kmer(dna[i], prof, k)\n",
    "        motifs.insert(i, motif_i)\n",
    "        \n",
    "        if score(motifs) < score(best_motifs):\n",
    "            best_motifs = motifs.copy()\n",
    "            \n",
    "    return best_motifs"
   ]
  },
  {
   "cell_type": "code",
   "execution_count": 102,
   "id": "9dc03051",
   "metadata": {},
   "outputs": [
    {
     "name": "stdout",
     "output_type": "stream",
     "text": [
      "['AGGTAGCGCCTGATACGAAGCGGCGTCCTCATTCGAAGTAAGGTAAAGGGGTAGCTCCAGTCCAGACCGTCAGGTGTTCGAAGACGGGTCTATGGGGAGGGTAAGCCGTGCTCGCTAAAGACACCACACCATGATGGCGATTGCCACAGTGAAGGGAAATGCTCACTTAATATGCCGACCGACCGGGCCGATATATTGAGTTGGCCTTAGAATCTACAGTTAATACAGGAGGTCTCGAGAGAATTAGTAACCTACTGCTCCGATTCTCGGGTTACCTATATACCGCGGACATTCTCAATCATGAGGTAGCGCCTGATA', 'CGAAGCGGCGTCCTCATTCGAAGTAAGGTAAAGGGGTAGCTCCAGTCCAGACCGTCAGGTGTTCGAAGACGGGTCTATGGGGAGGGTAAGCCGTGCTCGCTAAAGACACCACACCATGATGGCGATTGCCACAGTGAAGGGAAATGCTCACTTAATATGCGCGGTCCGTTCCTCCCGACCGACCGGGCCGATATATTGAGTTGGCCTTAGAATCTACAGTTAATACAGGAGGTCTCGAGAGAATTAGTAACCTACTGCTCCGATTCTCGGGTTACCTATATACCGCGGACATTCTCAATCATGAGGTAGCGCCTGATA', 'TAAGTTTCGAGGTGGGGCACCGCGGGTCAGCTCGTTCTGCTTGCAGCGACTTATGTACTGGTCTACGGTCCTTTGCGCCCTGTTACCGGACGTCTAACTTTTAGGCTGTTACACTCACGCCAAAAGAGCAATAACTATGCCGCATGTCAAAAATGGCTGCCCCATAACGCCCTACGTTCCTCATAGGGAAGCTTGGTGCCTGTCCTAACGTAGGCAGGAGCAGTGGCCTGACGTGCTAGGCTATTATATCTCTGGTTAAGTCTTCCTCCCAAGGCAAATCAACTCAGGCCGCCGAGCCTACAAACTGCTCTTAAAGCA', 'GCAGTTCGTCCACGAGACTAGCGGACGGGGCCGGGGGATGCTAGGGATTAGGCTTGGTTTTACCTGTTGCCATTAAAGCGCAGGTTGTATGCTAATCATACAGTGCTGGACTCGGATTGTTACCGTAGAGTAATATCAATGTCTTATATATCGGAGTTCGTTTCAGTCAAAGTAACTGCGTACAGCGTTCCAGAGAAAACGACCTTTTGGCGCTTTCCGCTCGTGATACGAAGTAAGTCAACGGATCTTACAAAGGTAGAAAGCTACAGCCCCCCGCCCAACGTTCCTCCCTATTCTGCGCTTGCTTAATCCAGGTTT', 'TCTTCAAGCACCAGACGCGGACGGTCTTCTCCCCACCACTTAGGCCATACCCTGGCAATTCCCCAAATACTAATTTACTGTCTGAGCTATCTAGTCGTAGGCATCGGCGCTTTCGCGGATCATAGTGGATCTAGCGGTATCACTCAATTACCACACGGCCAAAGTAGTGTGCGCACATTATTACCCTTGTGGAGCCCTACCAGCTACTGCCCCATAGAGGCCTCTTTGCTCAGATCGTCTAACCAACTCTGTTAAACCCGCCTGTAGTTCCTCTTGGGAAGTGAAATTATTATAGCGACGTCTTTATTCGTTTTGCAT', 'CCACATATCAGTCCCGCTCGGATAAGTCCCCGAAGCTCAGTCCTTCGTGAAAATGAGCAGAACGACGATAATCTTGTCCCAAGATTGTTCAAAAAGTGAGACCCGGCGTCGTTCGCTTCGGTTTGATTGTGTAGTGAACTCATTATGGATCAGGTTCCTCAGTGGCGATAACCTGCGGCAAGCGACTATTAGCCCGCACACATGGCCCACCGGGACACGGCTCTCGACTCGCGTGGGCTATTCGCAGTGGCCTTCTTGCCGATTCGCTACGCCTCGACTTCCTCATAGCTCCTGCGACCTGTCGACTCTTTTAAATGC', 'ACTCATTGAACGCCTCCCGTTCTGATGTATCCCAACGCCGTGGTAGACAGTAAGAAAAGCCGTTGTAAAGTCTGAATCAGTATGTACAATTAGTCACAGAATCGGTTACGAGCGACGTTGGCCTGAAAGCGTCGAGGACTTACGGTGTCGAAAGCCCCCACGTACATATTGGCGGCTGCCTTCTTAACTGATACTGCATTTCGTAGGGACTACAGCACCTGGATGCTTTGATACTGGAAAGCACTGTTGCGTGAAAATTACCCATGTTTGTACGTAGGGGTACCTTCTGACAAAGCGCGGCCCACGTTTGGACGGTGA', 'ATCTACAGTTACAAAGCGACTACAATGCGTTATTGAGGGAATTCTCTTTTCAATTCCCGTTCCTCCCAGCCTATGTAGGAGCTGGTAGACTCCTAACCGTGTATATCGCTTTTGTGGACACGACAACTACGGTGTCCCATCATTTCTCGGGTTCATCACCGCGCTTGGACAGCAAGTGCGAAACGGACCATGAAAGCCGAGCCGACGATTTTACTAAGTTTTAAGTTCAAATCGCGTAGTTAGGGGGCATATAAACATCTGTATGCTGCCAGTCGGCCCCGCCACGTCTGGAAATGGAGTCAAGAAGTTCGAAAGTGT', 'CTCCATTCATCGATGTAAGATCTCTACTGCTATGCGCACCTTTGAAATCACCGCTAAACGTGCATGCGCAGGAAAAAAAAGACAGCCTAATCAGCGAAAACCTCGACATTCTGGCACGTGAATGACGTCGGAGACAGGAACGTGGAAAACCAACCTTGGGGGTAACTTTGACCTGTGTATCGCGGCTAACTTGTGGGCGCGCCTCCCGCGACTCAAGAGCCACGGCGTAGCGAACCTGGTCGGACTATGTAAAAGTATATCCTATTATTCTTGGGGAGACCTGTGCCCAGAGCCTACCCCGGACCATTCAAGCTCCGG', 'AATACGGTTTACGGCAGGTGTATCGAAACTTTTAACTACCTACTAGACGTAGAACCCGGTTACCGTGGACCCAAAGATCACGTAGGGACCTCATATACGTTCTGGAATTGGAACGAATTGTCGTTCATGTACCCTTAACGGGGCGCTAAACCTCCCTTCGCTGCAAAATCGGCGACGTTAAAGCAAGAAGTACGCGTCGTAACCCACCCCAATGGTTGAGGACCCAATGGTGCATCGTTCGCCTCCCGTTGTGCGTGGTTATATCGGCGGTGAAAGAGAAGGGAGGGTAGCCCGGGTCAAATCTTGTTCCTAAACCCG', 'AACTTGCCTCCAGCCCTCACGTGCAACGTCCTGGTTGCTTGGAACTTCGGAACGTTCCCGGCCAACGCCTCTTTTTCCTCCCAAGAAACGTCGAATTCAGATTTAGCTCTCTATCTGGACCTCTCCTAACCTAGTACGGGACCGATACTCTAAAAGGCTCGACCGGGCAAGGCGCATGCTAGTCGAGTCGCGTGCAGGTCGGCATGTGGTGCACTGTCCGGCGCCGGTCTACATCAGTATCGCTAGGTCTAAGGAGTCCAAACCACACTAGCTGCAGCTAGTTTTCGGCAATTCGTCCCTTGCACACATTCAGCGTAG', 'CCACGTTGCTGACCAACACGCATAACACACCGACTACAGGTAGCAGCGTTTTGAGCCTTTACTCTGTTTCCGGAATTGCGCCGTACGACCCTCCCGTTCCTTATTTGATCGACGCGCCCTCGTCCGGCCTATAAACGCTTGTGAGGTTCAGGTCAGGGTAATGGCAGACATAGTCAGTATTAACATGTCCCTCACGTTCCGACGTAATCTTGGGACGACAACTCTGTCCGAGCTACCTACTGTTTATTAATCAGACTATTGAGTAAGTTGTATTCTTAATTTGGACAAGGGACGGCAGTACCAGCACCCTGAGGGCGA', 'GGTAACGGGGGTTCATTTGCGACTCCCGTTGGAGTGGATTACCTGTAGTTATGTCACCGCCTTGCTACGTTTCCCCAAGGGATAGATCAAGTTTCCCCAAGGGGGTACCGCGTCCTGGGTGGAATGCTACGGTAACTTGGTTGATGCTAGTTCGAACCTCTCACCCCCCGGGCGGAATGTTCCAAAGCCTTTCACTGCGAATTATTGCTCACTCTCCGCGCCTATGGTTCCTCACCCAATCGCTCCCGGGCGACGTGCTTCGTTAGATCTCTGCCGGCAGGCCCCGGGTGACTCGCCACGTCTAGCCCTTAGACCGAG', 'TCTCTGTTTACCGGCGTTCGCCAGACGCTTTCTCAGAAAGTACACGCTCCCGTTCCTCTACTAGATACATAATTGCTCCAAGTAGTCGGTAACGTATCTAGCGCAACAACGGGACATCGGGAGATGTGCCGCAGTTCCACGCCACGTGGTACGGATTGATCATCGGAGCGCCCTTCCCAATGAATGAAAGAAAGGATAGCATTTCGTTGTTCTCACTAATAAATAATCAACATCGGCTGTTGTGAGACCTTTTTTATAAAATAGGTGGCTATTGGTCACCACGACTACCCATCCTTCGCGCCACAGTAGCAACGTGCG', 'CGCGTAGTACGACAAGCCAACGTCGGCAGCCGTTGTGGTGCCGGCACAGAGGAGCGCCTCCCGTAGATCCCCGTACTTGCTGAGGGGTTACGACGCTTAGCCAATAACGCGTGGGTCTGTCATAGCATACTTTGGGATGTCTTGCAGCTCGTATGAACTCCGTTGGCTAGCCAGCTCACCCGTACATCCGACAGTGCGCGCTAGCCATTCACGCAGCGCAGGAGGACACCCATGGGCCTCTATGCCTCAGTATGCGGTCCCAACCCGATAATCTGGAGTCAAACCGCAACTCTGATTCCCTCACCTACCATCATCGCT', 'AAGAGGTTATGACGACCGTATCGGATCCGGCATTTAGGCAGGTTGCTGGTGGTCCCCCTCCTGCATGCCAACACTATTCCAGATCCCGGCGGGGAGAATATAAATATATTAGGATCTACCCGATCATGTAGTGCAGTACATACCCACGGAGTGCCCTCACACGTCGCCTCCCAGCCCTCATGACAGCGCCATGCGCGAAGACGAGCTAGGCTGAGTCAACCCATCGGCGGCCCGTCGCAAGGGTCGTACGGATCATGTCGTCGATCTAGCGGATTCACTTCACCTGGGTGATTTGGCACATGCTATTACAATGACAGA', 'ATATACACCCCAGAGTGGAGAGATCCAACGTTGTATACGCCCCGCCCAAGGCTGGTAGCGAAGCTATCCGCGCTTATCCATGCCCTGTCAAGCTAATCCAGTCGATTGACATTGCGATAGTAGCCTTCACTAAAGTTCGTCGAGTACGGCCTCCCGTTCCGGCGAAGCTGTTGTGTAACCAGAAAAACTCACAAGTTCGAGGGTGGGGACGAAACCGCTATGCCGTTCCGCCTATTGCTAATATTGCTCTAGGATTCCCTAGTGGACATGAAGTGGCAGTGTGTGATGAGTATCCTTAGCATGGCTACCCAAACTATT', 'TACGGAGACGTCGTCAGCCATCCTAAAGAGTTTACCGCCGACATTTGGACAAGTTCACCGGTCATGGCTACCCGAGGCTCCCTGGCCTTTTCGGGGACCGGTTCCACCACCTTTCCCATCAGTGACTTTACAATGTCTCTGTTATATGGCGGTGACGGGGGACACTCCTGCTTCCTTGATCTATCTTAAGCGTCCGAGTGACTGCGATAGGCTACCACTACGATTTCCTATGAAGAAACAGTCCCAGAATCTGTTAAAACAGTGGCCTCCCATTTATAGAGTCTCTTCGGTGCCCGTTCCTCGCGGTCAACTCAGAAG', 'ACAATACCGATAGGAGAGGGAATCATCATCGTAGTCAACCCTTAATAAGACATTCCAACTTTCATTCGACGGATAAACACGCAATTACGGGCGCCTCCGAATCCTCGATAACGCATGCCCATATGAGAAGTGGAGATAGGATCTATTCCGATGTCATGTTGTATGCTCACTGAAGGTTTGTAGTAGCCTTGACGGTTACCCTCAGCTCTAGACCATAGTCTGGGTCGACTCTTTTGGACATTTTTCATTAACTTTCCTATTAGTCTGTCGGTACAAGGAAAGAGGTTCAAGGGGGGATCCAGACTGCAAACATCCTCT', 'GATGTTATCATCCGGTGGGTCAGGGGATTGACCTTTATAATAGACGCGCTAGGACTGATTATCCTGGGTACAATTTGGCCTAGAGTTAGAGGATCTGTAGGCCGGGTGAGAATTGCCCAGCATCGTGTCTCCAGGACATGGGCGCCCGTTGTCGGTCTACCGGATCTCAAATCCTCTCGCTAGCGGGTGCCGTTAGAGCAAGATATAAATCACGCAGCATACTAATGAGCTTTTAAGCCTACCTTGGTGGGTCCCGCGTGCAGACTTCGAAAGGAGGCATTACTCCCCGCAGTCCGTTCCTCACACGGGAAGCACCCA']\n"
     ]
    }
   ],
   "source": [
    "f = open('rosalind_ba2g.txt', 'r')\n",
    "gibbs_input = f.read().split(\"\\n\")\n",
    "f.close()\n",
    "k = int(gibbs_input[0].split(\" \")[0])\n",
    "t = int(gibbs_input[0].split(\" \")[1])\n",
    "n = int(gibbs_input[0].split(\" \")[2])\n",
    "dna = gibbs_input[1:]\n",
    "print(dna)"
   ]
  },
  {
   "cell_type": "code",
   "execution_count": 103,
   "id": "e9a5d37d",
   "metadata": {},
   "outputs": [
    {
     "name": "stdout",
     "output_type": "stream",
     "text": [
      "CGAAGCGGCGTCCTC\n",
      "CGCGGTCCGTTCCTC\n",
      "CGCCCTACGTTCCTC\n",
      "CGCCCAACGTTCCTC\n",
      "CGCCTGTAGTTCCTC\n",
      "CGCCTCGACTTCCTC\n",
      "CGCCTCCCGTTCTGA\n",
      "CAATTCCCGTTCCTC\n",
      "CGCCTCCCGCGACTC\n",
      "CGCCTCCCGTTGTGC\n",
      "CGCCTCTTTTTCCTC\n",
      "ACCCTCCCGTTCCTT\n",
      "CGCCTATGGTTCCTC\n",
      "ACGCTCCCGTTCCTC\n",
      "CGCCTCCCGTAGATC\n",
      "CGCCTCCCAGCCCTC\n",
      "GGCCTCCCGTTCCGG\n",
      "CGGTGCCCGTTCCTC\n",
      "CGCCTCCGAATCCTC\n",
      "CGCAGTCCGTTCCTC\n",
      "64\n"
     ]
    }
   ],
   "source": [
    "'''\n",
    "dna = [\n",
    "    \"CGCCCCTCTCGGGGGTGTTCAGTAAACGGCCA\",\n",
    "    \"GGGCGAGGTATGTGTAAGTGCCAAGGTGCCAG\",\n",
    "    \"TAGTACCGAGACCGAAAGAAGTATACAGGCGT\",\n",
    "    \"TAGATCAAGTTTCAGGTGCACGTCGGTGAACC\",\n",
    "    \"AATCCACCAGCTCCACGTGCAATGTTGGCCTA\"\n",
    "]\n",
    "k = 8\n",
    "t = 5\n",
    "n = 100\n",
    "'''\n",
    "\n",
    "\n",
    "best = gibbs_sampler(dna, k, t, n)\n",
    "s = score(best)\n",
    "\n",
    "for x in range(20): # for each iteration of the gibbs sampler \n",
    "    sample = gibbs_sampler(dna, k, t, n)\n",
    "    sco = score(sample)\n",
    "    if sco < s: # if the score of the sample is less than the score of the best\n",
    "        s = sco # set s to the score of the sample\n",
    "        best = sample[:] # set best to a copy of the sample\n",
    "print(\"\\n\".join(best))\n",
    "print(score(best))\n",
    "\n"
   ]
  },
  {
   "cell_type": "code",
   "execution_count": null,
   "id": "649f5380",
   "metadata": {},
   "outputs": [],
   "source": [
    "TCTCGGGG CCAAGGTG TACAGGCG TTCAGGTG TCCACGTG"
   ]
  }
 ],
 "metadata": {
  "kernelspec": {
   "display_name": "Python 3 (ipykernel)",
   "language": "python",
   "name": "python3"
  },
  "language_info": {
   "codemirror_mode": {
    "name": "ipython",
    "version": 3
   },
   "file_extension": ".py",
   "mimetype": "text/x-python",
   "name": "python",
   "nbconvert_exporter": "python",
   "pygments_lexer": "ipython3",
   "version": "3.8.5"
  }
 },
 "nbformat": 4,
 "nbformat_minor": 5
}
