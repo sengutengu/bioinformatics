{
 "cells": [
  {
   "cell_type": "markdown",
   "id": "44b446b9-f782-4e59-b026-1c24b992e728",
   "metadata": {},
   "source": [
    "# Rolling dice to find motifs\n",
    "\n",
    "We will now turn to **randomized algorithms** that flip coins and roll dice in order to search for motifs. Making random algorithmic decisions may sound like a disastrous idea; just imagine a chess game in which every move would be decided by rolling a die. However, an 18th Century French mathematician and naturalist, Comte de Buffon, first proved that randomized algorithms are useful by randomly dropping needles onto parallel strips of wood and using the results of this experiment to accurately approximate the constant π. For more details, see \"DETOUR: Buffon's Needle\" in the print companion.\n",
    "\n",
    "Randomized algorithms may be nonintuitive because they lack the control of traditional algorithms. Some randomized algorithms are **Las Vegas** algorithms, which deliver solutions that are guaranteed to be exact, despite the fact that they rely on making random decisions. Yet most randomized algorithms, including the motif finding algorithms that we will consider in this chapter, are **Monte Carlo** algorithms. These algorithms are not guaranteed to return exact solutions, but they do quickly find *approximate* solutions. Because of their speed, they can be run many times, allowing us to choose the best approximation from thousands of runs."
   ]
  },
  {
   "cell_type": "markdown",
   "id": "7ccf5f52-1a19-43a6-9aa0-80f647861ac1",
   "metadata": {},
   "source": [
    "```\n",
    "RandomizedMotifSearch(Dna, k, t)\n",
    "    randomly select k-mers Motifs = (Motif1, …, Motift) in each string from Dna\n",
    "    BestMotifs ← Motifs\n",
    "    while forever\n",
    "        Profile ← Profile(Motifs)\n",
    "        Motifs ← Motifs(Profile, Dna)\n",
    "        if Score(Motifs) < Score(BestMotifs)\n",
    "            BestMotifs ← Motifs\n",
    "        else\n",
    "            return BestMotifs\n",
    "```"
   ]
  },
  {
   "cell_type": "code",
   "execution_count": 56,
   "id": "7b12ca81-12b7-43fe-8528-4039b7b96131",
   "metadata": {},
   "outputs": [],
   "source": [
    "f = open(\"randomizedMotifSearch.txt\", \"r\")\n",
    "input = f.read().split(\"\\n\")\n",
    "f.close()\n",
    "\n",
    "k = int(input[0].split(\" \")[0]) # length of k-mers\n",
    "t = int(input[0].split(\" \")[1]) # number of strings\n",
    "dnas = input[1].split(\" \") # collection of dna strings"
   ]
  },
  {
   "cell_type": "code",
   "execution_count": 39,
   "id": "e5126c64-7591-4bb5-87de-c7faa781c6d6",
   "metadata": {},
   "outputs": [],
   "source": [
    "import random\n",
    "import numpy as np"
   ]
  },
  {
   "cell_type": "code",
   "execution_count": 45,
   "id": "103bb73d-1261-490b-8744-71c6cfbdff24",
   "metadata": {},
   "outputs": [],
   "source": [
    "def hamming(s1, s2):\n",
    "    \"\"\"\n",
    "    Find Hamming distance between two strings\n",
    "    \"\"\"\n",
    "    dist = 0\n",
    "    for i in range(len(s1)):\n",
    "        if s1[i] != s2[i]:\n",
    "            dist += 1\n",
    "    return dist\n",
    "    \n",
    "def score(motifs):\n",
    "    '''Returns the score of the dna list motifs.'''\n",
    "    score = 0\n",
    "    for i in range(len(motifs[0])):\n",
    "        motif = ''.join([motifs[j][i] for j in range(len(motifs))])\n",
    "        # print motif\n",
    "        # print [homogeneous*len(motif) for homogeneous in 'ACGT']\n",
    "        # Calculate the min score between motif and [AAAAA, CCCCC, GGGGG, TTTTT]\n",
    "        # avoiding find the consensus strings\n",
    "        score += min([hamming(motif, homogeneous*len(motif)) for homogeneous in 'ACGT'])\n",
    "    return score\n",
    "\n",
    "def laplace_profile(dna):\n",
    "    score_dicts = []\n",
    "    counts = {}\n",
    "    for i in range(len(dna[0])):\n",
    "        nt_counts = {\"A\":1, \"C\":1, \"G\":1, \"T\":1}\n",
    "        for seq in dna:\n",
    "            nt_counts[seq[i]] += 1\n",
    "        for k, v in nt_counts.items(): # necessary because of floating point error if done in prev for in\n",
    "            score_dicts.append(nt_counts)\n",
    "    score_profile = np.array([list(i.values()) for i in score_dicts])\n",
    "    score_profile = score_profile.T # transpose\n",
    "    return score_profile\n",
    "\n",
    "def most_probable_kmer(text, k, profile):\n",
    "    max_prob = -1\n",
    "    for i in range(len(text)-k+1):\n",
    "        kmer = text[i:i+k]\n",
    "        prob = 1\n",
    "        for j in range(k):\n",
    "            if kmer[j] == \"A\":\n",
    "                prob *= profile[0][j]\n",
    "            elif kmer[j] == \"C\":\n",
    "                prob *= profile[1][j]\n",
    "            elif kmer[j] == \"G\":\n",
    "                prob *= profile[2][j]\n",
    "            elif kmer[j] == \"T\":\n",
    "                prob *= profile[3][j]\n",
    "        if prob > max_prob:\n",
    "            max_prob = prob\n",
    "            max_kmer = kmer\n",
    "    return max_kmer\n",
    "\n",
    "def randomizedMotifSearch(dnas, k, t):\n",
    "    string_length = len(dnas[0])\n",
    "    motifs = []\n",
    "    for i in range(t):\n",
    "        j = random.randint(0,string_length-k)\n",
    "        motifs.append(dnas[i][j:j+k])\n",
    "    best_motifs = motifs\n",
    "    while True:    \n",
    "        prof = laplace_profile(motifs)\n",
    "        motifs = [most_probable_kmer(dnas[i], k, prof) for i in range(len(dnas))]\n",
    "        if score(motifs) < score(best_motifs):\n",
    "            best_motifs = motifs\n",
    "        else:\n",
    "            return best_motifs\n",
    "        \n",
    "def thousand_times(dnas, k, t):\n",
    "    best_score_overall = float(\"inf\")\n",
    "    best_motifs_overall = []\n",
    "    for i in range(1000):\n",
    "        current_motifs = randomizedMotifSearch(dnas, k, t)\n",
    "        current_score = score(current_motifs)\n",
    "        if current_score < best_score_overall:\n",
    "            best_motifs_overall = current_motifs\n",
    "            best_score_overall = current_score\n",
    "    return best_motifs_overall\n",
    "            "
   ]
  },
  {
   "cell_type": "code",
   "execution_count": 48,
   "id": "cf5610a8-e995-4b14-9176-27593761d613",
   "metadata": {},
   "outputs": [
    {
     "data": {
      "text/plain": [
       "'AATTGG AACTGA AATTGG TAATGG AATTGG AAGCGA AATTGG AAAAGG'"
      ]
     },
     "execution_count": 48,
     "metadata": {},
     "output_type": "execute_result"
    }
   ],
   "source": [
    "\" \".join(thousand_times(dnas, k, t))"
   ]
  },
  {
   "cell_type": "code",
   "execution_count": 63,
   "id": "81cc5558-3dd4-4642-a879-f5196c159c1d",
   "metadata": {},
   "outputs": [
    {
     "name": "stdout",
     "output_type": "stream",
     "text": [
      "Best Motifs:\n",
      "AACGGCCA AAGTGCCA TAGTACCG AAGTTTCA ACGTGCAA\n"
     ]
    }
   ],
   "source": [
    "import random\n",
    "\n",
    "def Score(motifs):\n",
    "    score = 0\n",
    "    t = len(motifs)\n",
    "    k = len(motifs[0])\n",
    "    for j in range(k):\n",
    "        column = [motifs[i][j] for i in range(t)]\n",
    "        max_freq = max(column.count('A'), column.count('C'), column.count('G'), column.count('T'))\n",
    "        score += (t - max_freq)\n",
    "    return score\n",
    "\n",
    "def ProfileWithPseudocounts(motifs):\n",
    "    t = len(motifs)\n",
    "    k = len(motifs[0])\n",
    "    profile = {'A': [1] * k, 'C': [1] * k, 'G': [1] * k, 'T': [1] * k}\n",
    "    for i in range(t):\n",
    "        for j in range(k):\n",
    "            profile[motifs[i][j]][j] += 1\n",
    "    for nucleotide in profile:\n",
    "        for j in range(k):\n",
    "            profile[nucleotide][j] /= (t + 4)\n",
    "    return profile\n",
    "\n",
    "def ProfileMostProbableKmer(text, k, profile):\n",
    "    n = len(text)\n",
    "    max_prob = -1\n",
    "    most_prob_kmer = text[0:k]\n",
    "    for i in range(n - k + 1):\n",
    "        kmer = text[i:i+k]\n",
    "        prob = 1\n",
    "        for j in range(k):\n",
    "            prob *= profile[kmer[j]][j]\n",
    "        if prob > max_prob:\n",
    "            max_prob = prob\n",
    "            most_prob_kmer = kmer\n",
    "    return most_prob_kmer\n",
    "\n",
    "def RandomMotifs(Dna, k, t):\n",
    "    motifs = []\n",
    "    for i in range(t):\n",
    "        start = random.randint(0, len(Dna[i]) - k)\n",
    "        motifs.append(Dna[i][start:start + k])\n",
    "    return motifs\n",
    "\n",
    "def RandomizedMotifSearch(Dna, k, t):\n",
    "    motifs = RandomMotifs(Dna, k, t)\n",
    "    best_motifs = motifs\n",
    "    while True:\n",
    "        profile = ProfileWithPseudocounts(motifs)\n",
    "        motifs = [ProfileMostProbableKmer(seq, k, profile) for seq in Dna]\n",
    "        if Score(motifs) < Score(best_motifs):\n",
    "            best_motifs = motifs\n",
    "        else:\n",
    "            return best_motifs\n",
    "\n",
    "def RunRandomizedMotifSearch(Dna, k, t, iterations=1000):\n",
    "    best_motifs = RandomizedMotifSearch(Dna, k, t)\n",
    "    best_score = Score(best_motifs)\n",
    "    for _ in range(iterations - 1):\n",
    "        motifs = RandomizedMotifSearch(Dna, k, t)\n",
    "        current_score = Score(motifs)\n",
    "        if current_score < best_score:\n",
    "            best_motifs = motifs\n",
    "            best_score = current_score\n",
    "    return best_motifs\n",
    "\n",
    "# Sample Input\n",
    "k = 8\n",
    "t = 5\n",
    "Dna = [\n",
    "    \"CGCCCCTCTCGGGGGTGTTCAGTAAACGGCCA\",\n",
    "    \"GGGCGAGGTATGTGTAAGTGCCAAGGTGCCAG\",\n",
    "    \"TAGTACCGAGACCGAAAGAAGTATACAGGCGT\",\n",
    "    \"TAGATCAAGTTTCAGGTGCACGTCGGTGAACC\",\n",
    "    \"AATCCACCAGCTCCACGTGCAATGTTGGCCTA\"\n",
    "]\n",
    "\n",
    "# Running the RandomizedMotifSearch\n",
    "best_motifs = RunRandomizedMotifSearch(Dna, k, t)\n",
    "print(\"Best Motifs:\")\n",
    "print(\" \".join(best_motifs))"
   ]
  },
  {
   "cell_type": "code",
   "execution_count": 57,
   "id": "df8e6643-f4e4-4235-82a6-5e42191bd87e",
   "metadata": {},
   "outputs": [
    {
     "data": {
      "text/plain": [
       "'CGTGGTTCCATATGT CGGCTGCCCAGACAT CGTGGTCCCAGACAT AGGTATCCCAGACGA CGGTCGGCCAGACAT CGGTATCATCGACAT CGGTATCCGCAACAT CATAATCCCAGACAT CGGTAAGTCAGACAT CGGTATCCCAGCGGT CGGTACAGCAGACAT CGGTATTTTAGACAT ACTTATCCCAGACAT GCGTATCCCAGACAA CGGTATTGGAGACAT CGGTATCCCAGAGTA CGGAGGCCCAGACAT CGGTGGTCCAGACAT CGGTATCCCAACTAT CGGTATCCCTTCCAT'"
      ]
     },
     "execution_count": 57,
     "metadata": {},
     "output_type": "execute_result"
    }
   ],
   "source": [
    "\" \".join(thousand_times(dnas, k, t))"
   ]
  },
  {
   "cell_type": "code",
   "execution_count": 61,
   "id": "91824c74-a5fd-4e81-9dff-c5f5550c0132",
   "metadata": {},
   "outputs": [],
   "source": [
    "def randomized_motifs(dnas, k, t):\n",
    "    string_length = len(dnas[0])\n",
    "    motifs = []\n",
    "    for i in range(t):\n",
    "        j = random.randint(0, string_length-k)\n",
    "        motifs.append(dnas[i][j:j+k])\n",
    "    return motifs\n",
    "    \n",
    "def randomizedMotifSearch(dnas, k, t):\n",
    "    motifs = randomized_motifs(dnas, k, t)\n",
    "    best_motifs = motifs\n",
    "    print(laplace_profile(motifs))\n",
    "    print(profile_with_pseudocounts(motifs))\n",
    "    \"\"\"\n",
    "    while True:    \n",
    "        prof = laplace_profile(motifs)\n",
    "        motifs = [most_probable_kmer(dnas[i], k, prof) for i in range(len(dnas))]\n",
    "        if score(motifs) < score(best_motifs):\n",
    "            best_motifs = motifs\n",
    "        else:\n",
    "            return best_motifs\n",
    "    \"\"\""
   ]
  },
  {
   "cell_type": "code",
   "execution_count": 62,
   "id": "0393a458-baff-45c1-83d2-76733c7779da",
   "metadata": {},
   "outputs": [
    {
     "name": "stdout",
     "output_type": "stream",
     "text": [
      "[[10 10 10 10  5  5  5  5  9  9  9  9  6  6  6  6  6  6  6  6  7  7  7  7\n",
      "   6  6  6  6 10 10 10 10  7  7  7  7  8  8  8  8  6  6  6  6  3  3  3  3\n",
      "   2  2  2  2  2  2  2  2  6  6  6  6]\n",
      " [ 3  3  3  3  7  7  7  7  6  6  6  6  5  5  5  5  5  5  5  5  6  6  6  6\n",
      "   4  4  4  4  6  6  6  6  4  4  4  4  7  7  7  7  8  8  8  8  9  9  9  9\n",
      "  11 11 11 11  7  7  7  7  6  6  6  6]\n",
      " [ 7  7  7  7  6  6  6  6  3  3  3  3  6  6  6  6  6  6  6  6  5  5  5  5\n",
      "   8  8  8  8  5  5  5  5  6  6  6  6  5  5  5  5  6  6  6  6  4  4  4  4\n",
      "   6  6  6  6  7  7  7  7  8  8  8  8]\n",
      " [ 4  4  4  4  6  6  6  6  6  6  6  6  7  7  7  7  7  7  7  7  6  6  6  6\n",
      "   6  6  6  6  3  3  3  3  7  7  7  7  4  4  4  4  4  4  4  4  8  8  8  8\n",
      "   5  5  5  5  8  8  8  8  4  4  4  4]]\n",
      "{'A': [0.4166666666666667, 0.20833333333333334, 0.375, 0.25, 0.25, 0.2916666666666667, 0.25, 0.4166666666666667, 0.2916666666666667, 0.3333333333333333, 0.25, 0.125, 0.08333333333333333, 0.08333333333333333, 0.25], 'C': [0.125, 0.2916666666666667, 0.25, 0.20833333333333334, 0.20833333333333334, 0.25, 0.16666666666666666, 0.25, 0.16666666666666666, 0.2916666666666667, 0.3333333333333333, 0.375, 0.4583333333333333, 0.2916666666666667, 0.25], 'G': [0.2916666666666667, 0.25, 0.125, 0.25, 0.25, 0.20833333333333334, 0.3333333333333333, 0.20833333333333334, 0.25, 0.20833333333333334, 0.25, 0.16666666666666666, 0.25, 0.2916666666666667, 0.3333333333333333], 'T': [0.16666666666666666, 0.25, 0.25, 0.2916666666666667, 0.2916666666666667, 0.25, 0.25, 0.125, 0.2916666666666667, 0.16666666666666666, 0.16666666666666666, 0.3333333333333333, 0.20833333333333334, 0.3333333333333333, 0.16666666666666666]}\n"
     ]
    }
   ],
   "source": [
    "randomizedMotifSearch(dnas, k, t)"
   ]
  },
  {
   "cell_type": "code",
   "execution_count": null,
   "id": "0d8ebab8-cf01-4104-89f5-d2c7d3f6f376",
   "metadata": {},
   "outputs": [],
   "source": []
  }
 ],
 "metadata": {
  "kernelspec": {
   "display_name": "Python 3 (ipykernel)",
   "language": "python",
   "name": "python3"
  },
  "language_info": {
   "codemirror_mode": {
    "name": "ipython",
    "version": 3
   },
   "file_extension": ".py",
   "mimetype": "text/x-python",
   "name": "python",
   "nbconvert_exporter": "python",
   "pygments_lexer": "ipython3",
   "version": "3.10.5"
  }
 },
 "nbformat": 4,
 "nbformat_minor": 5
}
